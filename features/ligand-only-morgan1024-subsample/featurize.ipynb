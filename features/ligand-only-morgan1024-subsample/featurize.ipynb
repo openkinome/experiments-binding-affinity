{
 "cells": [
  {
   "cell_type": "markdown",
   "metadata": {
    "papermill": {
     "duration": 0.013821,
     "end_time": "2021-08-09T12:22:43.361374",
     "exception": false,
     "start_time": "2021-08-09T12:22:43.347553",
     "status": "completed"
    },
    "tags": []
   },
   "source": [
    "# Featurize a dataset\n",
    "\n",
    "Any machine learning model will expect tensorial representations of the chemical data. This notebooks provides a workflow to achieve such goal.\n",
    "\n",
    "`kinoml.dataset.DatasetProvider` objects need to be available to deal with your collection of raw measurements for protein:ligand systems. These objects are, roughly, a list of `kinoml.core.BaseMeasurement`, each containing a set of `.values` and a some extra metadata, like the `system` objects to be featurized here.\n",
    "\n",
    "In ligand-based models, protein information is only considered marginally, and most of the action happens at the ligand level. Usually starting with a string representation such as SMILES, or a database identifier such as a PubChem ID, these are promoted to (usually) RDKit objects and then transformed into a tensor of some form (e.g. fingerprints, molecular graph as an adjacency matrix, etc).\n",
    "\n",
    "Available featurizers can be found under `kinoml.features`."
   ]
  },
  {
   "cell_type": "markdown",
   "metadata": {
    "papermill": {
     "duration": 0.006928,
     "end_time": "2021-08-09T12:22:43.376344",
     "exception": false,
     "start_time": "2021-08-09T12:22:43.369416",
     "status": "completed"
    },
    "tags": []
   },
   "source": [
    "## How to use\n",
    "\n",
    "Run `python run_notebook.py --help` for more information."
   ]
  },
  {
   "cell_type": "code",
   "execution_count": 1,
   "metadata": {
    "execution": {
     "iopub.execute_input": "2021-08-09T12:22:43.394509Z",
     "iopub.status.busy": "2021-08-09T12:22:43.393951Z",
     "iopub.status.idle": "2021-08-09T12:22:43.395981Z",
     "shell.execute_reply": "2021-08-09T12:22:43.396371Z"
    },
    "papermill": {
     "duration": 0.014422,
     "end_time": "2021-08-09T12:22:43.396598",
     "exception": false,
     "start_time": "2021-08-09T12:22:43.382176",
     "status": "completed"
    },
    "tags": []
   },
   "outputs": [],
   "source": [
    "# If this is the template file (and not a copy) and you are introducing changes,\n",
    "# update VERSION with the current date (YYYY.MM.DD)\n",
    "VERSION = \"2021.05.18\" "
   ]
  },
  {
   "cell_type": "markdown",
   "metadata": {
    "papermill": {
     "duration": 0.005697,
     "end_time": "2021-08-09T12:22:43.408015",
     "exception": false,
     "start_time": "2021-08-09T12:22:43.402318",
     "status": "completed"
    },
    "tags": []
   },
   "source": [
    "## ✏ Define hyper parameters"
   ]
  },
  {
   "cell_type": "code",
   "execution_count": 2,
   "metadata": {
    "execution": {
     "iopub.execute_input": "2021-08-09T12:22:43.423915Z",
     "iopub.status.busy": "2021-08-09T12:22:43.423179Z",
     "iopub.status.idle": "2021-08-09T12:22:43.425150Z",
     "shell.execute_reply": "2021-08-09T12:22:43.425609Z"
    },
    "papermill": {
     "duration": 0.012633,
     "end_time": "2021-08-09T12:22:43.425775",
     "exception": false,
     "start_time": "2021-08-09T12:22:43.413142",
     "status": "completed"
    },
    "tags": [
     "parameters"
    ]
   },
   "outputs": [],
   "source": [
    "# TEMPLATE VALUES -- these are overriden (see below if executed) by papermill using a YAML or Python file as input\n",
    "DATASET_CLS = \"import.path.to.DatasetProvider\"\n",
    "DATASET_KWARGS = {\"option\": \"value\", \"option2\": \"value2\"}\n",
    "\n",
    "PIPELINES = {\n",
    "    \"someuniquekey\": [\n",
    "        (\"import.path.to.SomeFeaturizer\", {\"option\": \"value\", \"option2\": \"value2\"}),\n",
    "        (\"import.path.to.SomeOtherFeaturizer\", {\"option\": \"value\", \"option2\": \"value2\"}),\n",
    "    ]\n",
    "}\n",
    "PIPELINES_AGG = \"kinoml.features.core.Concatenated\"\n",
    "PIPELINES_AGG_KWARGS = {}\n",
    "\n",
    "GROUPS = [\n",
    "    (\"kinoml.datasets.groups.CallableGrouper\", {\"function\": \"lambda something: something.attribute\"}),\n",
    "    (\"kinoml.datasets.groups.CallableGrouper\", {\"function\": \"lambda otherthing: otherthing.attribute2\"})\n",
    "]\n",
    "\n",
    "TRAIN_TEST_VAL_KWARGS = {\"idx_train\": 0.8, \"idx_test\": 0.1, \"idx_val\": 0.1}\n",
    "\n",
    "## IGNORE THIS ONE\n",
    "HERE = _dh[-1]"
   ]
  },
  {
   "cell_type": "code",
   "execution_count": 3,
   "id": "bcfac584",
   "metadata": {
    "execution": {
     "iopub.execute_input": "2021-08-09T12:22:43.441131Z",
     "iopub.status.busy": "2021-08-09T12:22:43.440571Z",
     "iopub.status.idle": "2021-08-09T12:22:43.442551Z",
     "shell.execute_reply": "2021-08-09T12:22:43.443032Z"
    },
    "papermill": {
     "duration": 0.012044,
     "end_time": "2021-08-09T12:22:43.443279",
     "exception": false,
     "start_time": "2021-08-09T12:22:43.431235",
     "status": "completed"
    },
    "tags": [
     "injected-parameters"
    ]
   },
   "outputs": [],
   "source": [
    "# Parameters\n",
    "DATASET_CLS = \"kinoml.datasets.chembl.ChEMBLDatasetProvider\"\n",
    "DATASET_KWARGS = {\n",
    "    \"path_or_url\": \"https://github.com/openkinome/kinodata/releases/download/v0.2/activities-chembl28-sample100_v0.2.zip\"\n",
    "}\n",
    "PIPELINES = {\n",
    "    \"ligand\": [\n",
    "        [\"kinoml.features.ligand.SmilesToLigandFeaturizer\", {}],\n",
    "        [\n",
    "            \"kinoml.features.ligand.MorganFingerprintFeaturizer\",\n",
    "            {\"nbits\": 1024, \"radius\": 2},\n",
    "        ],\n",
    "    ]\n",
    "}\n",
    "PIPELINES_AGG = \"kinoml.features.core.TupleOfArrays\"\n",
    "PIPELINES_AGG_KWARGS = {}\n",
    "FEATURIZE_KWARGS = {\"processes\": 1, \"keep\": False}\n",
    "GROUPS = [\n",
    "    [\n",
    "        \"kinoml.datasets.groups.CallableGrouper\",\n",
    "        {\"function\": \"lambda measurement: measurement.system.protein.name\"},\n",
    "    ],\n",
    "    [\n",
    "        \"kinoml.datasets.groups.CallableGrouper\",\n",
    "        {\"function\": \"lambda measurement: type(measurement).__name__\"},\n",
    "    ],\n",
    "]\n",
    "TRAIN_TEST_VAL_KWARGS = {\"idx_train\": 0.8, \"idx_test\": 0.1, \"idx_val\": 0.1}\n",
    "HERE = \"/Users/taliakimber/Documents/github/experiments-binding-affinity/features/ligand-only-morgan1024-subsample\"\n"
   ]
  },
  {
   "cell_type": "markdown",
   "metadata": {
    "papermill": {
     "duration": 0.005125,
     "end_time": "2021-08-09T12:22:43.453877",
     "exception": false,
     "start_time": "2021-08-09T12:22:43.448752",
     "status": "completed"
    },
    "tags": []
   },
   "source": [
    "⚠ From here on, you should _not_ need to modify anything else 🤞\n",
    "\n",
    "---\n",
    "\n",
    "Define key paths for data and outputs:"
   ]
  },
  {
   "cell_type": "code",
   "execution_count": 4,
   "metadata": {
    "execution": {
     "iopub.execute_input": "2021-08-09T12:22:43.470639Z",
     "iopub.status.busy": "2021-08-09T12:22:43.469934Z",
     "iopub.status.idle": "2021-08-09T12:22:43.473977Z",
     "shell.execute_reply": "2021-08-09T12:22:43.474422Z"
    },
    "papermill": {
     "duration": 0.015535,
     "end_time": "2021-08-09T12:22:43.474706",
     "exception": false,
     "start_time": "2021-08-09T12:22:43.459171",
     "status": "completed"
    },
    "tags": []
   },
   "outputs": [
    {
     "name": "stdout",
     "output_type": "stream",
     "text": [
      "This notebook:           HERE = /Users/taliakimber/Documents/github/experiments-binding-affinity/features/ligand-only-morgan1024-subsample\n",
      "This repo:               REPO = /Users/taliakimber/Documents/github/experiments-binding-affinity\n",
      "Outputs in:               OUT = /Users/taliakimber/Documents/github/experiments-binding-affinity/features/ligand-only-morgan1024-subsample/_output/ligand__SmilesToLigandFeaturizer__MorganFingerprintFeaturizer_nbits=1024_radius=2/ChEMBLDatasetProvider\n"
     ]
    }
   ],
   "source": [
    "from pathlib import Path\n",
    "\n",
    "HERE = Path(HERE)\n",
    "for parent in HERE.parents:\n",
    "    if next(parent.glob(\".github/\"), None):\n",
    "        REPO = parent\n",
    "        break\n",
    "\n",
    "# Generate paths for this pipeline\n",
    "featurizer_path = []\n",
    "for name, branch in PIPELINES.items():\n",
    "    featurizer_path.append(name)\n",
    "    for clsname, kwargs in branch:\n",
    "        clsname = clsname.rsplit(\".\", 1)[1]\n",
    "        kwargs = [f\"{k}={''.join(c for c in str(v) if c.isalnum())}\" for k,v in kwargs.items()]\n",
    "        featurizer_path.append(\"_\".join([clsname] + kwargs))\n",
    "\n",
    "OUT = HERE / \"_output\"  / \"__\".join(featurizer_path) / DATASET_CLS.rsplit('.', 1)[1]\n",
    "OUT.mkdir(parents=True, exist_ok=True)\n",
    "\n",
    "print(f\"This notebook:           HERE = {HERE}\")\n",
    "print(f\"This repo:               REPO = {REPO}\")\n",
    "print(f\"Outputs in:               OUT = {OUT}\")"
   ]
  },
  {
   "cell_type": "code",
   "execution_count": 5,
   "metadata": {
    "execution": {
     "iopub.execute_input": "2021-08-09T12:22:43.490943Z",
     "iopub.status.busy": "2021-08-09T12:22:43.490233Z",
     "iopub.status.idle": "2021-08-09T12:22:43.492026Z",
     "shell.execute_reply": "2021-08-09T12:22:43.492415Z"
    },
    "papermill": {
     "duration": 0.011253,
     "end_time": "2021-08-09T12:22:43.492588",
     "exception": false,
     "start_time": "2021-08-09T12:22:43.481335",
     "status": "completed"
    },
    "tags": []
   },
   "outputs": [],
   "source": [
    "# Nasty trick: save all-caps local variables (CONSTANTS working as hyperparametrs) so far in a dict to save it later\n",
    "_hparams = {key: value for key, value in locals().items() if key.upper() == key and not key.startswith((\"_\", \"OE_\"))}"
   ]
  },
  {
   "cell_type": "markdown",
   "metadata": {
    "papermill": {
     "duration": 0.005136,
     "end_time": "2021-08-09T12:22:43.503525",
     "exception": false,
     "start_time": "2021-08-09T12:22:43.498389",
     "status": "completed"
    },
    "tags": []
   },
   "source": [
    "## Setup is finished, start working"
   ]
  },
  {
   "cell_type": "code",
   "execution_count": 6,
   "metadata": {
    "execution": {
     "iopub.execute_input": "2021-08-09T12:22:43.518017Z",
     "iopub.status.busy": "2021-08-09T12:22:43.517469Z",
     "iopub.status.idle": "2021-08-09T12:22:44.192859Z",
     "shell.execute_reply": "2021-08-09T12:22:44.193229Z"
    },
    "papermill": {
     "duration": 0.684685,
     "end_time": "2021-08-09T12:22:44.193473",
     "exception": false,
     "start_time": "2021-08-09T12:22:43.508788",
     "status": "completed"
    },
    "tags": []
   },
   "outputs": [
    {
     "name": "stdout",
     "output_type": "stream",
     "text": [
      "Run started at 2021-08-09 14:22:44.188239\n"
     ]
    }
   ],
   "source": [
    "from warnings import warn\n",
    "import os\n",
    "import sys\n",
    "from pathlib import Path\n",
    "from datetime import datetime\n",
    "\n",
    "import numpy as np\n",
    "import awkward as ak\n",
    "\n",
    "from kinoml.utils import seed_everything, import_object\n",
    "seed_everything();\n",
    "print(\"Run started at\", datetime.now())"
   ]
  },
  {
   "cell_type": "markdown",
   "metadata": {
    "papermill": {
     "duration": 0.005104,
     "end_time": "2021-08-09T12:22:44.204135",
     "exception": false,
     "start_time": "2021-08-09T12:22:44.199031",
     "status": "completed"
    },
    "tags": []
   },
   "source": [
    "## Load raw data\n",
    "\n",
    "> This `import_object` function allows us to take a `str` containing a Python import path (e.g. `kinoml.datasets.chembl.ChEMBLDatasetProvider`) and obtain the imported object directly. That's how we can encode classes in JSON-only `papermill` inputs.\n",
    ">\n",
    "> See the help message `import_object?` for more info."
   ]
  },
  {
   "cell_type": "code",
   "execution_count": 7,
   "metadata": {
    "execution": {
     "iopub.execute_input": "2021-08-09T12:22:44.218578Z",
     "iopub.status.busy": "2021-08-09T12:22:44.218054Z",
     "iopub.status.idle": "2021-08-09T12:22:45.039161Z",
     "shell.execute_reply": "2021-08-09T12:22:45.036847Z"
    },
    "papermill": {
     "duration": 0.829707,
     "end_time": "2021-08-09T12:22:45.039314",
     "exception": false,
     "start_time": "2021-08-09T12:22:44.209607",
     "status": "completed"
    },
    "tags": []
   },
   "outputs": [
    {
     "name": "stderr",
     "output_type": "stream",
     "text": [
      "Warning: Unable to load toolkit 'OpenEye Toolkit'. The Open Force Field Toolkit does not require the OpenEye Toolkits, and can use RDKit/AmberTools instead. However, if you have a valid license for the OpenEye Toolkits, consider installing them for faster performance and additional file format support: https://docs.eyesopen.com/toolkits/python/quickstart-python/linuxosx.html OpenEye offers free Toolkit licenses for academics: https://www.eyesopen.com/academic-licensing\n"
     ]
    },
    {
     "data": {
      "application/vnd.jupyter.widget-view+json": {
       "model_id": "dd9a6a5fa02441c09692cbc5a9fd96a2",
       "version_major": 2,
       "version_minor": 0
      },
      "text/plain": [
       "  0%|          | 0/100 [00:00<?, ?it/s]"
      ]
     },
     "metadata": {},
     "output_type": "display_data"
    },
    {
     "data": {
      "text/plain": [
       "<ChEMBLDatasetProvider with 100 measurements (pIC50Measurement=33, pKiMeasurement=63, pKdMeasurement=4), and 100 systems (AminoAcidSequence=15, SmilesLigand=97)>"
      ]
     },
     "execution_count": 7,
     "metadata": {},
     "output_type": "execute_result"
    }
   ],
   "source": [
    "dataset = import_object(DATASET_CLS).from_source(**DATASET_KWARGS)\n",
    "dataset"
   ]
  },
  {
   "cell_type": "code",
   "execution_count": 8,
   "metadata": {
    "execution": {
     "iopub.execute_input": "2021-08-09T12:22:45.058559Z",
     "iopub.status.busy": "2021-08-09T12:22:45.058020Z",
     "iopub.status.idle": "2021-08-09T12:22:45.067590Z",
     "shell.execute_reply": "2021-08-09T12:22:45.068162Z"
    },
    "papermill": {
     "duration": 0.023196,
     "end_time": "2021-08-09T12:22:45.068327",
     "exception": false,
     "start_time": "2021-08-09T12:22:45.045131",
     "status": "completed"
    },
    "tags": []
   },
   "outputs": [
    {
     "data": {
      "text/html": [
       "<div>\n",
       "<style scoped>\n",
       "    .dataframe tbody tr th:only-of-type {\n",
       "        vertical-align: middle;\n",
       "    }\n",
       "\n",
       "    .dataframe tbody tr th {\n",
       "        vertical-align: top;\n",
       "    }\n",
       "\n",
       "    .dataframe thead th {\n",
       "        text-align: right;\n",
       "    }\n",
       "</style>\n",
       "<table border=\"1\" class=\"dataframe\">\n",
       "  <thead>\n",
       "    <tr style=\"text-align: right;\">\n",
       "      <th></th>\n",
       "      <th>Systems</th>\n",
       "      <th>n_components</th>\n",
       "      <th>Measurement</th>\n",
       "      <th>MeasurementType</th>\n",
       "    </tr>\n",
       "  </thead>\n",
       "  <tbody>\n",
       "    <tr>\n",
       "      <th>0</th>\n",
       "      <td>O75116 &amp; CCCC(=O)Nc1cccc(-c2nc(Nc3ccc4[nH]ncc4...</td>\n",
       "      <td>2</td>\n",
       "      <td>14.096910</td>\n",
       "      <td>pIC50Measurement</td>\n",
       "    </tr>\n",
       "    <tr>\n",
       "      <th>1</th>\n",
       "      <td>O75116 &amp; CCCC(=O)Nc1cccc(-c2nc(Nc3ccc4[nH]ncc4...</td>\n",
       "      <td>2</td>\n",
       "      <td>14.000000</td>\n",
       "      <td>pIC50Measurement</td>\n",
       "    </tr>\n",
       "    <tr>\n",
       "      <th>2</th>\n",
       "      <td>O75116 &amp; CCCC(=O)Nc1cccc(-c2nc(Nc3ccc4[nH]ncc4...</td>\n",
       "      <td>2</td>\n",
       "      <td>14.000000</td>\n",
       "      <td>pIC50Measurement</td>\n",
       "    </tr>\n",
       "    <tr>\n",
       "      <th>3</th>\n",
       "      <td>O75116 &amp; CCCC(=O)Nc1cccc(-c2nc(Nc3ccc4[nH]ncc4...</td>\n",
       "      <td>2</td>\n",
       "      <td>13.958607</td>\n",
       "      <td>pIC50Measurement</td>\n",
       "    </tr>\n",
       "    <tr>\n",
       "      <th>4</th>\n",
       "      <td>O75116 &amp; CCCC(=O)Nc1cccc(-c2nc(Nc3ccc4[nH]ncc4...</td>\n",
       "      <td>2</td>\n",
       "      <td>13.920819</td>\n",
       "      <td>pIC50Measurement</td>\n",
       "    </tr>\n",
       "    <tr>\n",
       "      <th>...</th>\n",
       "      <td>...</td>\n",
       "      <td>...</td>\n",
       "      <td>...</td>\n",
       "      <td>...</td>\n",
       "    </tr>\n",
       "    <tr>\n",
       "      <th>95</th>\n",
       "      <td>P48736 &amp; COc1cncc(N2CCc3nc(NC(=O)NCCc4cn(CCF)c...</td>\n",
       "      <td>2</td>\n",
       "      <td>11.221849</td>\n",
       "      <td>pKiMeasurement</td>\n",
       "    </tr>\n",
       "    <tr>\n",
       "      <th>96</th>\n",
       "      <td>Q16539 &amp; CC(C)(C)c1cc(NC(=O)NCc2ccccc2Sc2ccc3n...</td>\n",
       "      <td>2</td>\n",
       "      <td>12.000000</td>\n",
       "      <td>pKdMeasurement</td>\n",
       "    </tr>\n",
       "    <tr>\n",
       "      <th>97</th>\n",
       "      <td>P31749 &amp; Cc1ccc(-c2nc(SCC(=O)O)c3c(=O)n(C)c(=O...</td>\n",
       "      <td>2</td>\n",
       "      <td>11.892790</td>\n",
       "      <td>pKdMeasurement</td>\n",
       "    </tr>\n",
       "    <tr>\n",
       "      <th>98</th>\n",
       "      <td>P68400 &amp; CC(=O)Nc1cc(Nc2cc(NC3CC3)n3ncc(C#N)c3...</td>\n",
       "      <td>2</td>\n",
       "      <td>11.308919</td>\n",
       "      <td>pKdMeasurement</td>\n",
       "    </tr>\n",
       "    <tr>\n",
       "      <th>99</th>\n",
       "      <td>O75116 &amp; N=C(N)NCCC[C@@H](NC(=O)[C@@H](CCCNC(=...</td>\n",
       "      <td>2</td>\n",
       "      <td>11.251812</td>\n",
       "      <td>pKdMeasurement</td>\n",
       "    </tr>\n",
       "  </tbody>\n",
       "</table>\n",
       "<p>100 rows × 4 columns</p>\n",
       "</div>"
      ],
      "text/plain": [
       "                                              Systems  n_components  \\\n",
       "0   O75116 & CCCC(=O)Nc1cccc(-c2nc(Nc3ccc4[nH]ncc4...             2   \n",
       "1   O75116 & CCCC(=O)Nc1cccc(-c2nc(Nc3ccc4[nH]ncc4...             2   \n",
       "2   O75116 & CCCC(=O)Nc1cccc(-c2nc(Nc3ccc4[nH]ncc4...             2   \n",
       "3   O75116 & CCCC(=O)Nc1cccc(-c2nc(Nc3ccc4[nH]ncc4...             2   \n",
       "4   O75116 & CCCC(=O)Nc1cccc(-c2nc(Nc3ccc4[nH]ncc4...             2   \n",
       "..                                                ...           ...   \n",
       "95  P48736 & COc1cncc(N2CCc3nc(NC(=O)NCCc4cn(CCF)c...             2   \n",
       "96  Q16539 & CC(C)(C)c1cc(NC(=O)NCc2ccccc2Sc2ccc3n...             2   \n",
       "97  P31749 & Cc1ccc(-c2nc(SCC(=O)O)c3c(=O)n(C)c(=O...             2   \n",
       "98  P68400 & CC(=O)Nc1cc(Nc2cc(NC3CC3)n3ncc(C#N)c3...             2   \n",
       "99  O75116 & N=C(N)NCCC[C@@H](NC(=O)[C@@H](CCCNC(=...             2   \n",
       "\n",
       "    Measurement   MeasurementType  \n",
       "0     14.096910  pIC50Measurement  \n",
       "1     14.000000  pIC50Measurement  \n",
       "2     14.000000  pIC50Measurement  \n",
       "3     13.958607  pIC50Measurement  \n",
       "4     13.920819  pIC50Measurement  \n",
       "..          ...               ...  \n",
       "95    11.221849    pKiMeasurement  \n",
       "96    12.000000    pKdMeasurement  \n",
       "97    11.892790    pKdMeasurement  \n",
       "98    11.308919    pKdMeasurement  \n",
       "99    11.251812    pKdMeasurement  \n",
       "\n",
       "[100 rows x 4 columns]"
      ]
     },
     "execution_count": 8,
     "metadata": {},
     "output_type": "execute_result"
    }
   ],
   "source": [
    "df = dataset.to_dataframe()\n",
    "df"
   ]
  },
  {
   "cell_type": "markdown",
   "metadata": {
    "papermill": {
     "duration": 0.005855,
     "end_time": "2021-08-09T12:22:45.080238",
     "exception": false,
     "start_time": "2021-08-09T12:22:45.074383",
     "status": "completed"
    },
    "tags": []
   },
   "source": [
    "## Featurize"
   ]
  },
  {
   "cell_type": "code",
   "execution_count": 9,
   "metadata": {
    "execution": {
     "iopub.execute_input": "2021-08-09T12:22:45.097413Z",
     "iopub.status.busy": "2021-08-09T12:22:45.096796Z",
     "iopub.status.idle": "2021-08-09T12:22:45.101496Z",
     "shell.execute_reply": "2021-08-09T12:22:45.101958Z"
    },
    "papermill": {
     "duration": 0.016136,
     "end_time": "2021-08-09T12:22:45.102190",
     "exception": false,
     "start_time": "2021-08-09T12:22:45.086054",
     "status": "completed"
    },
    "tags": []
   },
   "outputs": [
    {
     "name": "stdout",
     "output_type": "stream",
     "text": [
      "Building featurizer `ligand` with instructions:\n",
      "  Instantiating `kinoml.features.ligand.SmilesToLigandFeaturizer` with options `{}`\n",
      "  Instantiating `kinoml.features.ligand.MorganFingerprintFeaturizer` with options `{'nbits': 1024, 'radius': 2}`\n",
      "Resulting pipelines: <Pipeline([SmilesToLigandFeaturizer, MorganFingerprintFeaturizer])>\n",
      "Aggregated pipelines: <TupleOfArrays([Pipeline([SmilesToLigandFeaturizer, MorganFingerprintFeaturizer])])>\n"
     ]
    }
   ],
   "source": [
    "# build pipeline\n",
    "from kinoml.features.core import Pipeline\n",
    "\n",
    "pipelines = []\n",
    "for key, pipeline_instructions in PIPELINES.items():\n",
    "    print(f\"Building featurizer `{key}` with instructions:\")\n",
    "    featurizers = []\n",
    "    for featurizer_import_str, kwargs in pipeline_instructions:\n",
    "        kwargs = kwargs or {}  # make sure empty values (None, \"\") turn into {} so we can do **kwargs below\n",
    "        print(f\"  Instantiating `{featurizer_import_str}` with options `{kwargs}`\")\n",
    "        featurizers.append(import_object(featurizer_import_str)(**kwargs))\n",
    "    pipelines.append(Pipeline(featurizers))\n",
    "print(\"Resulting pipelines:\", *pipelines)\n",
    "aggregated_pipeline = import_object(PIPELINES_AGG)(pipelines, **PIPELINES_AGG_KWARGS)\n",
    "print(\"Aggregated pipelines:\", aggregated_pipeline)"
   ]
  },
  {
   "cell_type": "code",
   "execution_count": 10,
   "metadata": {
    "execution": {
     "iopub.execute_input": "2021-08-09T12:22:45.133020Z",
     "iopub.status.busy": "2021-08-09T12:22:45.132483Z",
     "iopub.status.idle": "2021-08-09T12:22:45.415000Z",
     "shell.execute_reply": "2021-08-09T12:22:45.414080Z"
    },
    "papermill": {
     "duration": 0.306717,
     "end_time": "2021-08-09T12:22:45.415147",
     "exception": false,
     "start_time": "2021-08-09T12:22:45.108430",
     "status": "completed"
    },
    "tags": []
   },
   "outputs": [
    {
     "data": {
      "application/vnd.jupyter.widget-view+json": {
       "model_id": "8197677ca6d44d398e7e924a34a87908",
       "version_major": 2,
       "version_minor": 0
      },
      "text/plain": [
       "SmilesToLigandFeaturizer:   0%|          | 0/100 [00:00<?, ?it/s]"
      ]
     },
     "metadata": {},
     "output_type": "display_data"
    },
    {
     "data": {
      "application/vnd.jupyter.widget-view+json": {
       "model_id": "4ae17d0289c3403fad01774e0040f9b5",
       "version_major": 2,
       "version_minor": 0
      },
      "text/plain": [
       "MorganFingerprintFeaturizer:   0%|          | 0/100 [00:00<?, ?it/s]"
      ]
     },
     "metadata": {},
     "output_type": "display_data"
    }
   ],
   "source": [
    "# prefeaturize everything\n",
    "aggregated_pipeline.featurize(dataset.systems, **FEATURIZE_KWARGS);"
   ]
  },
  {
   "cell_type": "markdown",
   "metadata": {
    "papermill": {
     "duration": 0.006222,
     "end_time": "2021-08-09T12:22:45.427674",
     "exception": false,
     "start_time": "2021-08-09T12:22:45.421452",
     "status": "completed"
    },
    "tags": []
   },
   "source": [
    "## Filter"
   ]
  },
  {
   "cell_type": "markdown",
   "metadata": {
    "papermill": {
     "duration": 0.005857,
     "end_time": "2021-08-09T12:22:45.439622",
     "exception": false,
     "start_time": "2021-08-09T12:22:45.433765",
     "status": "completed"
    },
    "tags": []
   },
   "source": [
    "Remove systems that couldn't be featurized. Successful featurizations are stored in `measurement.system.featurizations['last']` so we test for that key existence."
   ]
  },
  {
   "cell_type": "code",
   "execution_count": 11,
   "metadata": {
    "execution": {
     "iopub.execute_input": "2021-08-09T12:22:45.461033Z",
     "iopub.status.busy": "2021-08-09T12:22:45.460162Z",
     "iopub.status.idle": "2021-08-09T12:22:45.463609Z",
     "shell.execute_reply": "2021-08-09T12:22:45.464111Z"
    },
    "papermill": {
     "duration": 0.016768,
     "end_time": "2021-08-09T12:22:45.464302",
     "exception": false,
     "start_time": "2021-08-09T12:22:45.447534",
     "status": "completed"
    },
    "tags": []
   },
   "outputs": [],
   "source": [
    "from kinoml.datasets.groups import CallableGrouper, RandomGrouper\n",
    "grouper = CallableGrouper(lambda measurement: 'invalid' if 'last' not in measurement.system.featurizations else 'valid')\n",
    "grouper.assign(dataset, overwrite=True, progress=False)\n",
    "groups = dataset.split_by_groups()\n",
    "if \"invalid\" in groups:\n",
    "    _invalid = groups.pop(\"invalid\")\n",
    "    warn(f\"{len(_invalid)} entries could not be featurized!. Possible errors:\")\n",
    "    warn(f\"{_invalid[0].system.featurizations}\")"
   ]
  },
  {
   "cell_type": "markdown",
   "metadata": {
    "papermill": {
     "duration": 0.006597,
     "end_time": "2021-08-09T12:22:45.477749",
     "exception": false,
     "start_time": "2021-08-09T12:22:45.471152",
     "status": "completed"
    },
    "tags": []
   },
   "source": [
    "## Groups\n",
    "\n",
    "Cumulatively apply groups."
   ]
  },
  {
   "cell_type": "code",
   "execution_count": 12,
   "metadata": {
    "execution": {
     "iopub.execute_input": "2021-08-09T12:22:45.495987Z",
     "iopub.status.busy": "2021-08-09T12:22:45.495432Z",
     "iopub.status.idle": "2021-08-09T12:22:45.497904Z",
     "shell.execute_reply": "2021-08-09T12:22:45.498363Z"
    },
    "papermill": {
     "duration": 0.01453,
     "end_time": "2021-08-09T12:22:45.498592",
     "exception": false,
     "start_time": "2021-08-09T12:22:45.484062",
     "status": "completed"
    },
    "tags": []
   },
   "outputs": [
    {
     "name": "stdout",
     "output_type": "stream",
     "text": [
      "10 groups to show keys:\n",
      "('valid', 'O75116', 'pIC50Measurement')\n",
      "('valid', 'O75116', 'pKdMeasurement')\n",
      "('valid', 'P23458', 'pIC50Measurement')\n",
      "('valid', 'Q96Q04', 'pIC50Measurement')\n",
      "('valid', 'P00533', 'pIC50Measurement')\n",
      "('valid', 'O60674', 'pIC50Measurement')\n",
      "('valid', 'O60674', 'pKiMeasurement')\n",
      "('valid', 'P28482', 'pIC50Measurement')\n",
      "('valid', 'P50750', 'pIC50Measurement')\n",
      "('valid', 'P52333', 'pIC50Measurement')\n"
     ]
    }
   ],
   "source": [
    "groups[(\"valid\",)] = groups.pop(\"valid\")\n",
    "if GROUPS:\n",
    "    for grouper_str, grouper_kwargs in GROUPS:\n",
    "        grouper_cls = import_object(grouper_str)\n",
    "        ## We need this because lambda functions are not JSON-serializable\n",
    "        if issubclass(grouper_cls, CallableGrouper):\n",
    "            for k, v in list(grouper_kwargs.items()):\n",
    "                if k == \"function\" and isinstance(v, str):\n",
    "                    grouper_kwargs[k] = eval(v)  # sorry :)\n",
    "        ## End of lambda hack\n",
    "        grouper = grouper_cls(**grouper_kwargs)        \n",
    "        for group_key in list(groups.keys()):\n",
    "            grouper.assign(groups[group_key], overwrite=True, progress=False)\n",
    "            for subkey, subgroup in groups.pop(group_key).split_by_groups().items():\n",
    "                groups[group_key + (subkey,)] = subgroup\n",
    "print(\"10 groups to show keys:\", *list(groups.keys())[:10], sep=\"\\n\")"
   ]
  },
  {
   "cell_type": "markdown",
   "metadata": {
    "papermill": {
     "duration": 0.006191,
     "end_time": "2021-08-09T12:22:45.511251",
     "exception": false,
     "start_time": "2021-08-09T12:22:45.505060",
     "status": "completed"
    },
    "tags": []
   },
   "source": [
    "## Write tensors to disk\n",
    "\n",
    "Output files are written to `_output/<PIPELINE>/<DATASET>/<GROUP>.parquet` files.\n",
    "\n",
    "Each `parquet` will contain at least two array-like objects. The dimensionality of the parquet files is built as `(systems, X_or_y, ...)`. For example, the first X vector for the first system is accessed like `parquet[0, \"0\"]`. Notice how the 2nd index is a string! (`awkward` design).\n",
    "\n",
    "- `\"0\"` (X, featurized systems). See `DatasetProvider.to_awkward` for more info.\n",
    "- `\"1\"` (y, associated measurements)\n",
    "\n",
    "If `X` is composed of more than one array (e.g. connectivity matrix + node features), these are flattened to `\"0\"`, `\"1\"`, `\"2\"`, and so on. `y` is ALWAYS the last one in that list (accessible via `data.fields`)"
   ]
  },
  {
   "cell_type": "code",
   "execution_count": 13,
   "metadata": {
    "execution": {
     "iopub.execute_input": "2021-08-09T12:22:45.614584Z",
     "iopub.status.busy": "2021-08-09T12:22:45.571656Z",
     "iopub.status.idle": "2021-08-09T12:22:46.038711Z",
     "shell.execute_reply": "2021-08-09T12:22:46.039172Z"
    },
    "papermill": {
     "duration": 0.522242,
     "end_time": "2021-08-09T12:22:46.039343",
     "exception": false,
     "start_time": "2021-08-09T12:22:45.517101",
     "status": "completed"
    },
    "tags": []
   },
   "outputs": [],
   "source": [
    "random_grouper = RandomGrouper(TRAIN_TEST_VAL_KWARGS)\n",
    "\n",
    "parquets = []\n",
    "for group, ds in sorted(groups.items(), key=lambda kv: len(kv[1]), reverse=True):\n",
    "    indices = random_grouper.indices(ds)\n",
    "    X, y = ds.to_awkward()\n",
    "    parquet = ak.zip([*X, y], depth_limit=1)\n",
    "    path = OUT / f\"{'__'.join([g for g in group if g != 'valid'])}.parquet\"\n",
    "    parquets.append(path)\n",
    "    ak.to_parquet(parquet, path)\n",
    "    # TODO: Missing indices?"
   ]
  },
  {
   "cell_type": "markdown",
   "metadata": {
    "papermill": {
     "duration": 0.00631,
     "end_time": "2021-08-09T12:22:46.052019",
     "exception": false,
     "start_time": "2021-08-09T12:22:46.045709",
     "status": "completed"
    },
    "tags": []
   },
   "source": [
    "Preview generated Parquet files:"
   ]
  },
  {
   "cell_type": "code",
   "execution_count": 14,
   "metadata": {
    "execution": {
     "iopub.execute_input": "2021-08-09T12:22:46.068352Z",
     "iopub.status.busy": "2021-08-09T12:22:46.067810Z",
     "iopub.status.idle": "2021-08-09T12:22:46.073201Z",
     "shell.execute_reply": "2021-08-09T12:22:46.073811Z"
    },
    "papermill": {
     "duration": 0.015493,
     "end_time": "2021-08-09T12:22:46.073981",
     "exception": false,
     "start_time": "2021-08-09T12:22:46.058488",
     "status": "completed"
    },
    "tags": []
   },
   "outputs": [
    {
     "data": {
      "text/plain": [
       "<Array [{'0': [False, False, ... '1': 11.3}] type='31 * {\"0\": var * bool, \"1\": f...'>"
      ]
     },
     "execution_count": 14,
     "metadata": {},
     "output_type": "execute_result"
    }
   ],
   "source": [
    "from kinoml.datasets.torch_datasets import AwkwardArrayDataset\n",
    "awk = AwkwardArrayDataset.from_parquet(parquets[0])\n",
    "awk"
   ]
  },
  {
   "cell_type": "code",
   "execution_count": 15,
   "metadata": {
    "execution": {
     "iopub.execute_input": "2021-08-09T12:22:46.090699Z",
     "iopub.status.busy": "2021-08-09T12:22:46.089981Z",
     "iopub.status.idle": "2021-08-09T12:22:46.092194Z",
     "shell.execute_reply": "2021-08-09T12:22:46.092668Z"
    },
    "papermill": {
     "duration": 0.012435,
     "end_time": "2021-08-09T12:22:46.092875",
     "exception": false,
     "start_time": "2021-08-09T12:22:46.080440",
     "status": "completed"
    },
    "tags": []
   },
   "outputs": [],
   "source": [
    "# X, y = awk[0]  # (multi-X) and y tensors for first system"
   ]
  },
  {
   "cell_type": "code",
   "execution_count": 16,
   "metadata": {
    "execution": {
     "iopub.execute_input": "2021-08-09T12:22:46.108585Z",
     "iopub.status.busy": "2021-08-09T12:22:46.107907Z",
     "iopub.status.idle": "2021-08-09T12:22:46.109693Z",
     "shell.execute_reply": "2021-08-09T12:22:46.110214Z"
    },
    "papermill": {
     "duration": 0.01116,
     "end_time": "2021-08-09T12:22:46.110443",
     "exception": false,
     "start_time": "2021-08-09T12:22:46.099283",
     "status": "completed"
    },
    "tags": []
   },
   "outputs": [],
   "source": [
    "# X"
   ]
  },
  {
   "cell_type": "code",
   "execution_count": 17,
   "metadata": {
    "execution": {
     "iopub.execute_input": "2021-08-09T12:22:46.126559Z",
     "iopub.status.busy": "2021-08-09T12:22:46.125984Z",
     "iopub.status.idle": "2021-08-09T12:22:46.127699Z",
     "shell.execute_reply": "2021-08-09T12:22:46.128218Z"
    },
    "papermill": {
     "duration": 0.011468,
     "end_time": "2021-08-09T12:22:46.128385",
     "exception": false,
     "start_time": "2021-08-09T12:22:46.116917",
     "status": "completed"
    },
    "tags": []
   },
   "outputs": [],
   "source": [
    "# y"
   ]
  },
  {
   "cell_type": "code",
   "execution_count": 18,
   "metadata": {
    "execution": {
     "iopub.execute_input": "2021-08-09T12:22:46.146768Z",
     "iopub.status.busy": "2021-08-09T12:22:46.146077Z",
     "iopub.status.idle": "2021-08-09T12:22:46.148334Z",
     "shell.execute_reply": "2021-08-09T12:22:46.148760Z"
    },
    "papermill": {
     "duration": 0.014319,
     "end_time": "2021-08-09T12:22:46.148994",
     "exception": false,
     "start_time": "2021-08-09T12:22:46.134675",
     "status": "completed"
    },
    "tags": []
   },
   "outputs": [
    {
     "name": "stdout",
     "output_type": "stream",
     "text": [
      "Run finished at 2021-08-09 14:22:46.144623\n"
     ]
    }
   ],
   "source": [
    "print(\"Run finished at\", datetime.now())"
   ]
  },
  {
   "cell_type": "markdown",
   "metadata": {
    "papermill": {
     "duration": 0.006802,
     "end_time": "2021-08-09T12:22:46.163513",
     "exception": false,
     "start_time": "2021-08-09T12:22:46.156711",
     "status": "completed"
    },
    "tags": []
   },
   "source": [
    "# Reproducibility logs"
   ]
  },
  {
   "cell_type": "code",
   "execution_count": 19,
   "metadata": {
    "execution": {
     "iopub.execute_input": "2021-08-09T12:22:46.179755Z",
     "iopub.status.busy": "2021-08-09T12:22:46.179216Z",
     "iopub.status.idle": "2021-08-09T12:22:46.181111Z",
     "shell.execute_reply": "2021-08-09T12:22:46.181542Z"
    },
    "papermill": {
     "duration": 0.011573,
     "end_time": "2021-08-09T12:22:46.181705",
     "exception": false,
     "start_time": "2021-08-09T12:22:46.170132",
     "status": "completed"
    },
    "tags": []
   },
   "outputs": [],
   "source": [
    "# Free some memory first\n",
    "del awk, parquets, groups, dataset"
   ]
  },
  {
   "cell_type": "code",
   "execution_count": 20,
   "metadata": {
    "execution": {
     "iopub.execute_input": "2021-08-09T12:22:46.198038Z",
     "iopub.status.busy": "2021-08-09T12:22:46.197513Z",
     "iopub.status.idle": "2021-08-09T12:22:48.841698Z",
     "shell.execute_reply": "2021-08-09T12:22:48.842269Z"
    },
    "papermill": {
     "duration": 2.654334,
     "end_time": "2021-08-09T12:22:48.842478",
     "exception": false,
     "start_time": "2021-08-09T12:22:46.188144",
     "status": "completed"
    },
    "tags": []
   },
   "outputs": [
    {
     "name": "stdout",
     "output_type": "stream",
     "text": [
      "Watermark\n",
      "---------\n",
      "Last updated: 2021-08-09T14:22:46.205684+02:00\n",
      "\n",
      "Python implementation: CPython\n",
      "Python version       : 3.8.8\n",
      "IPython version      : 7.23.1\n",
      "\n",
      "Compiler    : Clang 11.0.1 \n",
      "OS          : Darwin\n",
      "Release     : 20.2.0\n",
      "Machine     : x86_64\n",
      "Processor   : i386\n",
      "CPU cores   : 8\n",
      "Architecture: 64bit\n",
      "\n",
      "Hostname: Talias-MBP.fritz.box\n",
      "\n",
      "Git hash: 9b0bf29d81be3382d2fb1c08652fedd0cc38bd83\n",
      "\n",
      "numpy  : 1.20.2\n",
      "awkward: 1.2.3\n",
      "sys    : 3.8.8 | packaged by conda-forge | (default, Feb 20 2021, 16:12:38) \n",
      "[Clang 11.0.1 ]\n",
      "\n",
      "Watermark: 2.2.0\n",
      "\n",
      "\n",
      "conda info\n",
      "----------\n"
     ]
    },
    {
     "name": "stdout",
     "output_type": "stream",
     "text": [
      "sys.version: 3.7.7 (default, Mar 23 2020, 17:31:31) \n",
      "...\n",
      "sys.prefix: /opt/miniconda3\n",
      "sys.executable: /opt/miniconda3/bin/python\n",
      "conda location: /opt/miniconda3/lib/python3.7/site-packages/conda\n",
      "conda-build: None\n",
      "conda-env: /opt/miniconda3/bin/conda-env\n",
      "user site dirs: \n",
      "\n",
      "CIO_TEST: <not set>\n",
      "CONDA_DEFAULT_ENV: experiments-binding-affinity\n",
      "CONDA_EXE: /opt/miniconda3/bin/conda\n",
      "CONDA_PREFIX: /opt/miniconda3/envs/experiments-binding-affinity\n",
      "CONDA_PREFIX_1: /opt/miniconda3\n",
      "CONDA_PROMPT_MODIFIER: (experiments-binding-affinity) \n",
      "CONDA_PYTHON_EXE: /opt/miniconda3/bin/python\n",
      "CONDA_ROOT: /opt/miniconda3\n",
      "CONDA_SHLVL: 2\n",
      "CURL_CA_BUNDLE: <not set>\n",
      "PATH: /opt/miniconda3/envs/experiments-binding-affinity/bin:/opt/miniconda3/condabin:/usr/local/bin:/usr/bin:/bin:/usr/sbin:/sbin:/Library/TeX/texbin:/Library/Apple/usr/bin\n",
      "PYTHONHASHSEED: 1234\n",
      "REQUESTS_CA_BUNDLE: <not set>\n",
      "SSL_CERT_FILE: <not set>\n",
      "\n",
      "conda list\n",
      "----------\n"
     ]
    },
    {
     "name": "stdout",
     "output_type": "stream",
     "text": [
      "# packages in environment at /opt/miniconda3/envs/experiments-binding-affinity:\n",
      "#\n",
      "# Name                    Version                   Build  Channel\n",
      "_py-xgboost-mutex         2.0                       cpu_0    conda-forge\n",
      "absl-py                   0.12.0                   pypi_0    pypi\n",
      "aiohttp                   3.7.4.post0              pypi_0    pypi\n",
      "alabaster                 0.7.12                   pypi_0    pypi\n",
      "amberlite                 16.0                     pypi_0    pypi\n",
      "ambertools                21.0             py38h334589e_0    conda-forge\n",
      "amberutils                21.0                     pypi_0    pypi\n",
      "ansiwrap                  0.8.4                      py_0    conda-forge\n",
      "anyio                     2.2.0            py38h50d1736_0    conda-forge\n",
      "appdirs                   1.4.4              pyh9f0ad1d_0    conda-forge\n",
      "appnope                   0.1.2            py38h50d1736_1    conda-forge\n",
      "argon2-cffi               20.1.0           py38h5406a74_2    conda-forge\n",
      "arpack                    3.7.0                hefb7bc6_2    conda-forge\n",
      "ase                       3.21.1                   pypi_0    pypi\n",
      "astunparse                1.6.2                      py_0    conda-forge\n",
      "async-timeout             3.0.1                    pypi_0    pypi\n",
      "async_generator           1.10                       py_0    conda-forge\n",
      "attrs                     21.1.0             pyhd8ed1ab_0    conda-forge\n",
      "awkward                   1.2.3                    pypi_0    pypi\n",
      "babel                     2.9.1              pyh44b312d_0    conda-forge\n",
      "backcall                  0.2.0              pyh9f0ad1d_0    conda-forge\n",
      "backports                 1.0                        py_2    conda-forge\n",
      "backports.functools_lru_cache 1.6.4              pyhd8ed1ab_0    conda-forge\n",
      "biopandas                 0.2.8                    pypi_0    pypi\n",
      "biopython                 1.78                     pypi_0    pypi\n",
      "black                     21.5b0             pyhd8ed1ab_0    conda-forge\n",
      "bleach                    3.3.0              pyh44b312d_0    conda-forge\n",
      "blosc                     1.21.0               he49afe7_0    conda-forge\n",
      "bokeh                     2.3.3            py38h50d1736_0    conda-forge\n",
      "boost                     1.74.0           py38h692b87f_3    conda-forge\n",
      "boost-cpp                 1.74.0               h43a636a_2    conda-forge\n",
      "bravado                   11.0.3                   pypi_0    pypi\n",
      "bravado-core              5.17.0                   pypi_0    pypi\n",
      "brotlipy                  0.7.0           py38h5406a74_1001    conda-forge\n",
      "bzip2                     1.0.8                hc929b4f_4    conda-forge\n",
      "c-ares                    1.17.1               h0d85af4_1    conda-forge\n",
      "ca-certificates           2021.5.30            h033912b_0    conda-forge\n",
      "cachetools                4.2.2                    pypi_0    pypi\n",
      "cairo                     1.16.0            he43a7df_1008    conda-forge\n",
      "certifi                   2021.5.30        py38h50d1736_0    conda-forge\n",
      "cffi                      1.14.5           py38ha97d567_0    conda-forge\n",
      "chardet                   4.0.0            py38h50d1736_1    conda-forge\n",
      "click                     7.1.2              pyh9f0ad1d_0    conda-forge\n",
      "cloudpickle               1.6.0                      py_0    conda-forge\n",
      "cryptography              3.4.7            py38h1fa4640_0    conda-forge\n",
      "curl                      7.76.1               h06286d4_1    conda-forge\n",
      "cycler                    0.10.0                     py_2    conda-forge\n",
      "cython                    0.29.23          py38ha048514_0    conda-forge\n",
      "cytoolz                   0.11.0           py38h96a0964_3    conda-forge\n",
      "dask                      2021.7.0           pyhd8ed1ab_0    conda-forge\n",
      "dask-core                 2021.7.0           pyhd8ed1ab_0    conda-forge\n",
      "dask-jobqueue             0.7.2              pyhd8ed1ab_1    conda-forge\n",
      "dataclasses               0.8                pyhc8e2a94_1    conda-forge\n",
      "decorator                 4.4.2                      py_0    conda-forge\n",
      "defusedxml                0.7.1              pyhd8ed1ab_0    conda-forge\n",
      "deprecation               2.1.0              pyh9f0ad1d_0    conda-forge\n",
      "distributed               2021.7.0         py38h50d1736_0    conda-forge\n",
      "docutils                  0.16                     pypi_0    pypi\n",
      "entrypoints               0.3             py38h32f6830_1002    conda-forge\n",
      "fftw                      3.3.9           nompi_hf0880f0_101    conda-forge\n",
      "fontconfig                2.13.1            h10f422b_1005    conda-forge\n",
      "freetype                  2.10.4               h4cff582_1    conda-forge\n",
      "fsspec                    2021.4.0                 pypi_0    pypi\n",
      "future                    0.18.2                   pypi_0    pypi\n",
      "gettext                   0.21.0               h7535e17_0  \n",
      "google-auth               1.30.0                   pypi_0    pypi\n",
      "google-auth-oauthlib      0.4.4                    pypi_0    pypi\n",
      "googledrivedownloader     0.4                      pypi_0    pypi\n",
      "greenlet                  1.1.0            py38ha048514_0    conda-forge\n",
      "grpcio                    1.37.1                   pypi_0    pypi\n",
      "h5py                      3.2.1                    pypi_0    pypi\n",
      "hdf4                      4.2.13            hefd3b78_1005    conda-forge\n",
      "hdf5                      1.10.6          nompi_hc5d9132_1114    conda-forge\n",
      "heapdict                  1.0.1                      py_0    conda-forge\n",
      "icu                       68.1                 h74dc148_0    conda-forge\n",
      "idna                      2.10               pyh9f0ad1d_0    conda-forge\n",
      "imagesize                 1.2.0                    pypi_0    pypi\n",
      "importlib-metadata        4.0.1            py38h50d1736_0    conda-forge\n",
      "importlib_metadata        4.0.1                hd8ed1ab_0    conda-forge\n",
      "importlib_resources       5.1.2            py38h50d1736_0    conda-forge\n",
      "ipykernel                 5.5.4            py38h6c79ece_0    conda-forge\n",
      "ipython                   7.23.1           py38h6c79ece_0    conda-forge\n",
      "ipython_genutils          0.2.0                      py_1    conda-forge\n",
      "ipywidgets                7.6.3              pyhd3deb0d_0    conda-forge\n",
      "isodate                   0.6.0                    pypi_0    pypi\n",
      "jedi                      0.18.0           py38h50d1736_2    conda-forge\n",
      "jinja2                    2.11.3             pyh44b312d_0    conda-forge\n",
      "joblib                    1.0.1              pyhd8ed1ab_0    conda-forge\n",
      "jpeg                      9d                   hbcb3906_0    conda-forge\n",
      "json5                     0.9.5              pyh9f0ad1d_0    conda-forge\n",
      "jsonpointer               2.1                      pypi_0    pypi\n",
      "jsonref                   0.2                      pypi_0    pypi\n",
      "jsonschema                3.2.0            py38h32f6830_1    conda-forge\n",
      "jupyter-packaging         0.10.1             pyhd8ed1ab_0    conda-forge\n",
      "jupyter_client            6.1.12             pyhd8ed1ab_0    conda-forge\n",
      "jupyter_core              4.7.1            py38h50d1736_0    conda-forge\n",
      "jupyter_server            1.6.4            py38h50d1736_0    conda-forge\n",
      "jupyterlab                3.0.14             pyhd8ed1ab_0    conda-forge\n",
      "jupyterlab_pygments       0.1.2              pyh9f0ad1d_0    conda-forge\n",
      "jupyterlab_server         2.5.0              pyhd8ed1ab_0    conda-forge\n",
      "jupyterlab_widgets        1.0.0              pyhd8ed1ab_1    conda-forge\n",
      "kinoml                    0+untagged.575.g2819797.dirty           dev_0    <develop>\n",
      "kiwisolver                1.3.1            py38hd9c93a9_1    conda-forge\n",
      "klifs-utils               0+unknown                pypi_0    pypi\n",
      "krb5                      1.17.2               h60d9502_0    conda-forge\n",
      "lcms2                     2.12                 h577c468_0    conda-forge\n",
      "libblas                   3.9.0                9_openblas    conda-forge\n",
      "libcblas                  3.9.0                9_openblas    conda-forge\n",
      "libcurl                   7.76.1               h8ef9fac_1    conda-forge\n",
      "libcxx                    11.1.0               habf9029_0    conda-forge\n",
      "libedit                   3.1.20210216         h9ed2024_1  \n",
      "libev                     4.33                 haf1e3a3_1    conda-forge\n",
      "libffi                    3.3                  h046ec9c_2    conda-forge\n",
      "libgfortran               5.0.0           9_3_0_h6c81a4c_22    conda-forge\n",
      "libgfortran5              9.3.0               h6c81a4c_22    conda-forge\n",
      "libglib                   2.68.1               hd556434_0    conda-forge\n",
      "libiconv                  1.16                 haf1e3a3_0    conda-forge\n",
      "liblapack                 3.9.0                9_openblas    conda-forge\n",
      "libnetcdf                 4.8.0           nompi_h81fa352_101    conda-forge\n",
      "libnghttp2                1.43.0               h07e645a_0    conda-forge\n",
      "libopenblas               0.3.15          openmp_h5e1b9a4_0    conda-forge\n",
      "libpng                    1.6.37               hb0a8c7a_2    conda-forge\n",
      "libsodium                 1.0.18               hbcb3906_1    conda-forge\n",
      "libssh2                   1.9.0                h52ee1ee_6    conda-forge\n",
      "libtiff                   4.2.0                h7c11950_1    conda-forge\n",
      "libwebp-base              1.2.0                h0d85af4_2    conda-forge\n",
      "libxcb                    1.13              h35c211d_1003    conda-forge\n",
      "libxgboost                1.4.0                he49afe7_0    conda-forge\n",
      "libxml2                   2.9.10               h93ec3fd_4    conda-forge\n",
      "libzip                    1.7.3                hccd5f62_0    conda-forge\n",
      "llvm-openmp               11.1.0               hda6cdc1_1    conda-forge\n",
      "llvmlite                  0.36.0                   pypi_0    pypi\n",
      "locket                    0.2.0                      py_2    conda-forge\n",
      "lz4-c                     1.9.3                h046ec9c_0    conda-forge\n",
      "markdown                  3.3.4                    pypi_0    pypi\n",
      "markupsafe                1.1.1            py38h5406a74_3    conda-forge\n",
      "matplotlib-base           3.4.1            py38h6152e83_0    conda-forge\n",
      "matplotlib-inline         0.1.2              pyhd8ed1ab_2    conda-forge\n",
      "mdtraj                    1.9.5            py38h711e445_1    conda-forge\n",
      "mistune                   0.8.4           py38h5406a74_1003    conda-forge\n",
      "mmpbsa-py                 16.0                     pypi_0    pypi\n",
      "mock                      4.0.3            py38h50d1736_1    conda-forge\n",
      "monotonic                 1.6                      pypi_0    pypi\n",
      "msgpack-python            1.0.2            py38h12bbefe_1    conda-forge\n",
      "multidict                 5.1.0                    pypi_0    pypi\n",
      "mypy_extensions           0.4.3            py38h50d1736_3    conda-forge\n",
      "nbclassic                 0.2.7              pyhd8ed1ab_0    conda-forge\n",
      "nbclient                  0.5.3              pyhd8ed1ab_0    conda-forge\n",
      "nbconvert                 6.0.7            py38h50d1736_3    conda-forge\n",
      "nbformat                  5.1.3              pyhd8ed1ab_0    conda-forge\n",
      "ncurses                   6.2                  h2e338ed_4    conda-forge\n",
      "nest-asyncio              1.5.1              pyhd8ed1ab_0    conda-forge\n",
      "netcdf-fortran            4.5.3           nompi_hff36437_104    conda-forge\n",
      "networkx                  2.5.1              pyhd8ed1ab_0    conda-forge\n",
      "nglview                   3.0.1              pyh59e0f4d_0    conda-forge\n",
      "notebook                  6.3.0            py38h50d1736_0    conda-forge\n",
      "numba                     0.53.1                   pypi_0    pypi\n",
      "numexpr                   2.7.3            py38h1588c1c_0    conda-forge\n",
      "numpy                     1.20.2           py38had91d27_0    conda-forge\n",
      "oauthlib                  3.1.0                    pypi_0    pypi\n",
      "olefile                   0.46               pyh9f0ad1d_1    conda-forge\n",
      "openff-forcefields        1.3.0              pyh44b312d_0    conda-forge\n",
      "openff-toolkit            0.9.2              pyhd8ed1ab_1    conda-forge\n",
      "openff-toolkit-base       0.9.2              pyhd8ed1ab_1    conda-forge\n",
      "openmm                    7.5.1           py38haeaf30f_0_apple    conda-forge\n",
      "openssl                   1.1.1k               h0d85af4_0    conda-forge\n",
      "packaging                 20.9               pyh44b312d_0    conda-forge\n",
      "packmol                   20.010               h508aa58_0    conda-forge\n",
      "packmol-memgen            1.1.0rc0                 pypi_0    pypi\n",
      "pandas                    1.2.4            py38h1f261ad_0    conda-forge\n",
      "pandoc                    2.13                 h0d85af4_0    conda-forge\n",
      "pandocfilters             1.4.3            py38hecd8cb5_1  \n",
      "papermill                 2.2.0                      py_1    conda-forge\n",
      "parmed                    3.4.1            py38ha048514_0    conda-forge\n",
      "parso                     0.8.2              pyhd8ed1ab_0    conda-forge\n",
      "partd                     1.2.0              pyhd8ed1ab_0    conda-forge\n",
      "pathspec                  0.8.1              pyhd3deb0d_0    conda-forge\n",
      "pcre                      8.44                 hb1e8313_0    conda-forge\n",
      "pdb4amber                 20.1                     pypi_0    pypi\n",
      "perl                      5.32.0               hbcb3906_0    conda-forge\n",
      "pexpect                   4.8.0            py38h32f6830_1    conda-forge\n",
      "pickleshare               0.7.5           py38h32f6830_1002    conda-forge\n",
      "pillow                    8.2.0            py38h5270095_0  \n",
      "pint                      0.17               pyhd8ed1ab_0    conda-forge\n",
      "pip                       21.1.1             pyhd8ed1ab_0    conda-forge\n",
      "pixman                    0.40.0               hbcb3906_0    conda-forge\n",
      "prody                     1.10.11                  pypi_0    pypi\n",
      "prometheus_client         0.10.1             pyhd8ed1ab_0    conda-forge\n",
      "prompt-toolkit            3.0.18             pyha770c72_0    conda-forge\n",
      "protobuf                  3.16.0                   pypi_0    pypi\n",
      "psutil                    5.8.0            py38h96a0964_1    conda-forge\n",
      "pthread-stubs             0.4               hc929b4f_1001    conda-forge\n",
      "ptyprocess                0.7.0              pyhd3deb0d_0    conda-forge\n",
      "py-xgboost                1.4.0            py38h50d1736_0    conda-forge\n",
      "pyarrow                   4.0.0                    pypi_0    pypi\n",
      "pyasn1                    0.4.8                    pypi_0    pypi\n",
      "pyasn1-modules            0.2.8                    pypi_0    pypi\n",
      "pycairo                   1.20.0           py38h53d24c6_1    conda-forge\n",
      "pycparser                 2.20               pyh9f0ad1d_2    conda-forge\n",
      "pydeprecate               0.3.0                    pypi_0    pypi\n",
      "pygments                  2.9.0              pyhd8ed1ab_0    conda-forge\n",
      "pyopenssl                 20.0.1             pyhd8ed1ab_0    conda-forge\n",
      "pyparsing                 2.4.7              pyh9f0ad1d_0    conda-forge\n",
      "pyrsistent                0.17.3           py38h5406a74_2    conda-forge\n",
      "pysocks                   1.7.1            py38h50d1736_3    conda-forge\n",
      "pytables                  3.6.1            py38hfb086ad_3    conda-forge\n",
      "python                    3.8.8           h4e93d89_0_cpython    conda-forge\n",
      "python-dateutil           2.8.1                      py_0    conda-forge\n",
      "python-louvain            0.15                     pypi_0    pypi\n",
      "python_abi                3.8                      1_cp38    conda-forge\n",
      "pytorch-lightning         1.3.0                    pypi_0    pypi\n",
      "pytraj                    2.0.6                    pypi_0    pypi\n",
      "pytz                      2021.1             pyhd8ed1ab_0    conda-forge\n",
      "pyyaml                    5.4.1            py38h5406a74_0    conda-forge\n",
      "pyzmq                     22.0.3           py38hd3b92b6_1    conda-forge\n",
      "rdflib                    5.0.0                    pypi_0    pypi\n",
      "rdkit                     2021.03.1        py38hba24be9_0    conda-forge\n",
      "readline                  8.1                  h05e3726_0    conda-forge\n",
      "regex                     2021.4.4         py38h96a0964_0    conda-forge\n",
      "reportlab                 3.5.67           py38hf6ac518_0    conda-forge\n",
      "requests                  2.25.1             pyhd3deb0d_0    conda-forge\n",
      "requests-oauthlib         1.3.0                    pypi_0    pypi\n",
      "rfc3987                   1.3.8                    pypi_0    pypi\n",
      "rsa                       4.7.2                    pypi_0    pypi\n",
      "ruamel.yaml               0.16.12          py38h5406a74_2    conda-forge\n",
      "ruamel.yaml.clib          0.2.2            py38h5406a74_2    conda-forge\n",
      "sander                    16.0                     pypi_0    pypi\n",
      "scikit-learn              0.24.2           py38h011f2c5_0    conda-forge\n",
      "scipy                     1.6.3            py38h431c0a8_0    conda-forge\n",
      "send2trash                1.5.0                      py_0    conda-forge\n",
      "setuptools                52.0.0           py38hecd8cb5_0  \n",
      "simplejson                3.17.2                   pypi_0    pypi\n",
      "six                       1.16.0             pyh6c4a22f_0    conda-forge\n",
      "sklearn-pytorch           0.1.0                    pypi_0    pypi\n",
      "smirnoff99frosst          1.1.0              pyh44b312d_0    conda-forge\n",
      "snappy                    1.1.8                hb1e8313_3    conda-forge\n",
      "sniffio                   1.2.0            py38h50d1736_1    conda-forge\n",
      "snowballstemmer           2.1.0                    pypi_0    pypi\n",
      "sortedcontainers          2.4.0              pyhd8ed1ab_0    conda-forge\n",
      "sphinx                    3.5.4                    pypi_0    pypi\n",
      "sphinxcontrib-applehelp   1.0.2                    pypi_0    pypi\n",
      "sphinxcontrib-devhelp     1.0.2                    pypi_0    pypi\n",
      "sphinxcontrib-htmlhelp    1.0.3                    pypi_0    pypi\n",
      "sphinxcontrib-jsmath      1.0.1                    pypi_0    pypi\n",
      "sphinxcontrib-qthelp      1.0.3                    pypi_0    pypi\n",
      "sphinxcontrib-serializinghtml 1.1.4                    pypi_0    pypi\n",
      "sqlalchemy                1.4.14           py38h96a0964_0    conda-forge\n",
      "sqlite                    3.35.5               h44b9ce1_0    conda-forge\n",
      "strict-rfc3339            0.7                      pypi_0    pypi\n",
      "swagger-spec-validator    2.7.3                    pypi_0    pypi\n",
      "tblib                     1.7.0              pyhd8ed1ab_0    conda-forge\n",
      "tenacity                  7.0.0              pyhd8ed1ab_0    conda-forge\n",
      "tensorboard               2.4.1                    pypi_0    pypi\n",
      "tensorboard-plugin-wit    1.8.0                    pypi_0    pypi\n",
      "terminado                 0.9.4            py38h50d1736_0    conda-forge\n",
      "testpath                  0.4.4                      py_0    conda-forge\n",
      "textwrap3                 0.9.2                      py_0    conda-forge\n",
      "threadpoolctl             2.1.0              pyh5ca1d4c_0    conda-forge\n",
      "tk                        8.6.10               hb0a8c7a_1    conda-forge\n",
      "toml                      0.10.2             pyhd8ed1ab_0    conda-forge\n",
      "tomlkit                   0.7.0            py38h50d1736_3    conda-forge\n",
      "toolz                     0.11.1                     py_0    conda-forge\n",
      "torch                     1.7.1                    pypi_0    pypi\n",
      "torch-cluster             1.5.9                    pypi_0    pypi\n",
      "torch-geometric           1.7.0                    pypi_0    pypi\n",
      "torch-scatter             2.0.6                    pypi_0    pypi\n",
      "torch-sparse              0.6.9                    pypi_0    pypi\n",
      "torch-spline-conv         1.2.1                    pypi_0    pypi\n",
      "torchaudio                0.7.2                    pypi_0    pypi\n",
      "torchmetrics              0.3.1                    pypi_0    pypi\n",
      "torchvision               0.8.2                    pypi_0    pypi\n",
      "tornado                   6.1              py38h5406a74_1    conda-forge\n",
      "tqdm                      4.60.0             pyhd8ed1ab_0    conda-forge\n",
      "traitlets                 5.0.5                      py_0    conda-forge\n",
      "typed-ast                 1.4.3            py38h96a0964_0    conda-forge\n",
      "typing_extensions         3.7.4.3                    py_0    conda-forge\n",
      "urllib3                   1.26.4             pyhd8ed1ab_0    conda-forge\n",
      "watermark                 2.2.0              pyhd8ed1ab_0    conda-forge\n",
      "wcwidth                   0.2.5              pyh9f0ad1d_2    conda-forge\n",
      "webcolors                 1.11.1                   pypi_0    pypi\n",
      "webencodings              0.5.1                      py_1    conda-forge\n",
      "werkzeug                  1.0.1                    pypi_0    pypi\n",
      "wheel                     0.36.2             pyhd3deb0d_0    conda-forge\n",
      "widgetsnbextension        3.5.1            py38h50d1736_4    conda-forge\n",
      "xgboost                   1.4.0            py38h50d1736_0    conda-forge\n",
      "xmltodict                 0.12.0                     py_0    conda-forge\n",
      "xorg-kbproto              1.0.7             h35c211d_1002    conda-forge\n",
      "xorg-libice               1.0.10               h01d97ff_0    conda-forge\n",
      "xorg-libsm                1.2.3             h1de35cc_1000    conda-forge\n",
      "xorg-libx11               1.7.0                hc929b4f_0    conda-forge\n",
      "xorg-libxau               1.0.9                h35c211d_0    conda-forge\n",
      "xorg-libxdmcp             1.1.3                h35c211d_0    conda-forge\n",
      "xorg-libxext              1.3.4                h0d85af4_1    conda-forge\n",
      "xorg-libxt                1.2.1                h0d85af4_2    conda-forge\n",
      "xorg-xextproto            7.3.0             h35c211d_1002    conda-forge\n",
      "xorg-xproto               7.0.31            h35c211d_1007    conda-forge\n",
      "xz                        5.2.5                haf1e3a3_1    conda-forge\n",
      "yaml                      0.2.5                haf1e3a3_0    conda-forge\n",
      "yarl                      1.6.3                    pypi_0    pypi\n",
      "zeromq                    4.3.4                h1c7c35f_0    conda-forge\n",
      "zict                      2.0.0                      py_0    conda-forge\n",
      "zipp                      3.4.1              pyhd8ed1ab_0    conda-forge\n",
      "zlib                      1.2.11            h7795811_1010    conda-forge\n",
      "zstd                      1.4.9                h582d3a0_0    conda-forge\n"
     ]
    }
   ],
   "source": [
    "from kinoml.utils import watermark\n",
    "w = watermark()"
   ]
  },
  {
   "cell_type": "code",
   "execution_count": 21,
   "metadata": {
    "execution": {
     "iopub.execute_input": "2021-08-09T12:22:48.866729Z",
     "iopub.status.busy": "2021-08-09T12:22:48.866142Z",
     "iopub.status.idle": "2021-08-09T12:22:51.433823Z",
     "shell.execute_reply": "2021-08-09T12:22:51.434272Z"
    },
    "papermill": {
     "duration": 2.582936,
     "end_time": "2021-08-09T12:22:51.434465",
     "exception": false,
     "start_time": "2021-08-09T12:22:48.851529",
     "status": "completed"
    },
    "tags": []
   },
   "outputs": [],
   "source": [
    "%%capture cap --no-stderr\n",
    "w = watermark()"
   ]
  },
  {
   "cell_type": "code",
   "execution_count": 22,
   "metadata": {
    "execution": {
     "iopub.execute_input": "2021-08-09T12:22:51.453868Z",
     "iopub.status.busy": "2021-08-09T12:22:51.453174Z",
     "iopub.status.idle": "2021-08-09T12:22:51.456974Z",
     "shell.execute_reply": "2021-08-09T12:22:51.456436Z"
    },
    "papermill": {
     "duration": 0.015012,
     "end_time": "2021-08-09T12:22:51.457138",
     "exception": false,
     "start_time": "2021-08-09T12:22:51.442126",
     "status": "completed"
    },
    "tags": []
   },
   "outputs": [],
   "source": [
    "import json\n",
    "\n",
    "with open(OUT/ \"watermark.txt\", \"w\") as f:\n",
    "    f.write(cap.stdout)\n",
    "\n",
    "with open(OUT / \"hparams.json\", \"w\") as f:\n",
    "    json.dump(_hparams, f, default=str, indent=2)"
   ]
  }
 ],
 "metadata": {
  "kernelspec": {
   "display_name": "Python 3",
   "language": "python",
   "name": "python3"
  },
  "language_info": {
   "codemirror_mode": {
    "name": "ipython",
    "version": 3
   },
   "file_extension": ".py",
   "mimetype": "text/x-python",
   "name": "python",
   "nbconvert_exporter": "python",
   "pygments_lexer": "ipython3",
   "version": "3.8.8"
  },
  "papermill": {
   "default_parameters": {},
   "duration": 9.760367,
   "end_time": "2021-08-09T12:22:51.985984",
   "environment_variables": {},
   "exception": null,
   "input_path": "features/featurize-template.ipynb",
   "output_path": "features/ligand-only-morgan1024-subsample/featurize.ipynb",
   "parameters": {
    "DATASET_CLS": "kinoml.datasets.chembl.ChEMBLDatasetProvider",
    "DATASET_KWARGS": {
     "path_or_url": "https://github.com/openkinome/kinodata/releases/download/v0.2/activities-chembl28-sample100_v0.2.zip"
    },
    "FEATURIZE_KWARGS": {
     "keep": false,
     "processes": 1
    },
    "GROUPS": [
     [
      "kinoml.datasets.groups.CallableGrouper",
      {
       "function": "lambda measurement: measurement.system.protein.name"
      }
     ],
     [
      "kinoml.datasets.groups.CallableGrouper",
      {
       "function": "lambda measurement: type(measurement).__name__"
      }
     ]
    ],
    "HERE": "/Users/taliakimber/Documents/github/experiments-binding-affinity/features/ligand-only-morgan1024-subsample",
    "PIPELINES": {
     "ligand": [
      [
       "kinoml.features.ligand.SmilesToLigandFeaturizer",
       {}
      ],
      [
       "kinoml.features.ligand.MorganFingerprintFeaturizer",
       {
        "nbits": 1024,
        "radius": 2
       }
      ]
     ]
    },
    "PIPELINES_AGG": "kinoml.features.core.TupleOfArrays",
    "PIPELINES_AGG_KWARGS": {},
    "TRAIN_TEST_VAL_KWARGS": {
     "idx_test": 0.1,
     "idx_train": 0.8,
     "idx_val": 0.1
    }
   },
   "start_time": "2021-08-09T12:22:42.225617",
   "version": "2.2.0"
  },
  "widgets": {
   "application/vnd.jupyter.widget-state+json": {
    "state": {
     "06057bffc1174590a4a873f3660d0397": {
      "model_module": "@jupyter-widgets/controls",
      "model_module_version": "1.5.0",
      "model_name": "ProgressStyleModel",
      "state": {
       "_model_module": "@jupyter-widgets/controls",
       "_model_module_version": "1.5.0",
       "_model_name": "ProgressStyleModel",
       "_view_count": null,
       "_view_module": "@jupyter-widgets/base",
       "_view_module_version": "1.2.0",
       "_view_name": "StyleView",
       "bar_color": null,
       "description_width": ""
      }
     },
     "0fff22624d9b4f75ae11dd292de7c4ce": {
      "model_module": "@jupyter-widgets/controls",
      "model_module_version": "1.5.0",
      "model_name": "HTMLModel",
      "state": {
       "_dom_classes": [],
       "_model_module": "@jupyter-widgets/controls",
       "_model_module_version": "1.5.0",
       "_model_name": "HTMLModel",
       "_view_count": null,
       "_view_module": "@jupyter-widgets/controls",
       "_view_module_version": "1.5.0",
       "_view_name": "HTMLView",
       "description": "",
       "description_tooltip": null,
       "layout": "IPY_MODEL_99b4ad44d1cb44a1b225d2aa25582293",
       "placeholder": "​",
       "style": "IPY_MODEL_f08c32b87cc845d3a0f654b485b41f3b",
       "value": " 100/100 [00:00&lt;00:00, 955.10it/s]"
      }
     },
     "10bd4bc5c1ab4fdfb47ce234f33b5777": {
      "model_module": "@jupyter-widgets/controls",
      "model_module_version": "1.5.0",
      "model_name": "FloatProgressModel",
      "state": {
       "_dom_classes": [],
       "_model_module": "@jupyter-widgets/controls",
       "_model_module_version": "1.5.0",
       "_model_name": "FloatProgressModel",
       "_view_count": null,
       "_view_module": "@jupyter-widgets/controls",
       "_view_module_version": "1.5.0",
       "_view_name": "ProgressView",
       "bar_style": "success",
       "description": "",
       "description_tooltip": null,
       "layout": "IPY_MODEL_80dcd1d300204780b9e5a01ab7221b20",
       "max": 100.0,
       "min": 0.0,
       "orientation": "horizontal",
       "style": "IPY_MODEL_545dba262b8c4ac697c51f2fc3198462",
       "value": 100.0
      }
     },
     "1ab0db4a311d47388041f0105a22d5ed": {
      "model_module": "@jupyter-widgets/base",
      "model_module_version": "1.2.0",
      "model_name": "LayoutModel",
      "state": {
       "_model_module": "@jupyter-widgets/base",
       "_model_module_version": "1.2.0",
       "_model_name": "LayoutModel",
       "_view_count": null,
       "_view_module": "@jupyter-widgets/base",
       "_view_module_version": "1.2.0",
       "_view_name": "LayoutView",
       "align_content": null,
       "align_items": null,
       "align_self": null,
       "border": null,
       "bottom": null,
       "display": null,
       "flex": null,
       "flex_flow": null,
       "grid_area": null,
       "grid_auto_columns": null,
       "grid_auto_flow": null,
       "grid_auto_rows": null,
       "grid_column": null,
       "grid_gap": null,
       "grid_row": null,
       "grid_template_areas": null,
       "grid_template_columns": null,
       "grid_template_rows": null,
       "height": null,
       "justify_content": null,
       "justify_items": null,
       "left": null,
       "margin": null,
       "max_height": null,
       "max_width": null,
       "min_height": null,
       "min_width": null,
       "object_fit": null,
       "object_position": null,
       "order": null,
       "overflow": null,
       "overflow_x": null,
       "overflow_y": null,
       "padding": null,
       "right": null,
       "top": null,
       "visibility": null,
       "width": null
      }
     },
     "1d3522e78f114fdf8cfe1be81d2cac32": {
      "model_module": "@jupyter-widgets/base",
      "model_module_version": "1.2.0",
      "model_name": "LayoutModel",
      "state": {
       "_model_module": "@jupyter-widgets/base",
       "_model_module_version": "1.2.0",
       "_model_name": "LayoutModel",
       "_view_count": null,
       "_view_module": "@jupyter-widgets/base",
       "_view_module_version": "1.2.0",
       "_view_name": "LayoutView",
       "align_content": null,
       "align_items": null,
       "align_self": null,
       "border": null,
       "bottom": null,
       "display": null,
       "flex": null,
       "flex_flow": null,
       "grid_area": null,
       "grid_auto_columns": null,
       "grid_auto_flow": null,
       "grid_auto_rows": null,
       "grid_column": null,
       "grid_gap": null,
       "grid_row": null,
       "grid_template_areas": null,
       "grid_template_columns": null,
       "grid_template_rows": null,
       "height": null,
       "justify_content": null,
       "justify_items": null,
       "left": null,
       "margin": null,
       "max_height": null,
       "max_width": null,
       "min_height": null,
       "min_width": null,
       "object_fit": null,
       "object_position": null,
       "order": null,
       "overflow": null,
       "overflow_x": null,
       "overflow_y": null,
       "padding": null,
       "right": null,
       "top": null,
       "visibility": null,
       "width": null
      }
     },
     "2addb65d22ff4810b6027bdef17db7a7": {
      "model_module": "@jupyter-widgets/base",
      "model_module_version": "1.2.0",
      "model_name": "LayoutModel",
      "state": {
       "_model_module": "@jupyter-widgets/base",
       "_model_module_version": "1.2.0",
       "_model_name": "LayoutModel",
       "_view_count": null,
       "_view_module": "@jupyter-widgets/base",
       "_view_module_version": "1.2.0",
       "_view_name": "LayoutView",
       "align_content": null,
       "align_items": null,
       "align_self": null,
       "border": null,
       "bottom": null,
       "display": null,
       "flex": null,
       "flex_flow": null,
       "grid_area": null,
       "grid_auto_columns": null,
       "grid_auto_flow": null,
       "grid_auto_rows": null,
       "grid_column": null,
       "grid_gap": null,
       "grid_row": null,
       "grid_template_areas": null,
       "grid_template_columns": null,
       "grid_template_rows": null,
       "height": null,
       "justify_content": null,
       "justify_items": null,
       "left": null,
       "margin": null,
       "max_height": null,
       "max_width": null,
       "min_height": null,
       "min_width": null,
       "object_fit": null,
       "object_position": null,
       "order": null,
       "overflow": null,
       "overflow_x": null,
       "overflow_y": null,
       "padding": null,
       "right": null,
       "top": null,
       "visibility": null,
       "width": null
      }
     },
     "42f592103dab4df08adc18601ed04c99": {
      "model_module": "@jupyter-widgets/controls",
      "model_module_version": "1.5.0",
      "model_name": "HTMLModel",
      "state": {
       "_dom_classes": [],
       "_model_module": "@jupyter-widgets/controls",
       "_model_module_version": "1.5.0",
       "_model_name": "HTMLModel",
       "_view_count": null,
       "_view_module": "@jupyter-widgets/controls",
       "_view_module_version": "1.5.0",
       "_view_name": "HTMLView",
       "description": "",
       "description_tooltip": null,
       "layout": "IPY_MODEL_4603b62c4e0e4c5e80d2ea496639e946",
       "placeholder": "​",
       "style": "IPY_MODEL_99c786ee32074897b6c770d3ac27c55d",
       "value": "MorganFingerprintFeaturizer: 100%"
      }
     },
     "4603b62c4e0e4c5e80d2ea496639e946": {
      "model_module": "@jupyter-widgets/base",
      "model_module_version": "1.2.0",
      "model_name": "LayoutModel",
      "state": {
       "_model_module": "@jupyter-widgets/base",
       "_model_module_version": "1.2.0",
       "_model_name": "LayoutModel",
       "_view_count": null,
       "_view_module": "@jupyter-widgets/base",
       "_view_module_version": "1.2.0",
       "_view_name": "LayoutView",
       "align_content": null,
       "align_items": null,
       "align_self": null,
       "border": null,
       "bottom": null,
       "display": null,
       "flex": null,
       "flex_flow": null,
       "grid_area": null,
       "grid_auto_columns": null,
       "grid_auto_flow": null,
       "grid_auto_rows": null,
       "grid_column": null,
       "grid_gap": null,
       "grid_row": null,
       "grid_template_areas": null,
       "grid_template_columns": null,
       "grid_template_rows": null,
       "height": null,
       "justify_content": null,
       "justify_items": null,
       "left": null,
       "margin": null,
       "max_height": null,
       "max_width": null,
       "min_height": null,
       "min_width": null,
       "object_fit": null,
       "object_position": null,
       "order": null,
       "overflow": null,
       "overflow_x": null,
       "overflow_y": null,
       "padding": null,
       "right": null,
       "top": null,
       "visibility": null,
       "width": null
      }
     },
     "4ae17d0289c3403fad01774e0040f9b5": {
      "model_module": "@jupyter-widgets/controls",
      "model_module_version": "1.5.0",
      "model_name": "HBoxModel",
      "state": {
       "_dom_classes": [],
       "_model_module": "@jupyter-widgets/controls",
       "_model_module_version": "1.5.0",
       "_model_name": "HBoxModel",
       "_view_count": null,
       "_view_module": "@jupyter-widgets/controls",
       "_view_module_version": "1.5.0",
       "_view_name": "HBoxView",
       "box_style": "",
       "children": [
        "IPY_MODEL_42f592103dab4df08adc18601ed04c99",
        "IPY_MODEL_10bd4bc5c1ab4fdfb47ce234f33b5777",
        "IPY_MODEL_4ce7cfaac8d641168cb9b99e1754ead7"
       ],
       "layout": "IPY_MODEL_7556f868d51e43b08fa5adfc5b91eca9"
      }
     },
     "4ce7cfaac8d641168cb9b99e1754ead7": {
      "model_module": "@jupyter-widgets/controls",
      "model_module_version": "1.5.0",
      "model_name": "HTMLModel",
      "state": {
       "_dom_classes": [],
       "_model_module": "@jupyter-widgets/controls",
       "_model_module_version": "1.5.0",
       "_model_name": "HTMLModel",
       "_view_count": null,
       "_view_module": "@jupyter-widgets/controls",
       "_view_module_version": "1.5.0",
       "_view_name": "HTMLView",
       "description": "",
       "description_tooltip": null,
       "layout": "IPY_MODEL_f4838a4d4b114f4eb4e2e3a447b421c0",
       "placeholder": "​",
       "style": "IPY_MODEL_7d1571d484db48769770a4e78027ccb4",
       "value": " 100/100 [00:00&lt;00:00,  9.43it/s]"
      }
     },
     "52943f5bc06e4bb786b3f14ce34f1794": {
      "model_module": "@jupyter-widgets/controls",
      "model_module_version": "1.5.0",
      "model_name": "HTMLModel",
      "state": {
       "_dom_classes": [],
       "_model_module": "@jupyter-widgets/controls",
       "_model_module_version": "1.5.0",
       "_model_name": "HTMLModel",
       "_view_count": null,
       "_view_module": "@jupyter-widgets/controls",
       "_view_module_version": "1.5.0",
       "_view_name": "HTMLView",
       "description": "",
       "description_tooltip": null,
       "layout": "IPY_MODEL_1d3522e78f114fdf8cfe1be81d2cac32",
       "placeholder": "​",
       "style": "IPY_MODEL_ad1edd52189048399a16e8c10bc03939",
       "value": "SmilesToLigandFeaturizer: 100%"
      }
     },
     "545dba262b8c4ac697c51f2fc3198462": {
      "model_module": "@jupyter-widgets/controls",
      "model_module_version": "1.5.0",
      "model_name": "ProgressStyleModel",
      "state": {
       "_model_module": "@jupyter-widgets/controls",
       "_model_module_version": "1.5.0",
       "_model_name": "ProgressStyleModel",
       "_view_count": null,
       "_view_module": "@jupyter-widgets/base",
       "_view_module_version": "1.2.0",
       "_view_name": "StyleView",
       "bar_color": null,
       "description_width": ""
      }
     },
     "67ee8d0b929a44a4a778981e4f79f426": {
      "model_module": "@jupyter-widgets/controls",
      "model_module_version": "1.5.0",
      "model_name": "HTMLModel",
      "state": {
       "_dom_classes": [],
       "_model_module": "@jupyter-widgets/controls",
       "_model_module_version": "1.5.0",
       "_model_name": "HTMLModel",
       "_view_count": null,
       "_view_module": "@jupyter-widgets/controls",
       "_view_module_version": "1.5.0",
       "_view_name": "HTMLView",
       "description": "",
       "description_tooltip": null,
       "layout": "IPY_MODEL_1ab0db4a311d47388041f0105a22d5ed",
       "placeholder": "​",
       "style": "IPY_MODEL_8cae024d651b4f369444658c8864529f",
       "value": "100%"
      }
     },
     "7556f868d51e43b08fa5adfc5b91eca9": {
      "model_module": "@jupyter-widgets/base",
      "model_module_version": "1.2.0",
      "model_name": "LayoutModel",
      "state": {
       "_model_module": "@jupyter-widgets/base",
       "_model_module_version": "1.2.0",
       "_model_name": "LayoutModel",
       "_view_count": null,
       "_view_module": "@jupyter-widgets/base",
       "_view_module_version": "1.2.0",
       "_view_name": "LayoutView",
       "align_content": null,
       "align_items": null,
       "align_self": null,
       "border": null,
       "bottom": null,
       "display": null,
       "flex": null,
       "flex_flow": null,
       "grid_area": null,
       "grid_auto_columns": null,
       "grid_auto_flow": null,
       "grid_auto_rows": null,
       "grid_column": null,
       "grid_gap": null,
       "grid_row": null,
       "grid_template_areas": null,
       "grid_template_columns": null,
       "grid_template_rows": null,
       "height": null,
       "justify_content": null,
       "justify_items": null,
       "left": null,
       "margin": null,
       "max_height": null,
       "max_width": null,
       "min_height": null,
       "min_width": null,
       "object_fit": null,
       "object_position": null,
       "order": null,
       "overflow": null,
       "overflow_x": null,
       "overflow_y": null,
       "padding": null,
       "right": null,
       "top": null,
       "visibility": null,
       "width": null
      }
     },
     "7cf3444315534c4a8227945410e5e2fc": {
      "model_module": "@jupyter-widgets/controls",
      "model_module_version": "1.5.0",
      "model_name": "ProgressStyleModel",
      "state": {
       "_model_module": "@jupyter-widgets/controls",
       "_model_module_version": "1.5.0",
       "_model_name": "ProgressStyleModel",
       "_view_count": null,
       "_view_module": "@jupyter-widgets/base",
       "_view_module_version": "1.2.0",
       "_view_name": "StyleView",
       "bar_color": null,
       "description_width": ""
      }
     },
     "7d1571d484db48769770a4e78027ccb4": {
      "model_module": "@jupyter-widgets/controls",
      "model_module_version": "1.5.0",
      "model_name": "DescriptionStyleModel",
      "state": {
       "_model_module": "@jupyter-widgets/controls",
       "_model_module_version": "1.5.0",
       "_model_name": "DescriptionStyleModel",
       "_view_count": null,
       "_view_module": "@jupyter-widgets/base",
       "_view_module_version": "1.2.0",
       "_view_name": "StyleView",
       "description_width": ""
      }
     },
     "80dcd1d300204780b9e5a01ab7221b20": {
      "model_module": "@jupyter-widgets/base",
      "model_module_version": "1.2.0",
      "model_name": "LayoutModel",
      "state": {
       "_model_module": "@jupyter-widgets/base",
       "_model_module_version": "1.2.0",
       "_model_name": "LayoutModel",
       "_view_count": null,
       "_view_module": "@jupyter-widgets/base",
       "_view_module_version": "1.2.0",
       "_view_name": "LayoutView",
       "align_content": null,
       "align_items": null,
       "align_self": null,
       "border": null,
       "bottom": null,
       "display": null,
       "flex": null,
       "flex_flow": null,
       "grid_area": null,
       "grid_auto_columns": null,
       "grid_auto_flow": null,
       "grid_auto_rows": null,
       "grid_column": null,
       "grid_gap": null,
       "grid_row": null,
       "grid_template_areas": null,
       "grid_template_columns": null,
       "grid_template_rows": null,
       "height": null,
       "justify_content": null,
       "justify_items": null,
       "left": null,
       "margin": null,
       "max_height": null,
       "max_width": null,
       "min_height": null,
       "min_width": null,
       "object_fit": null,
       "object_position": null,
       "order": null,
       "overflow": null,
       "overflow_x": null,
       "overflow_y": null,
       "padding": null,
       "right": null,
       "top": null,
       "visibility": null,
       "width": null
      }
     },
     "8197677ca6d44d398e7e924a34a87908": {
      "model_module": "@jupyter-widgets/controls",
      "model_module_version": "1.5.0",
      "model_name": "HBoxModel",
      "state": {
       "_dom_classes": [],
       "_model_module": "@jupyter-widgets/controls",
       "_model_module_version": "1.5.0",
       "_model_name": "HBoxModel",
       "_view_count": null,
       "_view_module": "@jupyter-widgets/controls",
       "_view_module_version": "1.5.0",
       "_view_name": "HBoxView",
       "box_style": "",
       "children": [
        "IPY_MODEL_52943f5bc06e4bb786b3f14ce34f1794",
        "IPY_MODEL_edea5f5632d347fa8dcfbf815b9fae39",
        "IPY_MODEL_0fff22624d9b4f75ae11dd292de7c4ce"
       ],
       "layout": "IPY_MODEL_2addb65d22ff4810b6027bdef17db7a7"
      }
     },
     "8cae024d651b4f369444658c8864529f": {
      "model_module": "@jupyter-widgets/controls",
      "model_module_version": "1.5.0",
      "model_name": "DescriptionStyleModel",
      "state": {
       "_model_module": "@jupyter-widgets/controls",
       "_model_module_version": "1.5.0",
       "_model_name": "DescriptionStyleModel",
       "_view_count": null,
       "_view_module": "@jupyter-widgets/base",
       "_view_module_version": "1.2.0",
       "_view_name": "StyleView",
       "description_width": ""
      }
     },
     "99b4ad44d1cb44a1b225d2aa25582293": {
      "model_module": "@jupyter-widgets/base",
      "model_module_version": "1.2.0",
      "model_name": "LayoutModel",
      "state": {
       "_model_module": "@jupyter-widgets/base",
       "_model_module_version": "1.2.0",
       "_model_name": "LayoutModel",
       "_view_count": null,
       "_view_module": "@jupyter-widgets/base",
       "_view_module_version": "1.2.0",
       "_view_name": "LayoutView",
       "align_content": null,
       "align_items": null,
       "align_self": null,
       "border": null,
       "bottom": null,
       "display": null,
       "flex": null,
       "flex_flow": null,
       "grid_area": null,
       "grid_auto_columns": null,
       "grid_auto_flow": null,
       "grid_auto_rows": null,
       "grid_column": null,
       "grid_gap": null,
       "grid_row": null,
       "grid_template_areas": null,
       "grid_template_columns": null,
       "grid_template_rows": null,
       "height": null,
       "justify_content": null,
       "justify_items": null,
       "left": null,
       "margin": null,
       "max_height": null,
       "max_width": null,
       "min_height": null,
       "min_width": null,
       "object_fit": null,
       "object_position": null,
       "order": null,
       "overflow": null,
       "overflow_x": null,
       "overflow_y": null,
       "padding": null,
       "right": null,
       "top": null,
       "visibility": null,
       "width": null
      }
     },
     "99c786ee32074897b6c770d3ac27c55d": {
      "model_module": "@jupyter-widgets/controls",
      "model_module_version": "1.5.0",
      "model_name": "DescriptionStyleModel",
      "state": {
       "_model_module": "@jupyter-widgets/controls",
       "_model_module_version": "1.5.0",
       "_model_name": "DescriptionStyleModel",
       "_view_count": null,
       "_view_module": "@jupyter-widgets/base",
       "_view_module_version": "1.2.0",
       "_view_name": "StyleView",
       "description_width": ""
      }
     },
     "9fa0139e63d443808d6c28e1e2c9efb0": {
      "model_module": "@jupyter-widgets/controls",
      "model_module_version": "1.5.0",
      "model_name": "DescriptionStyleModel",
      "state": {
       "_model_module": "@jupyter-widgets/controls",
       "_model_module_version": "1.5.0",
       "_model_name": "DescriptionStyleModel",
       "_view_count": null,
       "_view_module": "@jupyter-widgets/base",
       "_view_module_version": "1.2.0",
       "_view_name": "StyleView",
       "description_width": ""
      }
     },
     "a27e81490c604378b57fae93f59d5e2a": {
      "model_module": "@jupyter-widgets/base",
      "model_module_version": "1.2.0",
      "model_name": "LayoutModel",
      "state": {
       "_model_module": "@jupyter-widgets/base",
       "_model_module_version": "1.2.0",
       "_model_name": "LayoutModel",
       "_view_count": null,
       "_view_module": "@jupyter-widgets/base",
       "_view_module_version": "1.2.0",
       "_view_name": "LayoutView",
       "align_content": null,
       "align_items": null,
       "align_self": null,
       "border": null,
       "bottom": null,
       "display": null,
       "flex": null,
       "flex_flow": null,
       "grid_area": null,
       "grid_auto_columns": null,
       "grid_auto_flow": null,
       "grid_auto_rows": null,
       "grid_column": null,
       "grid_gap": null,
       "grid_row": null,
       "grid_template_areas": null,
       "grid_template_columns": null,
       "grid_template_rows": null,
       "height": null,
       "justify_content": null,
       "justify_items": null,
       "left": null,
       "margin": null,
       "max_height": null,
       "max_width": null,
       "min_height": null,
       "min_width": null,
       "object_fit": null,
       "object_position": null,
       "order": null,
       "overflow": null,
       "overflow_x": null,
       "overflow_y": null,
       "padding": null,
       "right": null,
       "top": null,
       "visibility": null,
       "width": null
      }
     },
     "ad1edd52189048399a16e8c10bc03939": {
      "model_module": "@jupyter-widgets/controls",
      "model_module_version": "1.5.0",
      "model_name": "DescriptionStyleModel",
      "state": {
       "_model_module": "@jupyter-widgets/controls",
       "_model_module_version": "1.5.0",
       "_model_name": "DescriptionStyleModel",
       "_view_count": null,
       "_view_module": "@jupyter-widgets/base",
       "_view_module_version": "1.2.0",
       "_view_name": "StyleView",
       "description_width": ""
      }
     },
     "b4e8865c301c4b61bb0a737a77974846": {
      "model_module": "@jupyter-widgets/base",
      "model_module_version": "1.2.0",
      "model_name": "LayoutModel",
      "state": {
       "_model_module": "@jupyter-widgets/base",
       "_model_module_version": "1.2.0",
       "_model_name": "LayoutModel",
       "_view_count": null,
       "_view_module": "@jupyter-widgets/base",
       "_view_module_version": "1.2.0",
       "_view_name": "LayoutView",
       "align_content": null,
       "align_items": null,
       "align_self": null,
       "border": null,
       "bottom": null,
       "display": null,
       "flex": null,
       "flex_flow": null,
       "grid_area": null,
       "grid_auto_columns": null,
       "grid_auto_flow": null,
       "grid_auto_rows": null,
       "grid_column": null,
       "grid_gap": null,
       "grid_row": null,
       "grid_template_areas": null,
       "grid_template_columns": null,
       "grid_template_rows": null,
       "height": null,
       "justify_content": null,
       "justify_items": null,
       "left": null,
       "margin": null,
       "max_height": null,
       "max_width": null,
       "min_height": null,
       "min_width": null,
       "object_fit": null,
       "object_position": null,
       "order": null,
       "overflow": null,
       "overflow_x": null,
       "overflow_y": null,
       "padding": null,
       "right": null,
       "top": null,
       "visibility": null,
       "width": null
      }
     },
     "cd81e6c7cd274a88a3c1e98880ca738c": {
      "model_module": "@jupyter-widgets/base",
      "model_module_version": "1.2.0",
      "model_name": "LayoutModel",
      "state": {
       "_model_module": "@jupyter-widgets/base",
       "_model_module_version": "1.2.0",
       "_model_name": "LayoutModel",
       "_view_count": null,
       "_view_module": "@jupyter-widgets/base",
       "_view_module_version": "1.2.0",
       "_view_name": "LayoutView",
       "align_content": null,
       "align_items": null,
       "align_self": null,
       "border": null,
       "bottom": null,
       "display": null,
       "flex": null,
       "flex_flow": null,
       "grid_area": null,
       "grid_auto_columns": null,
       "grid_auto_flow": null,
       "grid_auto_rows": null,
       "grid_column": null,
       "grid_gap": null,
       "grid_row": null,
       "grid_template_areas": null,
       "grid_template_columns": null,
       "grid_template_rows": null,
       "height": null,
       "justify_content": null,
       "justify_items": null,
       "left": null,
       "margin": null,
       "max_height": null,
       "max_width": null,
       "min_height": null,
       "min_width": null,
       "object_fit": null,
       "object_position": null,
       "order": null,
       "overflow": null,
       "overflow_x": null,
       "overflow_y": null,
       "padding": null,
       "right": null,
       "top": null,
       "visibility": null,
       "width": null
      }
     },
     "d5793fa37c1d42b6a1584f4c0114d237": {
      "model_module": "@jupyter-widgets/base",
      "model_module_version": "1.2.0",
      "model_name": "LayoutModel",
      "state": {
       "_model_module": "@jupyter-widgets/base",
       "_model_module_version": "1.2.0",
       "_model_name": "LayoutModel",
       "_view_count": null,
       "_view_module": "@jupyter-widgets/base",
       "_view_module_version": "1.2.0",
       "_view_name": "LayoutView",
       "align_content": null,
       "align_items": null,
       "align_self": null,
       "border": null,
       "bottom": null,
       "display": null,
       "flex": null,
       "flex_flow": null,
       "grid_area": null,
       "grid_auto_columns": null,
       "grid_auto_flow": null,
       "grid_auto_rows": null,
       "grid_column": null,
       "grid_gap": null,
       "grid_row": null,
       "grid_template_areas": null,
       "grid_template_columns": null,
       "grid_template_rows": null,
       "height": null,
       "justify_content": null,
       "justify_items": null,
       "left": null,
       "margin": null,
       "max_height": null,
       "max_width": null,
       "min_height": null,
       "min_width": null,
       "object_fit": null,
       "object_position": null,
       "order": null,
       "overflow": null,
       "overflow_x": null,
       "overflow_y": null,
       "padding": null,
       "right": null,
       "top": null,
       "visibility": null,
       "width": null
      }
     },
     "dd9a6a5fa02441c09692cbc5a9fd96a2": {
      "model_module": "@jupyter-widgets/controls",
      "model_module_version": "1.5.0",
      "model_name": "HBoxModel",
      "state": {
       "_dom_classes": [],
       "_model_module": "@jupyter-widgets/controls",
       "_model_module_version": "1.5.0",
       "_model_name": "HBoxModel",
       "_view_count": null,
       "_view_module": "@jupyter-widgets/controls",
       "_view_module_version": "1.5.0",
       "_view_name": "HBoxView",
       "box_style": "",
       "children": [
        "IPY_MODEL_67ee8d0b929a44a4a778981e4f79f426",
        "IPY_MODEL_ece82a04b0ba4082ad3248863c68f02a",
        "IPY_MODEL_f28abeaf0a9b47d2a86b8c72908db9ce"
       ],
       "layout": "IPY_MODEL_a27e81490c604378b57fae93f59d5e2a"
      }
     },
     "ece82a04b0ba4082ad3248863c68f02a": {
      "model_module": "@jupyter-widgets/controls",
      "model_module_version": "1.5.0",
      "model_name": "FloatProgressModel",
      "state": {
       "_dom_classes": [],
       "_model_module": "@jupyter-widgets/controls",
       "_model_module_version": "1.5.0",
       "_model_name": "FloatProgressModel",
       "_view_count": null,
       "_view_module": "@jupyter-widgets/controls",
       "_view_module_version": "1.5.0",
       "_view_name": "ProgressView",
       "bar_style": "success",
       "description": "",
       "description_tooltip": null,
       "layout": "IPY_MODEL_b4e8865c301c4b61bb0a737a77974846",
       "max": 100.0,
       "min": 0.0,
       "orientation": "horizontal",
       "style": "IPY_MODEL_06057bffc1174590a4a873f3660d0397",
       "value": 100.0
      }
     },
     "edea5f5632d347fa8dcfbf815b9fae39": {
      "model_module": "@jupyter-widgets/controls",
      "model_module_version": "1.5.0",
      "model_name": "FloatProgressModel",
      "state": {
       "_dom_classes": [],
       "_model_module": "@jupyter-widgets/controls",
       "_model_module_version": "1.5.0",
       "_model_name": "FloatProgressModel",
       "_view_count": null,
       "_view_module": "@jupyter-widgets/controls",
       "_view_module_version": "1.5.0",
       "_view_name": "ProgressView",
       "bar_style": "success",
       "description": "",
       "description_tooltip": null,
       "layout": "IPY_MODEL_d5793fa37c1d42b6a1584f4c0114d237",
       "max": 100.0,
       "min": 0.0,
       "orientation": "horizontal",
       "style": "IPY_MODEL_7cf3444315534c4a8227945410e5e2fc",
       "value": 100.0
      }
     },
     "f08c32b87cc845d3a0f654b485b41f3b": {
      "model_module": "@jupyter-widgets/controls",
      "model_module_version": "1.5.0",
      "model_name": "DescriptionStyleModel",
      "state": {
       "_model_module": "@jupyter-widgets/controls",
       "_model_module_version": "1.5.0",
       "_model_name": "DescriptionStyleModel",
       "_view_count": null,
       "_view_module": "@jupyter-widgets/base",
       "_view_module_version": "1.2.0",
       "_view_name": "StyleView",
       "description_width": ""
      }
     },
     "f28abeaf0a9b47d2a86b8c72908db9ce": {
      "model_module": "@jupyter-widgets/controls",
      "model_module_version": "1.5.0",
      "model_name": "HTMLModel",
      "state": {
       "_dom_classes": [],
       "_model_module": "@jupyter-widgets/controls",
       "_model_module_version": "1.5.0",
       "_model_name": "HTMLModel",
       "_view_count": null,
       "_view_module": "@jupyter-widgets/controls",
       "_view_module_version": "1.5.0",
       "_view_name": "HTMLView",
       "description": "",
       "description_tooltip": null,
       "layout": "IPY_MODEL_cd81e6c7cd274a88a3c1e98880ca738c",
       "placeholder": "​",
       "style": "IPY_MODEL_9fa0139e63d443808d6c28e1e2c9efb0",
       "value": " 100/100 [00:00&lt;00:00, 4197.45it/s]"
      }
     },
     "f4838a4d4b114f4eb4e2e3a447b421c0": {
      "model_module": "@jupyter-widgets/base",
      "model_module_version": "1.2.0",
      "model_name": "LayoutModel",
      "state": {
       "_model_module": "@jupyter-widgets/base",
       "_model_module_version": "1.2.0",
       "_model_name": "LayoutModel",
       "_view_count": null,
       "_view_module": "@jupyter-widgets/base",
       "_view_module_version": "1.2.0",
       "_view_name": "LayoutView",
       "align_content": null,
       "align_items": null,
       "align_self": null,
       "border": null,
       "bottom": null,
       "display": null,
       "flex": null,
       "flex_flow": null,
       "grid_area": null,
       "grid_auto_columns": null,
       "grid_auto_flow": null,
       "grid_auto_rows": null,
       "grid_column": null,
       "grid_gap": null,
       "grid_row": null,
       "grid_template_areas": null,
       "grid_template_columns": null,
       "grid_template_rows": null,
       "height": null,
       "justify_content": null,
       "justify_items": null,
       "left": null,
       "margin": null,
       "max_height": null,
       "max_width": null,
       "min_height": null,
       "min_width": null,
       "object_fit": null,
       "object_position": null,
       "order": null,
       "overflow": null,
       "overflow_x": null,
       "overflow_y": null,
       "padding": null,
       "right": null,
       "top": null,
       "visibility": null,
       "width": null
      }
     }
    },
    "version_major": 2,
    "version_minor": 0
   }
  }
 },
 "nbformat": 4,
 "nbformat_minor": 4
}