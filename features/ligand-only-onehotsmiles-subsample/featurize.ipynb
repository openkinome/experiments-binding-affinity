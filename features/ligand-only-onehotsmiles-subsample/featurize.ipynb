{
 "cells": [
  {
   "cell_type": "markdown",
   "metadata": {
    "papermill": {
     "duration": 0.014539,
     "end_time": "2021-08-16T14:57:06.627587",
     "exception": false,
     "start_time": "2021-08-16T14:57:06.613048",
     "status": "completed"
    },
    "tags": []
   },
   "source": [
    "# Featurize a dataset\n",
    "\n",
    "Any machine learning model will expect tensorial representations of the chemical data. This notebooks provides a workflow to achieve such goal.\n",
    "\n",
    "`kinoml.dataset.DatasetProvider` objects need to be available to deal with your collection of raw measurements for protein:ligand systems. These objects are, roughly, a list of `kinoml.core.BaseMeasurement`, each containing a set of `.values` and a some extra metadata, like the `system` objects to be featurized here.\n",
    "\n",
    "In ligand-based models, protein information is only considered marginally, and most of the action happens at the ligand level. Usually starting with a string representation such as SMILES, or a database identifier such as a PubChem ID, these are promoted to (usually) RDKit objects and then transformed into a tensor of some form (e.g. fingerprints, molecular graph as an adjacency matrix, etc).\n",
    "\n",
    "Available featurizers can be found under `kinoml.features`."
   ]
  },
  {
   "cell_type": "markdown",
   "metadata": {
    "papermill": {
     "duration": 0.00688,
     "end_time": "2021-08-16T14:57:06.642787",
     "exception": false,
     "start_time": "2021-08-16T14:57:06.635907",
     "status": "completed"
    },
    "tags": []
   },
   "source": [
    "## How to use\n",
    "\n",
    "Run `python run_notebook.py --help` for more information."
   ]
  },
  {
   "cell_type": "code",
   "execution_count": 1,
   "metadata": {
    "execution": {
     "iopub.execute_input": "2021-08-16T14:57:06.661640Z",
     "iopub.status.busy": "2021-08-16T14:57:06.661070Z",
     "iopub.status.idle": "2021-08-16T14:57:06.663085Z",
     "shell.execute_reply": "2021-08-16T14:57:06.664190Z"
    },
    "papermill": {
     "duration": 0.015852,
     "end_time": "2021-08-16T14:57:06.664616",
     "exception": false,
     "start_time": "2021-08-16T14:57:06.648764",
     "status": "completed"
    },
    "tags": []
   },
   "outputs": [],
   "source": [
    "# If this is the template file (and not a copy) and you are introducing changes,\n",
    "# update VERSION with the current date (YYYY.MM.DD)\n",
    "VERSION = \"2021.05.18\" "
   ]
  },
  {
   "cell_type": "markdown",
   "metadata": {
    "papermill": {
     "duration": 0.006529,
     "end_time": "2021-08-16T14:57:06.678805",
     "exception": false,
     "start_time": "2021-08-16T14:57:06.672276",
     "status": "completed"
    },
    "tags": []
   },
   "source": [
    "## ✏ Define hyper parameters"
   ]
  },
  {
   "cell_type": "code",
   "execution_count": 2,
   "metadata": {
    "execution": {
     "iopub.execute_input": "2021-08-16T14:57:06.697151Z",
     "iopub.status.busy": "2021-08-16T14:57:06.696571Z",
     "iopub.status.idle": "2021-08-16T14:57:06.698696Z",
     "shell.execute_reply": "2021-08-16T14:57:06.699153Z"
    },
    "papermill": {
     "duration": 0.01395,
     "end_time": "2021-08-16T14:57:06.699322",
     "exception": false,
     "start_time": "2021-08-16T14:57:06.685372",
     "status": "completed"
    },
    "tags": [
     "parameters"
    ]
   },
   "outputs": [],
   "source": [
    "# TEMPLATE VALUES -- these are overriden (see below if executed) by papermill using a YAML or Python file as input\n",
    "DATASET_CLS = \"import.path.to.DatasetProvider\"\n",
    "DATASET_KWARGS = {\"option\": \"value\", \"option2\": \"value2\"}\n",
    "\n",
    "PIPELINES = {\n",
    "    \"someuniquekey\": [\n",
    "        (\"import.path.to.SomeFeaturizer\", {\"option\": \"value\", \"option2\": \"value2\"}),\n",
    "        (\"import.path.to.SomeOtherFeaturizer\", {\"option\": \"value\", \"option2\": \"value2\"}),\n",
    "    ]\n",
    "}\n",
    "PIPELINES_AGG = \"kinoml.features.core.Concatenated\"\n",
    "PIPELINES_AGG_KWARGS = {}\n",
    "\n",
    "GROUPS = [\n",
    "    (\"kinoml.datasets.groups.CallableGrouper\", {\"function\": \"lambda something: something.attribute\"}),\n",
    "    (\"kinoml.datasets.groups.CallableGrouper\", {\"function\": \"lambda otherthing: otherthing.attribute2\"})\n",
    "]\n",
    "\n",
    "TRAIN_TEST_VAL_KWARGS = {\"idx_train\": 0.8, \"idx_test\": 0.1, \"idx_val\": 0.1}\n",
    "\n",
    "## IGNORE THIS ONE\n",
    "HERE = _dh[-1]"
   ]
  },
  {
   "cell_type": "code",
   "execution_count": 3,
   "id": "104e2337",
   "metadata": {
    "execution": {
     "iopub.execute_input": "2021-08-16T14:57:06.715267Z",
     "iopub.status.busy": "2021-08-16T14:57:06.714589Z",
     "iopub.status.idle": "2021-08-16T14:57:06.716530Z",
     "shell.execute_reply": "2021-08-16T14:57:06.717055Z"
    },
    "papermill": {
     "duration": 0.012109,
     "end_time": "2021-08-16T14:57:06.717232",
     "exception": false,
     "start_time": "2021-08-16T14:57:06.705123",
     "status": "completed"
    },
    "tags": [
     "injected-parameters"
    ]
   },
   "outputs": [],
   "source": [
    "# Parameters\n",
    "DATASET_CLS = \"kinoml.datasets.chembl.ChEMBLDatasetProvider\"\n",
    "DATASET_KWARGS = {\n",
    "    \"path_or_url\": \"https://github.com/openkinome/kinodata/releases/download/v0.2/activities-chembl28-sample100_v0.2.zip\"\n",
    "}\n",
    "PIPELINES = {\n",
    "    \"ligand\": [\n",
    "        [\"kinoml.features.ligand.SmilesToLigandFeaturizer\", {}],\n",
    "        [\"kinoml.features.ligand.OneHotSMILESFeaturizer\", {}],\n",
    "        [\"kinoml.features.core.PadFeaturizer\", {\"shape\": \"auto\"}],\n",
    "    ]\n",
    "}\n",
    "PIPELINES_AGG = \"kinoml.features.core.TupleOfArrays\"\n",
    "PIPELINES_AGG_KWARGS = {}\n",
    "FEATURIZE_KWARGS = {\"keep\": False}\n",
    "GROUPS = [\n",
    "    [\n",
    "        \"kinoml.datasets.groups.CallableGrouper\",\n",
    "        {\"function\": \"lambda measurement: measurement.system.protein.name\"},\n",
    "    ],\n",
    "    [\n",
    "        \"kinoml.datasets.groups.CallableGrouper\",\n",
    "        {\"function\": \"lambda measurement: type(measurement).__name__\"},\n",
    "    ],\n",
    "]\n",
    "TRAIN_TEST_VAL_KWARGS = {\"idx_train\": 0.8, \"idx_test\": 0.1, \"idx_val\": 0.1}\n",
    "HERE = \"/Users/taliakimber/Documents/github/experiments-binding-affinity/features/ligand-only-onehotsmiles-subsample\"\n"
   ]
  },
  {
   "cell_type": "markdown",
   "metadata": {
    "papermill": {
     "duration": 0.00533,
     "end_time": "2021-08-16T14:57:06.728011",
     "exception": false,
     "start_time": "2021-08-16T14:57:06.722681",
     "status": "completed"
    },
    "tags": []
   },
   "source": [
    "⚠ From here on, you should _not_ need to modify anything else 🤞\n",
    "\n",
    "---\n",
    "\n",
    "Define key paths for data and outputs:"
   ]
  },
  {
   "cell_type": "code",
   "execution_count": 4,
   "metadata": {
    "execution": {
     "iopub.execute_input": "2021-08-16T14:57:06.744366Z",
     "iopub.status.busy": "2021-08-16T14:57:06.743736Z",
     "iopub.status.idle": "2021-08-16T14:57:06.746965Z",
     "shell.execute_reply": "2021-08-16T14:57:06.747541Z"
    },
    "papermill": {
     "duration": 0.014486,
     "end_time": "2021-08-16T14:57:06.747705",
     "exception": false,
     "start_time": "2021-08-16T14:57:06.733219",
     "status": "completed"
    },
    "tags": []
   },
   "outputs": [
    {
     "name": "stdout",
     "output_type": "stream",
     "text": [
      "This notebook:           HERE = /Users/taliakimber/Documents/github/experiments-binding-affinity/features/ligand-only-onehotsmiles-subsample\n",
      "This repo:               REPO = /Users/taliakimber/Documents/github/experiments-binding-affinity\n",
      "Outputs in:               OUT = /Users/taliakimber/Documents/github/experiments-binding-affinity/features/ligand-only-onehotsmiles-subsample/_output/ligand__SmilesToLigandFeaturizer__OneHotSMILESFeaturizer__PadFeaturizer_shape=auto/ChEMBLDatasetProvider\n"
     ]
    }
   ],
   "source": [
    "from pathlib import Path\n",
    "\n",
    "HERE = Path(HERE)\n",
    "for parent in HERE.parents:\n",
    "    if next(parent.glob(\".github/\"), None):\n",
    "        REPO = parent\n",
    "        break\n",
    "\n",
    "# Generate paths for this pipeline\n",
    "featurizer_path = []\n",
    "for name, branch in PIPELINES.items():\n",
    "    featurizer_path.append(name)\n",
    "    for clsname, kwargs in branch:\n",
    "        clsname = clsname.rsplit(\".\", 1)[1]\n",
    "        kwargs = [f\"{k}={''.join(c for c in str(v) if c.isalnum())}\" for k,v in kwargs.items()]\n",
    "        featurizer_path.append(\"_\".join([clsname] + kwargs))\n",
    "\n",
    "OUT = HERE / \"_output\"  / \"__\".join(featurizer_path) / DATASET_CLS.rsplit('.', 1)[1]\n",
    "OUT.mkdir(parents=True, exist_ok=True)\n",
    "\n",
    "print(f\"This notebook:           HERE = {HERE}\")\n",
    "print(f\"This repo:               REPO = {REPO}\")\n",
    "print(f\"Outputs in:               OUT = {OUT}\")"
   ]
  },
  {
   "cell_type": "code",
   "execution_count": 5,
   "metadata": {
    "execution": {
     "iopub.execute_input": "2021-08-16T14:57:06.762474Z",
     "iopub.status.busy": "2021-08-16T14:57:06.761847Z",
     "iopub.status.idle": "2021-08-16T14:57:06.763573Z",
     "shell.execute_reply": "2021-08-16T14:57:06.764156Z"
    },
    "papermill": {
     "duration": 0.010817,
     "end_time": "2021-08-16T14:57:06.764322",
     "exception": false,
     "start_time": "2021-08-16T14:57:06.753505",
     "status": "completed"
    },
    "tags": []
   },
   "outputs": [],
   "source": [
    "# Nasty trick: save all-caps local variables (CONSTANTS working as hyperparametrs) so far in a dict to save it later\n",
    "_hparams = {key: value for key, value in locals().items() if key.upper() == key and not key.startswith((\"_\", \"OE_\"))}"
   ]
  },
  {
   "cell_type": "markdown",
   "metadata": {
    "papermill": {
     "duration": 0.005252,
     "end_time": "2021-08-16T14:57:06.775193",
     "exception": false,
     "start_time": "2021-08-16T14:57:06.769941",
     "status": "completed"
    },
    "tags": []
   },
   "source": [
    "## Setup is finished, start working"
   ]
  },
  {
   "cell_type": "code",
   "execution_count": 6,
   "metadata": {
    "execution": {
     "iopub.execute_input": "2021-08-16T14:57:06.790068Z",
     "iopub.status.busy": "2021-08-16T14:57:06.789521Z",
     "iopub.status.idle": "2021-08-16T14:57:07.478950Z",
     "shell.execute_reply": "2021-08-16T14:57:07.479394Z"
    },
    "papermill": {
     "duration": 0.699246,
     "end_time": "2021-08-16T14:57:07.479606",
     "exception": false,
     "start_time": "2021-08-16T14:57:06.780360",
     "status": "completed"
    },
    "tags": []
   },
   "outputs": [
    {
     "name": "stdout",
     "output_type": "stream",
     "text": [
      "Run started at 2021-08-16 16:57:07.474731\n"
     ]
    }
   ],
   "source": [
    "from warnings import warn\n",
    "import os\n",
    "import sys\n",
    "from pathlib import Path\n",
    "from datetime import datetime\n",
    "\n",
    "import numpy as np\n",
    "import awkward as ak\n",
    "\n",
    "from kinoml.utils import seed_everything, import_object\n",
    "seed_everything();\n",
    "print(\"Run started at\", datetime.now())"
   ]
  },
  {
   "cell_type": "markdown",
   "metadata": {
    "papermill": {
     "duration": 0.006641,
     "end_time": "2021-08-16T14:57:07.492027",
     "exception": false,
     "start_time": "2021-08-16T14:57:07.485386",
     "status": "completed"
    },
    "tags": []
   },
   "source": [
    "## Load raw data\n",
    "\n",
    "> This `import_object` function allows us to take a `str` containing a Python import path (e.g. `kinoml.datasets.chembl.ChEMBLDatasetProvider`) and obtain the imported object directly. That's how we can encode classes in JSON-only `papermill` inputs.\n",
    ">\n",
    "> See the help message `import_object?` for more info."
   ]
  },
  {
   "cell_type": "code",
   "execution_count": 7,
   "metadata": {
    "execution": {
     "iopub.execute_input": "2021-08-16T14:57:07.507214Z",
     "iopub.status.busy": "2021-08-16T14:57:07.506350Z",
     "iopub.status.idle": "2021-08-16T14:57:08.310627Z",
     "shell.execute_reply": "2021-08-16T14:57:08.308354Z"
    },
    "papermill": {
     "duration": 0.812827,
     "end_time": "2021-08-16T14:57:08.310781",
     "exception": false,
     "start_time": "2021-08-16T14:57:07.497954",
     "status": "completed"
    },
    "tags": []
   },
   "outputs": [
    {
     "name": "stderr",
     "output_type": "stream",
     "text": [
      "Warning: Unable to load toolkit 'OpenEye Toolkit'. The Open Force Field Toolkit does not require the OpenEye Toolkits, and can use RDKit/AmberTools instead. However, if you have a valid license for the OpenEye Toolkits, consider installing them for faster performance and additional file format support: https://docs.eyesopen.com/toolkits/python/quickstart-python/linuxosx.html OpenEye offers free Toolkit licenses for academics: https://www.eyesopen.com/academic-licensing\n"
     ]
    },
    {
     "data": {
      "application/vnd.jupyter.widget-view+json": {
       "model_id": "6ff7248388524537adf0d04d38f545a1",
       "version_major": 2,
       "version_minor": 0
      },
      "text/plain": [
       "  0%|          | 0/100 [00:00<?, ?it/s]"
      ]
     },
     "metadata": {},
     "output_type": "display_data"
    },
    {
     "data": {
      "text/plain": [
       "<ChEMBLDatasetProvider with 100 measurements (pIC50Measurement=33, pKiMeasurement=63, pKdMeasurement=4), and 100 systems (AminoAcidSequence=15, SmilesLigand=97)>"
      ]
     },
     "execution_count": 7,
     "metadata": {},
     "output_type": "execute_result"
    }
   ],
   "source": [
    "dataset = import_object(DATASET_CLS).from_source(**DATASET_KWARGS)\n",
    "dataset"
   ]
  },
  {
   "cell_type": "code",
   "execution_count": 8,
   "metadata": {
    "execution": {
     "iopub.execute_input": "2021-08-16T14:57:08.330670Z",
     "iopub.status.busy": "2021-08-16T14:57:08.330125Z",
     "iopub.status.idle": "2021-08-16T14:57:08.339430Z",
     "shell.execute_reply": "2021-08-16T14:57:08.339956Z"
    },
    "papermill": {
     "duration": 0.023435,
     "end_time": "2021-08-16T14:57:08.340122",
     "exception": false,
     "start_time": "2021-08-16T14:57:08.316687",
     "status": "completed"
    },
    "tags": []
   },
   "outputs": [
    {
     "data": {
      "text/html": [
       "<div>\n",
       "<style scoped>\n",
       "    .dataframe tbody tr th:only-of-type {\n",
       "        vertical-align: middle;\n",
       "    }\n",
       "\n",
       "    .dataframe tbody tr th {\n",
       "        vertical-align: top;\n",
       "    }\n",
       "\n",
       "    .dataframe thead th {\n",
       "        text-align: right;\n",
       "    }\n",
       "</style>\n",
       "<table border=\"1\" class=\"dataframe\">\n",
       "  <thead>\n",
       "    <tr style=\"text-align: right;\">\n",
       "      <th></th>\n",
       "      <th>Systems</th>\n",
       "      <th>n_components</th>\n",
       "      <th>Measurement</th>\n",
       "      <th>MeasurementType</th>\n",
       "    </tr>\n",
       "  </thead>\n",
       "  <tbody>\n",
       "    <tr>\n",
       "      <th>0</th>\n",
       "      <td>O75116 &amp; CCCC(=O)Nc1cccc(-c2nc(Nc3ccc4[nH]ncc4...</td>\n",
       "      <td>2</td>\n",
       "      <td>14.096910</td>\n",
       "      <td>pIC50Measurement</td>\n",
       "    </tr>\n",
       "    <tr>\n",
       "      <th>1</th>\n",
       "      <td>O75116 &amp; CCCC(=O)Nc1cccc(-c2nc(Nc3ccc4[nH]ncc4...</td>\n",
       "      <td>2</td>\n",
       "      <td>14.000000</td>\n",
       "      <td>pIC50Measurement</td>\n",
       "    </tr>\n",
       "    <tr>\n",
       "      <th>2</th>\n",
       "      <td>O75116 &amp; CCCC(=O)Nc1cccc(-c2nc(Nc3ccc4[nH]ncc4...</td>\n",
       "      <td>2</td>\n",
       "      <td>14.000000</td>\n",
       "      <td>pIC50Measurement</td>\n",
       "    </tr>\n",
       "    <tr>\n",
       "      <th>3</th>\n",
       "      <td>O75116 &amp; CCCC(=O)Nc1cccc(-c2nc(Nc3ccc4[nH]ncc4...</td>\n",
       "      <td>2</td>\n",
       "      <td>13.958607</td>\n",
       "      <td>pIC50Measurement</td>\n",
       "    </tr>\n",
       "    <tr>\n",
       "      <th>4</th>\n",
       "      <td>O75116 &amp; CCCC(=O)Nc1cccc(-c2nc(Nc3ccc4[nH]ncc4...</td>\n",
       "      <td>2</td>\n",
       "      <td>13.920819</td>\n",
       "      <td>pIC50Measurement</td>\n",
       "    </tr>\n",
       "    <tr>\n",
       "      <th>...</th>\n",
       "      <td>...</td>\n",
       "      <td>...</td>\n",
       "      <td>...</td>\n",
       "      <td>...</td>\n",
       "    </tr>\n",
       "    <tr>\n",
       "      <th>95</th>\n",
       "      <td>P48736 &amp; COc1cncc(N2CCc3nc(NC(=O)NCCc4cn(CCF)c...</td>\n",
       "      <td>2</td>\n",
       "      <td>11.221849</td>\n",
       "      <td>pKiMeasurement</td>\n",
       "    </tr>\n",
       "    <tr>\n",
       "      <th>96</th>\n",
       "      <td>Q16539 &amp; CC(C)(C)c1cc(NC(=O)NCc2ccccc2Sc2ccc3n...</td>\n",
       "      <td>2</td>\n",
       "      <td>12.000000</td>\n",
       "      <td>pKdMeasurement</td>\n",
       "    </tr>\n",
       "    <tr>\n",
       "      <th>97</th>\n",
       "      <td>P31749 &amp; Cc1ccc(-c2nc(SCC(=O)O)c3c(=O)n(C)c(=O...</td>\n",
       "      <td>2</td>\n",
       "      <td>11.892790</td>\n",
       "      <td>pKdMeasurement</td>\n",
       "    </tr>\n",
       "    <tr>\n",
       "      <th>98</th>\n",
       "      <td>P68400 &amp; CC(=O)Nc1cc(Nc2cc(NC3CC3)n3ncc(C#N)c3...</td>\n",
       "      <td>2</td>\n",
       "      <td>11.308919</td>\n",
       "      <td>pKdMeasurement</td>\n",
       "    </tr>\n",
       "    <tr>\n",
       "      <th>99</th>\n",
       "      <td>O75116 &amp; N=C(N)NCCC[C@@H](NC(=O)[C@@H](CCCNC(=...</td>\n",
       "      <td>2</td>\n",
       "      <td>11.251812</td>\n",
       "      <td>pKdMeasurement</td>\n",
       "    </tr>\n",
       "  </tbody>\n",
       "</table>\n",
       "<p>100 rows × 4 columns</p>\n",
       "</div>"
      ],
      "text/plain": [
       "                                              Systems  n_components  \\\n",
       "0   O75116 & CCCC(=O)Nc1cccc(-c2nc(Nc3ccc4[nH]ncc4...             2   \n",
       "1   O75116 & CCCC(=O)Nc1cccc(-c2nc(Nc3ccc4[nH]ncc4...             2   \n",
       "2   O75116 & CCCC(=O)Nc1cccc(-c2nc(Nc3ccc4[nH]ncc4...             2   \n",
       "3   O75116 & CCCC(=O)Nc1cccc(-c2nc(Nc3ccc4[nH]ncc4...             2   \n",
       "4   O75116 & CCCC(=O)Nc1cccc(-c2nc(Nc3ccc4[nH]ncc4...             2   \n",
       "..                                                ...           ...   \n",
       "95  P48736 & COc1cncc(N2CCc3nc(NC(=O)NCCc4cn(CCF)c...             2   \n",
       "96  Q16539 & CC(C)(C)c1cc(NC(=O)NCc2ccccc2Sc2ccc3n...             2   \n",
       "97  P31749 & Cc1ccc(-c2nc(SCC(=O)O)c3c(=O)n(C)c(=O...             2   \n",
       "98  P68400 & CC(=O)Nc1cc(Nc2cc(NC3CC3)n3ncc(C#N)c3...             2   \n",
       "99  O75116 & N=C(N)NCCC[C@@H](NC(=O)[C@@H](CCCNC(=...             2   \n",
       "\n",
       "    Measurement   MeasurementType  \n",
       "0     14.096910  pIC50Measurement  \n",
       "1     14.000000  pIC50Measurement  \n",
       "2     14.000000  pIC50Measurement  \n",
       "3     13.958607  pIC50Measurement  \n",
       "4     13.920819  pIC50Measurement  \n",
       "..          ...               ...  \n",
       "95    11.221849    pKiMeasurement  \n",
       "96    12.000000    pKdMeasurement  \n",
       "97    11.892790    pKdMeasurement  \n",
       "98    11.308919    pKdMeasurement  \n",
       "99    11.251812    pKdMeasurement  \n",
       "\n",
       "[100 rows x 4 columns]"
      ]
     },
     "execution_count": 8,
     "metadata": {},
     "output_type": "execute_result"
    }
   ],
   "source": [
    "df = dataset.to_dataframe()\n",
    "df"
   ]
  },
  {
   "cell_type": "markdown",
   "metadata": {
    "papermill": {
     "duration": 0.005891,
     "end_time": "2021-08-16T14:57:08.352099",
     "exception": false,
     "start_time": "2021-08-16T14:57:08.346208",
     "status": "completed"
    },
    "tags": []
   },
   "source": [
    "## Featurize"
   ]
  },
  {
   "cell_type": "code",
   "execution_count": 9,
   "metadata": {
    "execution": {
     "iopub.execute_input": "2021-08-16T14:57:08.368700Z",
     "iopub.status.busy": "2021-08-16T14:57:08.368144Z",
     "iopub.status.idle": "2021-08-16T14:57:08.372352Z",
     "shell.execute_reply": "2021-08-16T14:57:08.372792Z"
    },
    "papermill": {
     "duration": 0.014981,
     "end_time": "2021-08-16T14:57:08.372956",
     "exception": false,
     "start_time": "2021-08-16T14:57:08.357975",
     "status": "completed"
    },
    "tags": []
   },
   "outputs": [
    {
     "name": "stdout",
     "output_type": "stream",
     "text": [
      "Building featurizer `ligand` with instructions:\n",
      "  Instantiating `kinoml.features.ligand.SmilesToLigandFeaturizer` with options `{}`\n",
      "  Instantiating `kinoml.features.ligand.OneHotSMILESFeaturizer` with options `{}`\n",
      "  Instantiating `kinoml.features.core.PadFeaturizer` with options `{'shape': 'auto'}`\n",
      "Resulting pipelines: <Pipeline([SmilesToLigandFeaturizer, OneHotSMILESFeaturizer, PadFeaturizer])>\n",
      "Aggregated pipelines: <TupleOfArrays([Pipeline([SmilesToLigandFeaturizer, OneHotSMILESFeaturizer, PadFeaturizer])])>\n"
     ]
    }
   ],
   "source": [
    "# build pipeline\n",
    "from kinoml.features.core import Pipeline\n",
    "\n",
    "pipelines = []\n",
    "for key, pipeline_instructions in PIPELINES.items():\n",
    "    print(f\"Building featurizer `{key}` with instructions:\")\n",
    "    featurizers = []\n",
    "    for featurizer_import_str, kwargs in pipeline_instructions:\n",
    "        kwargs = kwargs or {}  # make sure empty values (None, \"\") turn into {} so we can do **kwargs below\n",
    "        print(f\"  Instantiating `{featurizer_import_str}` with options `{kwargs}`\")\n",
    "        featurizers.append(import_object(featurizer_import_str)(**kwargs))\n",
    "    pipelines.append(Pipeline(featurizers))\n",
    "print(\"Resulting pipelines:\", *pipelines)\n",
    "aggregated_pipeline = import_object(PIPELINES_AGG)(pipelines, **PIPELINES_AGG_KWARGS)\n",
    "print(\"Aggregated pipelines:\", aggregated_pipeline)"
   ]
  },
  {
   "cell_type": "code",
   "execution_count": 10,
   "metadata": {
    "execution": {
     "iopub.execute_input": "2021-08-16T14:57:08.388508Z",
     "iopub.status.busy": "2021-08-16T14:57:08.387968Z",
     "iopub.status.idle": "2021-08-16T14:57:12.618751Z",
     "shell.execute_reply": "2021-08-16T14:57:12.619222Z"
    },
    "papermill": {
     "duration": 4.240353,
     "end_time": "2021-08-16T14:57:12.619425",
     "exception": false,
     "start_time": "2021-08-16T14:57:08.379072",
     "status": "completed"
    },
    "tags": []
   },
   "outputs": [],
   "source": [
    "# prefeaturize everything\n",
    "aggregated_pipeline.featurize(dataset.systems, **FEATURIZE_KWARGS);"
   ]
  },
  {
   "cell_type": "markdown",
   "metadata": {
    "papermill": {
     "duration": 0.007733,
     "end_time": "2021-08-16T14:57:12.634911",
     "exception": false,
     "start_time": "2021-08-16T14:57:12.627178",
     "status": "completed"
    },
    "tags": []
   },
   "source": [
    "## Filter"
   ]
  },
  {
   "cell_type": "markdown",
   "metadata": {
    "papermill": {
     "duration": 0.007466,
     "end_time": "2021-08-16T14:57:12.649849",
     "exception": false,
     "start_time": "2021-08-16T14:57:12.642383",
     "status": "completed"
    },
    "tags": []
   },
   "source": [
    "Remove systems that couldn't be featurized. Successful featurizations are stored in `measurement.system.featurizations['last']` so we test for that key existence."
   ]
  },
  {
   "cell_type": "code",
   "execution_count": 11,
   "metadata": {
    "execution": {
     "iopub.execute_input": "2021-08-16T14:57:12.671584Z",
     "iopub.status.busy": "2021-08-16T14:57:12.670431Z",
     "iopub.status.idle": "2021-08-16T14:57:12.674037Z",
     "shell.execute_reply": "2021-08-16T14:57:12.674580Z"
    },
    "papermill": {
     "duration": 0.017191,
     "end_time": "2021-08-16T14:57:12.674822",
     "exception": false,
     "start_time": "2021-08-16T14:57:12.657631",
     "status": "completed"
    },
    "tags": []
   },
   "outputs": [],
   "source": [
    "from kinoml.datasets.groups import CallableGrouper, RandomGrouper\n",
    "grouper = CallableGrouper(lambda measurement: 'invalid' if 'last' not in measurement.system.featurizations else 'valid')\n",
    "grouper.assign(dataset, overwrite=True, progress=False)\n",
    "groups = dataset.split_by_groups()\n",
    "if \"invalid\" in groups:\n",
    "    _invalid = groups.pop(\"invalid\")\n",
    "    warn(f\"{len(_invalid)} entries could not be featurized!. Possible errors:\")\n",
    "    warn(f\"{_invalid[0].system.featurizations}\")"
   ]
  },
  {
   "cell_type": "markdown",
   "metadata": {
    "papermill": {
     "duration": 0.008149,
     "end_time": "2021-08-16T14:57:12.690788",
     "exception": false,
     "start_time": "2021-08-16T14:57:12.682639",
     "status": "completed"
    },
    "tags": []
   },
   "source": [
    "## Groups\n",
    "\n",
    "Cumulatively apply groups."
   ]
  },
  {
   "cell_type": "code",
   "execution_count": 12,
   "metadata": {
    "execution": {
     "iopub.execute_input": "2021-08-16T14:57:12.715188Z",
     "iopub.status.busy": "2021-08-16T14:57:12.714500Z",
     "iopub.status.idle": "2021-08-16T14:57:12.717188Z",
     "shell.execute_reply": "2021-08-16T14:57:12.717852Z"
    },
    "papermill": {
     "duration": 0.019199,
     "end_time": "2021-08-16T14:57:12.718048",
     "exception": false,
     "start_time": "2021-08-16T14:57:12.698849",
     "status": "completed"
    },
    "tags": []
   },
   "outputs": [
    {
     "name": "stdout",
     "output_type": "stream",
     "text": [
      "10 groups to show keys:\n",
      "('valid', 'O75116', 'pIC50Measurement')\n",
      "('valid', 'O75116', 'pKdMeasurement')\n",
      "('valid', 'P23458', 'pIC50Measurement')\n",
      "('valid', 'Q96Q04', 'pIC50Measurement')\n",
      "('valid', 'P00533', 'pIC50Measurement')\n",
      "('valid', 'O60674', 'pIC50Measurement')\n",
      "('valid', 'O60674', 'pKiMeasurement')\n",
      "('valid', 'P28482', 'pIC50Measurement')\n",
      "('valid', 'P50750', 'pIC50Measurement')\n",
      "('valid', 'P52333', 'pIC50Measurement')\n"
     ]
    }
   ],
   "source": [
    "groups[(\"valid\",)] = groups.pop(\"valid\")\n",
    "if GROUPS:\n",
    "    for grouper_str, grouper_kwargs in GROUPS:\n",
    "        grouper_cls = import_object(grouper_str)\n",
    "        ## We need this because lambda functions are not JSON-serializable\n",
    "        if issubclass(grouper_cls, CallableGrouper):\n",
    "            for k, v in list(grouper_kwargs.items()):\n",
    "                if k == \"function\" and isinstance(v, str):\n",
    "                    grouper_kwargs[k] = eval(v)  # sorry :)\n",
    "        ## End of lambda hack\n",
    "        grouper = grouper_cls(**grouper_kwargs)        \n",
    "        for group_key in list(groups.keys()):\n",
    "            grouper.assign(groups[group_key], overwrite=True, progress=False)\n",
    "            for subkey, subgroup in groups.pop(group_key).split_by_groups().items():\n",
    "                groups[group_key + (subkey,)] = subgroup\n",
    "print(\"10 groups to show keys:\", *list(groups.keys())[:10], sep=\"\\n\")"
   ]
  },
  {
   "cell_type": "markdown",
   "metadata": {
    "papermill": {
     "duration": 0.008222,
     "end_time": "2021-08-16T14:57:12.734342",
     "exception": false,
     "start_time": "2021-08-16T14:57:12.726120",
     "status": "completed"
    },
    "tags": []
   },
   "source": [
    "## Write tensors to disk\n",
    "\n",
    "Output files are written to `_output/<PIPELINE>/<DATASET>/<GROUP>.parquet` files.\n",
    "\n",
    "Each `parquet` will contain at least two array-like objects. The dimensionality of the parquet files is built as `(systems, X_or_y, ...)`. For example, the first X vector for the first system is accessed like `parquet[0, \"0\"]`. Notice how the 2nd index is a string! (`awkward` design).\n",
    "\n",
    "- `\"0\"` (X, featurized systems). See `DatasetProvider.to_awkward` for more info.\n",
    "- `\"1\"` (y, associated measurements)\n",
    "\n",
    "If `X` is composed of more than one array (e.g. connectivity matrix + node features), these are flattened to `\"0\"`, `\"1\"`, `\"2\"`, and so on. `y` is ALWAYS the last one in that list (accessible via `data.fields`)"
   ]
  },
  {
   "cell_type": "code",
   "execution_count": 13,
   "metadata": {
    "execution": {
     "iopub.execute_input": "2021-08-16T14:57:12.846072Z",
     "iopub.status.busy": "2021-08-16T14:57:12.802982Z",
     "iopub.status.idle": "2021-08-16T14:57:15.044704Z",
     "shell.execute_reply": "2021-08-16T14:57:15.045119Z"
    },
    "papermill": {
     "duration": 2.302423,
     "end_time": "2021-08-16T14:57:15.045284",
     "exception": false,
     "start_time": "2021-08-16T14:57:12.742861",
     "status": "completed"
    },
    "tags": []
   },
   "outputs": [],
   "source": [
    "random_grouper = RandomGrouper(TRAIN_TEST_VAL_KWARGS)\n",
    "\n",
    "parquets = []\n",
    "for group, ds in sorted(groups.items(), key=lambda kv: len(kv[1]), reverse=True):\n",
    "    indices = random_grouper.indices(ds)\n",
    "    X, y = ds.to_awkward()\n",
    "    parquet = ak.zip([*X, y], depth_limit=1)\n",
    "    path = OUT / f\"{'__'.join([g for g in group if g != 'valid'])}.parquet\"\n",
    "    parquets.append(path)\n",
    "    ak.to_parquet(parquet, path)\n",
    "    # TODO: Missing indices?"
   ]
  },
  {
   "cell_type": "markdown",
   "metadata": {
    "papermill": {
     "duration": 0.005915,
     "end_time": "2021-08-16T14:57:15.057277",
     "exception": false,
     "start_time": "2021-08-16T14:57:15.051362",
     "status": "completed"
    },
    "tags": []
   },
   "source": [
    "Preview generated Parquet files:"
   ]
  },
  {
   "cell_type": "code",
   "execution_count": 14,
   "metadata": {
    "execution": {
     "iopub.execute_input": "2021-08-16T14:57:15.073895Z",
     "iopub.status.busy": "2021-08-16T14:57:15.073361Z",
     "iopub.status.idle": "2021-08-16T14:57:15.081165Z",
     "shell.execute_reply": "2021-08-16T14:57:15.081598Z"
    },
    "papermill": {
     "duration": 0.017612,
     "end_time": "2021-08-16T14:57:15.081771",
     "exception": false,
     "start_time": "2021-08-16T14:57:15.064159",
     "status": "completed"
    },
    "tags": []
   },
   "outputs": [
    {
     "data": {
      "text/plain": [
       "<Array [{'0': [[0, 0, 0, ... 0]], '1': 11.3}] type='31 * {\"0\": var * var * float...'>"
      ]
     },
     "execution_count": 14,
     "metadata": {},
     "output_type": "execute_result"
    }
   ],
   "source": [
    "from kinoml.datasets.torch_datasets import AwkwardArrayDataset\n",
    "awk = AwkwardArrayDataset.from_parquet(parquets[0])\n",
    "awk"
   ]
  },
  {
   "cell_type": "code",
   "execution_count": 15,
   "metadata": {
    "execution": {
     "iopub.execute_input": "2021-08-16T14:57:15.097882Z",
     "iopub.status.busy": "2021-08-16T14:57:15.097288Z",
     "iopub.status.idle": "2021-08-16T14:57:15.099100Z",
     "shell.execute_reply": "2021-08-16T14:57:15.099510Z"
    },
    "papermill": {
     "duration": 0.011306,
     "end_time": "2021-08-16T14:57:15.099734",
     "exception": false,
     "start_time": "2021-08-16T14:57:15.088428",
     "status": "completed"
    },
    "tags": []
   },
   "outputs": [],
   "source": [
    "# X, y = awk[0]  # (multi-X) and y tensors for first system"
   ]
  },
  {
   "cell_type": "code",
   "execution_count": 16,
   "metadata": {
    "execution": {
     "iopub.execute_input": "2021-08-16T14:57:15.115992Z",
     "iopub.status.busy": "2021-08-16T14:57:15.115445Z",
     "iopub.status.idle": "2021-08-16T14:57:15.117666Z",
     "shell.execute_reply": "2021-08-16T14:57:15.118089Z"
    },
    "papermill": {
     "duration": 0.011834,
     "end_time": "2021-08-16T14:57:15.118247",
     "exception": false,
     "start_time": "2021-08-16T14:57:15.106413",
     "status": "completed"
    },
    "tags": []
   },
   "outputs": [],
   "source": [
    "# X"
   ]
  },
  {
   "cell_type": "code",
   "execution_count": 17,
   "metadata": {
    "execution": {
     "iopub.execute_input": "2021-08-16T14:57:15.134069Z",
     "iopub.status.busy": "2021-08-16T14:57:15.133447Z",
     "iopub.status.idle": "2021-08-16T14:57:15.135448Z",
     "shell.execute_reply": "2021-08-16T14:57:15.135815Z"
    },
    "papermill": {
     "duration": 0.011572,
     "end_time": "2021-08-16T14:57:15.135980",
     "exception": false,
     "start_time": "2021-08-16T14:57:15.124408",
     "status": "completed"
    },
    "tags": []
   },
   "outputs": [],
   "source": [
    "# y"
   ]
  },
  {
   "cell_type": "code",
   "execution_count": 18,
   "metadata": {
    "execution": {
     "iopub.execute_input": "2021-08-16T14:57:15.152046Z",
     "iopub.status.busy": "2021-08-16T14:57:15.151501Z",
     "iopub.status.idle": "2021-08-16T14:57:15.153760Z",
     "shell.execute_reply": "2021-08-16T14:57:15.154126Z"
    },
    "papermill": {
     "duration": 0.012069,
     "end_time": "2021-08-16T14:57:15.154288",
     "exception": false,
     "start_time": "2021-08-16T14:57:15.142219",
     "status": "completed"
    },
    "tags": []
   },
   "outputs": [
    {
     "name": "stdout",
     "output_type": "stream",
     "text": [
      "Run finished at 2021-08-16 16:57:15.150392\n"
     ]
    }
   ],
   "source": [
    "print(\"Run finished at\", datetime.now())"
   ]
  },
  {
   "cell_type": "markdown",
   "metadata": {
    "papermill": {
     "duration": 0.006188,
     "end_time": "2021-08-16T14:57:15.166901",
     "exception": false,
     "start_time": "2021-08-16T14:57:15.160713",
     "status": "completed"
    },
    "tags": []
   },
   "source": [
    "# Reproducibility logs"
   ]
  },
  {
   "cell_type": "code",
   "execution_count": 19,
   "metadata": {
    "execution": {
     "iopub.execute_input": "2021-08-16T14:57:15.183884Z",
     "iopub.status.busy": "2021-08-16T14:57:15.183219Z",
     "iopub.status.idle": "2021-08-16T14:57:15.185247Z",
     "shell.execute_reply": "2021-08-16T14:57:15.185750Z"
    },
    "papermill": {
     "duration": 0.012707,
     "end_time": "2021-08-16T14:57:15.185934",
     "exception": false,
     "start_time": "2021-08-16T14:57:15.173227",
     "status": "completed"
    },
    "tags": []
   },
   "outputs": [],
   "source": [
    "# Free some memory first\n",
    "del awk, parquets, groups, dataset"
   ]
  },
  {
   "cell_type": "code",
   "execution_count": 20,
   "metadata": {
    "execution": {
     "iopub.execute_input": "2021-08-16T14:57:15.203643Z",
     "iopub.status.busy": "2021-08-16T14:57:15.202978Z",
     "iopub.status.idle": "2021-08-16T14:57:17.625783Z",
     "shell.execute_reply": "2021-08-16T14:57:17.626217Z"
    },
    "papermill": {
     "duration": 2.433094,
     "end_time": "2021-08-16T14:57:17.626394",
     "exception": false,
     "start_time": "2021-08-16T14:57:15.193300",
     "status": "completed"
    },
    "tags": []
   },
   "outputs": [
    {
     "name": "stdout",
     "output_type": "stream",
     "text": [
      "Watermark\n",
      "---------\n",
      "Last updated: 2021-08-16T16:57:15.211415+02:00\n",
      "\n",
      "Python implementation: CPython\n",
      "Python version       : 3.8.8\n",
      "IPython version      : 7.23.1\n",
      "\n",
      "Compiler    : Clang 11.0.1 \n",
      "OS          : Darwin\n",
      "Release     : 20.2.0\n",
      "Machine     : x86_64\n",
      "Processor   : i386\n",
      "CPU cores   : 8\n",
      "Architecture: 64bit\n",
      "\n",
      "Hostname: Talias-MBP.fritz.box\n",
      "\n",
      "Git hash: 9b0bf29d81be3382d2fb1c08652fedd0cc38bd83\n",
      "\n",
      "numpy  : 1.20.2\n",
      "awkward: 1.2.3\n",
      "sys    : 3.8.8 | packaged by conda-forge | (default, Feb 20 2021, 16:12:38) \n",
      "[Clang 11.0.1 ]\n",
      "\n",
      "Watermark: 2.2.0\n",
      "\n",
      "\n",
      "conda info\n",
      "----------\n"
     ]
    },
    {
     "name": "stdout",
     "output_type": "stream",
     "text": [
      "sys.version: 3.7.7 (default, Mar 23 2020, 17:31:31) \n",
      "...\n",
      "sys.prefix: /opt/miniconda3\n",
      "sys.executable: /opt/miniconda3/bin/python\n",
      "conda location: /opt/miniconda3/lib/python3.7/site-packages/conda\n",
      "conda-build: None\n",
      "conda-env: /opt/miniconda3/bin/conda-env\n",
      "user site dirs: \n",
      "\n",
      "CIO_TEST: <not set>\n",
      "CONDA_DEFAULT_ENV: experiments-binding-affinity\n",
      "CONDA_EXE: /opt/miniconda3/bin/conda\n",
      "CONDA_PREFIX: /opt/miniconda3/envs/experiments-binding-affinity\n",
      "CONDA_PREFIX_1: /opt/miniconda3\n",
      "CONDA_PROMPT_MODIFIER: (experiments-binding-affinity) \n",
      "CONDA_PYTHON_EXE: /opt/miniconda3/bin/python\n",
      "CONDA_ROOT: /opt/miniconda3\n",
      "CONDA_SHLVL: 2\n",
      "CURL_CA_BUNDLE: <not set>\n",
      "PATH: /opt/miniconda3/envs/experiments-binding-affinity/bin:/opt/miniconda3/condabin:/usr/local/bin:/usr/bin:/bin:/usr/sbin:/sbin:/Library/TeX/texbin:/Library/Apple/usr/bin\n",
      "PYTHONHASHSEED: 1234\n",
      "REQUESTS_CA_BUNDLE: <not set>\n",
      "SSL_CERT_FILE: <not set>\n",
      "\n",
      "conda list\n",
      "----------\n"
     ]
    },
    {
     "name": "stdout",
     "output_type": "stream",
     "text": [
      "# packages in environment at /opt/miniconda3/envs/experiments-binding-affinity:\n",
      "#\n",
      "# Name                    Version                   Build  Channel\n",
      "_py-xgboost-mutex         2.0                       cpu_0    conda-forge\n",
      "absl-py                   0.12.0                   pypi_0    pypi\n",
      "aiohttp                   3.7.4.post0              pypi_0    pypi\n",
      "alabaster                 0.7.12                   pypi_0    pypi\n",
      "amberlite                 16.0                     pypi_0    pypi\n",
      "ambertools                21.0             py38h334589e_0    conda-forge\n",
      "amberutils                21.0                     pypi_0    pypi\n",
      "ansiwrap                  0.8.4                      py_0    conda-forge\n",
      "anyio                     2.2.0            py38h50d1736_0    conda-forge\n",
      "appdirs                   1.4.4              pyh9f0ad1d_0    conda-forge\n",
      "appnope                   0.1.2            py38h50d1736_1    conda-forge\n",
      "argon2-cffi               20.1.0           py38h5406a74_2    conda-forge\n",
      "arpack                    3.7.0                hefb7bc6_2    conda-forge\n",
      "ase                       3.21.1                   pypi_0    pypi\n",
      "astunparse                1.6.2                      py_0    conda-forge\n",
      "async-timeout             3.0.1                    pypi_0    pypi\n",
      "async_generator           1.10                       py_0    conda-forge\n",
      "attrs                     21.1.0             pyhd8ed1ab_0    conda-forge\n",
      "awkward                   1.2.3                    pypi_0    pypi\n",
      "babel                     2.9.1              pyh44b312d_0    conda-forge\n",
      "backcall                  0.2.0              pyh9f0ad1d_0    conda-forge\n",
      "backports                 1.0                        py_2    conda-forge\n",
      "backports.functools_lru_cache 1.6.4              pyhd8ed1ab_0    conda-forge\n",
      "biopandas                 0.2.8                    pypi_0    pypi\n",
      "biopython                 1.78                     pypi_0    pypi\n",
      "black                     21.5b0             pyhd8ed1ab_0    conda-forge\n",
      "bleach                    3.3.0              pyh44b312d_0    conda-forge\n",
      "blosc                     1.21.0               he49afe7_0    conda-forge\n",
      "bokeh                     2.3.3            py38h50d1736_0    conda-forge\n",
      "boost                     1.74.0           py38h692b87f_3    conda-forge\n",
      "boost-cpp                 1.74.0               h43a636a_2    conda-forge\n",
      "bravado                   11.0.3                   pypi_0    pypi\n",
      "bravado-core              5.17.0                   pypi_0    pypi\n",
      "brotlipy                  0.7.0           py38h5406a74_1001    conda-forge\n",
      "bzip2                     1.0.8                hc929b4f_4    conda-forge\n",
      "c-ares                    1.17.1               h0d85af4_1    conda-forge\n",
      "ca-certificates           2021.5.30            h033912b_0    conda-forge\n",
      "cachetools                4.2.2                    pypi_0    pypi\n",
      "cairo                     1.16.0            he43a7df_1008    conda-forge\n",
      "certifi                   2021.5.30        py38h50d1736_0    conda-forge\n",
      "cffi                      1.14.5           py38ha97d567_0    conda-forge\n",
      "chardet                   4.0.0            py38h50d1736_1    conda-forge\n",
      "click                     7.1.2              pyh9f0ad1d_0    conda-forge\n",
      "cloudpickle               1.6.0                      py_0    conda-forge\n",
      "cryptography              3.4.7            py38h1fa4640_0    conda-forge\n",
      "curl                      7.76.1               h06286d4_1    conda-forge\n",
      "cycler                    0.10.0                     py_2    conda-forge\n",
      "cython                    0.29.23          py38ha048514_0    conda-forge\n",
      "cytoolz                   0.11.0           py38h96a0964_3    conda-forge\n",
      "dask                      2021.7.0           pyhd8ed1ab_0    conda-forge\n",
      "dask-core                 2021.7.0           pyhd8ed1ab_0    conda-forge\n",
      "dask-jobqueue             0.7.2              pyhd8ed1ab_1    conda-forge\n",
      "dataclasses               0.8                pyhc8e2a94_1    conda-forge\n",
      "decorator                 4.4.2                      py_0    conda-forge\n",
      "defusedxml                0.7.1              pyhd8ed1ab_0    conda-forge\n",
      "deprecation               2.1.0              pyh9f0ad1d_0    conda-forge\n",
      "distributed               2021.7.0         py38h50d1736_0    conda-forge\n",
      "docutils                  0.16                     pypi_0    pypi\n",
      "entrypoints               0.3             py38h32f6830_1002    conda-forge\n",
      "fftw                      3.3.9           nompi_hf0880f0_101    conda-forge\n",
      "fontconfig                2.13.1            h10f422b_1005    conda-forge\n",
      "freetype                  2.10.4               h4cff582_1    conda-forge\n",
      "fsspec                    2021.4.0                 pypi_0    pypi\n",
      "future                    0.18.2                   pypi_0    pypi\n",
      "gettext                   0.21.0               h7535e17_0  \n",
      "google-auth               1.30.0                   pypi_0    pypi\n",
      "google-auth-oauthlib      0.4.4                    pypi_0    pypi\n",
      "googledrivedownloader     0.4                      pypi_0    pypi\n",
      "greenlet                  1.1.0            py38ha048514_0    conda-forge\n",
      "grpcio                    1.37.1                   pypi_0    pypi\n",
      "h5py                      3.2.1                    pypi_0    pypi\n",
      "hdf4                      4.2.13            hefd3b78_1005    conda-forge\n",
      "hdf5                      1.10.6          nompi_hc5d9132_1114    conda-forge\n",
      "heapdict                  1.0.1                      py_0    conda-forge\n",
      "icu                       68.1                 h74dc148_0    conda-forge\n",
      "idna                      2.10               pyh9f0ad1d_0    conda-forge\n",
      "imagesize                 1.2.0                    pypi_0    pypi\n",
      "importlib-metadata        4.0.1            py38h50d1736_0    conda-forge\n",
      "importlib_metadata        4.0.1                hd8ed1ab_0    conda-forge\n",
      "importlib_resources       5.1.2            py38h50d1736_0    conda-forge\n",
      "ipykernel                 5.5.4            py38h6c79ece_0    conda-forge\n",
      "ipython                   7.23.1           py38h6c79ece_0    conda-forge\n",
      "ipython_genutils          0.2.0                      py_1    conda-forge\n",
      "ipywidgets                7.6.3              pyhd3deb0d_0    conda-forge\n",
      "isodate                   0.6.0                    pypi_0    pypi\n",
      "jedi                      0.18.0           py38h50d1736_2    conda-forge\n",
      "jinja2                    2.11.3             pyh44b312d_0    conda-forge\n",
      "joblib                    1.0.1              pyhd8ed1ab_0    conda-forge\n",
      "jpeg                      9d                   hbcb3906_0    conda-forge\n",
      "json5                     0.9.5              pyh9f0ad1d_0    conda-forge\n",
      "jsonpointer               2.1                      pypi_0    pypi\n",
      "jsonref                   0.2                      pypi_0    pypi\n",
      "jsonschema                3.2.0            py38h32f6830_1    conda-forge\n",
      "jupyter-packaging         0.10.1             pyhd8ed1ab_0    conda-forge\n",
      "jupyter_client            6.1.12             pyhd8ed1ab_0    conda-forge\n",
      "jupyter_core              4.7.1            py38h50d1736_0    conda-forge\n",
      "jupyter_server            1.6.4            py38h50d1736_0    conda-forge\n",
      "jupyterlab                3.0.14             pyhd8ed1ab_0    conda-forge\n",
      "jupyterlab_pygments       0.1.2              pyh9f0ad1d_0    conda-forge\n",
      "jupyterlab_server         2.5.0              pyhd8ed1ab_0    conda-forge\n",
      "jupyterlab_widgets        1.0.0              pyhd8ed1ab_1    conda-forge\n",
      "kinoml                    0+untagged.632.gcb52174           dev_0    <develop>\n",
      "kiwisolver                1.3.1            py38hd9c93a9_1    conda-forge\n",
      "klifs-utils               0+unknown                pypi_0    pypi\n",
      "krb5                      1.17.2               h60d9502_0    conda-forge\n",
      "lcms2                     2.12                 h577c468_0    conda-forge\n",
      "libblas                   3.9.0                9_openblas    conda-forge\n",
      "libcblas                  3.9.0                9_openblas    conda-forge\n",
      "libcurl                   7.76.1               h8ef9fac_1    conda-forge\n",
      "libcxx                    11.1.0               habf9029_0    conda-forge\n",
      "libedit                   3.1.20210216         h9ed2024_1  \n",
      "libev                     4.33                 haf1e3a3_1    conda-forge\n",
      "libffi                    3.3                  h046ec9c_2    conda-forge\n",
      "libgfortran               5.0.0           9_3_0_h6c81a4c_22    conda-forge\n",
      "libgfortran5              9.3.0               h6c81a4c_22    conda-forge\n",
      "libglib                   2.68.1               hd556434_0    conda-forge\n",
      "libiconv                  1.16                 haf1e3a3_0    conda-forge\n",
      "liblapack                 3.9.0                9_openblas    conda-forge\n",
      "libnetcdf                 4.8.0           nompi_h81fa352_101    conda-forge\n",
      "libnghttp2                1.43.0               h07e645a_0    conda-forge\n",
      "libopenblas               0.3.15          openmp_h5e1b9a4_0    conda-forge\n",
      "libpng                    1.6.37               hb0a8c7a_2    conda-forge\n",
      "libsodium                 1.0.18               hbcb3906_1    conda-forge\n",
      "libssh2                   1.9.0                h52ee1ee_6    conda-forge\n",
      "libtiff                   4.2.0                h7c11950_1    conda-forge\n",
      "libwebp-base              1.2.0                h0d85af4_2    conda-forge\n",
      "libxcb                    1.13              h35c211d_1003    conda-forge\n",
      "libxgboost                1.4.0                he49afe7_0    conda-forge\n",
      "libxml2                   2.9.10               h93ec3fd_4    conda-forge\n",
      "libzip                    1.7.3                hccd5f62_0    conda-forge\n",
      "llvm-openmp               11.1.0               hda6cdc1_1    conda-forge\n",
      "llvmlite                  0.36.0                   pypi_0    pypi\n",
      "locket                    0.2.0                      py_2    conda-forge\n",
      "lz4-c                     1.9.3                h046ec9c_0    conda-forge\n",
      "markdown                  3.3.4                    pypi_0    pypi\n",
      "markupsafe                1.1.1            py38h5406a74_3    conda-forge\n",
      "matplotlib-base           3.4.1            py38h6152e83_0    conda-forge\n",
      "matplotlib-inline         0.1.2              pyhd8ed1ab_2    conda-forge\n",
      "mdtraj                    1.9.5            py38h711e445_1    conda-forge\n",
      "mistune                   0.8.4           py38h5406a74_1003    conda-forge\n",
      "mmpbsa-py                 16.0                     pypi_0    pypi\n",
      "mock                      4.0.3            py38h50d1736_1    conda-forge\n",
      "monotonic                 1.6                      pypi_0    pypi\n",
      "msgpack-python            1.0.2            py38h12bbefe_1    conda-forge\n",
      "multidict                 5.1.0                    pypi_0    pypi\n",
      "mypy_extensions           0.4.3            py38h50d1736_3    conda-forge\n",
      "nbclassic                 0.2.7              pyhd8ed1ab_0    conda-forge\n",
      "nbclient                  0.5.3              pyhd8ed1ab_0    conda-forge\n",
      "nbconvert                 6.0.7            py38h50d1736_3    conda-forge\n",
      "nbformat                  5.1.3              pyhd8ed1ab_0    conda-forge\n",
      "ncurses                   6.2                  h2e338ed_4    conda-forge\n",
      "nest-asyncio              1.5.1              pyhd8ed1ab_0    conda-forge\n",
      "netcdf-fortran            4.5.3           nompi_hff36437_104    conda-forge\n",
      "networkx                  2.5.1              pyhd8ed1ab_0    conda-forge\n",
      "nglview                   3.0.1              pyh59e0f4d_0    conda-forge\n",
      "notebook                  6.3.0            py38h50d1736_0    conda-forge\n",
      "numba                     0.53.1                   pypi_0    pypi\n",
      "numexpr                   2.7.3            py38h1588c1c_0    conda-forge\n",
      "numpy                     1.20.2           py38had91d27_0    conda-forge\n",
      "oauthlib                  3.1.0                    pypi_0    pypi\n",
      "olefile                   0.46               pyh9f0ad1d_1    conda-forge\n",
      "openff-forcefields        1.3.0              pyh44b312d_0    conda-forge\n",
      "openff-toolkit            0.9.2              pyhd8ed1ab_1    conda-forge\n",
      "openff-toolkit-base       0.9.2              pyhd8ed1ab_1    conda-forge\n",
      "openmm                    7.5.1           py38haeaf30f_0_apple    conda-forge\n",
      "openssl                   1.1.1k               h0d85af4_0    conda-forge\n",
      "packaging                 20.9               pyh44b312d_0    conda-forge\n",
      "packmol                   20.010               h508aa58_0    conda-forge\n",
      "packmol-memgen            1.1.0rc0                 pypi_0    pypi\n",
      "pandas                    1.2.4            py38h1f261ad_0    conda-forge\n",
      "pandoc                    2.13                 h0d85af4_0    conda-forge\n",
      "pandocfilters             1.4.3            py38hecd8cb5_1  \n",
      "papermill                 2.2.0                      py_1    conda-forge\n",
      "parmed                    3.4.1            py38ha048514_0    conda-forge\n",
      "parso                     0.8.2              pyhd8ed1ab_0    conda-forge\n",
      "partd                     1.2.0              pyhd8ed1ab_0    conda-forge\n",
      "pathspec                  0.8.1              pyhd3deb0d_0    conda-forge\n",
      "pcre                      8.44                 hb1e8313_0    conda-forge\n",
      "pdb4amber                 20.1                     pypi_0    pypi\n",
      "perl                      5.32.0               hbcb3906_0    conda-forge\n",
      "pexpect                   4.8.0            py38h32f6830_1    conda-forge\n",
      "pickleshare               0.7.5           py38h32f6830_1002    conda-forge\n",
      "pillow                    8.2.0            py38h5270095_0  \n",
      "pint                      0.17               pyhd8ed1ab_0    conda-forge\n",
      "pip                       21.1.1             pyhd8ed1ab_0    conda-forge\n",
      "pixman                    0.40.0               hbcb3906_0    conda-forge\n",
      "prody                     1.10.11                  pypi_0    pypi\n",
      "prometheus_client         0.10.1             pyhd8ed1ab_0    conda-forge\n",
      "prompt-toolkit            3.0.18             pyha770c72_0    conda-forge\n",
      "protobuf                  3.16.0                   pypi_0    pypi\n",
      "psutil                    5.8.0            py38h96a0964_1    conda-forge\n",
      "pthread-stubs             0.4               hc929b4f_1001    conda-forge\n",
      "ptyprocess                0.7.0              pyhd3deb0d_0    conda-forge\n",
      "py-xgboost                1.4.0            py38h50d1736_0    conda-forge\n",
      "pyarrow                   4.0.0                    pypi_0    pypi\n",
      "pyasn1                    0.4.8                    pypi_0    pypi\n",
      "pyasn1-modules            0.2.8                    pypi_0    pypi\n",
      "pycairo                   1.20.0           py38h53d24c6_1    conda-forge\n",
      "pycparser                 2.20               pyh9f0ad1d_2    conda-forge\n",
      "pydeprecate               0.3.0                    pypi_0    pypi\n",
      "pygments                  2.9.0              pyhd8ed1ab_0    conda-forge\n",
      "pyopenssl                 20.0.1             pyhd8ed1ab_0    conda-forge\n",
      "pyparsing                 2.4.7              pyh9f0ad1d_0    conda-forge\n",
      "pyrsistent                0.17.3           py38h5406a74_2    conda-forge\n",
      "pysocks                   1.7.1            py38h50d1736_3    conda-forge\n",
      "pytables                  3.6.1            py38hfb086ad_3    conda-forge\n",
      "python                    3.8.8           h4e93d89_0_cpython    conda-forge\n",
      "python-dateutil           2.8.1                      py_0    conda-forge\n",
      "python-louvain            0.15                     pypi_0    pypi\n",
      "python_abi                3.8                      1_cp38    conda-forge\n",
      "pytorch-lightning         1.3.0                    pypi_0    pypi\n",
      "pytraj                    2.0.6                    pypi_0    pypi\n",
      "pytz                      2021.1             pyhd8ed1ab_0    conda-forge\n",
      "pyyaml                    5.4.1            py38h5406a74_0    conda-forge\n",
      "pyzmq                     22.0.3           py38hd3b92b6_1    conda-forge\n",
      "rdflib                    5.0.0                    pypi_0    pypi\n",
      "rdkit                     2021.03.1        py38hba24be9_0    conda-forge\n",
      "readline                  8.1                  h05e3726_0    conda-forge\n",
      "regex                     2021.4.4         py38h96a0964_0    conda-forge\n",
      "reportlab                 3.5.67           py38hf6ac518_0    conda-forge\n",
      "requests                  2.25.1             pyhd3deb0d_0    conda-forge\n",
      "requests-oauthlib         1.3.0                    pypi_0    pypi\n",
      "rfc3987                   1.3.8                    pypi_0    pypi\n",
      "rsa                       4.7.2                    pypi_0    pypi\n",
      "ruamel.yaml               0.16.12          py38h5406a74_2    conda-forge\n",
      "ruamel.yaml.clib          0.2.2            py38h5406a74_2    conda-forge\n",
      "sander                    16.0                     pypi_0    pypi\n",
      "scikit-learn              0.24.2           py38h011f2c5_0    conda-forge\n",
      "scipy                     1.6.3            py38h431c0a8_0    conda-forge\n",
      "send2trash                1.5.0                      py_0    conda-forge\n",
      "setuptools                52.0.0           py38hecd8cb5_0  \n",
      "simplejson                3.17.2                   pypi_0    pypi\n",
      "six                       1.16.0             pyh6c4a22f_0    conda-forge\n",
      "sklearn-pytorch           0.1.0                    pypi_0    pypi\n",
      "smirnoff99frosst          1.1.0              pyh44b312d_0    conda-forge\n",
      "snappy                    1.1.8                hb1e8313_3    conda-forge\n",
      "sniffio                   1.2.0            py38h50d1736_1    conda-forge\n",
      "snowballstemmer           2.1.0                    pypi_0    pypi\n",
      "sortedcontainers          2.4.0              pyhd8ed1ab_0    conda-forge\n",
      "sphinx                    3.5.4                    pypi_0    pypi\n",
      "sphinxcontrib-applehelp   1.0.2                    pypi_0    pypi\n",
      "sphinxcontrib-devhelp     1.0.2                    pypi_0    pypi\n",
      "sphinxcontrib-htmlhelp    1.0.3                    pypi_0    pypi\n",
      "sphinxcontrib-jsmath      1.0.1                    pypi_0    pypi\n",
      "sphinxcontrib-qthelp      1.0.3                    pypi_0    pypi\n",
      "sphinxcontrib-serializinghtml 1.1.4                    pypi_0    pypi\n",
      "sqlalchemy                1.4.14           py38h96a0964_0    conda-forge\n",
      "sqlite                    3.35.5               h44b9ce1_0    conda-forge\n",
      "strict-rfc3339            0.7                      pypi_0    pypi\n",
      "swagger-spec-validator    2.7.3                    pypi_0    pypi\n",
      "tblib                     1.7.0              pyhd8ed1ab_0    conda-forge\n",
      "tenacity                  7.0.0              pyhd8ed1ab_0    conda-forge\n",
      "tensorboard               2.4.1                    pypi_0    pypi\n",
      "tensorboard-plugin-wit    1.8.0                    pypi_0    pypi\n",
      "terminado                 0.9.4            py38h50d1736_0    conda-forge\n",
      "testpath                  0.4.4                      py_0    conda-forge\n",
      "textwrap3                 0.9.2                      py_0    conda-forge\n",
      "threadpoolctl             2.1.0              pyh5ca1d4c_0    conda-forge\n",
      "tk                        8.6.10               hb0a8c7a_1    conda-forge\n",
      "toml                      0.10.2             pyhd8ed1ab_0    conda-forge\n",
      "tomlkit                   0.7.0            py38h50d1736_3    conda-forge\n",
      "toolz                     0.11.1                     py_0    conda-forge\n",
      "torch                     1.7.1                    pypi_0    pypi\n",
      "torch-cluster             1.5.9                    pypi_0    pypi\n",
      "torch-geometric           1.7.0                    pypi_0    pypi\n",
      "torch-scatter             2.0.6                    pypi_0    pypi\n",
      "torch-sparse              0.6.9                    pypi_0    pypi\n",
      "torch-spline-conv         1.2.1                    pypi_0    pypi\n",
      "torchaudio                0.7.2                    pypi_0    pypi\n",
      "torchmetrics              0.3.1                    pypi_0    pypi\n",
      "torchvision               0.8.2                    pypi_0    pypi\n",
      "tornado                   6.1              py38h5406a74_1    conda-forge\n",
      "tqdm                      4.60.0             pyhd8ed1ab_0    conda-forge\n",
      "traitlets                 5.0.5                      py_0    conda-forge\n",
      "typed-ast                 1.4.3            py38h96a0964_0    conda-forge\n",
      "typing_extensions         3.7.4.3                    py_0    conda-forge\n",
      "urllib3                   1.26.4             pyhd8ed1ab_0    conda-forge\n",
      "watermark                 2.2.0              pyhd8ed1ab_0    conda-forge\n",
      "wcwidth                   0.2.5              pyh9f0ad1d_2    conda-forge\n",
      "webcolors                 1.11.1                   pypi_0    pypi\n",
      "webencodings              0.5.1                      py_1    conda-forge\n",
      "werkzeug                  1.0.1                    pypi_0    pypi\n",
      "wheel                     0.36.2             pyhd3deb0d_0    conda-forge\n",
      "widgetsnbextension        3.5.1            py38h50d1736_4    conda-forge\n",
      "xgboost                   1.4.0            py38h50d1736_0    conda-forge\n",
      "xmltodict                 0.12.0                     py_0    conda-forge\n",
      "xorg-kbproto              1.0.7             h35c211d_1002    conda-forge\n",
      "xorg-libice               1.0.10               h01d97ff_0    conda-forge\n",
      "xorg-libsm                1.2.3             h1de35cc_1000    conda-forge\n",
      "xorg-libx11               1.7.0                hc929b4f_0    conda-forge\n",
      "xorg-libxau               1.0.9                h35c211d_0    conda-forge\n",
      "xorg-libxdmcp             1.1.3                h35c211d_0    conda-forge\n",
      "xorg-libxext              1.3.4                h0d85af4_1    conda-forge\n",
      "xorg-libxt                1.2.1                h0d85af4_2    conda-forge\n",
      "xorg-xextproto            7.3.0             h35c211d_1002    conda-forge\n",
      "xorg-xproto               7.0.31            h35c211d_1007    conda-forge\n",
      "xz                        5.2.5                haf1e3a3_1    conda-forge\n",
      "yaml                      0.2.5                haf1e3a3_0    conda-forge\n",
      "yarl                      1.6.3                    pypi_0    pypi\n",
      "zeromq                    4.3.4                h1c7c35f_0    conda-forge\n",
      "zict                      2.0.0                      py_0    conda-forge\n",
      "zipp                      3.4.1              pyhd8ed1ab_0    conda-forge\n",
      "zlib                      1.2.11            h7795811_1010    conda-forge\n",
      "zstd                      1.4.9                h582d3a0_0    conda-forge\n"
     ]
    }
   ],
   "source": [
    "from kinoml.utils import watermark\n",
    "w = watermark()"
   ]
  },
  {
   "cell_type": "code",
   "execution_count": 21,
   "metadata": {
    "execution": {
     "iopub.execute_input": "2021-08-16T14:57:17.649333Z",
     "iopub.status.busy": "2021-08-16T14:57:17.646758Z",
     "iopub.status.idle": "2021-08-16T14:57:20.071695Z",
     "shell.execute_reply": "2021-08-16T14:57:20.072147Z"
    },
    "papermill": {
     "duration": 2.438604,
     "end_time": "2021-08-16T14:57:20.072389",
     "exception": false,
     "start_time": "2021-08-16T14:57:17.633785",
     "status": "completed"
    },
    "tags": []
   },
   "outputs": [],
   "source": [
    "%%capture cap --no-stderr\n",
    "w = watermark()"
   ]
  },
  {
   "cell_type": "code",
   "execution_count": 22,
   "metadata": {
    "execution": {
     "iopub.execute_input": "2021-08-16T14:57:20.092374Z",
     "iopub.status.busy": "2021-08-16T14:57:20.091718Z",
     "iopub.status.idle": "2021-08-16T14:57:20.094905Z",
     "shell.execute_reply": "2021-08-16T14:57:20.095429Z"
    },
    "papermill": {
     "duration": 0.015026,
     "end_time": "2021-08-16T14:57:20.095608",
     "exception": false,
     "start_time": "2021-08-16T14:57:20.080582",
     "status": "completed"
    },
    "tags": []
   },
   "outputs": [],
   "source": [
    "import json\n",
    "\n",
    "with open(OUT/ \"watermark.txt\", \"w\") as f:\n",
    "    f.write(cap.stdout)\n",
    "\n",
    "with open(OUT / \"hparams.json\", \"w\") as f:\n",
    "    json.dump(_hparams, f, default=str, indent=2)"
   ]
  }
 ],
 "metadata": {
  "kernelspec": {
   "display_name": "Python 3",
   "language": "python",
   "name": "python3"
  },
  "language_info": {
   "codemirror_mode": {
    "name": "ipython",
    "version": 3
   },
   "file_extension": ".py",
   "mimetype": "text/x-python",
   "name": "python",
   "nbconvert_exporter": "python",
   "pygments_lexer": "ipython3",
   "version": "3.8.8"
  },
  "papermill": {
   "default_parameters": {},
   "duration": 15.041015,
   "end_time": "2021-08-16T14:57:20.516027",
   "environment_variables": {},
   "exception": null,
   "input_path": "features/featurize-template.ipynb",
   "output_path": "features/ligand-only-onehotsmiles-subsample/featurize.ipynb",
   "parameters": {
    "DATASET_CLS": "kinoml.datasets.chembl.ChEMBLDatasetProvider",
    "DATASET_KWARGS": {
     "path_or_url": "https://github.com/openkinome/kinodata/releases/download/v0.2/activities-chembl28-sample100_v0.2.zip"
    },
    "FEATURIZE_KWARGS": {
     "keep": false
    },
    "GROUPS": [
     [
      "kinoml.datasets.groups.CallableGrouper",
      {
       "function": "lambda measurement: measurement.system.protein.name"
      }
     ],
     [
      "kinoml.datasets.groups.CallableGrouper",
      {
       "function": "lambda measurement: type(measurement).__name__"
      }
     ]
    ],
    "HERE": "/Users/taliakimber/Documents/github/experiments-binding-affinity/features/ligand-only-onehotsmiles-subsample",
    "PIPELINES": {
     "ligand": [
      [
       "kinoml.features.ligand.SmilesToLigandFeaturizer",
       {}
      ],
      [
       "kinoml.features.ligand.OneHotSMILESFeaturizer",
       {}
      ],
      [
       "kinoml.features.core.PadFeaturizer",
       {
        "shape": "auto"
       }
      ]
     ]
    },
    "PIPELINES_AGG": "kinoml.features.core.TupleOfArrays",
    "PIPELINES_AGG_KWARGS": {},
    "TRAIN_TEST_VAL_KWARGS": {
     "idx_test": 0.1,
     "idx_train": 0.8,
     "idx_val": 0.1
    }
   },
   "start_time": "2021-08-16T14:57:05.475012",
   "version": "2.2.0"
  },
  "widgets": {
   "application/vnd.jupyter.widget-state+json": {
    "state": {
     "5170cca94fea475b9f116da3eb69d293": {
      "model_module": "@jupyter-widgets/controls",
      "model_module_version": "1.5.0",
      "model_name": "DescriptionStyleModel",
      "state": {
       "_model_module": "@jupyter-widgets/controls",
       "_model_module_version": "1.5.0",
       "_model_name": "DescriptionStyleModel",
       "_view_count": null,
       "_view_module": "@jupyter-widgets/base",
       "_view_module_version": "1.2.0",
       "_view_name": "StyleView",
       "description_width": ""
      }
     },
     "6bf1f8a0078c442db0be96eb7b868d32": {
      "model_module": "@jupyter-widgets/base",
      "model_module_version": "1.2.0",
      "model_name": "LayoutModel",
      "state": {
       "_model_module": "@jupyter-widgets/base",
       "_model_module_version": "1.2.0",
       "_model_name": "LayoutModel",
       "_view_count": null,
       "_view_module": "@jupyter-widgets/base",
       "_view_module_version": "1.2.0",
       "_view_name": "LayoutView",
       "align_content": null,
       "align_items": null,
       "align_self": null,
       "border": null,
       "bottom": null,
       "display": null,
       "flex": null,
       "flex_flow": null,
       "grid_area": null,
       "grid_auto_columns": null,
       "grid_auto_flow": null,
       "grid_auto_rows": null,
       "grid_column": null,
       "grid_gap": null,
       "grid_row": null,
       "grid_template_areas": null,
       "grid_template_columns": null,
       "grid_template_rows": null,
       "height": null,
       "justify_content": null,
       "justify_items": null,
       "left": null,
       "margin": null,
       "max_height": null,
       "max_width": null,
       "min_height": null,
       "min_width": null,
       "object_fit": null,
       "object_position": null,
       "order": null,
       "overflow": null,
       "overflow_x": null,
       "overflow_y": null,
       "padding": null,
       "right": null,
       "top": null,
       "visibility": null,
       "width": null
      }
     },
     "6ff7248388524537adf0d04d38f545a1": {
      "model_module": "@jupyter-widgets/controls",
      "model_module_version": "1.5.0",
      "model_name": "HBoxModel",
      "state": {
       "_dom_classes": [],
       "_model_module": "@jupyter-widgets/controls",
       "_model_module_version": "1.5.0",
       "_model_name": "HBoxModel",
       "_view_count": null,
       "_view_module": "@jupyter-widgets/controls",
       "_view_module_version": "1.5.0",
       "_view_name": "HBoxView",
       "box_style": "",
       "children": [
        "IPY_MODEL_7c8e296ffb504ffd95cd8c8f50fdcf24",
        "IPY_MODEL_a407f0b1da4d41688d62fab565f189e3",
        "IPY_MODEL_db826a3fba67486aa04f3c54278d4bfe"
       ],
       "layout": "IPY_MODEL_73936db805d7411baf909442aee6896a"
      }
     },
     "73936db805d7411baf909442aee6896a": {
      "model_module": "@jupyter-widgets/base",
      "model_module_version": "1.2.0",
      "model_name": "LayoutModel",
      "state": {
       "_model_module": "@jupyter-widgets/base",
       "_model_module_version": "1.2.0",
       "_model_name": "LayoutModel",
       "_view_count": null,
       "_view_module": "@jupyter-widgets/base",
       "_view_module_version": "1.2.0",
       "_view_name": "LayoutView",
       "align_content": null,
       "align_items": null,
       "align_self": null,
       "border": null,
       "bottom": null,
       "display": null,
       "flex": null,
       "flex_flow": null,
       "grid_area": null,
       "grid_auto_columns": null,
       "grid_auto_flow": null,
       "grid_auto_rows": null,
       "grid_column": null,
       "grid_gap": null,
       "grid_row": null,
       "grid_template_areas": null,
       "grid_template_columns": null,
       "grid_template_rows": null,
       "height": null,
       "justify_content": null,
       "justify_items": null,
       "left": null,
       "margin": null,
       "max_height": null,
       "max_width": null,
       "min_height": null,
       "min_width": null,
       "object_fit": null,
       "object_position": null,
       "order": null,
       "overflow": null,
       "overflow_x": null,
       "overflow_y": null,
       "padding": null,
       "right": null,
       "top": null,
       "visibility": null,
       "width": null
      }
     },
     "7450a871c4f648308049bdce70aa066d": {
      "model_module": "@jupyter-widgets/base",
      "model_module_version": "1.2.0",
      "model_name": "LayoutModel",
      "state": {
       "_model_module": "@jupyter-widgets/base",
       "_model_module_version": "1.2.0",
       "_model_name": "LayoutModel",
       "_view_count": null,
       "_view_module": "@jupyter-widgets/base",
       "_view_module_version": "1.2.0",
       "_view_name": "LayoutView",
       "align_content": null,
       "align_items": null,
       "align_self": null,
       "border": null,
       "bottom": null,
       "display": null,
       "flex": null,
       "flex_flow": null,
       "grid_area": null,
       "grid_auto_columns": null,
       "grid_auto_flow": null,
       "grid_auto_rows": null,
       "grid_column": null,
       "grid_gap": null,
       "grid_row": null,
       "grid_template_areas": null,
       "grid_template_columns": null,
       "grid_template_rows": null,
       "height": null,
       "justify_content": null,
       "justify_items": null,
       "left": null,
       "margin": null,
       "max_height": null,
       "max_width": null,
       "min_height": null,
       "min_width": null,
       "object_fit": null,
       "object_position": null,
       "order": null,
       "overflow": null,
       "overflow_x": null,
       "overflow_y": null,
       "padding": null,
       "right": null,
       "top": null,
       "visibility": null,
       "width": null
      }
     },
     "7c8e296ffb504ffd95cd8c8f50fdcf24": {
      "model_module": "@jupyter-widgets/controls",
      "model_module_version": "1.5.0",
      "model_name": "HTMLModel",
      "state": {
       "_dom_classes": [],
       "_model_module": "@jupyter-widgets/controls",
       "_model_module_version": "1.5.0",
       "_model_name": "HTMLModel",
       "_view_count": null,
       "_view_module": "@jupyter-widgets/controls",
       "_view_module_version": "1.5.0",
       "_view_name": "HTMLView",
       "description": "",
       "description_tooltip": null,
       "layout": "IPY_MODEL_6bf1f8a0078c442db0be96eb7b868d32",
       "placeholder": "​",
       "style": "IPY_MODEL_9be0f360923b41f0be06ae4a3cde5f54",
       "value": "100%"
      }
     },
     "9be0f360923b41f0be06ae4a3cde5f54": {
      "model_module": "@jupyter-widgets/controls",
      "model_module_version": "1.5.0",
      "model_name": "DescriptionStyleModel",
      "state": {
       "_model_module": "@jupyter-widgets/controls",
       "_model_module_version": "1.5.0",
       "_model_name": "DescriptionStyleModel",
       "_view_count": null,
       "_view_module": "@jupyter-widgets/base",
       "_view_module_version": "1.2.0",
       "_view_name": "StyleView",
       "description_width": ""
      }
     },
     "a407f0b1da4d41688d62fab565f189e3": {
      "model_module": "@jupyter-widgets/controls",
      "model_module_version": "1.5.0",
      "model_name": "FloatProgressModel",
      "state": {
       "_dom_classes": [],
       "_model_module": "@jupyter-widgets/controls",
       "_model_module_version": "1.5.0",
       "_model_name": "FloatProgressModel",
       "_view_count": null,
       "_view_module": "@jupyter-widgets/controls",
       "_view_module_version": "1.5.0",
       "_view_name": "ProgressView",
       "bar_style": "success",
       "description": "",
       "description_tooltip": null,
       "layout": "IPY_MODEL_c342f71ec9374b91af9c0e593e482ac5",
       "max": 100.0,
       "min": 0.0,
       "orientation": "horizontal",
       "style": "IPY_MODEL_ee34df242e27470c9d7ca2ddf0c09d84",
       "value": 100.0
      }
     },
     "c342f71ec9374b91af9c0e593e482ac5": {
      "model_module": "@jupyter-widgets/base",
      "model_module_version": "1.2.0",
      "model_name": "LayoutModel",
      "state": {
       "_model_module": "@jupyter-widgets/base",
       "_model_module_version": "1.2.0",
       "_model_name": "LayoutModel",
       "_view_count": null,
       "_view_module": "@jupyter-widgets/base",
       "_view_module_version": "1.2.0",
       "_view_name": "LayoutView",
       "align_content": null,
       "align_items": null,
       "align_self": null,
       "border": null,
       "bottom": null,
       "display": null,
       "flex": null,
       "flex_flow": null,
       "grid_area": null,
       "grid_auto_columns": null,
       "grid_auto_flow": null,
       "grid_auto_rows": null,
       "grid_column": null,
       "grid_gap": null,
       "grid_row": null,
       "grid_template_areas": null,
       "grid_template_columns": null,
       "grid_template_rows": null,
       "height": null,
       "justify_content": null,
       "justify_items": null,
       "left": null,
       "margin": null,
       "max_height": null,
       "max_width": null,
       "min_height": null,
       "min_width": null,
       "object_fit": null,
       "object_position": null,
       "order": null,
       "overflow": null,
       "overflow_x": null,
       "overflow_y": null,
       "padding": null,
       "right": null,
       "top": null,
       "visibility": null,
       "width": null
      }
     },
     "db826a3fba67486aa04f3c54278d4bfe": {
      "model_module": "@jupyter-widgets/controls",
      "model_module_version": "1.5.0",
      "model_name": "HTMLModel",
      "state": {
       "_dom_classes": [],
       "_model_module": "@jupyter-widgets/controls",
       "_model_module_version": "1.5.0",
       "_model_name": "HTMLModel",
       "_view_count": null,
       "_view_module": "@jupyter-widgets/controls",
       "_view_module_version": "1.5.0",
       "_view_name": "HTMLView",
       "description": "",
       "description_tooltip": null,
       "layout": "IPY_MODEL_7450a871c4f648308049bdce70aa066d",
       "placeholder": "​",
       "style": "IPY_MODEL_5170cca94fea475b9f116da3eb69d293",
       "value": " 100/100 [00:00&lt;00:00, 4204.98it/s]"
      }
     },
     "ee34df242e27470c9d7ca2ddf0c09d84": {
      "model_module": "@jupyter-widgets/controls",
      "model_module_version": "1.5.0",
      "model_name": "ProgressStyleModel",
      "state": {
       "_model_module": "@jupyter-widgets/controls",
       "_model_module_version": "1.5.0",
       "_model_name": "ProgressStyleModel",
       "_view_count": null,
       "_view_module": "@jupyter-widgets/base",
       "_view_module_version": "1.2.0",
       "_view_name": "StyleView",
       "bar_color": null,
       "description_width": ""
      }
     }
    },
    "version_major": 2,
    "version_minor": 0
   }
  }
 },
 "nbformat": 4,
 "nbformat_minor": 4
}