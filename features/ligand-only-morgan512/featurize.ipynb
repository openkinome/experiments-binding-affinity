{
 "cells": [
  {
   "cell_type": "markdown",
   "metadata": {
    "papermill": {
     "duration": 0.012854,
     "end_time": "2021-04-08T08:28:52.256607",
     "exception": false,
     "start_time": "2021-04-08T08:28:52.243753",
     "status": "completed"
    },
    "tags": []
   },
   "source": [
    "# Featurize a dataset\n",
    "\n",
    "Any machine learning model will expect tensorial representations of the chemical data. This notebooks provides a workflow to achieve such goal.\n",
    "\n",
    "`kinoml.dataset.DatasetProvider` objects need to be available to deal with your collection of raw measurements for protein:ligand systems. These objects are, roughly, a list of `kinoml.core.BaseMeasurement`, each containing a set of `.values` and a some extra metadata, like the `system` objects to be featurized here.\n",
    "\n",
    "In ligand-based models, protein information is only considered marginally, and most of the action happens at the ligand level. Usually starting with a string representation such as SMILES, or a database identifier such as a PubChem ID, these are promoted to (usually) RDKit objects and then transformed into a tensor of some form (e.g. fingerprints, molecular graph as an adjacency matrix, etc).\n",
    "\n",
    "Available featurizers can be found under `kinoml.features`."
   ]
  },
  {
   "cell_type": "markdown",
   "metadata": {
    "papermill": {
     "duration": 0.010288,
     "end_time": "2021-04-08T08:28:52.275194",
     "exception": false,
     "start_time": "2021-04-08T08:28:52.264906",
     "status": "completed"
    },
    "tags": []
   },
   "source": [
    "## How to use\n",
    "\n",
    "Run `python run_notebook.py --help` for more information."
   ]
  },
  {
   "cell_type": "code",
   "execution_count": 1,
   "metadata": {
    "execution": {
     "iopub.execute_input": "2021-04-08T08:28:52.294368Z",
     "iopub.status.busy": "2021-04-08T08:28:52.293596Z",
     "iopub.status.idle": "2021-04-08T08:28:52.295349Z",
     "shell.execute_reply": "2021-04-08T08:28:52.295945Z"
    },
    "papermill": {
     "duration": 0.015234,
     "end_time": "2021-04-08T08:28:52.296234",
     "exception": false,
     "start_time": "2021-04-08T08:28:52.281000",
     "status": "completed"
    },
    "tags": []
   },
   "outputs": [],
   "source": [
    "# If this is the template file (and not a copy) and you are introducing changes,\n",
    "# update VERSION with the current date (YYYY.MM.DD)\n",
    "VERSION = \"2020.12.07\" "
   ]
  },
  {
   "cell_type": "markdown",
   "metadata": {
    "papermill": {
     "duration": 0.005219,
     "end_time": "2021-04-08T08:28:52.307022",
     "exception": false,
     "start_time": "2021-04-08T08:28:52.301803",
     "status": "completed"
    },
    "tags": []
   },
   "source": [
    "## ✏ Define hyper parameters"
   ]
  },
  {
   "cell_type": "code",
   "execution_count": 2,
   "metadata": {
    "execution": {
     "iopub.execute_input": "2021-04-08T08:28:52.321729Z",
     "iopub.status.busy": "2021-04-08T08:28:52.321100Z",
     "iopub.status.idle": "2021-04-08T08:28:52.322617Z",
     "shell.execute_reply": "2021-04-08T08:28:52.323192Z"
    },
    "papermill": {
     "duration": 0.011674,
     "end_time": "2021-04-08T08:28:52.323405",
     "exception": false,
     "start_time": "2021-04-08T08:28:52.311731",
     "status": "completed"
    },
    "tags": [
     "parameters"
    ]
   },
   "outputs": [],
   "source": [
    "# TEMPLATE VALUES -- these are overriden (see below if executed) by papermill using a YAML or Python file as input\n",
    "DATASET_CLS = \"import.path.to.DatasetProvider\"\n",
    "DATASET_KWARGS = {\"option\": \"value\", \"option2\": \"value2\"}\n",
    "\n",
    "PIPELINE = {\n",
    "    \"someuniquekey\": [\n",
    "        (\"import.path.to.SomeFeaturizer\", {\"option\": \"value\", \"option2\": \"value2\"}),\n",
    "        (\"import.path.to.SomeOtherFeaturizer\", {\"option\": \"value\", \"option2\": \"value2\"}),\n",
    "    ]\n",
    "}\n",
    "PIPELINE_AGG = \"kinoml.features.core.Concatenated\"\n",
    "PIPELINE_AGG_KWARGS = {}\n",
    "\n",
    "FEATURIZE_KWARGS = {\"processes\": 1}\n",
    "\n",
    "GROUPS = [\n",
    "    (\"kinoml.datasets.groups.CallableGrouper\", {\"function\": \"lambda something: something.attribute\"}),\n",
    "    (\"kinoml.datasets.groups.CallableGrouper\", {\"function\": \"lambda otherthing: otherthing.attribute2\"})\n",
    "]\n",
    "\n",
    "TRAIN_TEST_VAL_KWARGS = {\"idx_train\": 0.8, \"idx_test\": 0.1, \"idx_val\": 0.1}\n",
    "\n",
    "## IGNORE THIS ONE\n",
    "HERE = _dh[-1]"
   ]
  },
  {
   "cell_type": "code",
   "execution_count": 3,
   "id": "worldwide-investing",
   "metadata": {
    "execution": {
     "iopub.execute_input": "2021-04-08T08:28:52.339861Z",
     "iopub.status.busy": "2021-04-08T08:28:52.338888Z",
     "iopub.status.idle": "2021-04-08T08:28:52.340684Z",
     "shell.execute_reply": "2021-04-08T08:28:52.341214Z"
    },
    "papermill": {
     "duration": 0.012126,
     "end_time": "2021-04-08T08:28:52.341381",
     "exception": false,
     "start_time": "2021-04-08T08:28:52.329255",
     "status": "completed"
    },
    "tags": [
     "injected-parameters"
    ]
   },
   "outputs": [],
   "source": [
    "# Parameters\n",
    "DATASET_CLS = \"kinoml.datasets.chembl.ChEMBLDatasetProvider\"\n",
    "DATASET_KWARGS = {}\n",
    "PIPELINE = {\n",
    "    \"ligand\": [\n",
    "        [\"kinoml.features.ligand.SmilesToLigandFeaturizer\", {\"style\": \"rdkit\"}],\n",
    "        [\n",
    "            \"kinoml.features.ligand.MorganFingerprintFeaturizer\",\n",
    "            {\"nbits\": 512, \"radius\": 2},\n",
    "        ],\n",
    "    ]\n",
    "}\n",
    "PIPELINE_AGG = \"kinoml.features.core.Concatenated\"\n",
    "PIPELINE_AGG_KWARGS = {}\n",
    "FEATURIZE_KWARGS = {\"processes\": 1}\n",
    "GROUPS = [\n",
    "    [\n",
    "        \"kinoml.datasets.groups.CallableGrouper\",\n",
    "        {\"function\": \"lambda measurement: measurement.system.protein.name\"},\n",
    "    ],\n",
    "    [\n",
    "        \"kinoml.datasets.groups.CallableGrouper\",\n",
    "        {\"function\": \"lambda measurement: type(measurement).__name__\"},\n",
    "    ],\n",
    "]\n",
    "TRAIN_TEST_VAL_KWARGS = {\"idx_train\": 0.8, \"idx_test\": 0.1, \"idx_val\": 0.1}\n",
    "HERE = \"/Users/taliakimber/Documents/github/experiments-binding-affinity/features/ligand-only-morgan512\"\n"
   ]
  },
  {
   "cell_type": "markdown",
   "metadata": {
    "papermill": {
     "duration": 0.00485,
     "end_time": "2021-04-08T08:28:52.351272",
     "exception": false,
     "start_time": "2021-04-08T08:28:52.346422",
     "status": "completed"
    },
    "tags": []
   },
   "source": [
    "⚠ From here on, you should _not_ need to modify anything else 🤞\n",
    "\n",
    "---\n",
    "\n",
    "Define key paths for data and outputs:"
   ]
  },
  {
   "cell_type": "code",
   "execution_count": 4,
   "metadata": {
    "execution": {
     "iopub.execute_input": "2021-04-08T08:28:52.373692Z",
     "iopub.status.busy": "2021-04-08T08:28:52.373008Z",
     "iopub.status.idle": "2021-04-08T08:28:52.376637Z",
     "shell.execute_reply": "2021-04-08T08:28:52.377336Z"
    },
    "papermill": {
     "duration": 0.019238,
     "end_time": "2021-04-08T08:28:52.377526",
     "exception": false,
     "start_time": "2021-04-08T08:28:52.358288",
     "status": "completed"
    },
    "tags": []
   },
   "outputs": [
    {
     "name": "stdout",
     "output_type": "stream",
     "text": [
      "This notebook:           HERE = ~/Documents/github/experiments-binding-affinity/features/ligand-only-morgan512\n",
      "This repo:               REPO = ~/Documents/github/experiments-binding-affinity\n",
      "Outputs in:               OUT = ~/Documents/github/experiments-binding-affinity/features/ligand-only-morgan512/_output/ligand__SmilesToLigandFeaturizer_style=rdkit__MorganFingerprintFeaturizer_nbits=512_radius=2/ChEMBLDatasetProvider\n"
     ]
    }
   ],
   "source": [
    "from pathlib import Path\n",
    "\n",
    "HERE = Path(HERE)\n",
    "for parent in HERE.parents:\n",
    "    if next(parent.glob(\".github/\"), None):\n",
    "        REPO = parent\n",
    "        break\n",
    "\n",
    "# Generate paths for this pipeline\n",
    "featurizer_path = []\n",
    "for name, branch in PIPELINE.items():\n",
    "    featurizer_path.append(name)\n",
    "    for clsname, kwargs in branch:\n",
    "        clsname = clsname.rsplit(\".\", 1)[1]\n",
    "        kwargs = [f\"{k}={''.join(c for c in str(v) if c.isalnum())}\" for k,v in kwargs.items()]\n",
    "        featurizer_path.append(\"_\".join([clsname] + kwargs))\n",
    "\n",
    "OUT = HERE / \"_output\"  / \"__\".join(featurizer_path) / DATASET_CLS.rsplit('.', 1)[1]\n",
    "OUT.mkdir(parents=True, exist_ok=True)\n",
    "\n",
    "print(f\"This notebook:           HERE = ~/{HERE.relative_to(Path.home())}\")\n",
    "print(f\"This repo:               REPO = ~/{REPO.relative_to(Path.home())}\")\n",
    "print(f\"Outputs in:               OUT = ~/{OUT.relative_to(Path.home())}\")"
   ]
  },
  {
   "cell_type": "code",
   "execution_count": 5,
   "metadata": {
    "execution": {
     "iopub.execute_input": "2021-04-08T08:28:52.392485Z",
     "iopub.status.busy": "2021-04-08T08:28:52.391733Z",
     "iopub.status.idle": "2021-04-08T08:28:52.393549Z",
     "shell.execute_reply": "2021-04-08T08:28:52.393997Z"
    },
    "papermill": {
     "duration": 0.01105,
     "end_time": "2021-04-08T08:28:52.394167",
     "exception": false,
     "start_time": "2021-04-08T08:28:52.383117",
     "status": "completed"
    },
    "tags": []
   },
   "outputs": [],
   "source": [
    "# Nasty trick: save all-caps local variables (CONSTANTS working as hyperparametrs) so far in a dict to save it later\n",
    "_hparams = {key: value for key, value in locals().items() if key.upper() == key and not key.startswith((\"_\", \"OE_\"))}"
   ]
  },
  {
   "cell_type": "markdown",
   "metadata": {
    "papermill": {
     "duration": 0.004966,
     "end_time": "2021-04-08T08:28:52.404229",
     "exception": false,
     "start_time": "2021-04-08T08:28:52.399263",
     "status": "completed"
    },
    "tags": []
   },
   "source": [
    "## Setup is finished, start working"
   ]
  },
  {
   "cell_type": "code",
   "execution_count": 6,
   "metadata": {
    "execution": {
     "iopub.execute_input": "2021-04-08T08:28:52.418666Z",
     "iopub.status.busy": "2021-04-08T08:28:52.418006Z",
     "iopub.status.idle": "2021-04-08T08:28:53.198612Z",
     "shell.execute_reply": "2021-04-08T08:28:53.199246Z"
    },
    "papermill": {
     "duration": 0.790097,
     "end_time": "2021-04-08T08:28:53.199419",
     "exception": false,
     "start_time": "2021-04-08T08:28:52.409322",
     "status": "completed"
    },
    "tags": []
   },
   "outputs": [
    {
     "name": "stdout",
     "output_type": "stream",
     "text": [
      "Run started at 2021-04-08 10:28:53.195569\n"
     ]
    }
   ],
   "source": [
    "from warnings import warn\n",
    "import os\n",
    "import sys\n",
    "from pathlib import Path\n",
    "from datetime import datetime\n",
    "\n",
    "import numpy as np\n",
    "\n",
    "from kinoml.utils import seed_everything, import_object\n",
    "seed_everything();\n",
    "print(\"Run started at\", datetime.now())"
   ]
  },
  {
   "cell_type": "markdown",
   "metadata": {
    "papermill": {
     "duration": 0.005191,
     "end_time": "2021-04-08T08:28:53.211146",
     "exception": false,
     "start_time": "2021-04-08T08:28:53.205955",
     "status": "completed"
    },
    "tags": []
   },
   "source": [
    "## Load raw data"
   ]
  },
  {
   "cell_type": "code",
   "execution_count": 7,
   "metadata": {
    "execution": {
     "iopub.execute_input": "2021-04-08T08:28:53.225578Z",
     "iopub.status.busy": "2021-04-08T08:28:53.224935Z",
     "iopub.status.idle": "2021-04-08T08:29:04.790130Z",
     "shell.execute_reply": "2021-04-08T08:29:04.789520Z"
    },
    "papermill": {
     "duration": 11.573738,
     "end_time": "2021-04-08T08:29:04.790328",
     "exception": false,
     "start_time": "2021-04-08T08:28:53.216590",
     "status": "completed"
    },
    "tags": []
   },
   "outputs": [
    {
     "name": "stderr",
     "output_type": "stream",
     "text": [
      "Warning: Unable to load toolkit 'OpenEye Toolkit'. The Open Force Field Toolkit does not require the OpenEye Toolkits, and can use RDKit/AmberTools instead. However, if you have a valid license for the OpenEye Toolkits, consider installing them for faster performance and additional file format support: https://docs.eyesopen.com/toolkits/python/quickstart-python/linuxosx.html OpenEye offers free Toolkit licenses for academics: https://www.eyesopen.com/academic-licensing\n"
     ]
    },
    {
     "name": "stderr",
     "output_type": "stream",
     "text": [
      "/opt/miniconda3/envs/experiments-binding-affinity/lib/python3.8/site-packages/kinoml/datasets/chembl.py:74: FutureWarning: The pandas.np module is deprecated and will be removed from pandas in a future version. Import numpy directly instead\n",
      "  df = df.assign(p_activities=-pd.np.log10(df[\"activities.standard_value\"] * 1e-9))\n"
     ]
    },
    {
     "data": {
      "application/vnd.jupyter.widget-view+json": {
       "model_id": "a7e08bceac784069b42d845fa8dd258c",
       "version_major": 2,
       "version_minor": 0
      },
      "text/plain": [
       "  0%|          | 0/203380 [00:00<?, ?it/s]"
      ]
     },
     "metadata": {},
     "output_type": "display_data"
    },
    {
     "data": {
      "text/plain": [
       "<ChEMBLDatasetProvider with 203380 measurements (pIC50Measurement=170121, pKdMeasurement=17050, pKiMeasurement=16209), and 162584 systems (AminoAcidSequence=422, SmilesLigand=103097)>"
      ]
     },
     "execution_count": 7,
     "metadata": {},
     "output_type": "execute_result"
    }
   ],
   "source": [
    "dataset = import_object(DATASET_CLS).from_source(**DATASET_KWARGS)\n",
    "dataset"
   ]
  },
  {
   "cell_type": "code",
   "execution_count": 8,
   "metadata": {
    "execution": {
     "iopub.execute_input": "2021-04-08T08:29:04.896361Z",
     "iopub.status.busy": "2021-04-08T08:29:04.852795Z",
     "iopub.status.idle": "2021-04-08T08:29:06.361190Z",
     "shell.execute_reply": "2021-04-08T08:29:06.361808Z"
    },
    "papermill": {
     "duration": 1.564685,
     "end_time": "2021-04-08T08:29:06.362016",
     "exception": false,
     "start_time": "2021-04-08T08:29:04.797331",
     "status": "completed"
    },
    "tags": []
   },
   "outputs": [
    {
     "data": {
      "text/html": [
       "<div>\n",
       "<style scoped>\n",
       "    .dataframe tbody tr th:only-of-type {\n",
       "        vertical-align: middle;\n",
       "    }\n",
       "\n",
       "    .dataframe tbody tr th {\n",
       "        vertical-align: top;\n",
       "    }\n",
       "\n",
       "    .dataframe thead th {\n",
       "        text-align: right;\n",
       "    }\n",
       "</style>\n",
       "<table border=\"1\" class=\"dataframe\">\n",
       "  <thead>\n",
       "    <tr style=\"text-align: right;\">\n",
       "      <th></th>\n",
       "      <th>Systems</th>\n",
       "      <th>n_components</th>\n",
       "      <th>Measurement</th>\n",
       "      <th>MeasurementType</th>\n",
       "    </tr>\n",
       "  </thead>\n",
       "  <tbody>\n",
       "    <tr>\n",
       "      <th>0</th>\n",
       "      <td>P00533 &amp; Cc1cc(C)c(/C=C2\\C(=O)Nc3ncnc(Nc4ccc(F...</td>\n",
       "      <td>2</td>\n",
       "      <td>7.387216</td>\n",
       "      <td>pIC50Measurement</td>\n",
       "    </tr>\n",
       "    <tr>\n",
       "      <th>1</th>\n",
       "      <td>P35968 &amp; Cc1cc(C)c(/C=C2\\C(=O)Nc3ncnc(Nc4ccc(F...</td>\n",
       "      <td>2</td>\n",
       "      <td>4.782516</td>\n",
       "      <td>pIC50Measurement</td>\n",
       "    </tr>\n",
       "    <tr>\n",
       "      <th>2</th>\n",
       "      <td>P00533 &amp; Cc1cc(C(=O)N2CCOCC2)[nH]c1/C=C1\\C(=O)...</td>\n",
       "      <td>2</td>\n",
       "      <td>6.769551</td>\n",
       "      <td>pIC50Measurement</td>\n",
       "    </tr>\n",
       "    <tr>\n",
       "      <th>3</th>\n",
       "      <td>P06239 &amp; Nc1ncnc2c1c(-c1cccc(Oc3ccccc3)c1)cn2C...</td>\n",
       "      <td>2</td>\n",
       "      <td>6.853872</td>\n",
       "      <td>pIC50Measurement</td>\n",
       "    </tr>\n",
       "    <tr>\n",
       "      <th>4</th>\n",
       "      <td>P06239 &amp; Nc1ncnc2c1c(-c1cccc(Oc3ccccc3)c1)cn2C...</td>\n",
       "      <td>2</td>\n",
       "      <td>5.928118</td>\n",
       "      <td>pIC50Measurement</td>\n",
       "    </tr>\n",
       "    <tr>\n",
       "      <th>...</th>\n",
       "      <td>...</td>\n",
       "      <td>...</td>\n",
       "      <td>...</td>\n",
       "      <td>...</td>\n",
       "    </tr>\n",
       "    <tr>\n",
       "      <th>203375</th>\n",
       "      <td>P42345 &amp; Nc1cc(C(F)F)c(-c2nc(N3CCOCC3)cc(N3CCO...</td>\n",
       "      <td>2</td>\n",
       "      <td>7.376751</td>\n",
       "      <td>pKiMeasurement</td>\n",
       "    </tr>\n",
       "    <tr>\n",
       "      <th>203376</th>\n",
       "      <td>P42345 &amp; Nc1cc(C(F)(F)F)c(-c2cc(N3C4CCC3COC4)n...</td>\n",
       "      <td>2</td>\n",
       "      <td>7.522879</td>\n",
       "      <td>pKiMeasurement</td>\n",
       "    </tr>\n",
       "    <tr>\n",
       "      <th>203377</th>\n",
       "      <td>P42345 &amp; Nc1cc(C(F)F)c(-c2cc(N3C4CCC3COC4)nc(N...</td>\n",
       "      <td>2</td>\n",
       "      <td>7.920819</td>\n",
       "      <td>pKiMeasurement</td>\n",
       "    </tr>\n",
       "    <tr>\n",
       "      <th>203378</th>\n",
       "      <td>P42345 &amp; Nc1cc(C(F)(F)F)c(-c2nc(N3C4CCC3COC4)c...</td>\n",
       "      <td>2</td>\n",
       "      <td>6.361511</td>\n",
       "      <td>pKiMeasurement</td>\n",
       "    </tr>\n",
       "    <tr>\n",
       "      <th>203379</th>\n",
       "      <td>P42345 &amp; Nc1cc(C(F)F)c(-c2nc(N3C4CCC3COC4)cc(N...</td>\n",
       "      <td>2</td>\n",
       "      <td>7.221849</td>\n",
       "      <td>pKiMeasurement</td>\n",
       "    </tr>\n",
       "  </tbody>\n",
       "</table>\n",
       "<p>203380 rows × 4 columns</p>\n",
       "</div>"
      ],
      "text/plain": [
       "                                                  Systems  n_components  \\\n",
       "0       P00533 & Cc1cc(C)c(/C=C2\\C(=O)Nc3ncnc(Nc4ccc(F...             2   \n",
       "1       P35968 & Cc1cc(C)c(/C=C2\\C(=O)Nc3ncnc(Nc4ccc(F...             2   \n",
       "2       P00533 & Cc1cc(C(=O)N2CCOCC2)[nH]c1/C=C1\\C(=O)...             2   \n",
       "3       P06239 & Nc1ncnc2c1c(-c1cccc(Oc3ccccc3)c1)cn2C...             2   \n",
       "4       P06239 & Nc1ncnc2c1c(-c1cccc(Oc3ccccc3)c1)cn2C...             2   \n",
       "...                                                   ...           ...   \n",
       "203375  P42345 & Nc1cc(C(F)F)c(-c2nc(N3CCOCC3)cc(N3CCO...             2   \n",
       "203376  P42345 & Nc1cc(C(F)(F)F)c(-c2cc(N3C4CCC3COC4)n...             2   \n",
       "203377  P42345 & Nc1cc(C(F)F)c(-c2cc(N3C4CCC3COC4)nc(N...             2   \n",
       "203378  P42345 & Nc1cc(C(F)(F)F)c(-c2nc(N3C4CCC3COC4)c...             2   \n",
       "203379  P42345 & Nc1cc(C(F)F)c(-c2nc(N3C4CCC3COC4)cc(N...             2   \n",
       "\n",
       "        Measurement   MeasurementType  \n",
       "0          7.387216  pIC50Measurement  \n",
       "1          4.782516  pIC50Measurement  \n",
       "2          6.769551  pIC50Measurement  \n",
       "3          6.853872  pIC50Measurement  \n",
       "4          5.928118  pIC50Measurement  \n",
       "...             ...               ...  \n",
       "203375     7.376751    pKiMeasurement  \n",
       "203376     7.522879    pKiMeasurement  \n",
       "203377     7.920819    pKiMeasurement  \n",
       "203378     6.361511    pKiMeasurement  \n",
       "203379     7.221849    pKiMeasurement  \n",
       "\n",
       "[203380 rows x 4 columns]"
      ]
     },
     "execution_count": 8,
     "metadata": {},
     "output_type": "execute_result"
    }
   ],
   "source": [
    "df = dataset.to_dataframe()\n",
    "df"
   ]
  },
  {
   "cell_type": "markdown",
   "metadata": {
    "papermill": {
     "duration": 0.005533,
     "end_time": "2021-04-08T08:29:06.373590",
     "exception": false,
     "start_time": "2021-04-08T08:29:06.368057",
     "status": "completed"
    },
    "tags": []
   },
   "source": [
    "## Featurize"
   ]
  },
  {
   "cell_type": "code",
   "execution_count": 9,
   "metadata": {
    "execution": {
     "iopub.execute_input": "2021-04-08T08:29:06.389842Z",
     "iopub.status.busy": "2021-04-08T08:29:06.389167Z",
     "iopub.status.idle": "2021-04-08T08:29:06.392493Z",
     "shell.execute_reply": "2021-04-08T08:29:06.393040Z"
    },
    "papermill": {
     "duration": 0.013837,
     "end_time": "2021-04-08T08:29:06.393220",
     "exception": false,
     "start_time": "2021-04-08T08:29:06.379383",
     "status": "completed"
    },
    "tags": []
   },
   "outputs": [],
   "source": [
    "# build pipeline\n",
    "from kinoml.features.core import Pipeline\n",
    "\n",
    "featurizers = []\n",
    "for key, featurizer_instructions in PIPELINE.items():\n",
    "    featurizers.append(Pipeline([import_object(import_str)(**kwargs) for import_str, kwargs in featurizer_instructions]))\n",
    "featurizer = import_object(PIPELINE_AGG)(featurizers, **PIPELINE_AGG_KWARGS)"
   ]
  },
  {
   "cell_type": "code",
   "execution_count": 10,
   "metadata": {
    "execution": {
     "iopub.execute_input": "2021-04-08T08:29:06.466268Z",
     "iopub.status.busy": "2021-04-08T08:29:06.448923Z",
     "iopub.status.idle": "2021-04-08T08:31:25.822314Z",
     "shell.execute_reply": "2021-04-08T08:31:25.822966Z"
    },
    "papermill": {
     "duration": 139.424275,
     "end_time": "2021-04-08T08:31:25.823203",
     "exception": false,
     "start_time": "2021-04-08T08:29:06.398928",
     "status": "completed"
    },
    "tags": []
   },
   "outputs": [
    {
     "data": {
      "application/vnd.jupyter.widget-view+json": {
       "model_id": "97cb274db935449aab12a76cd93285f7",
       "version_major": 2,
       "version_minor": 0
      },
      "text/plain": [
       "  0%|          | 0/162584 [00:00<?, ?it/s]"
      ]
     },
     "metadata": {},
     "output_type": "display_data"
    }
   ],
   "source": [
    "# prefeaturize everything\n",
    "dataset.featurize(featurizer, **FEATURIZE_KWARGS);"
   ]
  },
  {
   "cell_type": "markdown",
   "metadata": {
    "papermill": {
     "duration": 0.007445,
     "end_time": "2021-04-08T08:31:25.838946",
     "exception": false,
     "start_time": "2021-04-08T08:31:25.831501",
     "status": "completed"
    },
    "tags": []
   },
   "source": [
    "## Filter"
   ]
  },
  {
   "cell_type": "markdown",
   "metadata": {
    "papermill": {
     "duration": 0.007084,
     "end_time": "2021-04-08T08:31:25.853282",
     "exception": false,
     "start_time": "2021-04-08T08:31:25.846198",
     "status": "completed"
    },
    "tags": []
   },
   "source": [
    "Remove systems that couldn't be featurized. Successful featurizations are stored in `measurement.system.featurizations['last']` so we test for that key existence."
   ]
  },
  {
   "cell_type": "code",
   "execution_count": 11,
   "metadata": {
    "execution": {
     "iopub.execute_input": "2021-04-08T08:31:25.871913Z",
     "iopub.status.busy": "2021-04-08T08:31:25.871174Z",
     "iopub.status.idle": "2021-04-08T08:31:26.208091Z",
     "shell.execute_reply": "2021-04-08T08:31:26.208509Z"
    },
    "papermill": {
     "duration": 0.34877,
     "end_time": "2021-04-08T08:31:26.208824",
     "exception": false,
     "start_time": "2021-04-08T08:31:25.860054",
     "status": "completed"
    },
    "tags": []
   },
   "outputs": [],
   "source": [
    "from kinoml.datasets.groups import CallableGrouper, RandomGrouper\n",
    "grouper = CallableGrouper(lambda measurement: 'invalid' if 'last' not in measurement.system.featurizations else 'valid')\n",
    "grouper.assign(dataset, overwrite=True, progress=False)\n",
    "groups = dataset.split_by_groups()\n",
    "if \"invalid\" in groups:\n",
    "    _invalid = groups.pop(\"invalid\")\n",
    "    warn(f\"{len(_invalid)} entries could not be featurized!. Possible errors:\")\n",
    "    warn(f\"{_invalid[0].system.featurizations}\")"
   ]
  },
  {
   "cell_type": "markdown",
   "metadata": {
    "papermill": {
     "duration": 0.005844,
     "end_time": "2021-04-08T08:31:26.221127",
     "exception": false,
     "start_time": "2021-04-08T08:31:26.215283",
     "status": "completed"
    },
    "tags": []
   },
   "source": [
    "## Groups\n",
    "\n",
    "Cumulatively apply groups."
   ]
  },
  {
   "cell_type": "code",
   "execution_count": 12,
   "metadata": {
    "execution": {
     "iopub.execute_input": "2021-04-08T08:31:26.329182Z",
     "iopub.status.busy": "2021-04-08T08:31:26.275206Z",
     "iopub.status.idle": "2021-04-08T08:31:26.890875Z",
     "shell.execute_reply": "2021-04-08T08:31:26.891388Z"
    },
    "papermill": {
     "duration": 0.664631,
     "end_time": "2021-04-08T08:31:26.891599",
     "exception": false,
     "start_time": "2021-04-08T08:31:26.226968",
     "status": "completed"
    },
    "tags": []
   },
   "outputs": [
    {
     "name": "stdout",
     "output_type": "stream",
     "text": [
      "10 groups to show keys:\n",
      "('valid', 'P00533', 'pIC50Measurement')\n",
      "('valid', 'P00533', 'pKdMeasurement')\n",
      "('valid', 'P00533', 'pKiMeasurement')\n",
      "('valid', 'P35968', 'pIC50Measurement')\n",
      "('valid', 'P35968', 'pKdMeasurement')\n",
      "('valid', 'P35968', 'pKiMeasurement')\n",
      "('valid', 'P06239', 'pIC50Measurement')\n",
      "('valid', 'P06239', 'pKdMeasurement')\n",
      "('valid', 'P06239', 'pKiMeasurement')\n",
      "('valid', 'Q02763', 'pIC50Measurement')\n"
     ]
    }
   ],
   "source": [
    "groups[(\"valid\",)] = groups.pop(\"valid\")\n",
    "for grouper_str, grouper_kwargs in GROUPS:\n",
    "    grouper_cls = import_object(grouper_str)\n",
    "    ## We need this because lambda functions are not JSON-serializable\n",
    "    if issubclass(grouper_cls, CallableGrouper):\n",
    "        for k, v in list(grouper_kwargs.items()):\n",
    "            if k == \"function\" and isinstance(v, str):\n",
    "                grouper_kwargs[k] = eval(v)  # sorry :)\n",
    "    ## End of lambda hack\n",
    "    grouper = grouper_cls(**grouper_kwargs)        \n",
    "    for group_key in list(groups.keys()):\n",
    "        grouper.assign(groups[group_key], overwrite=True, progress=False)\n",
    "        for subkey, subgroup in groups.pop(group_key).split_by_groups().items():\n",
    "            groups[group_key + (subkey,)] = subgroup\n",
    "print(\"10 groups to show keys:\", *list(groups.keys())[:10], sep=\"\\n\")"
   ]
  },
  {
   "cell_type": "markdown",
   "metadata": {
    "papermill": {
     "duration": 0.0056,
     "end_time": "2021-04-08T08:31:26.903104",
     "exception": false,
     "start_time": "2021-04-08T08:31:26.897504",
     "status": "completed"
    },
    "tags": []
   },
   "source": [
    "## Write tensors to disk\n",
    "\n",
    "Output files are written to `_output/<PIPELINE>/<DATASET>/<GROUP>.npz` files.\n",
    "\n",
    "Each `npz` will contain two `np.ndarray` objects: `X` (featurized systems) and `y` (associated measurements), plus the train/test/validation indices."
   ]
  },
  {
   "cell_type": "code",
   "execution_count": 13,
   "metadata": {
    "execution": {
     "iopub.execute_input": "2021-04-08T08:31:26.943142Z",
     "iopub.status.busy": "2021-04-08T08:31:26.942512Z",
     "iopub.status.idle": "2021-04-08T08:31:28.904007Z",
     "shell.execute_reply": "2021-04-08T08:31:28.904461Z"
    },
    "papermill": {
     "duration": 1.995964,
     "end_time": "2021-04-08T08:31:28.904645",
     "exception": false,
     "start_time": "2021-04-08T08:31:26.908681",
     "status": "completed"
    },
    "tags": []
   },
   "outputs": [],
   "source": [
    "random_grouper = RandomGrouper(TRAIN_TEST_VAL_KWARGS)\n",
    "\n",
    "for group, ds in sorted(groups.items(), key=lambda kv: len(kv[1]), reverse=True):\n",
    "    indices = random_grouper.indices(ds)\n",
    "    X = np.asarray(ds.featurized_systems())\n",
    "    y = ds.measurements_as_array()\n",
    "    np.savez(OUT / f\"{'__'.join([g for g in group if g != 'valid'])}.npz\", X=X, y=y.astype(\"float32\"), **indices)"
   ]
  },
  {
   "cell_type": "code",
   "execution_count": 14,
   "metadata": {
    "execution": {
     "iopub.execute_input": "2021-04-08T08:31:28.923370Z",
     "iopub.status.busy": "2021-04-08T08:31:28.922261Z",
     "iopub.status.idle": "2021-04-08T08:31:28.925811Z",
     "shell.execute_reply": "2021-04-08T08:31:28.926565Z"
    },
    "papermill": {
     "duration": 0.015869,
     "end_time": "2021-04-08T08:31:28.926792",
     "exception": false,
     "start_time": "2021-04-08T08:31:28.910923",
     "status": "completed"
    },
    "tags": []
   },
   "outputs": [
    {
     "name": "stdout",
     "output_type": "stream",
     "text": [
      "Run finished at 2021-04-08 10:31:28.920420\n"
     ]
    }
   ],
   "source": [
    "print(\"Run finished at\", datetime.now())"
   ]
  },
  {
   "cell_type": "markdown",
   "metadata": {
    "papermill": {
     "duration": 0.005549,
     "end_time": "2021-04-08T08:31:28.939327",
     "exception": false,
     "start_time": "2021-04-08T08:31:28.933778",
     "status": "completed"
    },
    "tags": []
   },
   "source": [
    "# Reproducibility logs"
   ]
  },
  {
   "cell_type": "code",
   "execution_count": 15,
   "metadata": {
    "execution": {
     "iopub.execute_input": "2021-04-08T08:31:28.955404Z",
     "iopub.status.busy": "2021-04-08T08:31:28.954884Z",
     "iopub.status.idle": "2021-04-08T08:31:31.767839Z",
     "shell.execute_reply": "2021-04-08T08:31:31.768519Z"
    },
    "papermill": {
     "duration": 2.823336,
     "end_time": "2021-04-08T08:31:31.768721",
     "exception": false,
     "start_time": "2021-04-08T08:31:28.945385",
     "status": "completed"
    },
    "tags": []
   },
   "outputs": [
    {
     "name": "stdout",
     "output_type": "stream",
     "text": [
      "Watermark\n",
      "---------\n",
      "Last updated: 2021-04-08T10:31:28.978176+02:00\n",
      "\n",
      "Python implementation: CPython\n",
      "Python version       : 3.8.8\n",
      "IPython version      : 7.22.0\n",
      "\n",
      "Compiler    : Clang 11.0.1 \n",
      "OS          : Darwin\n",
      "Release     : 20.2.0\n",
      "Machine     : x86_64\n",
      "Processor   : i386\n",
      "CPU cores   : 8\n",
      "Architecture: 64bit\n",
      "\n",
      "Hostname: talias-macbook-pro.home\n",
      "\n",
      "Git hash: 2fd8a9e16d0bd0ce05e34e1358a8e9706c8648ed\n",
      "\n",
      "numpy: 1.20.2\n",
      "sys  : 3.8.8 | packaged by conda-forge | (default, Feb 20 2021, 16:12:38) \n",
      "[Clang 11.0.1 ]\n",
      "\n",
      "Watermark: 2.2.0\n",
      "\n",
      "\n",
      "conda\n",
      "-----\n"
     ]
    },
    {
     "name": "stdout",
     "output_type": "stream",
     "text": [
      "sys.version: 3.7.7 (default, Mar 23 2020, 17:31:31) \n",
      "...\n",
      "sys.prefix: /opt/miniconda3\n",
      "sys.executable: /opt/miniconda3/bin/python\n",
      "conda location: /opt/miniconda3/lib/python3.7/site-packages/conda\n",
      "conda-build: None\n",
      "conda-env: /opt/miniconda3/bin/conda-env\n",
      "user site dirs: \n",
      "\n",
      "CIO_TEST: <not set>\n",
      "CONDA_DEFAULT_ENV: experiments-binding-affinity\n",
      "CONDA_EXE: /opt/miniconda3/bin/conda\n",
      "CONDA_MKL_INTERFACE_LAYER_BACKUP: \n",
      "CONDA_PREFIX: /opt/miniconda3/envs/experiments-binding-affinity\n",
      "CONDA_PREFIX_1: /opt/miniconda3\n",
      "CONDA_PROMPT_MODIFIER: (experiments-binding-affinity) \n",
      "CONDA_PYTHON_EXE: /opt/miniconda3/bin/python\n",
      "CONDA_ROOT: /opt/miniconda3\n",
      "CONDA_SHLVL: 2\n",
      "CURL_CA_BUNDLE: <not set>\n",
      "PATH: /opt/miniconda3/envs/experiments-binding-affinity/bin:/opt/miniconda3/condabin:/usr/local/bin:/usr/bin:/bin:/usr/sbin:/sbin:/Library/TeX/texbin:/Library/Apple/usr/bin\n",
      "PYTHONHASHSEED: 1234\n",
      "REQUESTS_CA_BUNDLE: <not set>\n",
      "SSL_CERT_FILE: <not set>\n",
      "\n",
      "\n"
     ]
    },
    {
     "name": "stdout",
     "output_type": "stream",
     "text": [
      "# packages in environment at /opt/miniconda3/envs/experiments-binding-affinity:\n",
      "#\n",
      "# Name                    Version                   Build  Channel\n",
      "_py-xgboost-mutex         2.0                       cpu_0    conda-forge\n",
      "absl-py                   0.12.0             pyhd8ed1ab_0    conda-forge\n",
      "aiohttp                   3.7.4            py38h96a0964_0    conda-forge\n",
      "alabaster                 0.7.12                   pypi_0    pypi\n",
      "amberlite                 16.0                     pypi_0    pypi\n",
      "ambertools                20.15                    pypi_0    pypi\n",
      "ansiwrap                  0.8.4                      py_0    conda-forge\n",
      "anyio                     2.2.0            py38h50d1736_0    conda-forge\n",
      "appdirs                   1.4.4              pyh9f0ad1d_0    conda-forge\n",
      "appnope                   0.1.2            py38h50d1736_1    conda-forge\n",
      "argon2-cffi               20.1.0           py38h5406a74_2    conda-forge\n",
      "arpack                    3.7.0                hefb7bc6_2    conda-forge\n",
      "ase                       3.21.1                   pypi_0    pypi\n",
      "astunparse                1.6.2                      py_0    conda-forge\n",
      "async-timeout             3.0.1                   py_1000    conda-forge\n",
      "async_generator           1.10                       py_0    conda-forge\n",
      "attrs                     20.3.0             pyhd3deb0d_0    conda-forge\n",
      "babel                     2.9.0              pyhd3deb0d_0    conda-forge\n",
      "backcall                  0.2.0              pyh9f0ad1d_0    conda-forge\n",
      "backports                 1.0                        py_2    conda-forge\n",
      "backports.functools_lru_cache 1.6.3              pyhd8ed1ab_0    conda-forge\n",
      "black                     20.8b1                     py_1    conda-forge\n",
      "bleach                    3.3.0              pyh44b312d_0    conda-forge\n",
      "blinker                   1.4                        py_1    conda-forge\n",
      "blosc                     1.21.0               he49afe7_0    conda-forge\n",
      "boost                     1.74.0           py38h692b87f_3    conda-forge\n",
      "boost-cpp                 1.74.0               h43a636a_2    conda-forge\n",
      "brotlipy                  0.7.0           py38h5406a74_1001    conda-forge\n",
      "bzip2                     1.0.8                hc929b4f_4    conda-forge\n",
      "c-ares                    1.17.1               h0d85af4_1    conda-forge\n",
      "ca-certificates           2020.12.5            h033912b_0    conda-forge\n",
      "cachetools                4.2.1              pyhd8ed1ab_0    conda-forge\n",
      "cairo                     1.16.0            he43a7df_1008    conda-forge\n",
      "certifi                   2020.12.5        py38h50d1736_1    conda-forge\n",
      "cffi                      1.14.5           py38ha97d567_0    conda-forge\n",
      "chardet                   4.0.0            py38h50d1736_1    conda-forge\n",
      "click                     7.1.2              pyh9f0ad1d_0    conda-forge\n",
      "cryptography              3.4.7            py38h1fa4640_0    conda-forge\n",
      "curl                      7.75.0               h06286d4_0    conda-forge\n",
      "cycler                    0.10.0                     py_2    conda-forge\n",
      "cython                    0.29.22          py38h91a8764_0    conda-forge\n",
      "dataclasses               0.8                pyhc8e2a94_1    conda-forge\n",
      "decorator                 4.4.2                      py_0    conda-forge\n",
      "defusedxml                0.7.1              pyhd8ed1ab_0    conda-forge\n",
      "docutils                  0.16                     pypi_0    pypi\n",
      "entrypoints               0.3             pyhd8ed1ab_1003    conda-forge\n",
      "fftw                      3.3.9           nompi_h02cd531_101    conda-forge\n",
      "fontconfig                2.13.1            hd23ceaa_1004    conda-forge\n",
      "freetype                  2.10.4               h4cff582_1    conda-forge\n",
      "fsspec                    0.8.7              pyhd8ed1ab_0    conda-forge\n",
      "future                    0.18.2           py38h50d1736_3    conda-forge\n",
      "gettext                   0.19.8.1          h7937167_1005    conda-forge\n",
      "google-auth               1.26.1             pyh44b312d_0    conda-forge\n",
      "google-auth-oauthlib      0.4.1                      py_2    conda-forge\n",
      "googledrivedownloader     0.4                      pypi_0    pypi\n",
      "greenlet                  1.0.0            py38ha048514_0    conda-forge\n",
      "grpcio                    1.36.1           py38ha263829_0    conda-forge\n",
      "h5py                      3.2.1                    pypi_0    pypi\n",
      "hdf4                      4.2.13            h71d84a9_1004    conda-forge\n",
      "hdf5                      1.10.6          nompi_hc5d9132_1114    conda-forge\n",
      "icu                       68.1                 h74dc148_0    conda-forge\n",
      "idna                      2.10               pyh9f0ad1d_0    conda-forge\n",
      "imagesize                 1.2.0                    pypi_0    pypi\n",
      "importlib-metadata        3.9.0            py38h50d1736_0    conda-forge\n",
      "importlib_metadata        3.9.0                hd8ed1ab_0    conda-forge\n",
      "importlib_resources       5.1.2            py38h50d1736_0    conda-forge\n",
      "ipykernel                 5.5.0            py38h9bb44b7_1    conda-forge\n",
      "ipython                   7.22.0           py38h6c79ece_0    conda-forge\n",
      "ipython_genutils          0.2.0                      py_1    conda-forge\n",
      "ipywidgets                7.6.3              pyhd3deb0d_0    conda-forge\n",
      "isodate                   0.6.0                    pypi_0    pypi\n",
      "jedi                      0.18.0           py38h50d1736_2    conda-forge\n",
      "jinja2                    2.11.3             pyh44b312d_0    conda-forge\n",
      "joblib                    1.0.1              pyhd8ed1ab_0    conda-forge\n",
      "jpeg                      9d                   hbcb3906_0    conda-forge\n",
      "json5                     0.9.5              pyh9f0ad1d_0    conda-forge\n",
      "jsonschema                3.2.0              pyhd8ed1ab_3    conda-forge\n",
      "jupyter-packaging         0.7.12             pyhd8ed1ab_0    conda-forge\n",
      "jupyter_client            6.1.12             pyhd8ed1ab_0    conda-forge\n",
      "jupyter_core              4.7.1            py38h50d1736_0    conda-forge\n",
      "jupyter_server            1.5.1            py38h50d1736_0    conda-forge\n",
      "jupyterlab                3.0.12             pyhd8ed1ab_0    conda-forge\n",
      "jupyterlab_pygments       0.1.2              pyh9f0ad1d_0    conda-forge\n",
      "jupyterlab_server         2.3.0              pyhd8ed1ab_0    conda-forge\n",
      "jupyterlab_widgets        1.0.0              pyhd8ed1ab_1    conda-forge\n",
      "kinoml                    0+untagged.380.g3b4e7a5          pypi_0    pypi\n",
      "kiwisolver                1.3.1            py38hd9c93a9_1    conda-forge\n",
      "krb5                      1.17.2               h60d9502_0    conda-forge\n",
      "lcms2                     2.12                 h577c468_0    conda-forge\n",
      "libblas                   3.9.0                     8_mkl    conda-forge\n",
      "libcblas                  3.9.0                     8_mkl    conda-forge\n",
      "libcurl                   7.75.0               h8ef9fac_0    conda-forge\n",
      "libcxx                    11.1.0               habf9029_0    conda-forge\n",
      "libedit                   3.1.20191231         h0678c8f_2    conda-forge\n",
      "libev                     4.33                 haf1e3a3_1    conda-forge\n",
      "libffi                    3.3                  h046ec9c_2    conda-forge\n",
      "libgfortran               5.0.0           9_3_0_h6c81a4c_21    conda-forge\n",
      "libgfortran5              9.3.0               h6c81a4c_21    conda-forge\n",
      "libglib                   2.68.0               hd556434_2    conda-forge\n",
      "libiconv                  1.16                 haf1e3a3_0    conda-forge\n",
      "liblapack                 3.9.0                     8_mkl    conda-forge\n",
      "libnetcdf                 4.7.4           nompi_h9d8a93f_107    conda-forge\n",
      "libnghttp2                1.43.0               h07e645a_0    conda-forge\n",
      "libpng                    1.6.37               h7cec526_2    conda-forge\n",
      "libprotobuf               3.15.6               hcf210ce_0    conda-forge\n",
      "libsodium                 1.0.18               hbcb3906_1    conda-forge\n",
      "libssh2                   1.9.0                h52ee1ee_6    conda-forge\n",
      "libtiff                   4.2.0                h355d032_0    conda-forge\n",
      "libuv                     1.41.0               hbcf498f_0    conda-forge\n",
      "libwebp-base              1.2.0                h0d85af4_2    conda-forge\n",
      "libxcb                    1.13              h35c211d_1003    conda-forge\n",
      "libxgboost                1.3.3                he49afe7_2    conda-forge\n",
      "libxml2                   2.9.10               h802ca4f_3    conda-forge\n",
      "llvm-openmp               11.1.0               hda6cdc1_0    conda-forge\n",
      "llvmlite                  0.36.0                   pypi_0    pypi\n",
      "lz4-c                     1.9.3                h046ec9c_0    conda-forge\n",
      "markdown                  3.3.4              pyhd8ed1ab_0    conda-forge\n",
      "markupsafe                1.1.1            py38h5406a74_3    conda-forge\n",
      "matplotlib-base           3.3.4            py38hb24f337_0    conda-forge\n",
      "mdtraj                    1.9.5            py38h711e445_1    conda-forge\n",
      "mistune                   0.8.4           py38h5406a74_1003    conda-forge\n",
      "mkl                       2020.4             h08c4f10_301    conda-forge\n",
      "mmpbsa-py                 16.0                     pypi_0    pypi\n",
      "mock                      4.0.3            py38h50d1736_1    conda-forge\n",
      "multidict                 5.1.0            py38h5406a74_1    conda-forge\n",
      "mypy_extensions           0.4.3            py38h50d1736_3    conda-forge\n",
      "nbclassic                 0.2.6              pyhd8ed1ab_0    conda-forge\n",
      "nbclient                  0.5.3              pyhd8ed1ab_0    conda-forge\n",
      "nbconvert                 6.0.7            py38h50d1736_3    conda-forge\n",
      "nbformat                  5.1.2              pyhd8ed1ab_1    conda-forge\n",
      "ncurses                   6.2                  h2e338ed_4    conda-forge\n",
      "nest-asyncio              1.4.3              pyhd8ed1ab_0    conda-forge\n",
      "netcdf-fortran            4.5.3           nompi_h282ae0b_101    conda-forge\n",
      "networkx                  2.5                        py_0    conda-forge\n",
      "nglview                   2.7.7              pyh5ca1d4c_1    conda-forge\n",
      "ninja                     1.10.2               h9a9d8cb_0    conda-forge\n",
      "nodejs                    15.12.0              hb529b34_0    conda-forge\n",
      "notebook                  6.3.0            py38h50d1736_0    conda-forge\n",
      "numba                     0.53.1                   pypi_0    pypi\n",
      "numexpr                   2.7.3            py38h1588c1c_0    conda-forge\n",
      "numpy                     1.20.2           py38had91d27_0    conda-forge\n",
      "oauthlib                  3.0.1                      py_0    conda-forge\n",
      "olefile                   0.46               pyh9f0ad1d_1    conda-forge\n",
      "openff-forcefields        1.3.0              pyh44b312d_0    conda-forge\n",
      "openff-toolkit            0.9.1              pyhd8ed1ab_2    conda-forge\n",
      "openff-toolkit-base       0.9.1              pyhd8ed1ab_2    conda-forge\n",
      "openmm                    7.5.0           py38hbe4764b_6_apple    conda-forge\n",
      "openssl                   1.1.1k               h0d85af4_0    conda-forge\n",
      "packaging                 20.9               pyh44b312d_0    conda-forge\n",
      "packmol-memgen            1.1.0rc0                 pypi_0    pypi\n",
      "pandas                    1.2.3            py38h1588c1c_0    conda-forge\n",
      "pandoc                    2.13                 h0d85af4_0    conda-forge\n",
      "pandocfilters             1.4.2                      py_1    conda-forge\n",
      "papermill                 2.2.2              pyhd8ed1ab_0    conda-forge\n",
      "parmed                    3.4.0            py38h91a8764_1    conda-forge\n",
      "parso                     0.8.1              pyhd8ed1ab_0    conda-forge\n",
      "pathspec                  0.8.1              pyhd3deb0d_0    conda-forge\n",
      "pcre                      8.44                 hb1e8313_0    conda-forge\n",
      "pdb4amber                 1.7.dev0                 pypi_0    pypi\n",
      "perl                      5.32.0               hbcb3906_0    conda-forge\n",
      "pexpect                   4.8.0              pyh9f0ad1d_2    conda-forge\n",
      "pickleshare               0.7.5                   py_1003    conda-forge\n",
      "pillow                    8.1.2            py38h83525de_0    conda-forge\n",
      "pint                      0.17               pyhd8ed1ab_0    conda-forge\n",
      "pip                       21.0.1             pyhd8ed1ab_0    conda-forge\n",
      "pixman                    0.40.0               hbcb3906_0    conda-forge\n",
      "prometheus_client         0.9.0              pyhd3deb0d_0    conda-forge\n",
      "prompt-toolkit            3.0.18             pyha770c72_0    conda-forge\n",
      "protobuf                  3.15.6           py38ha048514_0    conda-forge\n",
      "pthread-stubs             0.4               hc929b4f_1001    conda-forge\n",
      "ptyprocess                0.7.0              pyhd3deb0d_0    conda-forge\n",
      "py-xgboost                1.3.3            py38h50d1736_2    conda-forge\n",
      "pyasn1                    0.4.8                      py_0    conda-forge\n",
      "pyasn1-modules            0.2.7                      py_0    conda-forge\n",
      "pycairo                   1.20.0           py38h26abc9d_1    conda-forge\n",
      "pycparser                 2.20               pyh9f0ad1d_2    conda-forge\n",
      "pygments                  2.8.1              pyhd8ed1ab_0    conda-forge\n",
      "pyjwt                     2.0.1              pyhd8ed1ab_0    conda-forge\n",
      "pyopenssl                 20.0.1             pyhd8ed1ab_0    conda-forge\n",
      "pyparsing                 2.4.7              pyh9f0ad1d_0    conda-forge\n",
      "pyrsistent                0.17.3           py38h5406a74_2    conda-forge\n",
      "pysocks                   1.7.1            py38h50d1736_3    conda-forge\n",
      "pytables                  3.6.1            py38hfb086ad_3    conda-forge\n",
      "python                    3.8.8           h4e93d89_0_cpython    conda-forge\n",
      "python-dateutil           2.8.1                      py_0    conda-forge\n",
      "python-louvain            0.15                     pypi_0    pypi\n",
      "python_abi                3.8                      1_cp38    conda-forge\n",
      "pytorch                   1.7.1           cpu_py38h4ef1b2e_2    conda-forge\n",
      "pytorch-lightning         1.2.5              pyhd8ed1ab_0    conda-forge\n",
      "pytraj                    2.0.5                    pypi_0    pypi\n",
      "pytz                      2021.1             pyhd8ed1ab_0    conda-forge\n",
      "pyyaml                    5.4.1            py38h5406a74_0    conda-forge\n",
      "pyzmq                     22.0.3           py38hd3b92b6_1    conda-forge\n",
      "rdflib                    5.0.0                    pypi_0    pypi\n",
      "rdkit                     2021.03.1        py38hba24be9_0    conda-forge\n",
      "readline                  8.1                  h05e3726_0    conda-forge\n",
      "regex                     2021.3.17        py38h96a0964_0    conda-forge\n",
      "reportlab                 3.5.66           py38hf6ac518_0    conda-forge\n",
      "requests                  2.25.1             pyhd3deb0d_0    conda-forge\n",
      "requests-oauthlib         1.3.0              pyh9f0ad1d_0    conda-forge\n",
      "rsa                       4.7.2              pyh44b312d_0    conda-forge\n",
      "ruamel.yaml               0.16.12          py38h5406a74_2    conda-forge\n",
      "ruamel.yaml.clib          0.2.2            py38h5406a74_2    conda-forge\n",
      "sander                    16.0                     pypi_0    pypi\n",
      "scikit-learn              0.24.1           py38hfd19401_0    conda-forge\n",
      "scipy                     1.6.2            py38h431c0a8_0    conda-forge\n",
      "send2trash                1.5.0                      py_0    conda-forge\n",
      "setuptools                49.6.0           py38h50d1736_3    conda-forge\n",
      "six                       1.15.0             pyh9f0ad1d_0    conda-forge\n",
      "sklearn-pytorch           0.1.0                    pypi_0    pypi\n",
      "smirnoff99frosst          1.1.0              pyh44b312d_0    conda-forge\n",
      "snappy                    1.1.8                hb1e8313_3    conda-forge\n",
      "sniffio                   1.2.0            py38h50d1736_1    conda-forge\n",
      "snowballstemmer           2.1.0                    pypi_0    pypi\n",
      "sphinx                    3.5.3                    pypi_0    pypi\n",
      "sphinxcontrib-applehelp   1.0.2                    pypi_0    pypi\n",
      "sphinxcontrib-devhelp     1.0.2                    pypi_0    pypi\n",
      "sphinxcontrib-htmlhelp    1.0.3                    pypi_0    pypi\n",
      "sphinxcontrib-jsmath      1.0.1                    pypi_0    pypi\n",
      "sphinxcontrib-qthelp      1.0.3                    pypi_0    pypi\n",
      "sphinxcontrib-serializinghtml 1.1.4                    pypi_0    pypi\n",
      "sqlalchemy                1.4.3            py38h96a0964_0    conda-forge\n",
      "sqlite                    3.35.3               h44b9ce1_0    conda-forge\n",
      "tenacity                  7.0.0              pyhd8ed1ab_0    conda-forge\n",
      "tensorboard               2.4.1              pyhd8ed1ab_0    conda-forge\n",
      "tensorboard-plugin-wit    1.8.0              pyh44b312d_0    conda-forge\n",
      "terminado                 0.9.3            py38h50d1736_0    conda-forge\n",
      "testpath                  0.4.4                      py_0    conda-forge\n",
      "textwrap3                 0.9.2                      py_0    conda-forge\n",
      "threadpoolctl             2.1.0              pyh5ca1d4c_0    conda-forge\n",
      "tk                        8.6.10               h0419947_1    conda-forge\n",
      "toml                      0.10.2             pyhd8ed1ab_0    conda-forge\n",
      "torch-cluster             1.5.9                    pypi_0    pypi\n",
      "torch-geometric           1.6.3                    pypi_0    pypi\n",
      "torch-scatter             2.0.6                    pypi_0    pypi\n",
      "torch-sparse              0.6.9                    pypi_0    pypi\n",
      "torch-spline-conv         1.2.1                    pypi_0    pypi\n",
      "torchmetrics              0.2.0              pyhd8ed1ab_0    conda-forge\n",
      "torchvision               0.8.2           py38h83b45b8_1_cpu    conda-forge\n",
      "tornado                   6.1              py38h5406a74_1    conda-forge\n",
      "tqdm                      4.59.0             pyhd8ed1ab_0    conda-forge\n",
      "traitlets                 5.0.5                      py_0    conda-forge\n",
      "typed-ast                 1.4.2            py38h5406a74_0    conda-forge\n",
      "typing-extensions         3.7.4.3                       0    conda-forge\n",
      "typing_extensions         3.7.4.3                    py_0    conda-forge\n",
      "urllib3                   1.26.4             pyhd8ed1ab_0    conda-forge\n",
      "watermark                 2.2.0              pyhd8ed1ab_0    conda-forge\n",
      "wcwidth                   0.2.5              pyh9f0ad1d_2    conda-forge\n",
      "webencodings              0.5.1                      py_1    conda-forge\n",
      "werkzeug                  1.0.1              pyh9f0ad1d_0    conda-forge\n",
      "wheel                     0.36.2             pyhd3deb0d_0    conda-forge\n",
      "widgetsnbextension        3.5.1            py38h50d1736_4    conda-forge\n",
      "xgboost                   1.3.3            py38h50d1736_2    conda-forge\n",
      "xmltodict                 0.12.0                     py_0    conda-forge\n",
      "xorg-kbproto              1.0.7             h35c211d_1002    conda-forge\n",
      "xorg-libice               1.0.10               h0d85af4_0    conda-forge\n",
      "xorg-libsm                1.2.3             h0d85af4_1000    conda-forge\n",
      "xorg-libx11               1.7.0                h35c211d_0    conda-forge\n",
      "xorg-libxau               1.0.9                h35c211d_0    conda-forge\n",
      "xorg-libxdmcp             1.1.3                h35c211d_0    conda-forge\n",
      "xorg-libxext              1.3.4                h0d85af4_1    conda-forge\n",
      "xorg-libxt                1.2.1                h0d85af4_2    conda-forge\n",
      "xorg-xextproto            7.3.0             h35c211d_1002    conda-forge\n",
      "xorg-xproto               7.0.31            h35c211d_1007    conda-forge\n",
      "xz                        5.2.5                haf1e3a3_1    conda-forge\n",
      "yaml                      0.2.5                haf1e3a3_0    conda-forge\n",
      "yarl                      1.6.3            py38h5406a74_1    conda-forge\n",
      "zeromq                    4.3.4                h1c7c35f_0    conda-forge\n",
      "zipp                      3.4.1              pyhd8ed1ab_0    conda-forge\n",
      "zlib                      1.2.11            h7795811_1010    conda-forge\n",
      "zstd                      1.4.9                h582d3a0_0    conda-forge\n",
      "\n"
     ]
    }
   ],
   "source": [
    "from kinoml.utils import watermark\n",
    "w = watermark()"
   ]
  },
  {
   "cell_type": "code",
   "execution_count": 16,
   "metadata": {
    "execution": {
     "iopub.execute_input": "2021-04-08T08:31:31.795553Z",
     "iopub.status.busy": "2021-04-08T08:31:31.791484Z",
     "iopub.status.idle": "2021-04-08T08:31:34.214117Z",
     "shell.execute_reply": "2021-04-08T08:31:34.214603Z"
    },
    "papermill": {
     "duration": 2.438029,
     "end_time": "2021-04-08T08:31:34.214858",
     "exception": false,
     "start_time": "2021-04-08T08:31:31.776829",
     "status": "completed"
    },
    "tags": []
   },
   "outputs": [],
   "source": [
    "%%capture cap --no-stderr\n",
    "w = watermark()"
   ]
  },
  {
   "cell_type": "code",
   "execution_count": 17,
   "metadata": {
    "execution": {
     "iopub.execute_input": "2021-04-08T08:31:34.237738Z",
     "iopub.status.busy": "2021-04-08T08:31:34.237094Z",
     "iopub.status.idle": "2021-04-08T08:31:34.239785Z",
     "shell.execute_reply": "2021-04-08T08:31:34.240172Z"
    },
    "papermill": {
     "duration": 0.017122,
     "end_time": "2021-04-08T08:31:34.240346",
     "exception": false,
     "start_time": "2021-04-08T08:31:34.223224",
     "status": "completed"
    },
    "tags": []
   },
   "outputs": [],
   "source": [
    "import json\n",
    "\n",
    "with open(OUT/ \"watermark.txt\", \"w\") as f:\n",
    "    f.write(cap.stdout)\n",
    "\n",
    "with open(OUT / \"hparams.json\", \"w\") as f:\n",
    "    json.dump(_hparams, f, default=str, indent=2)"
   ]
  }
 ],
 "metadata": {
  "kernelspec": {
   "display_name": "Python 3",
   "language": "python",
   "name": "python3"
  },
  "language_info": {
   "codemirror_mode": {
    "name": "ipython",
    "version": 3
   },
   "file_extension": ".py",
   "mimetype": "text/x-python",
   "name": "python",
   "nbconvert_exporter": "python",
   "pygments_lexer": "ipython3",
   "version": "3.8.8"
  },
  "papermill": {
   "default_parameters": {},
   "duration": 165.173063,
   "end_time": "2021-04-08T08:31:36.227092",
   "environment_variables": {},
   "exception": null,
   "input_path": "features/featurize-template.ipynb",
   "output_path": "features/ligand-only-morgan512/featurize.ipynb",
   "parameters": {
    "DATASET_CLS": "kinoml.datasets.chembl.ChEMBLDatasetProvider",
    "DATASET_KWARGS": {},
    "FEATURIZE_KWARGS": {
     "processes": 1
    },
    "GROUPS": [
     [
      "kinoml.datasets.groups.CallableGrouper",
      {
       "function": "lambda measurement: measurement.system.protein.name"
      }
     ],
     [
      "kinoml.datasets.groups.CallableGrouper",
      {
       "function": "lambda measurement: type(measurement).__name__"
      }
     ]
    ],
    "HERE": "/Users/taliakimber/Documents/github/experiments-binding-affinity/features/ligand-only-morgan512",
    "PIPELINE": {
     "ligand": [
      [
       "kinoml.features.ligand.SmilesToLigandFeaturizer",
       {
        "style": "rdkit"
       }
      ],
      [
       "kinoml.features.ligand.MorganFingerprintFeaturizer",
       {
        "nbits": 512,
        "radius": 2
       }
      ]
     ]
    },
    "PIPELINE_AGG": "kinoml.features.core.Concatenated",
    "PIPELINE_AGG_KWARGS": {},
    "TRAIN_TEST_VAL_KWARGS": {
     "idx_test": 0.1,
     "idx_train": 0.8,
     "idx_val": 0.1
    }
   },
   "start_time": "2021-04-08T08:28:51.054029",
   "version": "2.2.2"
  },
  "widgets": {
   "application/vnd.jupyter.widget-state+json": {
    "state": {
     "3c0f114a63114ce399a557788ac5e4e8": {
      "model_module": "@jupyter-widgets/controls",
      "model_module_version": "1.5.0",
      "model_name": "HTMLModel",
      "state": {
       "_dom_classes": [],
       "_model_module": "@jupyter-widgets/controls",
       "_model_module_version": "1.5.0",
       "_model_name": "HTMLModel",
       "_view_count": null,
       "_view_module": "@jupyter-widgets/controls",
       "_view_module_version": "1.5.0",
       "_view_name": "HTMLView",
       "description": "",
       "description_tooltip": null,
       "layout": "IPY_MODEL_b771626e58634af7aa092d5d717204e8",
       "placeholder": "​",
       "style": "IPY_MODEL_674b5f58f7d540aeac243314c524d17e",
       "value": " 162584/162584 [02:19&lt;00:00, 1251.26it/s]"
      }
     },
     "44168f6b62c942abb861ba0988ad3b70": {
      "model_module": "@jupyter-widgets/controls",
      "model_module_version": "1.5.0",
      "model_name": "HTMLModel",
      "state": {
       "_dom_classes": [],
       "_model_module": "@jupyter-widgets/controls",
       "_model_module_version": "1.5.0",
       "_model_name": "HTMLModel",
       "_view_count": null,
       "_view_module": "@jupyter-widgets/controls",
       "_view_module_version": "1.5.0",
       "_view_name": "HTMLView",
       "description": "",
       "description_tooltip": null,
       "layout": "IPY_MODEL_953c947db538455b982737c2cd737edc",
       "placeholder": "​",
       "style": "IPY_MODEL_f9b74e06d4574ae981040a9856d051d6",
       "value": " 203380/203380 [00:06&lt;00:00, 23173.97it/s]"
      }
     },
     "516cae6fb31041a988c758085f2ad0cd": {
      "model_module": "@jupyter-widgets/base",
      "model_module_version": "1.2.0",
      "model_name": "LayoutModel",
      "state": {
       "_model_module": "@jupyter-widgets/base",
       "_model_module_version": "1.2.0",
       "_model_name": "LayoutModel",
       "_view_count": null,
       "_view_module": "@jupyter-widgets/base",
       "_view_module_version": "1.2.0",
       "_view_name": "LayoutView",
       "align_content": null,
       "align_items": null,
       "align_self": null,
       "border": null,
       "bottom": null,
       "display": null,
       "flex": null,
       "flex_flow": null,
       "grid_area": null,
       "grid_auto_columns": null,
       "grid_auto_flow": null,
       "grid_auto_rows": null,
       "grid_column": null,
       "grid_gap": null,
       "grid_row": null,
       "grid_template_areas": null,
       "grid_template_columns": null,
       "grid_template_rows": null,
       "height": null,
       "justify_content": null,
       "justify_items": null,
       "left": null,
       "margin": null,
       "max_height": null,
       "max_width": null,
       "min_height": null,
       "min_width": null,
       "object_fit": null,
       "object_position": null,
       "order": null,
       "overflow": null,
       "overflow_x": null,
       "overflow_y": null,
       "padding": null,
       "right": null,
       "top": null,
       "visibility": null,
       "width": null
      }
     },
     "5177af1c37c3407881c6d5d9d5ca57d6": {
      "model_module": "@jupyter-widgets/controls",
      "model_module_version": "1.5.0",
      "model_name": "DescriptionStyleModel",
      "state": {
       "_model_module": "@jupyter-widgets/controls",
       "_model_module_version": "1.5.0",
       "_model_name": "DescriptionStyleModel",
       "_view_count": null,
       "_view_module": "@jupyter-widgets/base",
       "_view_module_version": "1.2.0",
       "_view_name": "StyleView",
       "description_width": ""
      }
     },
     "599265ed078b4b63b9618c39f62be775": {
      "model_module": "@jupyter-widgets/controls",
      "model_module_version": "1.5.0",
      "model_name": "HTMLModel",
      "state": {
       "_dom_classes": [],
       "_model_module": "@jupyter-widgets/controls",
       "_model_module_version": "1.5.0",
       "_model_name": "HTMLModel",
       "_view_count": null,
       "_view_module": "@jupyter-widgets/controls",
       "_view_module_version": "1.5.0",
       "_view_name": "HTMLView",
       "description": "",
       "description_tooltip": null,
       "layout": "IPY_MODEL_80ccb6503f9e466d8b80818ff54f2113",
       "placeholder": "​",
       "style": "IPY_MODEL_5177af1c37c3407881c6d5d9d5ca57d6",
       "value": "100%"
      }
     },
     "674b5f58f7d540aeac243314c524d17e": {
      "model_module": "@jupyter-widgets/controls",
      "model_module_version": "1.5.0",
      "model_name": "DescriptionStyleModel",
      "state": {
       "_model_module": "@jupyter-widgets/controls",
       "_model_module_version": "1.5.0",
       "_model_name": "DescriptionStyleModel",
       "_view_count": null,
       "_view_module": "@jupyter-widgets/base",
       "_view_module_version": "1.2.0",
       "_view_name": "StyleView",
       "description_width": ""
      }
     },
     "69f6efdd3f694594b8d2b16c7f1c38fd": {
      "model_module": "@jupyter-widgets/controls",
      "model_module_version": "1.5.0",
      "model_name": "ProgressStyleModel",
      "state": {
       "_model_module": "@jupyter-widgets/controls",
       "_model_module_version": "1.5.0",
       "_model_name": "ProgressStyleModel",
       "_view_count": null,
       "_view_module": "@jupyter-widgets/base",
       "_view_module_version": "1.2.0",
       "_view_name": "StyleView",
       "bar_color": null,
       "description_width": ""
      }
     },
     "80ccb6503f9e466d8b80818ff54f2113": {
      "model_module": "@jupyter-widgets/base",
      "model_module_version": "1.2.0",
      "model_name": "LayoutModel",
      "state": {
       "_model_module": "@jupyter-widgets/base",
       "_model_module_version": "1.2.0",
       "_model_name": "LayoutModel",
       "_view_count": null,
       "_view_module": "@jupyter-widgets/base",
       "_view_module_version": "1.2.0",
       "_view_name": "LayoutView",
       "align_content": null,
       "align_items": null,
       "align_self": null,
       "border": null,
       "bottom": null,
       "display": null,
       "flex": null,
       "flex_flow": null,
       "grid_area": null,
       "grid_auto_columns": null,
       "grid_auto_flow": null,
       "grid_auto_rows": null,
       "grid_column": null,
       "grid_gap": null,
       "grid_row": null,
       "grid_template_areas": null,
       "grid_template_columns": null,
       "grid_template_rows": null,
       "height": null,
       "justify_content": null,
       "justify_items": null,
       "left": null,
       "margin": null,
       "max_height": null,
       "max_width": null,
       "min_height": null,
       "min_width": null,
       "object_fit": null,
       "object_position": null,
       "order": null,
       "overflow": null,
       "overflow_x": null,
       "overflow_y": null,
       "padding": null,
       "right": null,
       "top": null,
       "visibility": null,
       "width": null
      }
     },
     "953c947db538455b982737c2cd737edc": {
      "model_module": "@jupyter-widgets/base",
      "model_module_version": "1.2.0",
      "model_name": "LayoutModel",
      "state": {
       "_model_module": "@jupyter-widgets/base",
       "_model_module_version": "1.2.0",
       "_model_name": "LayoutModel",
       "_view_count": null,
       "_view_module": "@jupyter-widgets/base",
       "_view_module_version": "1.2.0",
       "_view_name": "LayoutView",
       "align_content": null,
       "align_items": null,
       "align_self": null,
       "border": null,
       "bottom": null,
       "display": null,
       "flex": null,
       "flex_flow": null,
       "grid_area": null,
       "grid_auto_columns": null,
       "grid_auto_flow": null,
       "grid_auto_rows": null,
       "grid_column": null,
       "grid_gap": null,
       "grid_row": null,
       "grid_template_areas": null,
       "grid_template_columns": null,
       "grid_template_rows": null,
       "height": null,
       "justify_content": null,
       "justify_items": null,
       "left": null,
       "margin": null,
       "max_height": null,
       "max_width": null,
       "min_height": null,
       "min_width": null,
       "object_fit": null,
       "object_position": null,
       "order": null,
       "overflow": null,
       "overflow_x": null,
       "overflow_y": null,
       "padding": null,
       "right": null,
       "top": null,
       "visibility": null,
       "width": null
      }
     },
     "97cb274db935449aab12a76cd93285f7": {
      "model_module": "@jupyter-widgets/controls",
      "model_module_version": "1.5.0",
      "model_name": "HBoxModel",
      "state": {
       "_dom_classes": [],
       "_model_module": "@jupyter-widgets/controls",
       "_model_module_version": "1.5.0",
       "_model_name": "HBoxModel",
       "_view_count": null,
       "_view_module": "@jupyter-widgets/controls",
       "_view_module_version": "1.5.0",
       "_view_name": "HBoxView",
       "box_style": "",
       "children": [
        "IPY_MODEL_a43646d610e84d2fa48c6834b99bdc7a",
        "IPY_MODEL_f56ff49f7bcb4a13b0f597b283fac39b",
        "IPY_MODEL_3c0f114a63114ce399a557788ac5e4e8"
       ],
       "layout": "IPY_MODEL_def91d6336254bc59c7e5de95a7626c7"
      }
     },
     "a43646d610e84d2fa48c6834b99bdc7a": {
      "model_module": "@jupyter-widgets/controls",
      "model_module_version": "1.5.0",
      "model_name": "HTMLModel",
      "state": {
       "_dom_classes": [],
       "_model_module": "@jupyter-widgets/controls",
       "_model_module_version": "1.5.0",
       "_model_name": "HTMLModel",
       "_view_count": null,
       "_view_module": "@jupyter-widgets/controls",
       "_view_module_version": "1.5.0",
       "_view_name": "HTMLView",
       "description": "",
       "description_tooltip": null,
       "layout": "IPY_MODEL_e1c72b6cfc3742428df65eb12f4a0b0b",
       "placeholder": "​",
       "style": "IPY_MODEL_d6620c8e31b444cab3ce0c2d0a85d897",
       "value": "100%"
      }
     },
     "a7e08bceac784069b42d845fa8dd258c": {
      "model_module": "@jupyter-widgets/controls",
      "model_module_version": "1.5.0",
      "model_name": "HBoxModel",
      "state": {
       "_dom_classes": [],
       "_model_module": "@jupyter-widgets/controls",
       "_model_module_version": "1.5.0",
       "_model_name": "HBoxModel",
       "_view_count": null,
       "_view_module": "@jupyter-widgets/controls",
       "_view_module_version": "1.5.0",
       "_view_name": "HBoxView",
       "box_style": "",
       "children": [
        "IPY_MODEL_599265ed078b4b63b9618c39f62be775",
        "IPY_MODEL_fbc94e820fa74b4eb41e1095e31cde45",
        "IPY_MODEL_44168f6b62c942abb861ba0988ad3b70"
       ],
       "layout": "IPY_MODEL_516cae6fb31041a988c758085f2ad0cd"
      }
     },
     "b1ffd66aca0140d2a372e46866b8bde8": {
      "model_module": "@jupyter-widgets/controls",
      "model_module_version": "1.5.0",
      "model_name": "ProgressStyleModel",
      "state": {
       "_model_module": "@jupyter-widgets/controls",
       "_model_module_version": "1.5.0",
       "_model_name": "ProgressStyleModel",
       "_view_count": null,
       "_view_module": "@jupyter-widgets/base",
       "_view_module_version": "1.2.0",
       "_view_name": "StyleView",
       "bar_color": null,
       "description_width": ""
      }
     },
     "b771626e58634af7aa092d5d717204e8": {
      "model_module": "@jupyter-widgets/base",
      "model_module_version": "1.2.0",
      "model_name": "LayoutModel",
      "state": {
       "_model_module": "@jupyter-widgets/base",
       "_model_module_version": "1.2.0",
       "_model_name": "LayoutModel",
       "_view_count": null,
       "_view_module": "@jupyter-widgets/base",
       "_view_module_version": "1.2.0",
       "_view_name": "LayoutView",
       "align_content": null,
       "align_items": null,
       "align_self": null,
       "border": null,
       "bottom": null,
       "display": null,
       "flex": null,
       "flex_flow": null,
       "grid_area": null,
       "grid_auto_columns": null,
       "grid_auto_flow": null,
       "grid_auto_rows": null,
       "grid_column": null,
       "grid_gap": null,
       "grid_row": null,
       "grid_template_areas": null,
       "grid_template_columns": null,
       "grid_template_rows": null,
       "height": null,
       "justify_content": null,
       "justify_items": null,
       "left": null,
       "margin": null,
       "max_height": null,
       "max_width": null,
       "min_height": null,
       "min_width": null,
       "object_fit": null,
       "object_position": null,
       "order": null,
       "overflow": null,
       "overflow_x": null,
       "overflow_y": null,
       "padding": null,
       "right": null,
       "top": null,
       "visibility": null,
       "width": null
      }
     },
     "b7fdd682ddb54e5391f21fe0245c405f": {
      "model_module": "@jupyter-widgets/base",
      "model_module_version": "1.2.0",
      "model_name": "LayoutModel",
      "state": {
       "_model_module": "@jupyter-widgets/base",
       "_model_module_version": "1.2.0",
       "_model_name": "LayoutModel",
       "_view_count": null,
       "_view_module": "@jupyter-widgets/base",
       "_view_module_version": "1.2.0",
       "_view_name": "LayoutView",
       "align_content": null,
       "align_items": null,
       "align_self": null,
       "border": null,
       "bottom": null,
       "display": null,
       "flex": null,
       "flex_flow": null,
       "grid_area": null,
       "grid_auto_columns": null,
       "grid_auto_flow": null,
       "grid_auto_rows": null,
       "grid_column": null,
       "grid_gap": null,
       "grid_row": null,
       "grid_template_areas": null,
       "grid_template_columns": null,
       "grid_template_rows": null,
       "height": null,
       "justify_content": null,
       "justify_items": null,
       "left": null,
       "margin": null,
       "max_height": null,
       "max_width": null,
       "min_height": null,
       "min_width": null,
       "object_fit": null,
       "object_position": null,
       "order": null,
       "overflow": null,
       "overflow_x": null,
       "overflow_y": null,
       "padding": null,
       "right": null,
       "top": null,
       "visibility": null,
       "width": null
      }
     },
     "c12825eed0c64170b2d3d28a239d1c04": {
      "model_module": "@jupyter-widgets/base",
      "model_module_version": "1.2.0",
      "model_name": "LayoutModel",
      "state": {
       "_model_module": "@jupyter-widgets/base",
       "_model_module_version": "1.2.0",
       "_model_name": "LayoutModel",
       "_view_count": null,
       "_view_module": "@jupyter-widgets/base",
       "_view_module_version": "1.2.0",
       "_view_name": "LayoutView",
       "align_content": null,
       "align_items": null,
       "align_self": null,
       "border": null,
       "bottom": null,
       "display": null,
       "flex": null,
       "flex_flow": null,
       "grid_area": null,
       "grid_auto_columns": null,
       "grid_auto_flow": null,
       "grid_auto_rows": null,
       "grid_column": null,
       "grid_gap": null,
       "grid_row": null,
       "grid_template_areas": null,
       "grid_template_columns": null,
       "grid_template_rows": null,
       "height": null,
       "justify_content": null,
       "justify_items": null,
       "left": null,
       "margin": null,
       "max_height": null,
       "max_width": null,
       "min_height": null,
       "min_width": null,
       "object_fit": null,
       "object_position": null,
       "order": null,
       "overflow": null,
       "overflow_x": null,
       "overflow_y": null,
       "padding": null,
       "right": null,
       "top": null,
       "visibility": null,
       "width": null
      }
     },
     "d6620c8e31b444cab3ce0c2d0a85d897": {
      "model_module": "@jupyter-widgets/controls",
      "model_module_version": "1.5.0",
      "model_name": "DescriptionStyleModel",
      "state": {
       "_model_module": "@jupyter-widgets/controls",
       "_model_module_version": "1.5.0",
       "_model_name": "DescriptionStyleModel",
       "_view_count": null,
       "_view_module": "@jupyter-widgets/base",
       "_view_module_version": "1.2.0",
       "_view_name": "StyleView",
       "description_width": ""
      }
     },
     "def91d6336254bc59c7e5de95a7626c7": {
      "model_module": "@jupyter-widgets/base",
      "model_module_version": "1.2.0",
      "model_name": "LayoutModel",
      "state": {
       "_model_module": "@jupyter-widgets/base",
       "_model_module_version": "1.2.0",
       "_model_name": "LayoutModel",
       "_view_count": null,
       "_view_module": "@jupyter-widgets/base",
       "_view_module_version": "1.2.0",
       "_view_name": "LayoutView",
       "align_content": null,
       "align_items": null,
       "align_self": null,
       "border": null,
       "bottom": null,
       "display": null,
       "flex": null,
       "flex_flow": null,
       "grid_area": null,
       "grid_auto_columns": null,
       "grid_auto_flow": null,
       "grid_auto_rows": null,
       "grid_column": null,
       "grid_gap": null,
       "grid_row": null,
       "grid_template_areas": null,
       "grid_template_columns": null,
       "grid_template_rows": null,
       "height": null,
       "justify_content": null,
       "justify_items": null,
       "left": null,
       "margin": null,
       "max_height": null,
       "max_width": null,
       "min_height": null,
       "min_width": null,
       "object_fit": null,
       "object_position": null,
       "order": null,
       "overflow": null,
       "overflow_x": null,
       "overflow_y": null,
       "padding": null,
       "right": null,
       "top": null,
       "visibility": null,
       "width": null
      }
     },
     "e1c72b6cfc3742428df65eb12f4a0b0b": {
      "model_module": "@jupyter-widgets/base",
      "model_module_version": "1.2.0",
      "model_name": "LayoutModel",
      "state": {
       "_model_module": "@jupyter-widgets/base",
       "_model_module_version": "1.2.0",
       "_model_name": "LayoutModel",
       "_view_count": null,
       "_view_module": "@jupyter-widgets/base",
       "_view_module_version": "1.2.0",
       "_view_name": "LayoutView",
       "align_content": null,
       "align_items": null,
       "align_self": null,
       "border": null,
       "bottom": null,
       "display": null,
       "flex": null,
       "flex_flow": null,
       "grid_area": null,
       "grid_auto_columns": null,
       "grid_auto_flow": null,
       "grid_auto_rows": null,
       "grid_column": null,
       "grid_gap": null,
       "grid_row": null,
       "grid_template_areas": null,
       "grid_template_columns": null,
       "grid_template_rows": null,
       "height": null,
       "justify_content": null,
       "justify_items": null,
       "left": null,
       "margin": null,
       "max_height": null,
       "max_width": null,
       "min_height": null,
       "min_width": null,
       "object_fit": null,
       "object_position": null,
       "order": null,
       "overflow": null,
       "overflow_x": null,
       "overflow_y": null,
       "padding": null,
       "right": null,
       "top": null,
       "visibility": null,
       "width": null
      }
     },
     "f56ff49f7bcb4a13b0f597b283fac39b": {
      "model_module": "@jupyter-widgets/controls",
      "model_module_version": "1.5.0",
      "model_name": "FloatProgressModel",
      "state": {
       "_dom_classes": [],
       "_model_module": "@jupyter-widgets/controls",
       "_model_module_version": "1.5.0",
       "_model_name": "FloatProgressModel",
       "_view_count": null,
       "_view_module": "@jupyter-widgets/controls",
       "_view_module_version": "1.5.0",
       "_view_name": "ProgressView",
       "bar_style": "success",
       "description": "",
       "description_tooltip": null,
       "layout": "IPY_MODEL_b7fdd682ddb54e5391f21fe0245c405f",
       "max": 162584.0,
       "min": 0.0,
       "orientation": "horizontal",
       "style": "IPY_MODEL_b1ffd66aca0140d2a372e46866b8bde8",
       "value": 162584.0
      }
     },
     "f9b74e06d4574ae981040a9856d051d6": {
      "model_module": "@jupyter-widgets/controls",
      "model_module_version": "1.5.0",
      "model_name": "DescriptionStyleModel",
      "state": {
       "_model_module": "@jupyter-widgets/controls",
       "_model_module_version": "1.5.0",
       "_model_name": "DescriptionStyleModel",
       "_view_count": null,
       "_view_module": "@jupyter-widgets/base",
       "_view_module_version": "1.2.0",
       "_view_name": "StyleView",
       "description_width": ""
      }
     },
     "fbc94e820fa74b4eb41e1095e31cde45": {
      "model_module": "@jupyter-widgets/controls",
      "model_module_version": "1.5.0",
      "model_name": "FloatProgressModel",
      "state": {
       "_dom_classes": [],
       "_model_module": "@jupyter-widgets/controls",
       "_model_module_version": "1.5.0",
       "_model_name": "FloatProgressModel",
       "_view_count": null,
       "_view_module": "@jupyter-widgets/controls",
       "_view_module_version": "1.5.0",
       "_view_name": "ProgressView",
       "bar_style": "success",
       "description": "",
       "description_tooltip": null,
       "layout": "IPY_MODEL_c12825eed0c64170b2d3d28a239d1c04",
       "max": 203380.0,
       "min": 0.0,
       "orientation": "horizontal",
       "style": "IPY_MODEL_69f6efdd3f694594b8d2b16c7f1c38fd",
       "value": 203380.0
      }
     }
    },
    "version_major": 2,
    "version_minor": 0
   }
  }
 },
 "nbformat": 4,
 "nbformat_minor": 4
}