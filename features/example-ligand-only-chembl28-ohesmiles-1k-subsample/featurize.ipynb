{
 "cells": [
  {
   "cell_type": "markdown",
   "metadata": {
    "papermill": {
     "duration": 0.006676,
     "end_time": "2021-04-21T08:39:38.498807",
     "exception": false,
     "start_time": "2021-04-21T08:39:38.492131",
     "status": "completed"
    },
    "tags": []
   },
   "source": [
    "# Featurize a dataset\n",
    "\n",
    "Any machine learning model will expect tensorial representations of the chemical data. This notebooks provides a workflow to achieve such goal.\n",
    "\n",
    "`kinoml.dataset.DatasetProvider` objects need to be available to deal with your collection of raw measurements for protein:ligand systems. These objects are, roughly, a list of `kinoml.core.BaseMeasurement`, each containing a set of `.values` and a some extra metadata, like the `system` objects to be featurized here.\n",
    "\n",
    "In ligand-based models, protein information is only considered marginally, and most of the action happens at the ligand level. Usually starting with a string representation such as SMILES, or a database identifier such as a PubChem ID, these are promoted to (usually) RDKit objects and then transformed into a tensor of some form (e.g. fingerprints, molecular graph as an adjacency matrix, etc).\n",
    "\n",
    "Available featurizers can be found under `kinoml.features`."
   ]
  },
  {
   "cell_type": "markdown",
   "metadata": {
    "papermill": {
     "duration": 0.005534,
     "end_time": "2021-04-21T08:39:38.509169",
     "exception": false,
     "start_time": "2021-04-21T08:39:38.503635",
     "status": "completed"
    },
    "tags": []
   },
   "source": [
    "## How to use\n",
    "\n",
    "Run `python run_notebook.py --help` for more information."
   ]
  },
  {
   "cell_type": "code",
   "execution_count": 1,
   "metadata": {
    "execution": {
     "iopub.execute_input": "2021-04-21T08:39:38.532647Z",
     "iopub.status.busy": "2021-04-21T08:39:38.528333Z",
     "iopub.status.idle": "2021-04-21T08:39:38.535312Z",
     "shell.execute_reply": "2021-04-21T08:39:38.534912Z"
    },
    "papermill": {
     "duration": 0.01962,
     "end_time": "2021-04-21T08:39:38.535419",
     "exception": false,
     "start_time": "2021-04-21T08:39:38.515799",
     "status": "completed"
    },
    "tags": []
   },
   "outputs": [],
   "source": [
    "# If this is the template file (and not a copy) and you are introducing changes,\n",
    "# update VERSION with the current date (YYYY.MM.DD)\n",
    "VERSION = \"2021.04.21\" "
   ]
  },
  {
   "cell_type": "markdown",
   "metadata": {
    "papermill": {
     "duration": 0.004172,
     "end_time": "2021-04-21T08:39:38.544514",
     "exception": false,
     "start_time": "2021-04-21T08:39:38.540342",
     "status": "completed"
    },
    "tags": []
   },
   "source": [
    "## ✏ Define hyper parameters"
   ]
  },
  {
   "cell_type": "code",
   "execution_count": 2,
   "metadata": {
    "execution": {
     "iopub.execute_input": "2021-04-21T08:39:38.562183Z",
     "iopub.status.busy": "2021-04-21T08:39:38.561760Z",
     "iopub.status.idle": "2021-04-21T08:39:38.564373Z",
     "shell.execute_reply": "2021-04-21T08:39:38.564050Z"
    },
    "papermill": {
     "duration": 0.013292,
     "end_time": "2021-04-21T08:39:38.564460",
     "exception": false,
     "start_time": "2021-04-21T08:39:38.551168",
     "status": "completed"
    },
    "tags": [
     "parameters"
    ]
   },
   "outputs": [],
   "source": [
    "# TEMPLATE VALUES -- these are overriden (see below if executed) by papermill using a YAML or Python file as input\n",
    "DATASET_CLS = \"import.path.to.DatasetProvider\"\n",
    "DATASET_KWARGS = {\"option\": \"value\", \"option2\": \"value2\"}\n",
    "\n",
    "PIPELINES = {\n",
    "    \"someuniquekey\": [\n",
    "        (\"import.path.to.SomeFeaturizer\", {\"option\": \"value\", \"option2\": \"value2\"}),\n",
    "        (\"import.path.to.SomeOtherFeaturizer\", {\"option\": \"value\", \"option2\": \"value2\"}),\n",
    "    ]\n",
    "}\n",
    "PIPELINES_AGG = \"kinoml.features.core.Concatenated\"\n",
    "PIPELINES_AGG_KWARGS = {}\n",
    "\n",
    "GROUPS = [\n",
    "    (\"kinoml.datasets.groups.CallableGrouper\", {\"function\": \"lambda something: something.attribute\"}),\n",
    "    (\"kinoml.datasets.groups.CallableGrouper\", {\"function\": \"lambda otherthing: otherthing.attribute2\"})\n",
    "]\n",
    "\n",
    "TRAIN_TEST_VAL_KWARGS = {\"idx_train\": 0.8, \"idx_test\": 0.1, \"idx_val\": 0.1}\n",
    "\n",
    "## IGNORE THIS ONE\n",
    "HERE = _dh[-1]"
   ]
  },
  {
   "cell_type": "code",
   "execution_count": 3,
   "id": "7d05a315",
   "metadata": {
    "execution": {
     "iopub.execute_input": "2021-04-21T08:39:38.579922Z",
     "iopub.status.busy": "2021-04-21T08:39:38.579556Z",
     "iopub.status.idle": "2021-04-21T08:39:38.582019Z",
     "shell.execute_reply": "2021-04-21T08:39:38.582336Z"
    },
    "papermill": {
     "duration": 0.0131,
     "end_time": "2021-04-21T08:39:38.582454",
     "exception": false,
     "start_time": "2021-04-21T08:39:38.569354",
     "status": "completed"
    },
    "tags": [
     "injected-parameters"
    ]
   },
   "outputs": [],
   "source": [
    "# Parameters\n",
    "DATASET_CLS = \"kinoml.datasets.chembl.ChEMBLDatasetProvider\"\n",
    "DATASET_KWARGS = {\n",
    "    \"path_or_url\": \"https://github.com/openkinome/kinodata/releases/download/v0.2/activities-chembl28-sample100_v0.2.zip\"\n",
    "}\n",
    "PIPELINES = {\n",
    "    \"ligand\": [\n",
    "        [\"kinoml.features.ligand.SmilesToLigandFeaturizer\", {}],\n",
    "        [\"kinoml.features.ligand.OneHotSMILESFeaturizer\", {}],\n",
    "        [\"kinoml.features.core.PadFeaturizer\", {\"shape\": \"auto\"}],\n",
    "    ]\n",
    "}\n",
    "PIPELINES_AGG = \"kinoml.features.core.Concatenated\"\n",
    "PIPELINES_AGG_KWARGS = {}\n",
    "FEATURIZE_KWARGS = {}\n",
    "GROUPS = [\n",
    "    [\n",
    "        \"kinoml.datasets.groups.CallableGrouper\",\n",
    "        {\"function\": \"lambda measurement: measurement.system.protein.name\"},\n",
    "    ],\n",
    "    [\n",
    "        \"kinoml.datasets.groups.CallableGrouper\",\n",
    "        {\"function\": \"lambda measurement: type(measurement).__name__\"},\n",
    "    ],\n",
    "]\n",
    "TRAIN_TEST_VAL_KWARGS = {\"idx_train\": 0.8, \"idx_test\": 0.1, \"idx_val\": 0.1}\n",
    "HERE = \"/home/jaime/devel/py/openkinome/experiments-binding-affinity/features/example-ligand-only-chembl28-ohesmiles-1k-subsample\"\n"
   ]
  },
  {
   "cell_type": "markdown",
   "metadata": {
    "papermill": {
     "duration": 0.005105,
     "end_time": "2021-04-21T08:39:38.592256",
     "exception": false,
     "start_time": "2021-04-21T08:39:38.587151",
     "status": "completed"
    },
    "tags": []
   },
   "source": [
    "⚠ From here on, you should _not_ need to modify anything else 🤞\n",
    "\n",
    "---\n",
    "\n",
    "Define key paths for data and outputs:"
   ]
  },
  {
   "cell_type": "code",
   "execution_count": 4,
   "metadata": {
    "execution": {
     "iopub.execute_input": "2021-04-21T08:39:38.610983Z",
     "iopub.status.busy": "2021-04-21T08:39:38.610520Z",
     "iopub.status.idle": "2021-04-21T08:39:38.613680Z",
     "shell.execute_reply": "2021-04-21T08:39:38.613342Z"
    },
    "papermill": {
     "duration": 0.014514,
     "end_time": "2021-04-21T08:39:38.613764",
     "exception": false,
     "start_time": "2021-04-21T08:39:38.599250",
     "status": "completed"
    },
    "tags": []
   },
   "outputs": [
    {
     "name": "stdout",
     "output_type": "stream",
     "text": [
      "This notebook:           HERE = /home/jaime/devel/py/openkinome/experiments-binding-affinity/features/example-ligand-only-chembl28-ohesmiles-1k-subsample\n",
      "This repo:               REPO = /home/jaime/devel/py/openkinome/experiments-binding-affinity\n",
      "Outputs in:               OUT = /home/jaime/devel/py/openkinome/experiments-binding-affinity/features/example-ligand-only-chembl28-ohesmiles-1k-subsample/_output/ligand__SmilesToLigandFeaturizer__OneHotSMILESFeaturizer__PadFeaturizer_shape=auto/ChEMBLDatasetProvider\n"
     ]
    }
   ],
   "source": [
    "from pathlib import Path\n",
    "\n",
    "HERE = Path(HERE)\n",
    "for parent in HERE.parents:\n",
    "    if next(parent.glob(\".github/\"), None):\n",
    "        REPO = parent\n",
    "        break\n",
    "\n",
    "# Generate paths for this pipeline\n",
    "featurizer_path = []\n",
    "for name, branch in PIPELINES.items():\n",
    "    featurizer_path.append(name)\n",
    "    for clsname, kwargs in branch:\n",
    "        clsname = clsname.rsplit(\".\", 1)[1]\n",
    "        kwargs = [f\"{k}={''.join(c for c in str(v) if c.isalnum())}\" for k,v in kwargs.items()]\n",
    "        featurizer_path.append(\"_\".join([clsname] + kwargs))\n",
    "\n",
    "OUT = HERE / \"_output\"  / \"__\".join(featurizer_path) / DATASET_CLS.rsplit('.', 1)[1]\n",
    "OUT.mkdir(parents=True, exist_ok=True)\n",
    "\n",
    "print(f\"This notebook:           HERE = {HERE}\")\n",
    "print(f\"This repo:               REPO = {REPO}\")\n",
    "print(f\"Outputs in:               OUT = {OUT}\")"
   ]
  },
  {
   "cell_type": "code",
   "execution_count": 5,
   "metadata": {
    "execution": {
     "iopub.execute_input": "2021-04-21T08:39:38.629518Z",
     "iopub.status.busy": "2021-04-21T08:39:38.628814Z",
     "iopub.status.idle": "2021-04-21T08:39:38.631044Z",
     "shell.execute_reply": "2021-04-21T08:39:38.631317Z"
    },
    "papermill": {
     "duration": 0.012729,
     "end_time": "2021-04-21T08:39:38.631420",
     "exception": false,
     "start_time": "2021-04-21T08:39:38.618691",
     "status": "completed"
    },
    "tags": []
   },
   "outputs": [],
   "source": [
    "# Nasty trick: save all-caps local variables (CONSTANTS working as hyperparametrs) so far in a dict to save it later\n",
    "_hparams = {key: value for key, value in locals().items() if key.upper() == key and not key.startswith((\"_\", \"OE_\"))}"
   ]
  },
  {
   "cell_type": "markdown",
   "metadata": {
    "papermill": {
     "duration": 0.005631,
     "end_time": "2021-04-21T08:39:38.641890",
     "exception": false,
     "start_time": "2021-04-21T08:39:38.636259",
     "status": "completed"
    },
    "tags": []
   },
   "source": [
    "## Setup is finished, start working"
   ]
  },
  {
   "cell_type": "code",
   "execution_count": 6,
   "metadata": {
    "execution": {
     "iopub.execute_input": "2021-04-21T08:39:38.656734Z",
     "iopub.status.busy": "2021-04-21T08:39:38.656356Z",
     "iopub.status.idle": "2021-04-21T08:39:39.078503Z",
     "shell.execute_reply": "2021-04-21T08:39:39.078835Z"
    },
    "papermill": {
     "duration": 0.431276,
     "end_time": "2021-04-21T08:39:39.078953",
     "exception": false,
     "start_time": "2021-04-21T08:39:38.647677",
     "status": "completed"
    },
    "tags": []
   },
   "outputs": [
    {
     "name": "stdout",
     "output_type": "stream",
     "text": [
      "Run started at 2021-04-21 10:39:39.073911\n"
     ]
    }
   ],
   "source": [
    "from warnings import warn\n",
    "import os\n",
    "import sys\n",
    "from pathlib import Path\n",
    "from datetime import datetime\n",
    "\n",
    "import numpy as np\n",
    "\n",
    "from kinoml.utils import seed_everything, import_object\n",
    "seed_everything();\n",
    "print(\"Run started at\", datetime.now())"
   ]
  },
  {
   "cell_type": "markdown",
   "metadata": {
    "papermill": {
     "duration": 0.005306,
     "end_time": "2021-04-21T08:39:39.089336",
     "exception": false,
     "start_time": "2021-04-21T08:39:39.084030",
     "status": "completed"
    },
    "tags": []
   },
   "source": [
    "## Load raw data\n",
    "\n",
    "> This `import_object` function allows us to take a `str` containing a Python import path (e.g. `kinoml.datasets.chembl.ChEMBLDatasetProvider`) and obtain the imported object directly. That's how we can encode classes in JSON-only `papermill` inputs.\n",
    ">\n",
    "> See the help message `import_object?` for more info."
   ]
  },
  {
   "cell_type": "code",
   "execution_count": 7,
   "metadata": {
    "execution": {
     "iopub.execute_input": "2021-04-21T08:39:39.105385Z",
     "iopub.status.busy": "2021-04-21T08:39:39.104986Z",
     "iopub.status.idle": "2021-04-21T08:39:39.907383Z",
     "shell.execute_reply": "2021-04-21T08:39:39.907710Z"
    },
    "papermill": {
     "duration": 0.812805,
     "end_time": "2021-04-21T08:39:39.907835",
     "exception": false,
     "start_time": "2021-04-21T08:39:39.095030",
     "status": "completed"
    },
    "tags": []
   },
   "outputs": [
    {
     "name": "stderr",
     "output_type": "stream",
     "text": [
      "Warning: Unable to load toolkit 'OpenEye Toolkit'. The Open Force Field Toolkit does not require the OpenEye Toolkits, and can use RDKit/AmberTools instead. However, if you have a valid license for the OpenEye Toolkits, consider installing them for faster performance and additional file format support: https://docs.eyesopen.com/toolkits/python/quickstart-python/linuxosx.html OpenEye offers free Toolkit licenses for academics: https://www.eyesopen.com/academic-licensing\n"
     ]
    },
    {
     "data": {
      "application/vnd.jupyter.widget-view+json": {
       "model_id": "542a5a63aa6c44cc946cae1793eb1c02",
       "version_major": 2,
       "version_minor": 0
      },
      "text/plain": [
       "  0%|          | 0/100 [00:00<?, ?it/s]"
      ]
     },
     "metadata": {},
     "output_type": "display_data"
    },
    {
     "data": {
      "text/plain": [
       "<ChEMBLDatasetProvider with 100 measurements (pIC50Measurement=33, pKiMeasurement=63, pKdMeasurement=4), and 100 systems (AminoAcidSequence=15, SmilesLigand=97)>"
      ]
     },
     "execution_count": 7,
     "metadata": {},
     "output_type": "execute_result"
    }
   ],
   "source": [
    "dataset = import_object(DATASET_CLS).from_source(**DATASET_KWARGS)\n",
    "dataset"
   ]
  },
  {
   "cell_type": "code",
   "execution_count": 8,
   "metadata": {
    "execution": {
     "iopub.execute_input": "2021-04-21T08:39:39.926777Z",
     "iopub.status.busy": "2021-04-21T08:39:39.926356Z",
     "iopub.status.idle": "2021-04-21T08:39:39.936869Z",
     "shell.execute_reply": "2021-04-21T08:39:39.937123Z"
    },
    "papermill": {
     "duration": 0.023848,
     "end_time": "2021-04-21T08:39:39.937226",
     "exception": false,
     "start_time": "2021-04-21T08:39:39.913378",
     "status": "completed"
    },
    "tags": []
   },
   "outputs": [
    {
     "data": {
      "text/html": [
       "<div>\n",
       "<style scoped>\n",
       "    .dataframe tbody tr th:only-of-type {\n",
       "        vertical-align: middle;\n",
       "    }\n",
       "\n",
       "    .dataframe tbody tr th {\n",
       "        vertical-align: top;\n",
       "    }\n",
       "\n",
       "    .dataframe thead th {\n",
       "        text-align: right;\n",
       "    }\n",
       "</style>\n",
       "<table border=\"1\" class=\"dataframe\">\n",
       "  <thead>\n",
       "    <tr style=\"text-align: right;\">\n",
       "      <th></th>\n",
       "      <th>Systems</th>\n",
       "      <th>n_components</th>\n",
       "      <th>Measurement</th>\n",
       "      <th>MeasurementType</th>\n",
       "    </tr>\n",
       "  </thead>\n",
       "  <tbody>\n",
       "    <tr>\n",
       "      <th>0</th>\n",
       "      <td>O75116 &amp; CCCC(=O)Nc1cccc(-c2nc(Nc3ccc4[nH]ncc4...</td>\n",
       "      <td>2</td>\n",
       "      <td>14.096910</td>\n",
       "      <td>pIC50Measurement</td>\n",
       "    </tr>\n",
       "    <tr>\n",
       "      <th>1</th>\n",
       "      <td>O75116 &amp; CCCC(=O)Nc1cccc(-c2nc(Nc3ccc4[nH]ncc4...</td>\n",
       "      <td>2</td>\n",
       "      <td>14.000000</td>\n",
       "      <td>pIC50Measurement</td>\n",
       "    </tr>\n",
       "    <tr>\n",
       "      <th>2</th>\n",
       "      <td>O75116 &amp; CCCC(=O)Nc1cccc(-c2nc(Nc3ccc4[nH]ncc4...</td>\n",
       "      <td>2</td>\n",
       "      <td>14.000000</td>\n",
       "      <td>pIC50Measurement</td>\n",
       "    </tr>\n",
       "    <tr>\n",
       "      <th>3</th>\n",
       "      <td>O75116 &amp; CCCC(=O)Nc1cccc(-c2nc(Nc3ccc4[nH]ncc4...</td>\n",
       "      <td>2</td>\n",
       "      <td>13.958607</td>\n",
       "      <td>pIC50Measurement</td>\n",
       "    </tr>\n",
       "    <tr>\n",
       "      <th>4</th>\n",
       "      <td>O75116 &amp; CCCC(=O)Nc1cccc(-c2nc(Nc3ccc4[nH]ncc4...</td>\n",
       "      <td>2</td>\n",
       "      <td>13.920819</td>\n",
       "      <td>pIC50Measurement</td>\n",
       "    </tr>\n",
       "    <tr>\n",
       "      <th>...</th>\n",
       "      <td>...</td>\n",
       "      <td>...</td>\n",
       "      <td>...</td>\n",
       "      <td>...</td>\n",
       "    </tr>\n",
       "    <tr>\n",
       "      <th>95</th>\n",
       "      <td>P48736 &amp; COc1cncc(N2CCc3nc(NC(=O)NCCc4cn(CCF)c...</td>\n",
       "      <td>2</td>\n",
       "      <td>11.221849</td>\n",
       "      <td>pKiMeasurement</td>\n",
       "    </tr>\n",
       "    <tr>\n",
       "      <th>96</th>\n",
       "      <td>Q16539 &amp; CC(C)(C)c1cc(NC(=O)NCc2ccccc2Sc2ccc3n...</td>\n",
       "      <td>2</td>\n",
       "      <td>12.000000</td>\n",
       "      <td>pKdMeasurement</td>\n",
       "    </tr>\n",
       "    <tr>\n",
       "      <th>97</th>\n",
       "      <td>P31749 &amp; Cc1ccc(-c2nc(SCC(=O)O)c3c(=O)n(C)c(=O...</td>\n",
       "      <td>2</td>\n",
       "      <td>11.892790</td>\n",
       "      <td>pKdMeasurement</td>\n",
       "    </tr>\n",
       "    <tr>\n",
       "      <th>98</th>\n",
       "      <td>P68400 &amp; CC(=O)Nc1cc(Nc2cc(NC3CC3)n3ncc(C#N)c3...</td>\n",
       "      <td>2</td>\n",
       "      <td>11.308919</td>\n",
       "      <td>pKdMeasurement</td>\n",
       "    </tr>\n",
       "    <tr>\n",
       "      <th>99</th>\n",
       "      <td>O75116 &amp; N=C(N)NCCC[C@@H](NC(=O)[C@@H](CCCNC(=...</td>\n",
       "      <td>2</td>\n",
       "      <td>11.251812</td>\n",
       "      <td>pKdMeasurement</td>\n",
       "    </tr>\n",
       "  </tbody>\n",
       "</table>\n",
       "<p>100 rows × 4 columns</p>\n",
       "</div>"
      ],
      "text/plain": [
       "                                              Systems  n_components  \\\n",
       "0   O75116 & CCCC(=O)Nc1cccc(-c2nc(Nc3ccc4[nH]ncc4...             2   \n",
       "1   O75116 & CCCC(=O)Nc1cccc(-c2nc(Nc3ccc4[nH]ncc4...             2   \n",
       "2   O75116 & CCCC(=O)Nc1cccc(-c2nc(Nc3ccc4[nH]ncc4...             2   \n",
       "3   O75116 & CCCC(=O)Nc1cccc(-c2nc(Nc3ccc4[nH]ncc4...             2   \n",
       "4   O75116 & CCCC(=O)Nc1cccc(-c2nc(Nc3ccc4[nH]ncc4...             2   \n",
       "..                                                ...           ...   \n",
       "95  P48736 & COc1cncc(N2CCc3nc(NC(=O)NCCc4cn(CCF)c...             2   \n",
       "96  Q16539 & CC(C)(C)c1cc(NC(=O)NCc2ccccc2Sc2ccc3n...             2   \n",
       "97  P31749 & Cc1ccc(-c2nc(SCC(=O)O)c3c(=O)n(C)c(=O...             2   \n",
       "98  P68400 & CC(=O)Nc1cc(Nc2cc(NC3CC3)n3ncc(C#N)c3...             2   \n",
       "99  O75116 & N=C(N)NCCC[C@@H](NC(=O)[C@@H](CCCNC(=...             2   \n",
       "\n",
       "    Measurement   MeasurementType  \n",
       "0     14.096910  pIC50Measurement  \n",
       "1     14.000000  pIC50Measurement  \n",
       "2     14.000000  pIC50Measurement  \n",
       "3     13.958607  pIC50Measurement  \n",
       "4     13.920819  pIC50Measurement  \n",
       "..          ...               ...  \n",
       "95    11.221849    pKiMeasurement  \n",
       "96    12.000000    pKdMeasurement  \n",
       "97    11.892790    pKdMeasurement  \n",
       "98    11.308919    pKdMeasurement  \n",
       "99    11.251812    pKdMeasurement  \n",
       "\n",
       "[100 rows x 4 columns]"
      ]
     },
     "execution_count": 8,
     "metadata": {},
     "output_type": "execute_result"
    }
   ],
   "source": [
    "df = dataset.to_dataframe()\n",
    "df"
   ]
  },
  {
   "cell_type": "markdown",
   "metadata": {
    "papermill": {
     "duration": 0.004575,
     "end_time": "2021-04-21T08:39:39.946677",
     "exception": false,
     "start_time": "2021-04-21T08:39:39.942102",
     "status": "completed"
    },
    "tags": []
   },
   "source": [
    "## Featurize"
   ]
  },
  {
   "cell_type": "code",
   "execution_count": 9,
   "metadata": {
    "execution": {
     "iopub.execute_input": "2021-04-21T08:39:39.965264Z",
     "iopub.status.busy": "2021-04-21T08:39:39.964188Z",
     "iopub.status.idle": "2021-04-21T08:39:39.970688Z",
     "shell.execute_reply": "2021-04-21T08:39:39.971228Z"
    },
    "papermill": {
     "duration": 0.01965,
     "end_time": "2021-04-21T08:39:39.971345",
     "exception": false,
     "start_time": "2021-04-21T08:39:39.951695",
     "status": "completed"
    },
    "tags": []
   },
   "outputs": [
    {
     "name": "stdout",
     "output_type": "stream",
     "text": [
      "Building featurizer `ligand` with instructions:\n",
      "  Instantiating `kinoml.features.ligand.SmilesToLigandFeaturizer` with options `{}`\n",
      "  Instantiating `kinoml.features.ligand.OneHotSMILESFeaturizer` with options `{}`\n",
      "  Instantiating `kinoml.features.core.PadFeaturizer` with options `{'shape': 'auto'}`\n",
      "Resulting pipelines: <Pipeline([SmilesToLigandFeaturizer, OneHotSMILESFeaturizer, PadFeaturizer])>\n",
      "Aggregated pipelines: <Concatenated([Pipeline([SmilesToLigandFeaturizer, OneHotSMILESFeaturizer, PadFeaturizer])])>\n"
     ]
    }
   ],
   "source": [
    "# build pipeline\n",
    "from kinoml.features.core import Pipeline\n",
    "\n",
    "pipelines = []\n",
    "for key, pipeline_instructions in PIPELINES.items():\n",
    "    print(f\"Building featurizer `{key}` with instructions:\")\n",
    "    featurizers = []\n",
    "    for featurizer_import_str, kwargs in pipeline_instructions:\n",
    "        kwargs = kwargs or {}  # make sure empty values (None, \"\") turn into {} so we can do **kwargs below\n",
    "        print(f\"  Instantiating `{featurizer_import_str}` with options `{kwargs}`\")\n",
    "        featurizers.append(import_object(featurizer_import_str)(**kwargs))\n",
    "    pipelines.append(Pipeline(featurizers))\n",
    "print(\"Resulting pipelines:\", *pipelines)\n",
    "aggregated_pipeline = import_object(PIPELINES_AGG)(pipelines, **PIPELINES_AGG_KWARGS)\n",
    "print(\"Aggregated pipelines:\", aggregated_pipeline)"
   ]
  },
  {
   "cell_type": "code",
   "execution_count": 10,
   "metadata": {
    "execution": {
     "iopub.execute_input": "2021-04-21T08:39:39.995937Z",
     "iopub.status.busy": "2021-04-21T08:39:39.990428Z",
     "iopub.status.idle": "2021-04-21T08:39:40.119862Z",
     "shell.execute_reply": "2021-04-21T08:39:40.119571Z"
    },
    "papermill": {
     "duration": 0.142882,
     "end_time": "2021-04-21T08:39:40.119953",
     "exception": false,
     "start_time": "2021-04-21T08:39:39.977071",
     "status": "completed"
    },
    "tags": []
   },
   "outputs": [],
   "source": [
    "# prefeaturize everything\n",
    "aggregated_pipeline.featurize(dataset.systems);"
   ]
  },
  {
   "cell_type": "markdown",
   "metadata": {
    "papermill": {
     "duration": 0.005431,
     "end_time": "2021-04-21T08:39:40.130555",
     "exception": false,
     "start_time": "2021-04-21T08:39:40.125124",
     "status": "completed"
    },
    "tags": []
   },
   "source": [
    "## Filter"
   ]
  },
  {
   "cell_type": "markdown",
   "metadata": {
    "papermill": {
     "duration": 0.005662,
     "end_time": "2021-04-21T08:39:40.140933",
     "exception": false,
     "start_time": "2021-04-21T08:39:40.135271",
     "status": "completed"
    },
    "tags": []
   },
   "source": [
    "Remove systems that couldn't be featurized. Successful featurizations are stored in `measurement.system.featurizations['last']` so we test for that key existence."
   ]
  },
  {
   "cell_type": "code",
   "execution_count": 11,
   "metadata": {
    "execution": {
     "iopub.execute_input": "2021-04-21T08:39:40.161450Z",
     "iopub.status.busy": "2021-04-21T08:39:40.161034Z",
     "iopub.status.idle": "2021-04-21T08:39:40.164359Z",
     "shell.execute_reply": "2021-04-21T08:39:40.164661Z"
    },
    "papermill": {
     "duration": 0.016263,
     "end_time": "2021-04-21T08:39:40.164782",
     "exception": false,
     "start_time": "2021-04-21T08:39:40.148519",
     "status": "completed"
    },
    "tags": []
   },
   "outputs": [],
   "source": [
    "from kinoml.datasets.groups import CallableGrouper, RandomGrouper\n",
    "grouper = CallableGrouper(lambda measurement: 'invalid' if 'last' not in measurement.system.featurizations else 'valid')\n",
    "grouper.assign(dataset, overwrite=True, progress=False)\n",
    "groups = dataset.split_by_groups()\n",
    "if \"invalid\" in groups:\n",
    "    _invalid = groups.pop(\"invalid\")\n",
    "    warn(f\"{len(_invalid)} entries could not be featurized!. Possible errors:\")\n",
    "    warn(f\"{_invalid[0].system.featurizations}\")"
   ]
  },
  {
   "cell_type": "markdown",
   "metadata": {
    "papermill": {
     "duration": 0.005117,
     "end_time": "2021-04-21T08:39:40.176463",
     "exception": false,
     "start_time": "2021-04-21T08:39:40.171346",
     "status": "completed"
    },
    "tags": []
   },
   "source": [
    "## Groups\n",
    "\n",
    "Cumulatively apply groups."
   ]
  },
  {
   "cell_type": "code",
   "execution_count": 12,
   "metadata": {
    "execution": {
     "iopub.execute_input": "2021-04-21T08:39:40.193992Z",
     "iopub.status.busy": "2021-04-21T08:39:40.193459Z",
     "iopub.status.idle": "2021-04-21T08:39:40.196911Z",
     "shell.execute_reply": "2021-04-21T08:39:40.196632Z"
    },
    "papermill": {
     "duration": 0.015076,
     "end_time": "2021-04-21T08:39:40.197003",
     "exception": false,
     "start_time": "2021-04-21T08:39:40.181927",
     "status": "completed"
    },
    "tags": []
   },
   "outputs": [
    {
     "name": "stdout",
     "output_type": "stream",
     "text": [
      "10 groups to show keys:\n",
      "('valid', 'O75116', 'pIC50Measurement')\n",
      "('valid', 'O75116', 'pKdMeasurement')\n",
      "('valid', 'P23458', 'pIC50Measurement')\n",
      "('valid', 'Q96Q04', 'pIC50Measurement')\n",
      "('valid', 'P00533', 'pIC50Measurement')\n",
      "('valid', 'O60674', 'pIC50Measurement')\n",
      "('valid', 'O60674', 'pKiMeasurement')\n",
      "('valid', 'P28482', 'pIC50Measurement')\n",
      "('valid', 'P50750', 'pIC50Measurement')\n",
      "('valid', 'P52333', 'pIC50Measurement')\n"
     ]
    }
   ],
   "source": [
    "groups[(\"valid\",)] = groups.pop(\"valid\")\n",
    "for grouper_str, grouper_kwargs in GROUPS:\n",
    "    grouper_cls = import_object(grouper_str)\n",
    "    ## We need this because lambda functions are not JSON-serializable\n",
    "    if issubclass(grouper_cls, CallableGrouper):\n",
    "        for k, v in list(grouper_kwargs.items()):\n",
    "            if k == \"function\" and isinstance(v, str):\n",
    "                grouper_kwargs[k] = eval(v)  # sorry :)\n",
    "    ## End of lambda hack\n",
    "    grouper = grouper_cls(**grouper_kwargs)        \n",
    "    for group_key in list(groups.keys()):\n",
    "        grouper.assign(groups[group_key], overwrite=True, progress=False)\n",
    "        for subkey, subgroup in groups.pop(group_key).split_by_groups().items():\n",
    "            groups[group_key + (subkey,)] = subgroup\n",
    "print(\"10 groups to show keys:\", *list(groups.keys())[:10], sep=\"\\n\")"
   ]
  },
  {
   "cell_type": "markdown",
   "metadata": {
    "papermill": {
     "duration": 0.00579,
     "end_time": "2021-04-21T08:39:40.207839",
     "exception": false,
     "start_time": "2021-04-21T08:39:40.202049",
     "status": "completed"
    },
    "tags": []
   },
   "source": [
    "## Write tensors to disk\n",
    "\n",
    "Output files are written to `_output/<PIPELINE>/<DATASET>/<GROUP>.npz` files.\n",
    "\n",
    "Each `npz` will contain two `np.ndarray` objects: `X` (featurized systems) and `y` (associated measurements), plus the train/test/validation indices."
   ]
  },
  {
   "cell_type": "code",
   "execution_count": 13,
   "metadata": {
    "execution": {
     "iopub.execute_input": "2021-04-21T08:39:40.223949Z",
     "iopub.status.busy": "2021-04-21T08:39:40.223572Z",
     "iopub.status.idle": "2021-04-21T08:39:40.281421Z",
     "shell.execute_reply": "2021-04-21T08:39:40.281722Z"
    },
    "papermill": {
     "duration": 0.068705,
     "end_time": "2021-04-21T08:39:40.281839",
     "exception": false,
     "start_time": "2021-04-21T08:39:40.213134",
     "status": "completed"
    },
    "tags": []
   },
   "outputs": [],
   "source": [
    "random_grouper = RandomGrouper(TRAIN_TEST_VAL_KWARGS)\n",
    "\n",
    "for group, ds in sorted(groups.items(), key=lambda kv: len(kv[1]), reverse=True):\n",
    "    indices = random_grouper.indices(ds)\n",
    "    X = np.asarray(ds.featurized_systems())\n",
    "    y = ds.measurements_as_array()\n",
    "    np.savez(OUT / f\"{'__'.join([g for g in group if g != 'valid'])}.npz\", X=X, y=y.astype(\"float32\"), **indices)"
   ]
  },
  {
   "cell_type": "code",
   "execution_count": 14,
   "metadata": {
    "execution": {
     "iopub.execute_input": "2021-04-21T08:39:40.297911Z",
     "iopub.status.busy": "2021-04-21T08:39:40.297334Z",
     "iopub.status.idle": "2021-04-21T08:39:40.302582Z",
     "shell.execute_reply": "2021-04-21T08:39:40.302210Z"
    },
    "papermill": {
     "duration": 0.015036,
     "end_time": "2021-04-21T08:39:40.302685",
     "exception": false,
     "start_time": "2021-04-21T08:39:40.287649",
     "status": "completed"
    },
    "tags": []
   },
   "outputs": [
    {
     "name": "stdout",
     "output_type": "stream",
     "text": [
      "Run finished at 2021-04-21 10:39:40.295765\n"
     ]
    }
   ],
   "source": [
    "print(\"Run finished at\", datetime.now())"
   ]
  },
  {
   "cell_type": "markdown",
   "metadata": {
    "papermill": {
     "duration": 0.005208,
     "end_time": "2021-04-21T08:39:40.313291",
     "exception": false,
     "start_time": "2021-04-21T08:39:40.308083",
     "status": "completed"
    },
    "tags": []
   },
   "source": [
    "# Reproducibility logs"
   ]
  },
  {
   "cell_type": "code",
   "execution_count": 15,
   "metadata": {
    "execution": {
     "iopub.execute_input": "2021-04-21T08:39:40.328543Z",
     "iopub.status.busy": "2021-04-21T08:39:40.328120Z",
     "iopub.status.idle": "2021-04-21T08:39:42.966944Z",
     "shell.execute_reply": "2021-04-21T08:39:42.966559Z"
    },
    "papermill": {
     "duration": 2.647806,
     "end_time": "2021-04-21T08:39:42.967097",
     "exception": false,
     "start_time": "2021-04-21T08:39:40.319291",
     "status": "completed"
    },
    "tags": []
   },
   "outputs": [
    {
     "name": "stdout",
     "output_type": "stream",
     "text": [
      "Watermark\n",
      "---------\n",
      "Last updated: 2021-04-21T10:39:40.334074+02:00\n",
      "\n",
      "Python implementation: CPython\n",
      "Python version       : 3.8.8\n",
      "IPython version      : 7.22.0\n",
      "\n",
      "Compiler    : GCC 9.3.0\n",
      "OS          : Linux\n",
      "Release     : 4.19.128-microsoft-standard\n",
      "Machine     : x86_64\n",
      "Processor   : x86_64\n",
      "CPU cores   : 8\n",
      "Architecture: 64bit\n",
      "\n",
      "Hostname: jrodriguez\n",
      "\n",
      "Git hash: 8178e91af5b8d96c4f3ece683237a3a256e4e6d0\n",
      "\n",
      "numpy: 1.20.2\n",
      "sys  : 3.8.8 | packaged by conda-forge | (default, Feb 20 2021, 16:22:27) \n",
      "[GCC 9.3.0]\n",
      "\n",
      "Watermark: 2.2.0\n",
      "\n",
      "\n",
      "nvidia-smi\n",
      "----------\n",
      "stdout:\n",
      "NVIDIA-SMI has failed because it couldn't communicate with the NVIDIA driver. Make sure that the latest NVIDIA driver is installed and running.\n",
      "\n",
      "conda info\n",
      "----------\n"
     ]
    },
    {
     "name": "stdout",
     "output_type": "stream",
     "text": [
      "sys.version: 3.7.6 | packaged by conda-forge | (defau...\n",
      "sys.prefix: /opt/miniconda\n",
      "sys.executable: /opt/miniconda/bin/python\n",
      "conda location: /opt/miniconda/lib/python3.7/site-packages/conda\n",
      "conda-build: /opt/miniconda/bin/conda-build\n",
      "conda-convert: /opt/miniconda/bin/conda-convert\n",
      "conda-debug: /opt/miniconda/bin/conda-debug\n",
      "conda-develop: /opt/miniconda/bin/conda-develop\n",
      "conda-env: /opt/miniconda/bin/conda-env\n",
      "conda-index: /opt/miniconda/bin/conda-index\n",
      "conda-inspect: /opt/miniconda/bin/conda-inspect\n",
      "conda-metapackage: /opt/miniconda/bin/conda-metapackage\n",
      "conda-render: /opt/miniconda/bin/conda-render\n",
      "conda-server: /opt/miniconda/bin/conda-server\n",
      "conda-skeleton: /opt/miniconda/bin/conda-skeleton\n",
      "conda-smithy: /opt/miniconda/bin/conda-smithy\n",
      "user site dirs: ~/.local/lib/python3.8\n",
      "                ~/.local/lib/python3.7\n",
      "                ~/.local/lib/python3.6\n",
      "\n",
      "CIO_TEST: <not set>\n",
      "CONDA_DEFAULT_ENV: experiments-binding-affinity\n",
      "CONDA_EXE: /opt/miniconda/bin/conda\n",
      "CONDA_PREFIX: /home/jaime/.conda/envs/experiments-binding-affinity\n",
      "CONDA_PREFIX_1: /opt/miniconda\n",
      "CONDA_PROMPT_MODIFIER: (experiments-binding-affinity) \n",
      "CONDA_PYTHON_EXE: /opt/miniconda/bin/python\n",
      "CONDA_ROOT: /opt/miniconda\n",
      "CONDA_SHLVL: 2\n",
      "CURL_CA_BUNDLE: <not set>\n",
      "PATH: /home/jaime/.conda/envs/experiments-binding-affinity/bin:/opt/miniconda/condabin:/home/jaime/.local/bin:/usr/local/sbin:/usr/local/bin:/usr/sbin:/usr/bin:/sbin:/bin:/usr/games:/usr/local/games:/usr/lib/wsl/lib:/mnt/c/Windows/system32:/mnt/c/Windows:/mnt/c/Windows/System32/Wbem:/mnt/c/Windows/System32/WindowsPowerShell/v1.0:/mnt/c/Windows/System32/OpenSSH:/mnt/c/Program Files (x86)/NVIDIA Corporation/PhysX/Common:/mnt/c/WINDOWS/system32:/mnt/c/WINDOWS:/mnt/c/WINDOWS/System32/Wbem:/mnt/c/WINDOWS/System32/WindowsPowerShell/v1.0:/mnt/c/WINDOWS/System32/OpenSSH:/mnt/c/Program Files (x86)/Windows Kits/10/Windows Performance Toolkit:/mnt/c/Program Files/Intel/WiFi/bin:/mnt/c/Program Files/Common Files/Intel/WirelessCommon:/mnt/c/Android:/mnt/c/Program Files (x86)/Intel/Intel(R) Management Engine Components/DAL:/mnt/c/Program Files/Intel/Intel(R) Management Engine Components/DAL:/mnt/c/Program Files/NVIDIA Corporation/Nsight Compute 2020.1.2:/mnt/c/WINDOWS/system32:/mnt/c/WINDOWS:/mnt/c/WINDOWS/System32/Wbem:/mnt/c/WINDOWS/System32/WindowsPowerShell/v1.0:/mnt/c/WINDOWS/System32/OpenSSH:/mnt/c/Program Files/Docker/Docker/resources/bin:/mnt/c/ProgramData/DockerDesktop/version-bin:/mnt/c/Users/Jaime/AppData/Local/Microsoft/WindowsApps:/mnt/c/Users/Jaime/AppData/Local/Programs/Microsoft VS Code/bin:/mnt/c/Program Files (x86)/mingw-w64/i686-8.1.0-posix-dwarf-rt_v6-rev0/mingw32/bin:/mnt/c/G09W:/mnt/c/Program Files (x86)/FAHClient:/mnt/c/Program Files/7-Zip:/mnt/c/Users/Jaime/AppData/Local/atom/bin:/mnt/c/Users/Jaime/AppData/Local/Microsoft/WindowsApps\n",
      "PYTHONHASHSEED: 1234\n",
      "REQUESTS_CA_BUNDLE: <not set>\n",
      "SSL_CERT_FILE: <not set>\n",
      "\n",
      "conda list\n",
      "----------\n"
     ]
    },
    {
     "name": "stdout",
     "output_type": "stream",
     "text": [
      "# packages in environment at /home/jaime/.conda/envs/experiments-binding-affinity:\n",
      "#\n",
      "# Name                    Version                   Build  Channel\n",
      "_libgcc_mutex             0.1                 conda_forge    conda-forge\n",
      "_openmp_mutex             4.5                      1_llvm    conda-forge\n",
      "_py-xgboost-mutex         2.0                       cpu_0    conda-forge\n",
      "absl-py                   0.12.0             pyhd8ed1ab_0    conda-forge\n",
      "aiohttp                   3.7.4            py38h497a2fe_0    conda-forge\n",
      "alabaster                 0.7.12                   pypi_0    pypi\n",
      "amberlite                 16.0                     pypi_0    pypi\n",
      "ambertools                20.15                    pypi_0    pypi\n",
      "ansiwrap                  0.8.4                      py_0    conda-forge\n",
      "anyio                     2.2.0            py38h578d9bd_0    conda-forge\n",
      "appdirs                   1.4.4              pyh9f0ad1d_0    conda-forge\n",
      "argon2-cffi               20.1.0           py38h497a2fe_2    conda-forge\n",
      "arpack                    3.7.0                hdefa2d7_2    conda-forge\n",
      "ase                       3.21.1                   pypi_0    pypi\n",
      "astunparse                1.6.2                      py_0    conda-forge\n",
      "async-timeout             3.0.1                   py_1000    conda-forge\n",
      "async_generator           1.10                       py_0    conda-forge\n",
      "attrs                     20.3.0             pyhd3deb0d_0    conda-forge\n",
      "babel                     2.9.0              pyhd3deb0d_0    conda-forge\n",
      "backcall                  0.2.0              pyh9f0ad1d_0    conda-forge\n",
      "backports                 1.0                        py_2    conda-forge\n",
      "backports.functools_lru_cache 1.6.3              pyhd8ed1ab_0    conda-forge\n",
      "black                     20.8b1                     py_1    conda-forge\n",
      "bleach                    3.3.0              pyh44b312d_0    conda-forge\n",
      "blinker                   1.4                        py_1    conda-forge\n",
      "blosc                     1.21.0               h9c3ff4c_0    conda-forge\n",
      "boost                     1.74.0           py38hc10631b_3    conda-forge\n",
      "boost-cpp                 1.74.0               hc6e9bd1_2    conda-forge\n",
      "brotlipy                  0.7.0           py38h497a2fe_1001    conda-forge\n",
      "bzip2                     1.0.8                h7f98852_4    conda-forge\n",
      "c-ares                    1.17.1               h7f98852_1    conda-forge\n",
      "ca-certificates           2021.1.19            h06a4308_1  \n",
      "cachetools                4.2.1              pyhd8ed1ab_0    conda-forge\n",
      "cairo                     1.16.0            h6cf1ce9_1008    conda-forge\n",
      "certifi                   2020.12.5        py38h578d9bd_1    conda-forge\n",
      "cffi                      1.14.5           py38ha65f79e_0    conda-forge\n",
      "chardet                   4.0.0            py38h578d9bd_1    conda-forge\n",
      "click                     7.1.2              pyh9f0ad1d_0    conda-forge\n",
      "cryptography              3.4.7            py38ha5dfef3_0    conda-forge\n",
      "cudatoolkit               10.1.243             h036e899_8    conda-forge\n",
      "curl                      7.76.0               h979ede3_0    conda-forge\n",
      "cycler                    0.10.0                     py_2    conda-forge\n",
      "cython                    0.29.22          py38h709712a_0    conda-forge\n",
      "dataclasses               0.8                pyhc8e2a94_1    conda-forge\n",
      "decorator                 4.4.2                      py_0    conda-forge\n",
      "defusedxml                0.7.1              pyhd8ed1ab_0    conda-forge\n",
      "docutils                  0.17                     pypi_0    pypi\n",
      "entrypoints               0.3             py38h32f6830_1002    conda-forge\n",
      "fftw                      3.3.9           nompi_hcdd671c_101    conda-forge\n",
      "fontconfig                2.13.1            hba837de_1004    conda-forge\n",
      "freetype                  2.10.4               h0708190_1    conda-forge\n",
      "fsspec                    0.9.0              pyhd8ed1ab_0    conda-forge\n",
      "future                    0.18.2           py38h578d9bd_3    conda-forge\n",
      "gettext                   0.21.0               hf68c758_0  \n",
      "google-auth               1.28.0             pyh44b312d_0    conda-forge\n",
      "google-auth-oauthlib      0.4.1                      py_2    conda-forge\n",
      "googledrivedownloader     0.4                      pypi_0    pypi\n",
      "greenlet                  1.0.0            py38h709712a_0    conda-forge\n",
      "grpcio                    1.37.0           py38hdd6454d_0    conda-forge\n",
      "h5py                      3.2.1                    pypi_0    pypi\n",
      "hdf4                      4.2.13            h10796ff_1004    conda-forge\n",
      "hdf5                      1.10.6          nompi_h6a2412b_1114    conda-forge\n",
      "icu                       68.1                 h58526e2_0    conda-forge\n",
      "idna                      2.10               pyh9f0ad1d_0    conda-forge\n",
      "imagesize                 1.2.0                    pypi_0    pypi\n",
      "importlib-metadata        3.10.0           py38h578d9bd_0    conda-forge\n",
      "importlib_metadata        3.10.0               hd8ed1ab_0    conda-forge\n",
      "importlib_resources       5.1.2            py38h578d9bd_0    conda-forge\n",
      "ipykernel                 5.5.3            py38hd0cf306_0    conda-forge\n",
      "ipython                   7.22.0           py38hd0cf306_0    conda-forge\n",
      "ipython_genutils          0.2.0                      py_1    conda-forge\n",
      "ipywidgets                7.6.3              pyhd3deb0d_0    conda-forge\n",
      "isodate                   0.6.0                    pypi_0    pypi\n",
      "jedi                      0.18.0           py38h578d9bd_2    conda-forge\n",
      "jinja2                    2.11.3             pyh44b312d_0    conda-forge\n",
      "joblib                    1.0.1              pyhd8ed1ab_0    conda-forge\n",
      "jpeg                      9d                   h516909a_0    conda-forge\n",
      "json5                     0.9.5              pyh9f0ad1d_0    conda-forge\n",
      "jsonschema                3.2.0            py38h32f6830_1    conda-forge\n",
      "jupyter-packaging         0.7.12             pyhd8ed1ab_0    conda-forge\n",
      "jupyter_client            6.1.12             pyhd8ed1ab_0    conda-forge\n",
      "jupyter_core              4.7.1            py38h578d9bd_0    conda-forge\n",
      "jupyter_server            1.5.1            py38h578d9bd_0    conda-forge\n",
      "jupyterlab                3.0.12             pyhd8ed1ab_0    conda-forge\n",
      "jupyterlab_pygments       0.1.2              pyh9f0ad1d_0    conda-forge\n",
      "jupyterlab_server         2.4.0              pyhd8ed1ab_0    conda-forge\n",
      "jupyterlab_widgets        1.0.0              pyhd8ed1ab_1    conda-forge\n",
      "kinoml                    0+untagged.420.g5e92b97           dev_0    <develop>\n",
      "kiwisolver                1.3.1            py38h1fd1430_1    conda-forge\n",
      "krb5                      1.17.2               h926e7f8_0    conda-forge\n",
      "lcms2                     2.12                 hddcbb42_0    conda-forge\n",
      "ld_impl_linux-64          2.35.1               hea4e1c9_2    conda-forge\n",
      "libblas                   3.9.0                     8_mkl    conda-forge\n",
      "libcblas                  3.9.0                     8_mkl    conda-forge\n",
      "libcurl                   7.76.0               hc4aaa36_0    conda-forge\n",
      "libedit                   3.1.20210216         h27cfd23_1  \n",
      "libev                     4.33                 h516909a_1    conda-forge\n",
      "libffi                    3.3                  h58526e2_2    conda-forge\n",
      "libgcc-ng                 9.3.0               h2828fa1_18    conda-forge\n",
      "libgfortran-ng            9.3.0               hff62375_18    conda-forge\n",
      "libgfortran5              9.3.0               hff62375_18    conda-forge\n",
      "libglib                   2.68.0               h3e27bee_2    conda-forge\n",
      "libgomp                   9.3.0               h2828fa1_18    conda-forge\n",
      "libiconv                  1.16                 h516909a_0    conda-forge\n",
      "liblapack                 3.9.0                     8_mkl    conda-forge\n",
      "libnetcdf                 4.7.4           nompi_h56d31a8_107    conda-forge\n",
      "libnghttp2                1.43.0               h812cca2_0    conda-forge\n",
      "libpng                    1.6.37               hed695b0_2    conda-forge\n",
      "libprotobuf               3.15.7               h780b84a_0    conda-forge\n",
      "libsodium                 1.0.18               h516909a_1    conda-forge\n",
      "libssh2                   1.9.0                ha56f1ee_6    conda-forge\n",
      "libstdcxx-ng              9.3.0               h6de172a_18    conda-forge\n",
      "libtiff                   4.2.0                hdc55705_0    conda-forge\n",
      "libuuid                   2.32.1            h14c3975_1000    conda-forge\n",
      "libwebp-base              1.2.0                h7f98852_2    conda-forge\n",
      "libxcb                    1.14                 h7b6447c_0  \n",
      "libxgboost                1.3.3                h9c3ff4c_2    conda-forge\n",
      "libxml2                   2.9.10               h72842e0_3    conda-forge\n",
      "llvm-openmp               11.1.0               h4bd325d_1    conda-forge\n",
      "llvmlite                  0.36.0                   pypi_0    pypi\n",
      "lz4-c                     1.9.3                h9c3ff4c_0    conda-forge\n",
      "lzo                       2.10              h516909a_1000    conda-forge\n",
      "markdown                  3.3.4              pyhd8ed1ab_0    conda-forge\n",
      "markupsafe                1.1.1            py38h497a2fe_3    conda-forge\n",
      "matplotlib-base           3.4.1            py38hcc49a3a_0    conda-forge\n",
      "mdtraj                    1.9.5            py38hbcc7ddf_1    conda-forge\n",
      "mistune                   0.8.4           py38h497a2fe_1003    conda-forge\n",
      "mkl                       2020.4             h726a3e6_304    conda-forge\n",
      "mmpbsa-py                 16.0                     pypi_0    pypi\n",
      "mock                      4.0.3            py38h578d9bd_1    conda-forge\n",
      "multidict                 5.1.0            py38h497a2fe_1    conda-forge\n",
      "mypy_extensions           0.4.3            py38h578d9bd_3    conda-forge\n",
      "nbclassic                 0.2.7              pyhd8ed1ab_0    conda-forge\n",
      "nbclient                  0.5.3              pyhd8ed1ab_0    conda-forge\n",
      "nbconvert                 6.0.7            py38h578d9bd_3    conda-forge\n",
      "nbformat                  5.1.3              pyhd8ed1ab_0    conda-forge\n",
      "ncurses                   6.2                  h58526e2_4    conda-forge\n",
      "nest-asyncio              1.5.1              pyhd8ed1ab_0    conda-forge\n",
      "netcdf-fortran            4.5.3           nompi_h996563d_103    conda-forge\n",
      "networkx                  2.5.1              pyhd8ed1ab_0    conda-forge\n",
      "nglview                   2.7.8              pyh59e0f4d_0    conda-forge\n",
      "nglview-js-widgets        2.7.7                    pypi_0    pypi\n",
      "ninja                     1.10.2               h4bd325d_0    conda-forge\n",
      "notebook                  6.3.0            py38h578d9bd_0    conda-forge\n",
      "numba                     0.53.1                   pypi_0    pypi\n",
      "numexpr                   2.7.3            py38h51da96c_0    conda-forge\n",
      "numpy                     1.20.2           py38h9894fe3_0    conda-forge\n",
      "oauthlib                  3.1.0                      py_0  \n",
      "ocl-icd                   2.3.0                h7f98852_0    conda-forge\n",
      "ocl-icd-system            1.0.0                         1    conda-forge\n",
      "olefile                   0.46               pyh9f0ad1d_1    conda-forge\n",
      "openff-forcefields        1.3.0              pyh44b312d_0    conda-forge\n",
      "openff-toolkit            0.9.1              pyhd8ed1ab_2    conda-forge\n",
      "openff-toolkit-base       0.9.1              pyhd8ed1ab_2    conda-forge\n",
      "openmm                    7.5.0            py38hc16d3cc_6    conda-forge\n",
      "openssl                   1.1.1k               h7f98852_0    conda-forge\n",
      "packaging                 20.9               pyh44b312d_0    conda-forge\n",
      "packmol-memgen            1.1.0rc0                 pypi_0    pypi\n",
      "pandas                    1.2.3            py38h51da96c_0    conda-forge\n",
      "pandoc                    2.12                 h7f98852_0    conda-forge\n",
      "pandocfilters             1.4.3            py38h06a4308_1  \n",
      "papermill                 2.2.2              pyhd8ed1ab_0    conda-forge\n",
      "parmed                    3.4.0            py38h709712a_1    conda-forge\n",
      "parso                     0.8.2              pyhd8ed1ab_0    conda-forge\n",
      "pathspec                  0.8.1              pyhd3deb0d_0    conda-forge\n",
      "pcre                      8.44                 he1b5a44_0    conda-forge\n",
      "pdb4amber                 1.7.dev0                 pypi_0    pypi\n",
      "perl                      5.32.0               h36c2ea0_0    conda-forge\n",
      "pexpect                   4.8.0            py38h32f6830_1    conda-forge\n",
      "pickleshare               0.7.5           py38h32f6830_1002    conda-forge\n",
      "pillow                    8.2.0            py38he98fc37_0  \n",
      "pint                      0.17               pyhd8ed1ab_0    conda-forge\n",
      "pip                       21.0.1             pyhd8ed1ab_0    conda-forge\n",
      "pixman                    0.40.0               h36c2ea0_0    conda-forge\n",
      "prometheus_client         0.10.0             pyhd8ed1ab_0    conda-forge\n",
      "prompt-toolkit            3.0.18             pyha770c72_0    conda-forge\n",
      "protobuf                  3.15.7           py38h709712a_0    conda-forge\n",
      "ptyprocess                0.7.0              pyhd3deb0d_0    conda-forge\n",
      "py-xgboost                1.3.3            py38h578d9bd_2    conda-forge\n",
      "pyasn1                    0.4.8                      py_0    conda-forge\n",
      "pyasn1-modules            0.2.8                      py_0  \n",
      "pycairo                   1.20.0           py38h323dad1_1    conda-forge\n",
      "pycparser                 2.20               pyh9f0ad1d_2    conda-forge\n",
      "pygments                  2.8.1              pyhd8ed1ab_0    conda-forge\n",
      "pyjwt                     2.0.1              pyhd8ed1ab_1    conda-forge\n",
      "pyopenssl                 20.0.1             pyhd8ed1ab_0    conda-forge\n",
      "pyparsing                 2.4.7              pyh9f0ad1d_0    conda-forge\n",
      "pyrsistent                0.17.3           py38h497a2fe_2    conda-forge\n",
      "pysocks                   1.7.1            py38h578d9bd_3    conda-forge\n",
      "pytables                  3.6.1            py38hf9f05d5_3    conda-forge\n",
      "python                    3.8.8           hffdb5ce_0_cpython    conda-forge\n",
      "python-dateutil           2.8.1                      py_0    conda-forge\n",
      "python-louvain            0.15                     pypi_0    pypi\n",
      "python_abi                3.8                      1_cp38    conda-forge\n",
      "pytorch                   1.7.1           cpu_py38h36eccb8_2    conda-forge\n",
      "pytorch-lightning         1.2.7              pyhd8ed1ab_0    conda-forge\n",
      "pytraj                    2.0.5                    pypi_0    pypi\n",
      "pytz                      2021.1             pyhd8ed1ab_0    conda-forge\n",
      "pyyaml                    5.4.1            py38h497a2fe_0    conda-forge\n",
      "pyzmq                     22.0.3           py38h2035c66_1    conda-forge\n",
      "rdflib                    5.0.0                    pypi_0    pypi\n",
      "rdkit                     2021.03.1        py38hf8acc3d_0    conda-forge\n",
      "readline                  8.1                  h27cfd23_0  \n",
      "regex                     2021.4.4         py38h497a2fe_0    conda-forge\n",
      "reportlab                 3.5.66           py38hadf75a6_0    conda-forge\n",
      "requests                  2.25.1             pyhd3deb0d_0    conda-forge\n",
      "requests-oauthlib         1.3.0              pyh9f0ad1d_0    conda-forge\n",
      "rsa                       4.7.2              pyh44b312d_0    conda-forge\n",
      "ruamel.yaml               0.16.12          py38h497a2fe_2    conda-forge\n",
      "ruamel.yaml.clib          0.2.2            py38h497a2fe_2    conda-forge\n",
      "sander                    16.0                     pypi_0    pypi\n",
      "scikit-learn              0.24.1           py38h658cfdd_0    conda-forge\n",
      "scipy                     1.6.2            py38h7b17777_0    conda-forge\n",
      "send2trash                1.5.0                      py_0    conda-forge\n",
      "setuptools                52.0.0           py38h06a4308_0  \n",
      "six                       1.15.0             pyh9f0ad1d_0    conda-forge\n",
      "sklearn-pytorch           0.1.0                    pypi_0    pypi\n",
      "smirnoff99frosst          1.1.0              pyh44b312d_0    conda-forge\n",
      "snappy                    1.1.8                he1b5a44_3    conda-forge\n",
      "sniffio                   1.2.0            py38h578d9bd_1    conda-forge\n",
      "snowballstemmer           2.1.0                    pypi_0    pypi\n",
      "sphinx                    3.5.3                    pypi_0    pypi\n",
      "sphinxcontrib-applehelp   1.0.2                    pypi_0    pypi\n",
      "sphinxcontrib-devhelp     1.0.2                    pypi_0    pypi\n",
      "sphinxcontrib-htmlhelp    1.0.3                    pypi_0    pypi\n",
      "sphinxcontrib-jsmath      1.0.1                    pypi_0    pypi\n",
      "sphinxcontrib-qthelp      1.0.3                    pypi_0    pypi\n",
      "sphinxcontrib-serializinghtml 1.1.4                    pypi_0    pypi\n",
      "sqlalchemy                1.4.6            py38h497a2fe_0    conda-forge\n",
      "sqlite                    3.35.4               h74cdb3f_0    conda-forge\n",
      "tenacity                  7.0.0              pyhd8ed1ab_0    conda-forge\n",
      "tensorboard               2.4.1              pyhd8ed1ab_0    conda-forge\n",
      "tensorboard-plugin-wit    1.8.0              pyh44b312d_0    conda-forge\n",
      "terminado                 0.9.4            py38h578d9bd_0    conda-forge\n",
      "testpath                  0.4.4                      py_0    conda-forge\n",
      "textwrap3                 0.9.2                      py_0    conda-forge\n",
      "threadpoolctl             2.1.0              pyh5ca1d4c_0    conda-forge\n",
      "tk                        8.6.10               hed695b0_1    conda-forge\n",
      "toml                      0.10.2             pyhd8ed1ab_0    conda-forge\n",
      "torch-cluster             1.5.9                    pypi_0    pypi\n",
      "torch-geometric           1.6.3                    pypi_0    pypi\n",
      "torch-scatter             2.0.6                    pypi_0    pypi\n",
      "torch-sparse              0.6.9                    pypi_0    pypi\n",
      "torch-spline-conv         1.2.1                    pypi_0    pypi\n",
      "torchmetrics              0.2.0              pyhd8ed1ab_0    conda-forge\n",
      "torchvision               0.8.2           py38h89b28b9_1_cpu    conda-forge\n",
      "tornado                   6.1              py38h497a2fe_1    conda-forge\n",
      "tqdm                      4.60.0             pyhd8ed1ab_0    conda-forge\n",
      "traitlets                 5.0.5                      py_0    conda-forge\n",
      "typed-ast                 1.4.2            py38h497a2fe_0    conda-forge\n",
      "typing-extensions         3.7.4.3                       0    conda-forge\n",
      "typing_extensions         3.7.4.3                    py_0    conda-forge\n",
      "urllib3                   1.26.4             pyhd8ed1ab_0    conda-forge\n",
      "watermark                 2.2.0              pyhd8ed1ab_0    conda-forge\n",
      "wcwidth                   0.2.5              pyh9f0ad1d_2    conda-forge\n",
      "webencodings              0.5.1                      py_1    conda-forge\n",
      "werkzeug                  1.0.1              pyh9f0ad1d_0    conda-forge\n",
      "wheel                     0.36.2             pyhd3deb0d_0    conda-forge\n",
      "widgetsnbextension        3.5.1            py38h578d9bd_4    conda-forge\n",
      "xgboost                   1.3.3            py38h578d9bd_2    conda-forge\n",
      "xmltodict                 0.12.0                     py_0    conda-forge\n",
      "xorg-kbproto              1.0.7             h14c3975_1002    conda-forge\n",
      "xorg-libice               1.0.10               h516909a_0    conda-forge\n",
      "xorg-libsm                1.2.3             hd9c2040_1000    conda-forge\n",
      "xorg-libx11               1.7.0                h36c2ea0_0    conda-forge\n",
      "xorg-libxext              1.3.4                h7f98852_1    conda-forge\n",
      "xorg-libxrender           0.9.10            h7f98852_1003    conda-forge\n",
      "xorg-libxt                1.2.1                h7f98852_2    conda-forge\n",
      "xorg-renderproto          0.11.1            h14c3975_1002    conda-forge\n",
      "xorg-xextproto            7.3.0             h14c3975_1002    conda-forge\n",
      "xorg-xproto               7.0.31            h14c3975_1007    conda-forge\n",
      "xz                        5.2.5                h516909a_1    conda-forge\n",
      "yaml                      0.2.5                h516909a_0    conda-forge\n",
      "yarl                      1.6.3            py38h497a2fe_1    conda-forge\n",
      "zeromq                    4.3.4                h9c3ff4c_0    conda-forge\n",
      "zipp                      3.4.1              pyhd8ed1ab_0    conda-forge\n",
      "zlib                      1.2.11            h516909a_1010    conda-forge\n",
      "zstd                      1.4.9                ha95c52a_0    conda-forge\n"
     ]
    }
   ],
   "source": [
    "from kinoml.utils import watermark\n",
    "w = watermark()"
   ]
  },
  {
   "cell_type": "code",
   "execution_count": 16,
   "metadata": {
    "execution": {
     "iopub.execute_input": "2021-04-21T08:39:42.991722Z",
     "iopub.status.busy": "2021-04-21T08:39:42.991258Z",
     "iopub.status.idle": "2021-04-21T08:39:45.427349Z",
     "shell.execute_reply": "2021-04-21T08:39:45.427719Z"
    },
    "papermill": {
     "duration": 2.454377,
     "end_time": "2021-04-21T08:39:45.427822",
     "exception": false,
     "start_time": "2021-04-21T08:39:42.973445",
     "status": "completed"
    },
    "tags": []
   },
   "outputs": [],
   "source": [
    "%%capture cap --no-stderr\n",
    "w = watermark()"
   ]
  },
  {
   "cell_type": "code",
   "execution_count": 17,
   "metadata": {
    "execution": {
     "iopub.execute_input": "2021-04-21T08:39:45.443297Z",
     "iopub.status.busy": "2021-04-21T08:39:45.442821Z",
     "iopub.status.idle": "2021-04-21T08:39:45.446890Z",
     "shell.execute_reply": "2021-04-21T08:39:45.446591Z"
    },
    "papermill": {
     "duration": 0.013873,
     "end_time": "2021-04-21T08:39:45.446973",
     "exception": false,
     "start_time": "2021-04-21T08:39:45.433100",
     "status": "completed"
    },
    "tags": []
   },
   "outputs": [],
   "source": [
    "import json\n",
    "\n",
    "with open(OUT/ \"watermark.txt\", \"w\") as f:\n",
    "    f.write(cap.stdout)\n",
    "\n",
    "with open(OUT / \"hparams.json\", \"w\") as f:\n",
    "    json.dump(_hparams, f, default=str, indent=2)"
   ]
  }
 ],
 "metadata": {
  "kernelspec": {
   "display_name": "Python 3",
   "language": "python",
   "name": "python3"
  },
  "language_info": {
   "codemirror_mode": {
    "name": "ipython",
    "version": 3
   },
   "file_extension": ".py",
   "mimetype": "text/x-python",
   "name": "python",
   "nbconvert_exporter": "python",
   "pygments_lexer": "ipython3",
   "version": "3.8.8"
  },
  "papermill": {
   "default_parameters": {},
   "duration": 9.232715,
   "end_time": "2021-04-21T08:39:46.858564",
   "environment_variables": {},
   "exception": null,
   "input_path": "features/featurize-template.ipynb",
   "output_path": "features/example-ligand-only-chembl28-ohesmiles-1k-subsample/featurize.ipynb",
   "parameters": {
    "DATASET_CLS": "kinoml.datasets.chembl.ChEMBLDatasetProvider",
    "DATASET_KWARGS": {
     "path_or_url": "https://github.com/openkinome/kinodata/releases/download/v0.2/activities-chembl28-sample100_v0.2.zip"
    },
    "FEATURIZE_KWARGS": {},
    "GROUPS": [
     [
      "kinoml.datasets.groups.CallableGrouper",
      {
       "function": "lambda measurement: measurement.system.protein.name"
      }
     ],
     [
      "kinoml.datasets.groups.CallableGrouper",
      {
       "function": "lambda measurement: type(measurement).__name__"
      }
     ]
    ],
    "HERE": "/home/jaime/devel/py/openkinome/experiments-binding-affinity/features/example-ligand-only-chembl28-ohesmiles-1k-subsample",
    "PIPELINES": {
     "ligand": [
      [
       "kinoml.features.ligand.SmilesToLigandFeaturizer",
       {}
      ],
      [
       "kinoml.features.ligand.OneHotSMILESFeaturizer",
       {}
      ],
      [
       "kinoml.features.core.PadFeaturizer",
       {
        "shape": "auto"
       }
      ]
     ]
    },
    "PIPELINES_AGG": "kinoml.features.core.Concatenated",
    "PIPELINES_AGG_KWARGS": {},
    "TRAIN_TEST_VAL_KWARGS": {
     "idx_test": 0.1,
     "idx_train": 0.8,
     "idx_val": 0.1
    }
   },
   "start_time": "2021-04-21T08:39:37.625849",
   "version": "2.2.2"
  },
  "widgets": {
   "application/vnd.jupyter.widget-state+json": {
    "state": {
     "1d67fff538bb494ba40b3474ae9e99c7": {
      "model_module": "@jupyter-widgets/controls",
      "model_module_version": "1.5.0",
      "model_name": "HTMLModel",
      "state": {
       "_dom_classes": [],
       "_model_module": "@jupyter-widgets/controls",
       "_model_module_version": "1.5.0",
       "_model_name": "HTMLModel",
       "_view_count": null,
       "_view_module": "@jupyter-widgets/controls",
       "_view_module_version": "1.5.0",
       "_view_name": "HTMLView",
       "description": "",
       "description_tooltip": null,
       "layout": "IPY_MODEL_b3e93356c5a64d8da6f05a59bc1c891d",
       "placeholder": "​",
       "style": "IPY_MODEL_a7657d093d32447d8dd9b3691d155770",
       "value": " 100/100 [00:00&lt;00:00, 4597.00it/s]"
      }
     },
     "493f7b807ba945348dacdacd983aff80": {
      "model_module": "@jupyter-widgets/controls",
      "model_module_version": "1.5.0",
      "model_name": "DescriptionStyleModel",
      "state": {
       "_model_module": "@jupyter-widgets/controls",
       "_model_module_version": "1.5.0",
       "_model_name": "DescriptionStyleModel",
       "_view_count": null,
       "_view_module": "@jupyter-widgets/base",
       "_view_module_version": "1.2.0",
       "_view_name": "StyleView",
       "description_width": ""
      }
     },
     "542a5a63aa6c44cc946cae1793eb1c02": {
      "model_module": "@jupyter-widgets/controls",
      "model_module_version": "1.5.0",
      "model_name": "HBoxModel",
      "state": {
       "_dom_classes": [],
       "_model_module": "@jupyter-widgets/controls",
       "_model_module_version": "1.5.0",
       "_model_name": "HBoxModel",
       "_view_count": null,
       "_view_module": "@jupyter-widgets/controls",
       "_view_module_version": "1.5.0",
       "_view_name": "HBoxView",
       "box_style": "",
       "children": [
        "IPY_MODEL_cabf0ee911d44b2787d83dd34cc39bb2",
        "IPY_MODEL_91f6841a2ffa41e4957ef1f2ac25fd91",
        "IPY_MODEL_1d67fff538bb494ba40b3474ae9e99c7"
       ],
       "layout": "IPY_MODEL_5f5e50f2a8d146c1b60fa7ddaed0bb1f"
      }
     },
     "54cd7d0230a84b72ab73267c13d1334f": {
      "model_module": "@jupyter-widgets/base",
      "model_module_version": "1.2.0",
      "model_name": "LayoutModel",
      "state": {
       "_model_module": "@jupyter-widgets/base",
       "_model_module_version": "1.2.0",
       "_model_name": "LayoutModel",
       "_view_count": null,
       "_view_module": "@jupyter-widgets/base",
       "_view_module_version": "1.2.0",
       "_view_name": "LayoutView",
       "align_content": null,
       "align_items": null,
       "align_self": null,
       "border": null,
       "bottom": null,
       "display": null,
       "flex": null,
       "flex_flow": null,
       "grid_area": null,
       "grid_auto_columns": null,
       "grid_auto_flow": null,
       "grid_auto_rows": null,
       "grid_column": null,
       "grid_gap": null,
       "grid_row": null,
       "grid_template_areas": null,
       "grid_template_columns": null,
       "grid_template_rows": null,
       "height": null,
       "justify_content": null,
       "justify_items": null,
       "left": null,
       "margin": null,
       "max_height": null,
       "max_width": null,
       "min_height": null,
       "min_width": null,
       "object_fit": null,
       "object_position": null,
       "order": null,
       "overflow": null,
       "overflow_x": null,
       "overflow_y": null,
       "padding": null,
       "right": null,
       "top": null,
       "visibility": null,
       "width": null
      }
     },
     "5f5e50f2a8d146c1b60fa7ddaed0bb1f": {
      "model_module": "@jupyter-widgets/base",
      "model_module_version": "1.2.0",
      "model_name": "LayoutModel",
      "state": {
       "_model_module": "@jupyter-widgets/base",
       "_model_module_version": "1.2.0",
       "_model_name": "LayoutModel",
       "_view_count": null,
       "_view_module": "@jupyter-widgets/base",
       "_view_module_version": "1.2.0",
       "_view_name": "LayoutView",
       "align_content": null,
       "align_items": null,
       "align_self": null,
       "border": null,
       "bottom": null,
       "display": null,
       "flex": null,
       "flex_flow": null,
       "grid_area": null,
       "grid_auto_columns": null,
       "grid_auto_flow": null,
       "grid_auto_rows": null,
       "grid_column": null,
       "grid_gap": null,
       "grid_row": null,
       "grid_template_areas": null,
       "grid_template_columns": null,
       "grid_template_rows": null,
       "height": null,
       "justify_content": null,
       "justify_items": null,
       "left": null,
       "margin": null,
       "max_height": null,
       "max_width": null,
       "min_height": null,
       "min_width": null,
       "object_fit": null,
       "object_position": null,
       "order": null,
       "overflow": null,
       "overflow_x": null,
       "overflow_y": null,
       "padding": null,
       "right": null,
       "top": null,
       "visibility": null,
       "width": null
      }
     },
     "699f80603f944c6ea8556e77ade6544d": {
      "model_module": "@jupyter-widgets/controls",
      "model_module_version": "1.5.0",
      "model_name": "ProgressStyleModel",
      "state": {
       "_model_module": "@jupyter-widgets/controls",
       "_model_module_version": "1.5.0",
       "_model_name": "ProgressStyleModel",
       "_view_count": null,
       "_view_module": "@jupyter-widgets/base",
       "_view_module_version": "1.2.0",
       "_view_name": "StyleView",
       "bar_color": null,
       "description_width": ""
      }
     },
     "91f6841a2ffa41e4957ef1f2ac25fd91": {
      "model_module": "@jupyter-widgets/controls",
      "model_module_version": "1.5.0",
      "model_name": "FloatProgressModel",
      "state": {
       "_dom_classes": [],
       "_model_module": "@jupyter-widgets/controls",
       "_model_module_version": "1.5.0",
       "_model_name": "FloatProgressModel",
       "_view_count": null,
       "_view_module": "@jupyter-widgets/controls",
       "_view_module_version": "1.5.0",
       "_view_name": "ProgressView",
       "bar_style": "success",
       "description": "",
       "description_tooltip": null,
       "layout": "IPY_MODEL_54cd7d0230a84b72ab73267c13d1334f",
       "max": 100.0,
       "min": 0.0,
       "orientation": "horizontal",
       "style": "IPY_MODEL_699f80603f944c6ea8556e77ade6544d",
       "value": 100.0
      }
     },
     "a7657d093d32447d8dd9b3691d155770": {
      "model_module": "@jupyter-widgets/controls",
      "model_module_version": "1.5.0",
      "model_name": "DescriptionStyleModel",
      "state": {
       "_model_module": "@jupyter-widgets/controls",
       "_model_module_version": "1.5.0",
       "_model_name": "DescriptionStyleModel",
       "_view_count": null,
       "_view_module": "@jupyter-widgets/base",
       "_view_module_version": "1.2.0",
       "_view_name": "StyleView",
       "description_width": ""
      }
     },
     "b3e93356c5a64d8da6f05a59bc1c891d": {
      "model_module": "@jupyter-widgets/base",
      "model_module_version": "1.2.0",
      "model_name": "LayoutModel",
      "state": {
       "_model_module": "@jupyter-widgets/base",
       "_model_module_version": "1.2.0",
       "_model_name": "LayoutModel",
       "_view_count": null,
       "_view_module": "@jupyter-widgets/base",
       "_view_module_version": "1.2.0",
       "_view_name": "LayoutView",
       "align_content": null,
       "align_items": null,
       "align_self": null,
       "border": null,
       "bottom": null,
       "display": null,
       "flex": null,
       "flex_flow": null,
       "grid_area": null,
       "grid_auto_columns": null,
       "grid_auto_flow": null,
       "grid_auto_rows": null,
       "grid_column": null,
       "grid_gap": null,
       "grid_row": null,
       "grid_template_areas": null,
       "grid_template_columns": null,
       "grid_template_rows": null,
       "height": null,
       "justify_content": null,
       "justify_items": null,
       "left": null,
       "margin": null,
       "max_height": null,
       "max_width": null,
       "min_height": null,
       "min_width": null,
       "object_fit": null,
       "object_position": null,
       "order": null,
       "overflow": null,
       "overflow_x": null,
       "overflow_y": null,
       "padding": null,
       "right": null,
       "top": null,
       "visibility": null,
       "width": null
      }
     },
     "cabf0ee911d44b2787d83dd34cc39bb2": {
      "model_module": "@jupyter-widgets/controls",
      "model_module_version": "1.5.0",
      "model_name": "HTMLModel",
      "state": {
       "_dom_classes": [],
       "_model_module": "@jupyter-widgets/controls",
       "_model_module_version": "1.5.0",
       "_model_name": "HTMLModel",
       "_view_count": null,
       "_view_module": "@jupyter-widgets/controls",
       "_view_module_version": "1.5.0",
       "_view_name": "HTMLView",
       "description": "",
       "description_tooltip": null,
       "layout": "IPY_MODEL_da31d7e892954570af1610fbc5c745e3",
       "placeholder": "​",
       "style": "IPY_MODEL_493f7b807ba945348dacdacd983aff80",
       "value": "100%"
      }
     },
     "da31d7e892954570af1610fbc5c745e3": {
      "model_module": "@jupyter-widgets/base",
      "model_module_version": "1.2.0",
      "model_name": "LayoutModel",
      "state": {
       "_model_module": "@jupyter-widgets/base",
       "_model_module_version": "1.2.0",
       "_model_name": "LayoutModel",
       "_view_count": null,
       "_view_module": "@jupyter-widgets/base",
       "_view_module_version": "1.2.0",
       "_view_name": "LayoutView",
       "align_content": null,
       "align_items": null,
       "align_self": null,
       "border": null,
       "bottom": null,
       "display": null,
       "flex": null,
       "flex_flow": null,
       "grid_area": null,
       "grid_auto_columns": null,
       "grid_auto_flow": null,
       "grid_auto_rows": null,
       "grid_column": null,
       "grid_gap": null,
       "grid_row": null,
       "grid_template_areas": null,
       "grid_template_columns": null,
       "grid_template_rows": null,
       "height": null,
       "justify_content": null,
       "justify_items": null,
       "left": null,
       "margin": null,
       "max_height": null,
       "max_width": null,
       "min_height": null,
       "min_width": null,
       "object_fit": null,
       "object_position": null,
       "order": null,
       "overflow": null,
       "overflow_x": null,
       "overflow_y": null,
       "padding": null,
       "right": null,
       "top": null,
       "visibility": null,
       "width": null
      }
     }
    },
    "version_major": 2,
    "version_minor": 0
   }
  }
 },
 "nbformat": 4,
 "nbformat_minor": 4
}