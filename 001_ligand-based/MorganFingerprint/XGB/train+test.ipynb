{
 "cells": [
  {
   "cell_type": "markdown",
   "metadata": {},
   "source": [
    "# Run the XGBoost model\n",
    "\n",
    "First, we have to create the XGBoost objects out of the NPZ files. NPZ files behave like dictionaries of arrays. In our case, they contain two keys:\n",
    "\n",
    "- `X`: the featurized systems\n",
    "- `y`: the associated measurements\n",
    "\n",
    "We can pass those dict-like arrays to an adapter class for Torch Datasets, which will be ingested by the DataLoaders. We also need the corresponding observation models."
   ]
  },
  {
   "cell_type": "code",
   "execution_count": null,
   "metadata": {},
   "outputs": [],
   "source": [
    "%load_ext autoreload\n",
    "%autoreload 2"
   ]
  },
  {
   "cell_type": "code",
   "execution_count": null,
   "metadata": {},
   "outputs": [],
   "source": [
    "DATASET = \"ChEMBL\"\n",
    "N_ESTIMATORS = 100\n",
    "N_SPLITS = 5\n",
    "ITEMS_PER_ROW = 2\n",
    "WITH_OBSERVATION_MODEL = True\n",
    "SEED = 42\n",
    "XGBOOST_REGRESSOR_KWARGS = dict(\n",
    "    colsample_bytree=0.3,\n",
    "    learning_rate=0.1,\n",
    "    max_depth=5, \n",
    "    alpha=10,\n",
    "    n_estimators=100,\n",
    "    random_state=SEED\n",
    ")\n",
    "N_BOOTSTRAPS = 1\n",
    "BOOTSTRAP_SAMPLE_RATIO = 1"
   ]
  },
  {
   "cell_type": "code",
   "execution_count": null,
   "metadata": {},
   "outputs": [],
   "source": [
    "MEASUREMENT_TYPES = {\n",
    "    \"ChEMBL\": [\"pKiMeasurement\", \"pIC50Measurement\", \"pKdMeasurement\"],\n",
    "    \"PKIS2\": [\"PercentageDisplacementMeasurement\"]\n",
    "}[DATASET]\n",
    "\n",
    "ONE_KINASE = {\n",
    "    \"ChEMBL\": \"P35968\",\n",
    "    \"PKIS2\": \"ABL2\",\n",
    "}[DATASET]"
   ]
  },
  {
   "cell_type": "code",
   "execution_count": null,
   "metadata": {},
   "outputs": [],
   "source": [
    "from pathlib import Path\n",
    "from collections import defaultdict\n",
    "import numpy as np\n",
    "import shutil\n",
    "import time\n",
    "\n",
    "from kinoml.utils import seed_everything\n",
    "from kinoml.core import measurements as measurement_types\n",
    "\n",
    "HERE = Path(_dh[-1])\n",
    "_trial = 0\n",
    "OUT = HERE / \"_output\" / DATASET / f\"{time.time():.0f}\"\n",
    "OUT.mkdir(parents=True, exist_ok=True)\n",
    "print(\"Reporting results at path:\", OUT)\n",
    "# Fix the seed for reproducible random splits -- otherwise we get mixed train/test groups every time, biasing the model evaluation\n",
    "if SEED is not None:\n",
    "    seed_everything(SEED)"
   ]
  },
  {
   "cell_type": "markdown",
   "metadata": {},
   "source": [
    "## Load featurized data and create observation models"
   ]
  },
  {
   "cell_type": "code",
   "execution_count": null,
   "metadata": {},
   "outputs": [],
   "source": [
    "datasets = defaultdict(dict)\n",
    "for npz in HERE.glob(f\"../_output/{DATASET}__*.npz\"):\n",
    "    _, kinase, measurement_type = str(npz.stem).split(\"__\")\n",
    "    datasets[kinase][measurement_type] = ds = np.load(npz)"
   ]
  },
  {
   "cell_type": "code",
   "execution_count": null,
   "metadata": {},
   "outputs": [],
   "source": [
    "obs_models = {k: getattr(measurement_types, k).observation_model(backend=\"numpy\") for k in MEASUREMENT_TYPES}\n",
    "objectives = {k: getattr(measurement_types, k).loss_adapter(backend=\"xgboost\", loss=\"mse\") for k in MEASUREMENT_TYPES}\n",
    "objectives"
   ]
  },
  {
   "cell_type": "markdown",
   "metadata": {},
   "source": [
    "Now that we have all the data-dependent objects, we can start with the model-specific definitions."
   ]
  },
  {
   "cell_type": "markdown",
   "metadata": {},
   "source": [
    "## Train the model"
   ]
  },
  {
   "cell_type": "code",
   "execution_count": null,
   "metadata": {},
   "outputs": [],
   "source": [
    "from xgboost import XGBRegressor\n",
    "import pandas as pd\n",
    "from sklearn.model_selection import KFold\n",
    "from kinoml.analysis.plots import predicted_vs_observed\n",
    "from kinoml.analysis.metrics import performance\n",
    "from ipywidgets import HBox, VBox, Output, HTML\n",
    "from matplotlib import pyplot as plt\n",
    "from collections import defaultdict"
   ]
  },
  {
   "cell_type": "code",
   "execution_count": null,
   "metadata": {},
   "outputs": [],
   "source": [
    "for mtype in MEASUREMENT_TYPES:\n",
    "    display(HTML(f\"<h3>{mtype}</h3>\"))\n",
    "    \n",
    "    kfold = KFold(n_splits=N_SPLITS, shuffle=True, random_state=SEED)\n",
    "    mtype_class = getattr(measurement_types, mtype)\n",
    "    X = datasets[ONE_KINASE][mtype][\"X\"].astype(\"float64\")\n",
    "    y = datasets[ONE_KINASE][mtype][\"y\"].astype(\"float64\")\n",
    "\n",
    "    plots, metrics = [], defaultdict(list)\n",
    "    for fold, (train, test) in enumerate(kfold.split(X)):\n",
    "        if WITH_OBSERVATION_MODEL:\n",
    "            model = XGBRegressor(objective=objectives[mtype], **XGBOOST_REGRESSOR_KWARGS)\n",
    "        else:\n",
    "            model = XGBRegressor(objective=\"reg:squarederror\", **XGBOOST_REGRESSOR_KWARGS)\n",
    "        \n",
    "        model.fit(X[train], y[train])\n",
    "        \n",
    "        for label, indices in {\"train\": train, \"test\": test}.items():\n",
    "            output = Output()\n",
    "            with output:\n",
    "                title = f\"fold={fold}, {label}={indices.shape[0]}\"\n",
    "                print(title)\n",
    "                print(\"-\"*(len(title)))\n",
    "\n",
    "                predicted = model.predict(X[indices])\n",
    "                if WITH_OBSERVATION_MODEL:\n",
    "                    predicted = obs_models[mtype](predicted)\n",
    "                these_metrics = performance(predicted, y[indices], n_boot=N_BOOTSTRAPS, sample_ratio=BOOTSTRAP_SAMPLE_RATIO)\n",
    "                \n",
    "                metrics[label].append(these_metrics)\n",
    "                display(predicted_vs_observed(predicted, y[indices], mtype_class, with_metrics=False))\n",
    "            plots.append(output)\n",
    "        \n",
    "        model.save_model(OUT / f\"XGBRegressor__fold{fold}.model\")\n",
    "\n",
    "    # Fill with empty objects until the next multiple of ITEMS_PER_ROW\n",
    "    for _ in range((ITEMS_PER_ROW - (len(plots) % ITEMS_PER_ROW)) % ITEMS_PER_ROW):\n",
    "        plots.append(Output())\n",
    "\n",
    "    # Plot in ITEMS_PER_ROW-column table\n",
    "    display(VBox([HBox(row) for row in np.reshape(plots, (-1, ITEMS_PER_ROW)).tolist()]))\n",
    "\n",
    "    # Average performances\n",
    "    average = defaultdict(dict)\n",
    "    for key in metrics[\"train\"][0]:\n",
    "        for label in (\"train\", \"test\"):\n",
    "            # this zero here ---v is super important! we only want the mean of the means!\n",
    "            values = [fold[key][0] for fold in metrics[label]]\n",
    "            average[label][key] = {\n",
    "                \"mean\": np.mean(values),\n",
    "                \"std\": np.std(values)\n",
    "            }\n",
    "    for label in (\"train\", \"test\"):    \n",
    "        display(HTML(f\"Bootstrapped average across folds ({label}):\"))\n",
    "        display(pd.DataFrame.from_dict(average[label]))"
   ]
  },
  {
   "cell_type": "code",
   "execution_count": null,
   "metadata": {},
   "outputs": [],
   "source": [
    "from kinoml.utils import watermark\n",
    "watermark()"
   ]
  }
 ],
 "metadata": {
  "kernelspec": {
   "display_name": "Python 3",
   "language": "python",
   "name": "python3"
  },
  "language_info": {
   "codemirror_mode": {
    "name": "ipython",
    "version": 3
   },
   "file_extension": ".py",
   "mimetype": "text/x-python",
   "name": "python",
   "nbconvert_exporter": "python",
   "pygments_lexer": "ipython3",
   "version": "3.7.8"
  },
  "widgets": {
   "application/vnd.jupyter.widget-state+json": {
    "state": {},
    "version_major": 2,
    "version_minor": 0
   }
  }
 },
 "nbformat": 4,
 "nbformat_minor": 4
}
