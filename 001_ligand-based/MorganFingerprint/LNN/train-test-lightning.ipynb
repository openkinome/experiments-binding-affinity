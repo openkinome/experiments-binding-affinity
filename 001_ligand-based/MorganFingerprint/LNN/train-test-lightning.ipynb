{
 "cells": [
  {
   "cell_type": "markdown",
   "metadata": {},
   "source": [
    "# Run the LNN model\n",
    "\n",
    "First, we have to create the PyTorch objects out of the NPZ files. NPZ files behave like dictionaries of arrays. In our case, they contain two keys:\n",
    "\n",
    "- `X`: the featurized systems\n",
    "- `y`: the associated measurements\n",
    "\n",
    "We can pass those dict-like arrays to an adapter class for Torch Datasets, which will be ingested by the DataLoaders. We also need the corresponding observation models."
   ]
  },
  {
   "cell_type": "code",
   "execution_count": null,
   "metadata": {},
   "outputs": [],
   "source": [
    "DATASET = \"PKIS2\"\n",
    "WITH_OBSERVATION_MODEL = True\n",
    "WITH_VALIDATION = False\n",
    "# Adam\n",
    "LEARNING_RATE = 0.001\n",
    "EPSILON = 1e-7\n",
    "BETAS = 0.9, 0.999\n",
    "# Dataloader\n",
    "BATCH_SIZE = 128\n",
    "NUM_WORKERS = 1\n",
    "# Trainer\n",
    "MAX_EPOCHS = 100\n",
    "N_SPLITS = 5\n",
    "SHUFFLE_FOLDS = False\n",
    "# Early stopping\n",
    "MIN_DELTA = 0.00001\n",
    "PATIENCE = 10\n",
    "\n",
    "# Bootstrapping\n",
    "N_BOOTSTRAPS = 1\n",
    "BOOTSTRAP_SAMPLE_RATIO = 1"
   ]
  },
  {
   "cell_type": "code",
   "execution_count": null,
   "metadata": {},
   "outputs": [],
   "source": [
    "MEASUREMENT_TYPES = {\n",
    "    \"ChEMBL\": [\"pKiMeasurement\", \"pIC50Measurement\", \"pKdMeasurement\"],\n",
    "    \"PKIS2\": [\"PercentageDisplacementMeasurement\"]\n",
    "}[DATASET]\n",
    "\n",
    "ONE_KINASE = {\n",
    "    \"ChEMBL\": \"P35968\",\n",
    "    \"PKIS2\": \"ABL2\",\n",
    "}[DATASET]"
   ]
  },
  {
   "cell_type": "code",
   "execution_count": null,
   "metadata": {},
   "outputs": [],
   "source": [
    "from pathlib import Path\n",
    "from collections import defaultdict\n",
    "import numpy as np\n",
    "import shutil\n",
    "import time\n",
    "\n",
    "import torch\n",
    "from torch.utils.data import DataLoader, SubsetRandomSampler\n",
    "import pytorch_lightning as pl\n",
    "\n",
    "from kinoml.utils import seed_everything\n",
    "from kinoml.core import measurements as measurement_types\n",
    "from kinoml.datasets.torch_datasets import XyNpzTorchDataset\n",
    "from kinoml.core.measurements import null_observation_model\n",
    "\n",
    "HERE = Path(_dh[-1])\n",
    "_trial = 0\n",
    "OUT = HERE / \"_output\" / DATASET / f\"{time.time():.0f}\"\n",
    "OUT.mkdir(parents=True, exist_ok=True)\n",
    "print(\"Reporting results at path:\", OUT)\n",
    "# Fix the seed for reproducible random splits -- otherwise we get mixed train/test groups every time, biasing the model evaluation\n",
    "seed_everything()"
   ]
  },
  {
   "cell_type": "markdown",
   "metadata": {},
   "source": [
    "## Load featurized data and create observation models"
   ]
  },
  {
   "cell_type": "code",
   "execution_count": null,
   "metadata": {},
   "outputs": [],
   "source": [
    "datasets = defaultdict(dict)\n",
    "for npz in HERE.glob(f\"../_output/{DATASET}__*.npz\"):\n",
    "    _, kinase, measurement_type = str(npz.stem).split(\"__\")\n",
    "    datasets[kinase][measurement_type] = ds = XyNpzTorchDataset(npz)\n",
    "    if not WITH_VALIDATION:  # merge val into test\n",
    "        ds.indices[\"test\"] = np.concatenate([ds.indices[\"test\"], ds.indices[\"val\"]])\n",
    "        ds.indices[\"val\"] = np.array([])"
   ]
  },
  {
   "cell_type": "code",
   "execution_count": null,
   "metadata": {},
   "outputs": [],
   "source": [
    "backend = \"pytorch\" if WITH_OBSERVATION_MODEL else \"null\"\n",
    "obs_models = {k: getattr(measurement_types, k).observation_model(backend=backend) for k in MEASUREMENT_TYPES}\n",
    "obs_models"
   ]
  },
  {
   "cell_type": "markdown",
   "metadata": {},
   "source": [
    "Now that we have all the data-dependent objects, we can start with the model-specific definitions."
   ]
  },
  {
   "cell_type": "code",
   "execution_count": null,
   "metadata": {},
   "outputs": [],
   "source": [
    "# First a little patch (TODO)\n",
    "\n",
    "from kinoml.core import measurements\n",
    "measurements.BaseMeasurement.RANGE = getattr(measurements, MEASUREMENT_TYPES[0]).RANGE"
   ]
  },
  {
   "cell_type": "markdown",
   "metadata": {},
   "source": [
    "## Manual style"
   ]
  },
  {
   "cell_type": "markdown",
   "metadata": {},
   "source": [
    "### Training loop"
   ]
  },
  {
   "cell_type": "code",
   "execution_count": null,
   "metadata": {},
   "outputs": [],
   "source": [
    "from kinoml.ml.lightning_modules import KFold3Way, KFold\n",
    "from IPython.display import Markdown\n",
    "from tqdm.auto import trange\n",
    "from kinoml.ml.torch_models import NeuralNetworkRegression\n",
    "from ipywidgets import HBox, VBox, Output, HTML\n",
    "from kinoml.analysis.plots import predicted_vs_observed, performance\n",
    "from kinoml.utils import fill_until_next_multiple\n",
    "import pandas as pd\n",
    "import torch.nn as nn\n",
    "\n",
    "if WITH_VALIDATION:    \n",
    "    kfold = KFold3Way(n_splits=N_SPLITS, shuffle=SHUFFLE_FOLDS)\n",
    "    ttypes = [\"train\", \"val\", \"test\"]\n",
    "else:\n",
    "    kfold = KFold(n_splits=N_SPLITS, shuffle=SHUFFLE_FOLDS)\n",
    "    ttypes = [\"train\", \"test\"]\n",
    "\n",
    "for mtype in MEASUREMENT_TYPES:\n",
    "    display(Markdown(f\"#### {mtype}\"))\n",
    "    dataset = datasets[ONE_KINASE][mtype]\n",
    "    obs_model = obs_models[mtype]\n",
    "    mtype_class = getattr(measurement_types, mtype)\n",
    "    metrics = defaultdict(list)\n",
    "    \n",
    "    for fold_index, splits in enumerate(kfold.split(dataset.data_X, dataset.data_y)):\n",
    "        if WITH_VALIDATION:\n",
    "            train_indices, val_indices, test_indices = splits\n",
    "        else:\n",
    "            train_indices, test_indices = splits\n",
    "\n",
    "        display(Markdown(f\"##### Fold {fold_index}\"))\n",
    "        \n",
    "        x_train = dataset.data_X[train_indices].double().requires_grad_(True)\n",
    "        x_test = dataset.data_X[test_indices].double().requires_grad_(True)\n",
    "        y_train = dataset.data_y[train_indices].double()\n",
    "        y_test = dataset.data_y[test_indices].double()\n",
    "        \n",
    "#         nn_model = NeuralNetworkRegression(input_size=x_train.shape[1], hidden_size=350).double()\n",
    "        \n",
    "\n",
    "        nn_model = nn.Sequential(\n",
    "          nn.Linear(512, 350, bias=True),\n",
    "          nn.ReLU(),\n",
    "          nn.Linear(350, 1, bias=True)\n",
    "        ).double()\n",
    "\n",
    "        nn_model.train(True)\n",
    "        \n",
    "        optimizer = torch.optim.Adam(nn_model.parameters(), lr=LEARNING_RATE, eps=EPSILON, betas=BETAS)\n",
    "        loss_function = torch.nn.MSELoss()\n",
    "        \n",
    "        range_epochs = trange(MAX_EPOCHS, desc=\"Epochs (+ featurization...)\")\n",
    "        for epoch in range_epochs:\n",
    "            optimizer.zero_grad()\n",
    "            \n",
    "            prediction = nn_model(x_train)\n",
    "            if WITH_OBSERVATION_MODEL:\n",
    "                prediction = obs_model(prediction)\n",
    "            \n",
    "            prediction = prediction.view_as(y_train)\n",
    "\n",
    "            # prediction = delta_g\n",
    "            loss = loss_function(prediction, y_train)\n",
    "            range_epochs.set_description(f\"Epochs (loss={loss.item():.2e})\")\n",
    "            # Gradients w.r.t. parameters\n",
    "            loss.backward()\n",
    "\n",
    "            # Optimizer\n",
    "            optimizer.step()\n",
    "        \n",
    "        outputs = []\n",
    "        for ttype in ttypes:\n",
    "            output = Output()\n",
    "            with output:\n",
    "                title = f\"fold={fold_index}, {ttype}={locals()[f'{ttype}_indices'].shape[0]}\"\n",
    "                print(title)\n",
    "                print(\"-\"*(len(title)))\n",
    "                \n",
    "                observed = locals()[f\"y_{ttype}\"]\n",
    "                \n",
    "                nn_model.eval()\n",
    "                with torch.no_grad():\n",
    "                    predicted = nn_model(locals()[f\"x_{ttype}\"])\n",
    "                    print(\"Before:\", predicted.shape, predicted.dtype, observed.shape, observed.dtype)\n",
    "                    if WITH_OBSERVATION_MODEL:\n",
    "                        predicted = obs_model(predicted)\n",
    "                    \n",
    "                predicted = predicted.view_as(observed).detach().numpy()\n",
    "                observed = observed.detach().numpy()\n",
    "                \n",
    "                print(\"After\", predicted.shape, predicted.dtype, observed.shape, observed.dtype)\n",
    "\n",
    "                these_metrics = performance(predicted, observed, n_boot=N_BOOTSTRAPS, sample_ratio=BOOTSTRAP_SAMPLE_RATIO)\n",
    "                metrics[ttype].append(these_metrics)\n",
    "                display(predicted_vs_observed(predicted, observed, mtype_class, with_metrics=False))\n",
    "                \n",
    "                \n",
    "            outputs.append(output)\n",
    "        display(HBox(outputs))\n",
    "        \n",
    "    # Average performances\n",
    "    average = defaultdict(dict)\n",
    "    for key in metrics[\"test\"][0]:\n",
    "        for label in ttypes:\n",
    "            # this zero here ---v is super important! we only want the mean of the means!\n",
    "            values =  [fold[key][0] for fold in metrics[label]]\n",
    "            average[label][key] = {\n",
    "                \"mean\": np.mean(values),\n",
    "                \"std\": np.std(values)\n",
    "            }\n",
    "    for label in ttypes:    \n",
    "        display(HTML(f\"Bootstrapped average across folds ({label}):\"))\n",
    "        display(pd.DataFrame.from_dict(average[label]))"
   ]
  },
  {
   "cell_type": "markdown",
   "metadata": {},
   "source": [
    "## Lightning style"
   ]
  },
  {
   "cell_type": "markdown",
   "metadata": {},
   "source": [
    "### Train loop"
   ]
  },
  {
   "cell_type": "raw",
   "metadata": {},
   "source": [
    "from kinoml.ml.torch_models import NeuralNetworkRegression\n",
    "from kinoml.ml.lightning_modules import ObservationModelModule, CrossValidateTrainer, MultiDataModule\n",
    "from pytorch_lightning import callbacks as plcb"
   ]
  },
  {
   "cell_type": "raw",
   "metadata": {},
   "source": [
    "datamodule = MultiDataModule(\n",
    "    datasets=[datasets[ONE_KINASE][mtype] for mtype in MEASUREMENT_TYPES],\n",
    "    observation_models=[obs_models[mtype] for mtype in MEASUREMENT_TYPES],\n",
    "    batch_size=BATCH_SIZE, num_workers=NUM_WORKERS,\n",
    ")\n",
    "\n",
    "if WITH_VALIDATION:\n",
    "    early_stopping = plcb.EarlyStopping(\n",
    "        monitor=\"val_loss\", \n",
    "        min_delta=MIN_DELTA, \n",
    "        patience=PATIENCE, \n",
    "        mode=\"min\",\n",
    "    )\n",
    "    checkpoints = plcb.ModelCheckpoint(\n",
    "        filepath=OUT / \"chk-{epoch}-{val_loss:.4f}\",\n",
    "        monitor=\"val_loss\", \n",
    "        mode=\"min\",\n",
    "        save_top_k=5,\n",
    "        save_last=True,\n",
    "    )\n",
    "    trainer_kwargs = {\n",
    "        \"callbacks\": [early_stopping],\n",
    "        \"checkpoint_callbacks\": checkpoints,\n",
    "    }\n",
    "else:\n",
    "    trainer_kwargs = {}\n",
    "\n",
    "# Configure trainer\n",
    "trainer = CrossValidateTrainer(\n",
    "    nfolds=N_SPLITS,\n",
    "    with_validation=WITH_VALIDATION,\n",
    "    shuffle=SHUFFLE_FOLDS,\n",
    "    max_epochs=MAX_EPOCHS, \n",
    "    logger=pl.loggers.TensorBoardLogger(OUT / \"tensorboard_logs\", name=\"\"),\n",
    "    **trainer_kwargs\n",
    ")\n",
    "\n",
    "# Set up the network\n",
    "input_size = datasets[ONE_KINASE][MEASUREMENT_TYPES[0]].input_size()\n",
    "nn_model = NeuralNetworkRegression(input_size=input_size, hidden_size=350)\n",
    "\n",
    "# Configure Lightning adapter module\n",
    "module = ObservationModelModule(\n",
    "    nn_model=nn_model, \n",
    "    optimizer=torch.optim.Adam(nn_model.parameters(), lr=LEARNING_RATE, eps=EPSILON, betas=BETAS), \n",
    "    loss_function=torch.nn.MSELoss(),\n",
    "    validate=WITH_VALIDATION,\n",
    ")\n",
    "\n",
    "# Run loop: first over datamodules (measurement types), then over kfolds\n",
    "# TODO: Assess strategy? We start with smallest datasets first!\n",
    "trainer.fit(model=module, datamodule=datamodule)"
   ]
  },
  {
   "cell_type": "markdown",
   "metadata": {},
   "source": [
    "### Performance on the test set"
   ]
  },
  {
   "cell_type": "raw",
   "metadata": {},
   "source": [
    "import pandas as pd\n",
    "# Wait on https://github.com/PyTorchLightning/pytorch-lightning/pull/4480 to use multiple dataloaders\n",
    "for index in datamodule.dataset_indices_by_size(reverse=True):\n",
    "    print(f\"Performance for {datamodule.measurement_types[index]}\")\n",
    "    display(pd.DataFrame.from_dict(trainer.test(datamodule=datamodule, dataset_index=index, verbose=False)))\n",
    "    print(f\"^ Performance for {datamodule.measurement_types[index]}\")\n",
    "    print()\n",
    "    print(\"*************************************************\")\n",
    "    print()"
   ]
  },
  {
   "cell_type": "raw",
   "metadata": {},
   "source": [
    "%load_ext tensorboard\n",
    "%tensorboard --logdir {best_run.logger.log_dir}"
   ]
  },
  {
   "cell_type": "markdown",
   "metadata": {},
   "source": [
    "Save best run with an easy to remember path for the next section."
   ]
  },
  {
   "cell_type": "raw",
   "metadata": {},
   "source": [
    "best_run = trainer.best_run()\n",
    "shutil.copy(best_run.checkpoint_callback.best_model_path, OUT / \"best.ckpt\")"
   ]
  },
  {
   "cell_type": "markdown",
   "metadata": {},
   "source": [
    "### Analysis"
   ]
  },
  {
   "cell_type": "raw",
   "metadata": {},
   "source": [
    "from ipywidgets import HBox, VBox, Output, HTML\n",
    "from kinoml.analysis.plots import predicted_vs_observed, performance\n",
    "from kinoml.utils import fill_until_next_multiple\n",
    "\n",
    "ttypes = [\"train\", \"val\", \"test\"] if WITH_VALIDATION else [\"train\", \"test\"]\n",
    "for dataset_index in datamodule.dataset_indices_by_size(reverse=True):\n",
    "    plots, metrics, torch_metrics = [], defaultdict(list), defaultdict(list)\n",
    "    mtype = datamodule.measurement_types[dataset_index]\n",
    "    mtype_class = getattr(measurement_types, mtype)\n",
    "    obs_model = datamodule.observation_models[dataset_index]\n",
    "    display(HTML(f\"<h3>{mtype}</h3>\"))\n",
    "    \n",
    "    for ttype in ttypes:\n",
    "        for fold_index, subdataloader in enumerate(trainer._dataloaders[ttype][dataset_index::len(datamodule.datasets)]):\n",
    "            subtrainer = trainer._trainers[fold_index]\n",
    "            submodel = trainer._models[fold_index]\n",
    "            \n",
    "            indices = subdataloader.sampler.indices\n",
    "            model_input = subdataloader.dataset.data_X[indices]\n",
    "            observed = subdataloader.dataset.data_y[indices]\n",
    "\n",
    "            predicted = submodel.forward(model_input, observation_model=subdataloader.observation_model).detach().numpy()\n",
    "            \n",
    "            torch_metrics[ttype].append(subtrainer.test(model=submodel, test_dataloaders=subdataloader))\n",
    "\n",
    "            output = Output()\n",
    "            with output:\n",
    "                title = f\"fold={fold_index}, {ttype}={indices.shape[0]}\"\n",
    "                print(title)\n",
    "                print(\"-\"*(len(title)))\n",
    "                these_metrics = performance(predicted, observed, n_boot=N_BOOTSTRAPS, sample_ratio=BOOTSTRAP_SAMPLE_RATIO)\n",
    "                metrics[ttype].append(these_metrics)\n",
    "                display(predicted_vs_observed(predicted, observed, mtype_class, with_metrics=False))\n",
    "            plots.append(output)\n",
    "\n",
    "    # Fill with empty objects until the next multiple of ITEMS_PER_ROW\n",
    "    fill_until_next_multiple(plots, len(ttypes), Output)\n",
    "\n",
    "    # Plot in 3-column table\n",
    "    display(VBox([HBox(row) for row in np.reshape(plots, (-1, N_SPLITS)).T.tolist()]))\n",
    "    \n",
    "    # Average performances\n",
    "    average = defaultdict(dict)\n",
    "    for key in metrics[\"train\"][0]:\n",
    "        for label in ttypes:\n",
    "            # this zero here ---v is super important! we only want the mean of the means!\n",
    "            values =  [fold[key][0] for fold in metrics[label]]\n",
    "            average[label][key] = {\n",
    "                \"mean\": np.mean(values),\n",
    "                \"std\": np.std(values)\n",
    "            }\n",
    "    for label in ttypes:    \n",
    "        display(HTML(f\"Bootstrapped average across folds ({label}):\"))\n",
    "        display(pd.DataFrame.from_dict(average[label]))"
   ]
  },
  {
   "cell_type": "code",
   "execution_count": null,
   "metadata": {},
   "outputs": [],
   "source": [
    "from kinoml.utils import watermark\n",
    "watermark()"
   ]
  },
  {
   "cell_type": "code",
   "execution_count": null,
   "metadata": {},
   "outputs": [],
   "source": []
  }
 ],
 "metadata": {
  "kernelspec": {
   "display_name": "Python 3",
   "language": "python",
   "name": "python3"
  },
  "language_info": {
   "codemirror_mode": {
    "name": "ipython",
    "version": 3
   },
   "file_extension": ".py",
   "mimetype": "text/x-python",
   "name": "python",
   "nbconvert_exporter": "python",
   "pygments_lexer": "ipython3",
   "version": "3.7.8"
  },
  "widgets": {
   "application/vnd.jupyter.widget-state+json": {
    "state": {
     "01835b3f150c40f58ccebc4662934507": {
      "model_module": "@jupyter-widgets/controls",
      "model_module_version": "1.5.0",
      "model_name": "FloatProgressModel",
      "state": {
       "bar_style": "success",
       "layout": "IPY_MODEL_25f58122a3c241229c0d6ccb91cba2ce",
       "style": "IPY_MODEL_c351030cd47040cea4b2744b48b8452d",
       "value": 100
      }
     },
     "03674cde4db64c1eb13e229a59a49f1d": {
      "model_module": "@jupyter-widgets/controls",
      "model_module_version": "1.5.0",
      "model_name": "DescriptionStyleModel",
      "state": {
       "description_width": ""
      }
     },
     "076fdba2682c41c0a926d1f6fd64c7d8": {
      "model_module": "@jupyter-widgets/base",
      "model_module_version": "1.2.0",
      "model_name": "LayoutModel",
      "state": {}
     },
     "0aa4b14da89946f3b1dca71657ddde26": {
      "model_module": "@jupyter-widgets/controls",
      "model_module_version": "1.5.0",
      "model_name": "HBoxModel",
      "state": {
       "children": [
        "IPY_MODEL_b3a602fdec2b483bb5e1f3aecaea3509",
        "IPY_MODEL_6e14fc99820b496dbbaf9d7cd734572a"
       ],
       "layout": "IPY_MODEL_df881c2ea6ea4457b80de569e3ec309e"
      }
     },
     "0e9a4f1794fc4c3ca3e1d084516313f4": {
      "model_module": "@jupyter-widgets/controls",
      "model_module_version": "1.5.0",
      "model_name": "FloatProgressModel",
      "state": {
       "bar_style": "success",
       "layout": "IPY_MODEL_4bda59c4e4f8495486fb8e0490b05f9f",
       "style": "IPY_MODEL_a4cc50ec251e4296a7d642fd7e19e099",
       "value": 100
      }
     },
     "10f95ba22b4846c6b138c94bd8a2a9d5": {
      "model_module": "@jupyter-widgets/controls",
      "model_module_version": "1.5.0",
      "model_name": "HTMLModel",
      "state": {
       "layout": "IPY_MODEL_cfd1010db5114495914e4720404dd97d",
       "style": "IPY_MODEL_98be5593927f4e0e878f03766826f294",
       "value": " 100/100 [00:13&lt;00:00,  7.51it/s]"
      }
     },
     "1423b535d51747318d2a5acd0e3856ec": {
      "model_module": "@jupyter-widgets/controls",
      "model_module_version": "1.5.0",
      "model_name": "HTMLModel",
      "state": {
       "layout": "IPY_MODEL_53b53d5e65924f0a94664611e4293aa3",
       "style": "IPY_MODEL_3a6818a157134ab0b3b41f29e27df3d8",
       "value": "Epochs (loss=3.59e+02): 100%"
      }
     },
     "1b9446a4470e48a8bb66a6f2a5f33d71": {
      "model_module": "@jupyter-widgets/controls",
      "model_module_version": "1.5.0",
      "model_name": "HTMLModel",
      "state": {
       "layout": "IPY_MODEL_4ff3f68dc25b4fe6a8cf27e4019c6821",
       "style": "IPY_MODEL_b746a1944ca2448f80b5d27b16de75cb",
       "value": "Epochs (loss=3.92e+02): 100%"
      }
     },
     "1e3d802f31f942debcd640f52782a6df": {
      "model_module": "@jupyter-widgets/controls",
      "model_module_version": "1.5.0",
      "model_name": "HTMLModel",
      "state": {
       "layout": "IPY_MODEL_2c85f9a72aa04b52991d2064af3a3576",
       "style": "IPY_MODEL_6e37e3e9dfd54fa18fd1d118ebf61744",
       "value": " 100/100 [00:27&lt;00:00,  3.67it/s]"
      }
     },
     "20aaf095d9c14dad89fe71e7ed56e297": {
      "model_module": "@jupyter-widgets/output",
      "model_module_version": "1.0.0",
      "model_name": "OutputModel",
      "state": {
       "layout": "IPY_MODEL_df425c45d42a471ca2eecdc592c2cdca",
       "outputs": [
        {
         "name": "stdout",
         "output_type": "stream",
         "text": "fold=2, train=516\n-----------------\nBefore: torch.Size([516, 1]) torch.float64 torch.Size([516]) torch.float64\nAfter (516,) float64 (516,) float64\n MAE: 13.7602±0.0000 95CI=(13.7602, 13.7602)\n MSE: 378.6032±0.0000 95CI=(378.6032, 378.6032)\n  R2: 0.4687±0.0000 95CI=(0.4687, 0.4687)\nRMSE: 19.4577±0.0000 95CI=(19.4577, 19.4577)\n"
        },
        {
         "data": {
          "image/png": "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\n",
          "text/plain": "<Figure size 432x288 with 1 Axes>"
         },
         "metadata": {},
         "output_type": "display_data"
        }
       ]
      }
     },
     "21054a662daf43048eac068924583b79": {
      "model_module": "@jupyter-widgets/base",
      "model_module_version": "1.2.0",
      "model_name": "LayoutModel",
      "state": {}
     },
     "2174b5d171c44e52922d07b0293dcd0d": {
      "model_module": "@jupyter-widgets/base",
      "model_module_version": "1.2.0",
      "model_name": "LayoutModel",
      "state": {}
     },
     "23db15b3b3e142cda35ed668662600c8": {
      "model_module": "@jupyter-widgets/output",
      "model_module_version": "1.0.0",
      "model_name": "OutputModel",
      "state": {
       "layout": "IPY_MODEL_49f6836a06174eba8e1b272132e28262",
       "outputs": [
        {
         "name": "stdout",
         "output_type": "stream",
         "text": "fold=1, test=129\n----------------\nBefore: torch.Size([129, 1]) torch.float64 torch.Size([129]) torch.float64\nAfter (129,) float64 (129,) float64\n MAE: 15.5753±0.0000 95CI=(15.5753, 15.5753)\n MSE: 442.9732±0.0000 95CI=(442.9732, 442.9732)\n  R2: 0.4126±0.0000 95CI=(0.4126, 0.4126)\nRMSE: 21.0469±0.0000 95CI=(21.0469, 21.0469)\n"
        },
        {
         "data": {
          "image/png": "iVBORw0KGgoAAAANSUhEUgAAASUAAAEWCAYAAAAgiYF0AAAAOXRFWHRTb2Z0d2FyZQBNYXRwbG90bGliIHZlcnNpb24zLjMuMiwgaHR0cHM6Ly9tYXRwbG90bGliLm9yZy8vihELAAAACXBIWXMAAAsTAAALEwEAmpwYAAApe0lEQVR4nO2de5xcVZXvv7/uNElHIJ1AgKQhBBV5Roi0gMYnMMPDBxkGFEYcdPAyeh01DsOYqFdQ8ZK5OCpeVERQuKI8RAwIg4AJKDAKJCTII8QggUATIEgSAgToJOv+cXYlp6tPVZ3qrsc5Vev7+fSnq85rr/P61d5rr722zAzHcZys0NFsAxzHceK4KDmOkylclBzHyRQuSo7jZAoXJcdxMoWLkuM4mcJFyQFA0jslLavBcR6TdEQtbHLak4aKkqR/kbRQ0quSLilad6ikWyQ9L2m1pF9ImhRb3yPpUknPhr+zypQzVZJJejH8PSZpdv3OrHok3SbpEw0q6yxJA5LWh78/Szo/fn3N7HYz26sR9uQFSR+TdEfRskvCs/XBouXfCcs/1lAjc0K4bmen2bbRNaWngLOBHyesGw9cCEwFdgfWAz+Jrf82MDasPxj4qKSPVyivx8y2BU4CviLpqGqMlTSqmu0zzpVmth0wAfg7YBdgUVyYnNT8GTil8CU8JycAf2maRQnk9vk1s4b/EQnTJRW2eQuwPvb9OeCtse9fBG4vse9UwIBRsWX3AP8WPv8TsBRYA9wE7B7bzoBPA8uBFWHZscAS4AWiB++osHwccDGwCugP59UZ1n0MuAP4ZihnBXB0WPcNYBPwCvAicH5Yfh7wRChnEfDOmF3dwKXhWEuBfweejK2fDPwSWB3K+mxs3VnAZUXXqBO4D/hm+P6eouN9IZzTemAZcHjsWFcDV4Z19wIHxPZ7DDgifD4Y+AOwNlyj84FtYtvuB9wCPA88A3wxLO8AZodr/VfgKmBC0b39eLhWa4BPAm8F/hTKOr/oXCvd70+G+70G+B4gYJ9wfzaFe7Q2bH9JuKdPA+PDsvcDN4b7/bGU5Za71wcDC8O6Z4BvJd2jhOtduDeXhX0/QeVn9E6iH/y1wKPA28PyJ4BngVNiZY0O574y2HUB0B23DTg97LcK+HhYdxowALwWruWvy777GRalWcAfi0Tp4Nj3LwFrKolSeMBmAC8DhwMzgUfCQzcK+DLw30UP6S1ENYru8ICsA/6G6GXpBfYO284Dfgi8DtgJuBv459gNHwD+B5EAfIqopqiw/jbgE0V2nwzsEOw6nejBHxPWzQV+R1Sj3JXoBXwy9hIvAr4CbAO8PjxgR5YSpbD8a8BdxQ88sFd4KCfHrucbYscaAI4HuoB/IxLBroSX5CDg0HA+U4le0Flh3XZED+7pwJjw/ZD4vQ/nOTpc48uL7u0FYb+/JRKPeeEe9BK9FO8O28+k8v2+HugBphCJ+lGxe3hH0TW7hOj5vRD4VFh2FVFtfIsopSi33L3+A/DR8Hlb4NAqRGkglN1B9PzOo/wzupFI4DvDea0kEubR4dquB7YN238HuI7o3dgO+DVwTsy2jUTPVBdwDNE7Nz5+3VLpQxZFCXgz0a9n/NfjMuCacDHeSPQr+moFUVrL1prFZ8O6G4FTY9t2hIu3e+whPSy2/ofAtxPK2Bl4lfBLEZadBNwau+GPxNaNDcfepZQoJZSxhlALISYy4fsn2CoihwAri/adA/ykgih9ElieIEpvJHqxjyCITWyfsxj8Y9FBJC7vLH5JEsqbBfwqdq0Wl9huKaFmFr5PInrZCuJmQG9s/V+BD8e+/5Kt4pfmfr8jtv4qYHbsHpYSpXcQicc4olpDN4NFqWy5Fe7174GvAjsWbbPlHsWWbbne4d78vspndHls3bRwPXYuurYHEv24v0T4cQrr3sbW1sR7gA0Mbp08y1ZBvYSUopS53jdJbyS6oZ8zs9tjqz5LdNLLgWuBy4mqi+XY0czGm9k+ZvbdsGx34DxJayWtJRI/Ef3CFngi9nk3kn0FuxP9IqyKHeuHRL9GBZ4ufDCzl8PHbUsZK+l0SUslrQvHGwfsGFZPLrIr/nl3YHLBjrDvF4keynL0Ep3/IMzsESIBOQt4VtIVkiYnlW1mm4nuQ3x94XzeJOl6SU9LegH437HzKXVdC+fzq9i5LCVqRsXP55nY5w0J3wvXOc39fjr2+WXK3KMCZnYHMJGoBnS9mW1IOIeS5Va416cCbwIelnSPpPdXsidG8XNR6Rktvm6YWdK1nEj0w7oodqzfhOUF/mpmG2PfU13LYjIlSpJ2B34LfN3MfhpfZ2bPm9lHzGwXM9uPyPa7h1HME0TV157YX7eZ/Xe8uKLt31DiOK8SCV/hONsH29IQLwNJ7yTy43yIqMrbQ9RsVNhkFVFzpsBuRbasKDqn7czsmFKFS+oAPgDcnrTezH5uZu8gerAN+I+kssNxdiVqmhbzA+BhYE8z255IKAvnU+q6FtYdXXQ+Y8ysv9T5lCHN/S6FVVh/GVHT6/9VU26le21my83sJCLx+A/gakmvI6qpjC0UIKmTwaJQbPNIn9E4zxEJ1H6xY42zqCMpDZWu5RYaHRIwStIYovZrp6QxhR4CSb3AAuB7ZnZBwr5vkLSDpE5JRxM5z1J1MRZxATBH0n7huOMknVBm+4uBj0s6XFKHpF5Je5vZKuBm4D8lbR/WvUHSu1Pa8QyR76fAdkRt8tXAKElfAbaPrb8q2D0+XKt/ia27G3hB0hckdYdrtL+ktxYXKqlL0j5ENc1dgG8lbLOXpMMkjSby12wgqqkUOEjSceHezSJ68P+YcI7bETlcX5S0N5FfrcD1wC6SZkkaLWk7SYeEdRcA3wg/UkiaKOnYhOOnodr7HecZYFdJ25RY/10iX+Pvqyy37L2WdLKkiaEWujYs3kTU6zdG0vskdRHV0kaXMr4Gz2j8WJuBHwHflrRTsLNX0pEpD1H8vJek0TWlLxM94LOJHH0bwjKIfCSvB87U1viiF2P7HgTcT+R4Owf4iJk9WK0BZvYrol+fK0KT4gHg6DLb303kCPw20a/Z74hqDwD/SORYfojIJ3A1kf8jDecBx0taI+m7RL0zNxI9eI8TiUG8Kv41ombSCqLa5NVEYoCZbSKq9RwY1j8HXETUJCjw4XA91xI5K/8KHGRmSTWc0USO9eeImjY7EdVyClwLfDic80eB48xsIOE4/wb8A9E9+xFRjx3B5vVEL/QHQhnLgffGrs11wM2S1hMJ3iEMg2rvdxELgAeBpyU9l3Ds581svgWnSRXlVrrXRwEPhvt1HnCimb1iZuuA/0l0b/uJak6VXBgjeUaL+QKR8/6P4Zx+S9QpkoaLgX1D029euQ2VcD2dHCDpU0QPa9W/eiMs9yzgjWZ2ciPLddqHTPmUnNJImiRpRqiC70Xky/hVs+1ynFqTz4jP9mQbop6TPYiaYFcA32+mQY5TD7z55jhOpvDmm+M4mSLXzbcdd9zRpk6d2mwzHKclee7FV1m17hVee/qR58ysOB6qbuRalKZOncrChQubbYbjtBwX3f4oZ9+wlH/afxcu+Gjf440s25tvjuMM4uI7VnD2DUs5ZtoufPek6Q0v30XJcZwtXHzHCr5+/UMcM20XzjtxOl2djZeIXDffHMepHYUmWzMFCbym5DgOWwXp6P2bK0jgouQ4bU9ckL57UnMFCeooSpJ+rCjB/wOxZRMUTQ6wPPwfH1s3R9IjkpZVMfLYcZwRkDVBgvrWlC4hGu0cZzYw38z2BOaH70jaFziRKGfzUcD3Q64YJ6fMW9zPjLkL2GP2DcyYu4B5i4eTCsmpJ1kUJKjzMBNJU4my8u0fvi8D3mNmqxTNonGbme0laQ6AmZ0TtrsJOMvM/lDu+H19fdZKcUrzFvdz7k3LeGrtBib3dHPGkXsxc3pv5R0zxrzF/cy55n42DGxNwdTVIbYdM4q1Lw/k+txahWoESdIiM+trlG2N7n3bOSSeIghTIS1nL4OThD3J4HSlW5B0GlGCN6ZMmVJHUxtL8Yvcv3YDc665HyAzL++X593P5Xc9wSYzOiVOOmQ3zp45bch25960bJAgAQxsNta8HKVcyuK5tRNZ6WUrRVZCApSwLLEKZ2YXEs0kQV9fX8uMJk56kTcMbOLcm5Y15cUtrrVN3aGbO/+yNZ33JjMu++NKgCHC9NTa4nTVQ2nmubUzWRckaHzv2zOh2Ub4/2xY/iSDc06XyvncspR6kdO84LWmUGvrX7sBI6rZxAUpzuV3PTFk2eSe7lTlNOPc2pk8CBI0XpSuY+vMoqcQpVUtLD8x5GreA9iT4U0KkFtKvchpX/BaklRrK8WmBJ/kGUfuRXdX5X6KZpxbu5IXQYL6hgRcTjQv1l6SnpR0KlHe57+RtJwoP/NcgJBr+yqiPMK/AT4d8k63DUkvcndXJ2ccmTYFcu2opgbTqaEt75nTeznnuGn09nQjoKe7i67Owds169zakSwFRqahbj6lMEVMEoeX2P4bRNNZtyUF30oWet8m93TTn1KYTjpkt8TlM6f3DrK9VXoW80ZWu/3LkevMk60WEpAVkrr0u7s6ecuUcfzx0TUVe9+cbFArQWr1kAAnB2Sp1uYMj3j6kTw02eK4KDmJFDe/nPyQhfQjIyFf1jqOU5a8CxJ4TclxWoY8dfuXw0Uph3hPllNMqwgSuCjljjyMkXMaS97ikCqRb+vbkHJj5Jz2I49xSJXI/xm0GVkaI+c0l1YUJHBRyh1ZGiPnNI+4D6mVBAlclHJHlsbIOc0hz4GRaXBHd87waOv2phXikCrhopRDPNq6PWkHQQIXJWeEeMxUY2ilOKRKuCg5w8ZjphpDOwkSuKPbGQEeM1V/Wi0wMg2tf4ZO3fCYqfrSqnFIlWiPs3TqgsdM1Y92FSRwUXJGgMdM1YdWDoxMgzu6nWHjMVO1p9UDI9PgouSMCI+Zqh3tEodUCRelFsPjhvKJC9JWXJRaCI8byiftFodUifY++xbD44byhwvSUPwKtBAeN5Qv2jEwMg1+FVoIjxvKD/Fetnbs9i+HX4kWwuOG8oE7tcvjju4WwuOGso8LUmVclFoMjxvKLu7UToeLUg7w2KP844KUHheljOOxR/nHBak6mnJ1JH1e0oOSHpB0uaQxkiZIukXS8vB/fDNsyxoee5RvvNu/ehp+hST1Ap8F+sxsf6ATOBGYDcw3sz2B+eF72+OxR/mlndOPjIRmXaVRQLekUcBY4CngWODSsP5SYGZzTMsWHnuUT1yQhk/Dr5SZ9QPfBFYCq4B1ZnYzsLOZrQrbrAJ2Stpf0mmSFkpauHr16kaZ3TQ89ih/eGDkyGi4ozv4io4F9gDWAr+QdHLa/c3sQuBCgL6+PquHjVkiC7FH3vuXHo9DGjnN6H07AlhhZqsBJF0DvB14RtIkM1slaRLwbBNsyyTNjD3y3r/0uCDVhmZctZXAoZLGShJwOLAUuA44JWxzCnBtE2xzivDev3RcdPujLkg1ouE1JTO7S9LVwL3ARmAxUXNsW+AqSacSCdcJjbbNGYr3/lXG45BqS1OCJ83sTODMosWvEtWanAwxuaeb/gQB8t6/CI9Dqj1+BZ2yeO9fabzbvz74MBOnLFno/csiLkj1w0XJqYhnHhiM+5Dqi4uSMwiPSSqPz8tWf1yUnC14TFJ5PA6pMfhVdbbgMUmlcUFqHF5TcrbgMUnJuA+psfjVdbbgGQmG4oLUePwKO1vwmKTBeGBkc/Dmm7MFj0naischNQ8XJWcQHpPkgtRsXJQyTpq4IY8tqh3uQ2o+LkoZJk3ckMcW1Q4XpGzgVz3DpIkb8tii2uCClB38ymeYNHFDHls0clyQsoVf/QyTJm7IY4tGhnf7Zw+/AxkmTdyQxxYNH+9lyybu6M4waeKGPLZoeLggZReZ5XeWor6+Plu4cGGzzXByhg+urQ5Ji8ysr1Hl+d1w2goXpOzjd8RpG1yQ8oH7lJy2wLv984PfGaflcUHKF353nJbG45Dyh98hp2Xxbv984nfJaUlckPKLO7qdIeQ9FYr7kPKNi5IziLynQvF52fKP3zFnEHlOheJxSK2B3zVnEHlNheKC1Do05c5J6pF0taSHJS2V9DZJEyTdIml5+D++Gba1O3lMhXLR7Y+6ILUQzbp75wG/MbO9gQOApcBsYL6Z7QnMD9+dBpO3VCju1G49Gn4HJW0PvAu4GMDMXjOztcCxwKVhs0uBmY22zYmc2eccN43enm4E9PZ0c85x0zLp5PbAyNakbOoSSeuBkhuY2fZVFygdCFwIPERUS1oEfA7oN7Oe2HZrzGxIE07SacBpAFOmTDno8ccfr9YEpwXwOKTG0ejUJWVDAsxsOwBJXwOeBn4KCPgIsN0IynwL8Bkzu0vSeVTRVDOzC4lEjb6+vvwmgxomeY8hqgUuSK1N2rt5pJl938zWm9kLZvYD4O+HWeaTwJNmdlf4fjWRSD0jaRJA+P/sMI/fshRiiPrXbsDYGkM0b3F/s01rGHEfkgtSa5L2jm6S9BFJnZI6JH0E2FRxrwTM7GngCUkFz+nhRE2564BTwrJTgGuHc/xWZjgxRPMW9zNj7gL2mH0DM+YuyLWAeWBke5A2ovsfiHrMziPyMd0Zlg2XzwA/k7QN8CjwcSKBvErSqcBK4IQRHL8lqTaGKO/R2XE8Dql9SCVKZvYYUe9YTTCzJUCS4+zwWpXRikzu6aY/QYBKxRCVq1nlSZRckNqLVHdX0pskzZf0QPj+Zklfrq9pTjHVxhDlNTo7jgdGth9p7/CPgDnAAICZ/Qk4sV5GtQPD8fVUG0OUx+jsOB4Y2Z6k9SmNNbO7JcWXbayDPW3BSHw9M6f3pm56nXHkXoPKgWxHZ8fxwMj2Ja0oPSfpDYRASknHA6vqZlWLUwtfT5p4pbxOVOm9bO1NWlH6NFHA4t6S+oEVRAGUzjAYqa+nmppWNTWrLOBObSftHX/czI4AJgJ7m9k7zMzHdwyTkfp6StW0Zl25hAO/enNuY5FckBxIL0orJF0IHAq8WEd72oKRjsQvV6Nau2GAM35xX+6EyXvZnAJp7/xewG+JmnErJJ0v6R31M6u1GelI/Eo1qoHNlotMkQW8l82JkzZ4cgNwFVHE9XiiyO7fAZ1ld3RKMhJfT1KvWjF5iUVyQXKKSf0ESHq3pO8D9wJjgA/VzSqnLIWaVufgEI1B5CEWybv9nSRS1ZQkrQCWENWWzjCzl+pplFOZQi3rjKvvY2DT4AwuXR3KfCySpx9xSlFRlCR1Aj8xs681wB6nCgrC9NVfP8ialwcA6Onu4qwP7pfpMAAXJKccFUXJzDZJei/gopRB8hiH5D4kpxxpgyf/W9L5wJXAlqabmd1bF6uclsTjkJw0pBWlt4f/8dqSAYfV1hynVXFBctKSNiTgvfU2xGldvNvfqYa0+ZR2lnSxpBvD931DhkjHKYsLklMtaZ+QS4CbgMnh+5+BWXWwx2khPA7JGQ5pn5IdzewqYDOAmW1kmBMHOO2Bd/s7wyWto/slSTuwNZ/SocC6ulnVxrTCvG4uSM5ISCtK/0o0BdIbJN1JlMLk+LpZ1aa0wuwj7kNyRkra3rd7Jb2bKFuAgGVmNlBXy9qQvM8+4oGRTi1I2/t2AtBtZg8CM4ErJb2lnoa1I3mefcTjkJxakfbJ+V9mtj7kUDoSuBT4Qf3Mak/yOvuIC5JTS1JP2x3+vw/4gZldC2xTH5Pal5FmpGwGnjHSqTVpHd39kn4IHAH8h6TRVJGLyUlH3mYfcae2Uw9kZpU3ksYCRwH3m9lySZOAaWZ2c70NLEdfX58tXLiwmSa0Ld7t3z5IWmRmfY0qL9WTZGYvA48BR0v6DDCp2YLkNA8XJKeepO19+wqRc3sHYEfgJ5K+XE/DnGziguTUm7Q+pZOA6Wb2CoCkuUS5us+ul2FO9nAfktMI0j5VjxFNFlBgNPCXmlvjZBYXJKdRlK0pSfq/ROPdXgUelHRLWHUEcMdICg65vxcC/Wb2fkkTiDJbTiUSwQ+Z2ZqRlOHUBhckp5FUar4VurYeAuYTZQnYBNxag7I/BywFtg/fZwPzzWyupNnh+xdqUI4zAlyQnEZT6Qn7ObAfke/oY8Anwuf9w7phIWlXokDMi2KLjyVyphP+zxzu8Z3a4PmQnGZQ6Sn7P8B4YA8zO8jMpgOvB8YB546g3O8A/07IzxTY2cxWAYT/OyXtKOk0SQslLVy9evUITHDK4b1sTrOo9KS9HzjNzNYXFpjZC8CniGo6VSPp/cCzZrZoOPub2YVm1mdmfRMnThzOIZwKuCA5zaSST8ksIeQ7zAVXORQ8mRnAByUdQ9Sjt72ky4BnJE0ys1UhYvzZYR7fGQGefsRpNpWeuIck/WPxQkknAw8Pp0Azm2Nmu5rZVOBEYIGZnUyURO6UsNkpwLXDOX4embe4nxlzF7DH7BuYMXcB8xb3N8UOH+3vZIFKNaVPA9dI+idgEVF4wFuBbuDvamzLXOCqMEvKSuCEGh8/k2Ql26QLkpMVyoqSmfUDh0g6jKgXTsCNZja/FoWb2W3AbeHzX4HDa3HcPJGFbJPe7e9kibTpcBcAC+psS1vS7GyTLkhO1kg79s2pE5N7uulPEKB4tsl6zXDiguRkEX8Km0ylbJMFn1P/2g0YW31OI3WGe2Ckk1X8SWwyM6f3cs5x0+jt6UZAb0835xw3bVAWylI+p+HicUhOlvHmWwaYOb23ZHOs1j4nFyQn6/gTmXFqOcNJPDDSBcnJKv5UZpxazXDicUhOXvDmW8apxQwnLkhOnnBRygHlfE6V8G5/J2/4E9rCuCA5ecSf0hbF45CcvOLNtxYhHvW9/Zgu1r0y4N3+Ti5xUWoBijMNrHtlgA7BEfvs7ILk5A5/YluApKjvzQbfuuXPTbLIcYaPi1IL0OxMA45TS1yUWoDtx3QlLh/XnbzccbKMi1LOufiOFax7ZQAlrHvptY1NS63rOMPFHd11olQOpFrmRpp1xWLmLXkKiPIUFzOwyRqawdJxaoGLUh0olXd74ePP88tF/TXJxx0XpHK4X8nJG958qwOlciBdftcTNcmNdNHtj6YSJBheNgHHaSZeU6ohhaZZUnpbgE1Dp9ADqqvNFNKPpGE42QSSqFc6XsdJwkWpRhQ32ZLolBKFKW1tpjDav0NRHFKpMjab1Uw8sjIFlNM+uCjViKQmW5zurk7+/qBerrznCQY2bVWUrk6lqs0UBGlMVwevDGwuWUY8lW4tyMIUUE574T6lGlGuCVbIu923+4Sh3WQpJj+/6PZHt+RDKiVIQM0FCTww02k8Lko1olQTrLenmztnH8bM6b2ce9MyBoraXQObrayjuzj9SG+ZcupRc6llOl7HSYOLUo1Ik7a22lpHUj6kWqXHTUujy3Mc9ymNkHjP1LjuLsZ0dbDm5QE6JTYMbOKrv36Qs657kHUbBuiowtFdEKQxXR381/1Pc98Ttw1yXDeqN6zR5TmOi9IIKO6ZWrthgK4O0dWpLc7sNS8PbNk+SZCSah0FQeoQW3xIxb1ejRSFRpfntDfefBsBST1TA5ttUO9aEp1S4sSTsFWQujo0pNt/pJNQOk4e8JrSCBhuD9RmM1bMfd+Q5YXAyAN2Hcd9T66raZmOkxcaXlOStJukWyUtlfSgpM+F5RMk3SJpefg/vtG2Vctwe6CS9otPg7R6/as1L9Nx8kIzmm8bgdPNbB/gUODTkvYFZgPzzWxPYH74nmmSeqYqkeRDKp6XbdW6V0ru/969Jw7LVsfJCw0XJTNbZWb3hs/rgaVAL3AscGnY7FJgZqNtq5aZ03s557hp9PZ0IyJfUTk6pUQf0tevf4gDdh3HncufY88v3Vg2nvLWh1fXxnjHyShN9SlJmgpMB+4CdjazVRAJl6SdSuxzGnAawJQpUxpkaWniPVPlxr8lDQEpOLUP2HUcD/avY2OK6G73KTmtTtNESdK2wC+BWWb2girUMgqY2YXAhQB9fX0pXuPakzRqHkqPf+tNiO2JB0YuWbk2lSCB+5Sc1qcpoiSpi0iQfmZm14TFz0iaFGpJk4Bnm2FbJZJGzZ9x9X1gDBlCAlt9SEmCVJgo8k1fujFV2R5J7bQDzeh9E3AxsNTMvhVbdR1wSvh8CnBto21LQ2Js0iZLFCQYGlsUF6TCRJHlaj+lYprmLe5nxtwF7DH7BmbMXeC5uJ2WoRk1pRnAR4H7JS0Jy74IzAWuknQqsBI4oQm2VWQ4Pp3CPkmCBFEv3hm/uG+IsHV1inOPP2BINLXnOHJaGVmJbIh5oK+vzxYuXNjQMmfMXVAys2Q5xoWptOODa2FwtkqxNZPJ+LFdnPmB/RInG3j5tY2Dhq/ESfJfOc5IkLTIzPoaVZ5HdFfJGUfuNaSHrbNDbCqVCjJQmEr78L13HiRI8WMZQ3vpkmpF5fBak5N3fOzbMBjTtfWyCSoKUoHiqbTLZXUst00lfIyck2e8plQFSXFI1TZ+4z6pNPmVhhuX5PFMTl7xmlIVDKfWUky8py1NVsdS2/R0d5XMQlluP8fJOi5KVTDS2kdxnFGarI6ltjnrg/tx5+zD+M6HD/TMkE5L4c23IsrNcTa5pzt1z1tXpzjhoF353Z+fK5mxsVRWR4h6+QrZLDtiwe493V2c9cH9tuzrmSGdVsNFKUal+J+knrc4XR1iYLMNiUMqR3FWx6RslnFe3Th0NhPPDOm0Et58i1GqN2zWlUuYMXcBAG+ZMm7Q+m06o4jrcWO6GNhsHDNtsCBVG3ldyW/lPWtOq+M1pRjlfEb9azfwr1cuobie8tom46Dde1j0+NrEwMhqI6/T+K28Z81pZVyUYvSM7SoZKQ0MEaQCix5fC8Cdy5/j4G/8lrUvDzC5p5uXXt1Y9eyyafxW3rPmtDLefAvMW9zPi69sHNEx1r0SDf8wolpRsT+oQLmaTqVeM+9Zc1odF6VA0uy19aJcTWfm9F7Gj+1KXJeUudJxWg0XpUAaP00tLlaams6ZH9gvMfboPz80NGOA47QaLkqBUrWXeD6jb334QDo70mXILDB+bNeWHN5J87wlUZz7O+1+jtMKuKM7kBSDVDxif9YVi1MPvoUogLKQfqRaPPbIaVdclAKVIqMvvmMF85Y8VdUxBzYZs65cwqwrl2zJj1SujALlosodp9XxJG8pKMzLNlI6FOVeik/rXSl/UtI2jtNIGp3kzUWpArOuWLylhhTPDFlLOiU2m22JbUoKJejt6ebO2YfVoXTHKY9nnswQcUGCZEHq7BC22UoGVqZhU/hhKBc06VHcTrvgolREPGd2GjZvtrrUnoppdBS3+7WcZuGiFKPcDLelaIQgNTqK22dLcZqJxynFGE5myc6UM/vGUfgrtW8htqlw/MJ4uUbN7ZYmd7jj1AsXpRjDmTrppEN2GxJ93dUhujpLi5UB3/7wgZx0yG6J69/35klbMk7G/U1zrrm/IcKUJne449QLF6XAxXesqHqf8WO76Nt9wqDZTXq6uzj3hAM49/gDytaizr1pGbc+vDpx3a0Pr25qbSVN7nDHqRcuSmyNQ5oyobqX7n1vnsSca+4flO6kkBly5vRe/vNDB5Tc96m1G8rWSJpZW0mTO9xx6kXbi1JBkI6ZtgsbN6V3W48f28WtD69OrM2cftV9zFvcX3bEf5R7O7kmNbmnu6m1FR975zSTtu59iwvSeSdOZ88v3Zhqv8KYts9fuSRx/SazLb1VZ35gvyE9el0d4qXXNm7xF8WJ10iSIrsbVVvxsXdOs2jbmlKxIHV1dqTuSXvdNqOYOb23bK0l7v8ZPWrrZR4/tottx4waNNSkQDxfktdWnHalLWtKSYIEJNZcklgXhoG8d++JXPbHlSW3K/SYxWs7rwxsLhl2sNlsyBRMLkJOu9F2NaVSggSUnXE2TqGGVKr3LE6Sz6lUjcx7txynzUSpnCBBcq9TMXG/znDimiCqkXnvluMkk7ksAZKOAs4DOoGLzGxuqW2ryRJQSpC+PO9+fnbXSpp5GQrZB3qrGGPmY9OcRtHWWQIkdQLfA/4GeBK4R9J1ZjaiZEblBKmcT6hRFPQw7RgzH5vmtDJZa74dDDxiZo+a2WvAFcCxIzlguSbb5Xc9MTJr60CaqG0fm+a0MlkTpV4grhRPhmVbkHSapIWSFq5eXd7RXMmHlLa3rdFUitr2sWlOK5M1UUrqlhqkHGZ2oZn1mVnfxIkTSx6okiDB8Eb4N4JKvXA+Ns1pZbImSk8C8aHzuwLVZesnnSABJUfpN5M0vXA+Ns1pZbImSvcAe0raQ9I2wInAddUcIK0gAZw9cxonHzqFpApTmkpUd1cHY7sqX8LxY7sot9nrtun0eeEcJ5DFkIBjgO8QhQT82My+UWrb4pCAi25/lLNvWJpKkBzHSUdbhwQAmNl/Af9V7X4uSI7TGrTEm+uC5DitQ+7fXhckx2ktcv0GP/fiqy5IjtNi5PotXrXuFY7e3wXJcVqJzPW+VYOk1cDjKTbdEXiuzuaMhCzbl2XbINv2Zdk2SG/f7mZWOlK5xuRalNIiaWEjuzSrJcv2Zdk2yLZ9WbYNsmuft3kcx8kULkqO42SKdhGlC5ttQAWybF+WbYNs25dl2yCj9rWFT8lxnPzQLjUlx3FygouS4ziZouVFSdJRkpZJekTS7CbbspukWyUtlfSgpM+F5RMk3SJpefg/vok2dkpaLOn6DNrWI+lqSQ+Ha/i2jNn3+XBfH5B0uaQxzbJP0o8lPSvpgdiykrZImhPekWWSjmyEjaVoaVGKTURwNLAvcJKkfZto0kbgdDPbBzgU+HSwZzYw38z2BOaH783ic8DS2Pcs2XYe8Bsz2xs4gMjOTNgnqRf4LNBnZvsTpd45sYn2XQIcVbQs0ZbwDJ4I7Bf2+X54d5qDmbXsH/A24KbY9znAnGbbFbPnWqKZW5YBk8KyScCyJtmzK9HDehhwfViWFdu2B1YQOmdiy7NiXyG//ASilEDXA3/bTPuAqcADla5V8XsB3AS8rRnX0cxau6ZEiokImoWkqcB04C5gZzNbBRD+79Qks74D/DuwObYsK7a9HlgN/CQ0Ly+S9Lqs2Gdm/cA3gZXAKmCdmd2cFfsCpWzJ1HvS6qJUcSKCZiBpW+CXwCwze6HZ9gBIej/wrJktarYtJRgFvAX4gZlNB16iuU3JQQT/zLHAHsBk4HWSTm6uVanJ1HvS6qJUk4kIaomkLiJB+pmZXRMWPyNpUlg/CXi2CabNAD4o6TGi+fYOk3RZRmyD6F4+aWZ3he9XE4lUVuw7AlhhZqvNbAC4Bnh7huyjjC2Zek9aXZRGPBFBLZEk4GJgqZl9K7bqOuCU8PkUIl9TQzGzOWa2q5lNJbpOC8zs5CzYFux7GnhCUmHKlsOBh8iIfUTNtkMljQ33+XAiR3xW7KOMLdcBJ0oaLWkPYE/g7ibYF9EsZ1YDnX3HAH8G/gJ8qcm2vIOoWvwnYEn4OwbYgcjBvDz8n9BkO9/DVkd3ZmwDDgQWhus3DxifMfu+CjwMPAD8FBjdLPuAy4l8WwNENaFTy9kCfCm8I8uAo5v5/PkwE8dxMkWrN98cx8kZLkqO42QKFyXHcTKFi5LjOJnCRclxnEzhouQkImmTpCVhxPsvJI0dwbEukXR8+HxRuUHRkt4j6e3DKOMxSTsO10YnO7goOaXYYGYHWjTi/TXgk/GVwx1FbmafMLOHymzyHqJIaKdNcVFy0nA78MZQi7lV0s+B+0PupXMl3SPpT5L+GaLIdUnnS3pI0g3EBqFKuk1SX/h8lKR7Jd0naX4YpPxJ4POhlvZOSRMl/TKUcY+kGWHfHSTdHAbn/pDk8VtODhnVbAOcbCNpFFE+qt+ERQcD+5vZCkmnEY2Gf6uk0cCdkm4myn6wFzAN2JloOMiPi447EfgR8K5wrAlm9rykC4AXzeybYbufA982szskTSFKq7EPcCZwh5l9TdL7gNPqeiGchuGi5JSiW9KS8Pl2ojF7bwfuNrMVYfnfAm8u+IuAcUTjpt4FXG5mm4CnJC1IOP6hwO8LxzKz50vYcQSwbzScDIDtJW0Xyjgu7HuDpDXDO00na7goOaXYYGYHxhcEYXgpvgj4jJndVLTdMVROfaEU20DkYnibmW1IsMXHSLUg7lNyRsJNwKdCOhYkvSkkXvs90ajzzpAi470J+/4BeHcYlY6kCWH5emC72HY3A/9S+CLpwPDx98BHwrKjiQbnOi2Ai5IzEi4i8hfdGxLU/5Co9v0ropHo9wM/AH5XvKOZrSbyA10j6T7gyrDq18DfFRzdhLzXwZH+EFt7Ab8KvEvSvUTNyJV1OkenwXiWAMdxMoXXlBzHyRQuSo7jZAoXJcdxMoWLkuM4mcJFyXGcTOGi5DhOpnBRchwnU/x/1jR/06BH7+AAAAAASUVORK5CYII=\n",
          "text/plain": "<Figure size 432x288 with 1 Axes>"
         },
         "metadata": {},
         "output_type": "display_data"
        }
       ]
      }
     },
     "24bfe3269c304625a824976400400b8d": {
      "model_module": "@jupyter-widgets/base",
      "model_module_version": "1.2.0",
      "model_name": "LayoutModel",
      "state": {}
     },
     "25e2df45e98f402dab42f373051d2f21": {
      "model_module": "@jupyter-widgets/base",
      "model_module_version": "1.2.0",
      "model_name": "LayoutModel",
      "state": {}
     },
     "25f58122a3c241229c0d6ccb91cba2ce": {
      "model_module": "@jupyter-widgets/base",
      "model_module_version": "1.2.0",
      "model_name": "LayoutModel",
      "state": {}
     },
     "2c85f9a72aa04b52991d2064af3a3576": {
      "model_module": "@jupyter-widgets/base",
      "model_module_version": "1.2.0",
      "model_name": "LayoutModel",
      "state": {}
     },
     "2ce9dd1dd7ed4385b085182dcb25ec67": {
      "model_module": "@jupyter-widgets/base",
      "model_module_version": "1.2.0",
      "model_name": "LayoutModel",
      "state": {}
     },
     "2f2386eaa9974f98b2ed9ad76ca85f72": {
      "model_module": "@jupyter-widgets/base",
      "model_module_version": "1.2.0",
      "model_name": "LayoutModel",
      "state": {}
     },
     "3175fa8cbf3241fc8ac48a8e52c2fbae": {
      "model_module": "@jupyter-widgets/output",
      "model_module_version": "1.0.0",
      "model_name": "OutputModel",
      "state": {
       "layout": "IPY_MODEL_e7a9eff682804b28aec6dd3ebd68a586",
       "outputs": [
        {
         "name": "stdout",
         "output_type": "stream",
         "text": "fold=4, train=516\n-----------------\nBefore: torch.Size([516, 1]) torch.float64 torch.Size([516]) torch.float64\nAfter (516,) float64 (516,) float64\n MAE: 11.9267±0.0000 95CI=(11.9267, 11.9267)\n MSE: 294.5669±0.0000 95CI=(294.5669, 294.5669)\n  R2: 0.5340±0.0000 95CI=(0.5340, 0.5340)\nRMSE: 17.1630±0.0000 95CI=(17.1630, 17.1630)\n"
        },
        {
         "data": {
          "image/png": "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\n",
          "text/plain": "<Figure size 432x288 with 1 Axes>"
         },
         "metadata": {},
         "output_type": "display_data"
        }
       ]
      }
     },
     "346e474a4b7a4eb0a2d59c66fc1428f9": {
      "model_module": "@jupyter-widgets/base",
      "model_module_version": "1.2.0",
      "model_name": "LayoutModel",
      "state": {}
     },
     "359747da08914c9d93f979583b44515a": {
      "model_module": "@jupyter-widgets/base",
      "model_module_version": "1.2.0",
      "model_name": "LayoutModel",
      "state": {}
     },
     "3a6818a157134ab0b3b41f29e27df3d8": {
      "model_module": "@jupyter-widgets/controls",
      "model_module_version": "1.5.0",
      "model_name": "DescriptionStyleModel",
      "state": {
       "description_width": ""
      }
     },
     "43c8df9d299d4569b93be68efcfd9852": {
      "model_module": "@jupyter-widgets/base",
      "model_module_version": "1.2.0",
      "model_name": "LayoutModel",
      "state": {}
     },
     "49f6836a06174eba8e1b272132e28262": {
      "model_module": "@jupyter-widgets/base",
      "model_module_version": "1.2.0",
      "model_name": "LayoutModel",
      "state": {}
     },
     "4bda59c4e4f8495486fb8e0490b05f9f": {
      "model_module": "@jupyter-widgets/base",
      "model_module_version": "1.2.0",
      "model_name": "LayoutModel",
      "state": {}
     },
     "4cd301bbdb444d2b81e1786811f99094": {
      "model_module": "@jupyter-widgets/base",
      "model_module_version": "1.2.0",
      "model_name": "LayoutModel",
      "state": {}
     },
     "4dd9edea42c74177b81b5753ee1ddcf2": {
      "model_module": "@jupyter-widgets/controls",
      "model_module_version": "1.5.0",
      "model_name": "ProgressStyleModel",
      "state": {
       "description_width": ""
      }
     },
     "4ff3f68dc25b4fe6a8cf27e4019c6821": {
      "model_module": "@jupyter-widgets/base",
      "model_module_version": "1.2.0",
      "model_name": "LayoutModel",
      "state": {}
     },
     "53b53d5e65924f0a94664611e4293aa3": {
      "model_module": "@jupyter-widgets/base",
      "model_module_version": "1.2.0",
      "model_name": "LayoutModel",
      "state": {}
     },
     "58617293489e4f5e9ded71531890d67c": {
      "model_module": "@jupyter-widgets/output",
      "model_module_version": "1.0.0",
      "model_name": "OutputModel",
      "state": {
       "layout": "IPY_MODEL_076fdba2682c41c0a926d1f6fd64c7d8",
       "outputs": [
        {
         "name": "stdout",
         "output_type": "stream",
         "text": "fold=3, test=129\n----------------\nBefore: torch.Size([129, 1]) torch.float64 torch.Size([129]) torch.float64\nAfter (129,) float64 (129,) float64\n MAE: 13.6134±0.0000 95CI=(13.6134, 13.6134)\n MSE: 305.8671±0.0000 95CI=(305.8671, 305.8671)\n  R2: 0.0030±0.0000 95CI=(0.0030, 0.0030)\nRMSE: 17.4891±0.0000 95CI=(17.4891, 17.4891)\n"
        },
        {
         "data": {
          "image/png": "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\n",
          "text/plain": "<Figure size 432x288 with 1 Axes>"
         },
         "metadata": {},
         "output_type": "display_data"
        }
       ]
      }
     },
     "598dc4faf33b47bbb7b3ee594e2a20d9": {
      "model_module": "@jupyter-widgets/base",
      "model_module_version": "1.2.0",
      "model_name": "LayoutModel",
      "state": {}
     },
     "59ee9b9c5f684c51a7107f11e05f6476": {
      "model_module": "@jupyter-widgets/base",
      "model_module_version": "1.2.0",
      "model_name": "LayoutModel",
      "state": {}
     },
     "5b45d0e60cfd4fc0a73c04ac4536dc3c": {
      "model_module": "@jupyter-widgets/controls",
      "model_module_version": "1.5.0",
      "model_name": "DescriptionStyleModel",
      "state": {
       "description_width": ""
      }
     },
     "5c04b8dc76ec416ba89755f5595bac5f": {
      "model_module": "@jupyter-widgets/controls",
      "model_module_version": "1.5.0",
      "model_name": "HTMLModel",
      "state": {
       "layout": "IPY_MODEL_eb35131cc77d49139e4b79d9dda07456",
       "style": "IPY_MODEL_90ba8a79990c4b9299e7ef6ffcbb89e0",
       "value": "Bootstrapped average across folds (train):"
      }
     },
     "5e890d7d9ec140489333ba02afdb8b41": {
      "model_module": "@jupyter-widgets/controls",
      "model_module_version": "1.5.0",
      "model_name": "HTMLModel",
      "state": {
       "layout": "IPY_MODEL_346e474a4b7a4eb0a2d59c66fc1428f9",
       "style": "IPY_MODEL_6b12d05378f547dfade282692b022200",
       "value": "Epochs (loss=3.16e+02): 100%"
      }
     },
     "63fd7aee8079474aa9b4e5ed122b3310": {
      "model_module": "@jupyter-widgets/base",
      "model_module_version": "1.2.0",
      "model_name": "LayoutModel",
      "state": {}
     },
     "67822b4755d04a929f3f94b59e11271b": {
      "model_module": "@jupyter-widgets/output",
      "model_module_version": "1.0.0",
      "model_name": "OutputModel",
      "state": {
       "layout": "IPY_MODEL_cf71126ab8f84e29beb70d25d5bf5b1a",
       "outputs": [
        {
         "name": "stdout",
         "output_type": "stream",
         "text": "fold=4, test=129\n----------------\nBefore: torch.Size([129, 1]) torch.float64 torch.Size([129]) torch.float64\nAfter (129,) float64 (129,) float64\n MAE: 18.6606±0.0000 95CI=(18.6606, 18.6606)\n MSE: 781.3972±0.0000 95CI=(781.3972, 781.3972)\n  R2: 0.1623±0.0000 95CI=(0.1623, 0.1623)\nRMSE: 27.9535±0.0000 95CI=(27.9535, 27.9535)\n"
        },
        {
         "data": {
          "image/png": "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\n",
          "text/plain": "<Figure size 432x288 with 1 Axes>"
         },
         "metadata": {},
         "output_type": "display_data"
        }
       ]
      }
     },
     "68186066e7a24265a18572f0acf1f0be": {
      "model_module": "@jupyter-widgets/controls",
      "model_module_version": "1.5.0",
      "model_name": "HBoxModel",
      "state": {
       "children": [
        "IPY_MODEL_1423b535d51747318d2a5acd0e3856ec",
        "IPY_MODEL_af8cabb33937413b80f02506619b6208",
        "IPY_MODEL_944abdcba54f4db09da88c5608fc553e"
       ],
       "layout": "IPY_MODEL_4cd301bbdb444d2b81e1786811f99094"
      }
     },
     "694bb97ccb7c4281861a011881fa8320": {
      "model_module": "@jupyter-widgets/controls",
      "model_module_version": "1.5.0",
      "model_name": "ProgressStyleModel",
      "state": {
       "description_width": ""
      }
     },
     "6a53def72bf9455e822e314c88dd4d7d": {
      "model_module": "@jupyter-widgets/output",
      "model_module_version": "1.0.0",
      "model_name": "OutputModel",
      "state": {
       "layout": "IPY_MODEL_21054a662daf43048eac068924583b79",
       "outputs": [
        {
         "name": "stdout",
         "output_type": "stream",
         "text": "fold=3, train=516\n-----------------\nBefore: torch.Size([516, 1]) torch.float64 torch.Size([516]) torch.float64\nAfter (516,) float64 (516,) float64\n MAE: 12.6219±0.0000 95CI=(12.6219, 12.6219)\n MSE: 320.8407±0.0000 95CI=(320.8407, 320.8407)\n  R2: 0.5396±0.0000 95CI=(0.5396, 0.5396)\nRMSE: 17.9120±0.0000 95CI=(17.9120, 17.9120)\n"
        },
        {
         "data": {
          "image/png": "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\n",
          "text/plain": "<Figure size 432x288 with 1 Axes>"
         },
         "metadata": {},
         "output_type": "display_data"
        }
       ]
      }
     },
     "6b12d05378f547dfade282692b022200": {
      "model_module": "@jupyter-widgets/controls",
      "model_module_version": "1.5.0",
      "model_name": "DescriptionStyleModel",
      "state": {
       "description_width": ""
      }
     },
     "6c49c190e01547c8bdd9874956db4c65": {
      "model_module": "@jupyter-widgets/base",
      "model_module_version": "1.2.0",
      "model_name": "LayoutModel",
      "state": {}
     },
     "6e14fc99820b496dbbaf9d7cd734572a": {
      "model_module": "@jupyter-widgets/output",
      "model_module_version": "1.0.0",
      "model_name": "OutputModel",
      "state": {
       "layout": "IPY_MODEL_2f2386eaa9974f98b2ed9ad76ca85f72",
       "outputs": [
        {
         "name": "stdout",
         "output_type": "stream",
         "text": "fold=0, test=129\n----------------\nBefore: torch.Size([129, 1]) torch.float64 torch.Size([129]) torch.float64\nAfter (129,) float64 (129,) float64\n MAE: 19.6425±0.0000 95CI=(19.6425, 19.6425)\n MSE: 675.3895±0.0000 95CI=(675.3895, 675.3895)\n  R2: -0.0592±0.0000 95CI=(-0.0592, -0.0592)\nRMSE: 25.9883±0.0000 95CI=(25.9883, 25.9883)\n"
        },
        {
         "data": {
          "image/png": "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\n",
          "text/plain": "<Figure size 432x288 with 1 Axes>"
         },
         "metadata": {},
         "output_type": "display_data"
        }
       ]
      }
     },
     "6e37e3e9dfd54fa18fd1d118ebf61744": {
      "model_module": "@jupyter-widgets/controls",
      "model_module_version": "1.5.0",
      "model_name": "DescriptionStyleModel",
      "state": {
       "description_width": ""
      }
     },
     "735886e8b7fc4d2c84d1c4963e48958b": {
      "model_module": "@jupyter-widgets/output",
      "model_module_version": "1.0.0",
      "model_name": "OutputModel",
      "state": {
       "layout": "IPY_MODEL_43c8df9d299d4569b93be68efcfd9852",
       "outputs": [
        {
         "name": "stdout",
         "output_type": "stream",
         "text": "fold=2, test=129\n----------------\nBefore: torch.Size([129, 1]) torch.float64 torch.Size([129]) torch.float64\nAfter (129,) float64 (129,) float64\n MAE: 15.0769±0.0000 95CI=(15.0769, 15.0769)\n MSE: 466.2655±0.0000 95CI=(466.2655, 466.2655)\n  R2: 0.2502±0.0000 95CI=(0.2502, 0.2502)\nRMSE: 21.5932±0.0000 95CI=(21.5932, 21.5932)\n"
        },
        {
         "data": {
          "image/png": "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\n",
          "text/plain": "<Figure size 432x288 with 1 Axes>"
         },
         "metadata": {},
         "output_type": "display_data"
        }
       ]
      }
     },
     "741a5c8bcaa94d4092a310167e3a9dd4": {
      "model_module": "@jupyter-widgets/controls",
      "model_module_version": "1.5.0",
      "model_name": "DescriptionStyleModel",
      "state": {
       "description_width": ""
      }
     },
     "75e6c3bc48d946198addc72066bc75e3": {
      "model_module": "@jupyter-widgets/controls",
      "model_module_version": "1.5.0",
      "model_name": "HTMLModel",
      "state": {
       "layout": "IPY_MODEL_7cad95b29a4347488ea0268942a1591f",
       "style": "IPY_MODEL_dbc725bda84b4d40b2b55098d1ec15ee",
       "value": "Epochs (loss=3.41e+02): 100%"
      }
     },
     "796ad05b95dc4b8397d216ad13282a56": {
      "model_module": "@jupyter-widgets/controls",
      "model_module_version": "1.5.0",
      "model_name": "HBoxModel",
      "state": {
       "children": [
        "IPY_MODEL_20aaf095d9c14dad89fe71e7ed56e297",
        "IPY_MODEL_735886e8b7fc4d2c84d1c4963e48958b"
       ],
       "layout": "IPY_MODEL_2174b5d171c44e52922d07b0293dcd0d"
      }
     },
     "7cad95b29a4347488ea0268942a1591f": {
      "model_module": "@jupyter-widgets/base",
      "model_module_version": "1.2.0",
      "model_name": "LayoutModel",
      "state": {}
     },
     "7e3d5e0874454c5984ddf4f3f355b5b1": {
      "model_module": "@jupyter-widgets/base",
      "model_module_version": "1.2.0",
      "model_name": "LayoutModel",
      "state": {}
     },
     "8e6a8f49d43448d2b521daab5a501452": {
      "model_module": "@jupyter-widgets/controls",
      "model_module_version": "1.5.0",
      "model_name": "FloatProgressModel",
      "state": {
       "bar_style": "success",
       "layout": "IPY_MODEL_d450b50c23f94914aa4ff13f85d96a96",
       "style": "IPY_MODEL_4dd9edea42c74177b81b5753ee1ddcf2",
       "value": 100
      }
     },
     "8e90df6350b84932bfb64381585baf11": {
      "model_module": "@jupyter-widgets/controls",
      "model_module_version": "1.5.0",
      "model_name": "HTMLModel",
      "state": {
       "layout": "IPY_MODEL_cb646a82e79a402b80e79ab56d349920",
       "style": "IPY_MODEL_5b45d0e60cfd4fc0a73c04ac4536dc3c",
       "value": " 100/100 [00:05&lt;00:00, 18.41it/s]"
      }
     },
     "90ba8a79990c4b9299e7ef6ffcbb89e0": {
      "model_module": "@jupyter-widgets/controls",
      "model_module_version": "1.5.0",
      "model_name": "DescriptionStyleModel",
      "state": {
       "description_width": ""
      }
     },
     "944abdcba54f4db09da88c5608fc553e": {
      "model_module": "@jupyter-widgets/controls",
      "model_module_version": "1.5.0",
      "model_name": "HTMLModel",
      "state": {
       "layout": "IPY_MODEL_c55a955d77014c5cab988ddb0ace2f30",
       "style": "IPY_MODEL_03674cde4db64c1eb13e229a59a49f1d",
       "value": " 100/100 [00:20&lt;00:00,  4.91it/s]"
      }
     },
     "98be5593927f4e0e878f03766826f294": {
      "model_module": "@jupyter-widgets/controls",
      "model_module_version": "1.5.0",
      "model_name": "DescriptionStyleModel",
      "state": {
       "description_width": ""
      }
     },
     "99789e9e87054afe944af6f70558a357": {
      "model_module": "@jupyter-widgets/base",
      "model_module_version": "1.2.0",
      "model_name": "LayoutModel",
      "state": {}
     },
     "9ae08b95f93e4382b8f62805077337b2": {
      "model_module": "@jupyter-widgets/controls",
      "model_module_version": "1.5.0",
      "model_name": "HBoxModel",
      "state": {
       "children": [
        "IPY_MODEL_eb1b458fdab24aae84904a15caa41f7a",
        "IPY_MODEL_23db15b3b3e142cda35ed668662600c8"
       ],
       "layout": "IPY_MODEL_359747da08914c9d93f979583b44515a"
      }
     },
     "a4cc50ec251e4296a7d642fd7e19e099": {
      "model_module": "@jupyter-widgets/controls",
      "model_module_version": "1.5.0",
      "model_name": "ProgressStyleModel",
      "state": {
       "description_width": ""
      }
     },
     "aa784799d22d4d34be8a81efaf1497ee": {
      "model_module": "@jupyter-widgets/base",
      "model_module_version": "1.2.0",
      "model_name": "LayoutModel",
      "state": {}
     },
     "af8cabb33937413b80f02506619b6208": {
      "model_module": "@jupyter-widgets/controls",
      "model_module_version": "1.5.0",
      "model_name": "FloatProgressModel",
      "state": {
       "bar_style": "success",
       "layout": "IPY_MODEL_e9221f232f5441d0899ddd4a5e0b6b6d",
       "style": "IPY_MODEL_694bb97ccb7c4281861a011881fa8320",
       "value": 100
      }
     },
     "b37ec0d592b74ffc9fba222d14b3af6c": {
      "model_module": "@jupyter-widgets/controls",
      "model_module_version": "1.5.0",
      "model_name": "HTMLModel",
      "state": {
       "layout": "IPY_MODEL_d414635be18b4021869eb42253ade1b5",
       "style": "IPY_MODEL_b51dac181b28409a8353a191be9b40b7",
       "value": " 100/100 [00:05&lt;00:00, 17.66it/s]"
      }
     },
     "b3a602fdec2b483bb5e1f3aecaea3509": {
      "model_module": "@jupyter-widgets/output",
      "model_module_version": "1.0.0",
      "model_name": "OutputModel",
      "state": {
       "layout": "IPY_MODEL_24bfe3269c304625a824976400400b8d",
       "outputs": [
        {
         "name": "stdout",
         "output_type": "stream",
         "text": "fold=0, train=516\n-----------------\nBefore: torch.Size([516, 1]) torch.float64 torch.Size([516]) torch.float64\nAfter (516,) float64 (516,) float64\n MAE: 11.7540±0.0000 95CI=(11.7540, 11.7540)\n MSE: 276.9803±0.0000 95CI=(276.9803, 276.9803)\n  R2: 0.4468±0.0000 95CI=(0.4468, 0.4468)\nRMSE: 16.6427±0.0000 95CI=(16.6427, 16.6427)\n"
        },
        {
         "data": {
          "image/png": "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\n",
          "text/plain": "<Figure size 432x288 with 1 Axes>"
         },
         "metadata": {},
         "output_type": "display_data"
        }
       ]
      }
     },
     "b51dac181b28409a8353a191be9b40b7": {
      "model_module": "@jupyter-widgets/controls",
      "model_module_version": "1.5.0",
      "model_name": "DescriptionStyleModel",
      "state": {
       "description_width": ""
      }
     },
     "b746a1944ca2448f80b5d27b16de75cb": {
      "model_module": "@jupyter-widgets/controls",
      "model_module_version": "1.5.0",
      "model_name": "DescriptionStyleModel",
      "state": {
       "description_width": ""
      }
     },
     "bdc2ea7385e7433ab5c3ea5cbda47020": {
      "model_module": "@jupyter-widgets/controls",
      "model_module_version": "1.5.0",
      "model_name": "FloatProgressModel",
      "state": {
       "bar_style": "success",
       "layout": "IPY_MODEL_6c49c190e01547c8bdd9874956db4c65",
       "style": "IPY_MODEL_e0154eb4b066426ea85d70cd3ee03f57",
       "value": 100
      }
     },
     "c351030cd47040cea4b2744b48b8452d": {
      "model_module": "@jupyter-widgets/controls",
      "model_module_version": "1.5.0",
      "model_name": "ProgressStyleModel",
      "state": {
       "description_width": ""
      }
     },
     "c36fc7bc1ca94cff97d1d634a2f012ca": {
      "model_module": "@jupyter-widgets/controls",
      "model_module_version": "1.5.0",
      "model_name": "HBoxModel",
      "state": {
       "children": [
        "IPY_MODEL_75e6c3bc48d946198addc72066bc75e3",
        "IPY_MODEL_bdc2ea7385e7433ab5c3ea5cbda47020",
        "IPY_MODEL_b37ec0d592b74ffc9fba222d14b3af6c"
       ],
       "layout": "IPY_MODEL_598dc4faf33b47bbb7b3ee594e2a20d9"
      }
     },
     "c55a955d77014c5cab988ddb0ace2f30": {
      "model_module": "@jupyter-widgets/base",
      "model_module_version": "1.2.0",
      "model_name": "LayoutModel",
      "state": {}
     },
     "c7021e5761884cc2b0f5ed65831683e6": {
      "model_module": "@jupyter-widgets/controls",
      "model_module_version": "1.5.0",
      "model_name": "HBoxModel",
      "state": {
       "children": [
        "IPY_MODEL_3175fa8cbf3241fc8ac48a8e52c2fbae",
        "IPY_MODEL_67822b4755d04a929f3f94b59e11271b"
       ],
       "layout": "IPY_MODEL_99789e9e87054afe944af6f70558a357"
      }
     },
     "cb19f019d63f40ecafa0ee07cfee5545": {
      "model_module": "@jupyter-widgets/base",
      "model_module_version": "1.2.0",
      "model_name": "LayoutModel",
      "state": {}
     },
     "cb646a82e79a402b80e79ab56d349920": {
      "model_module": "@jupyter-widgets/base",
      "model_module_version": "1.2.0",
      "model_name": "LayoutModel",
      "state": {}
     },
     "cf71126ab8f84e29beb70d25d5bf5b1a": {
      "model_module": "@jupyter-widgets/base",
      "model_module_version": "1.2.0",
      "model_name": "LayoutModel",
      "state": {}
     },
     "cfd1010db5114495914e4720404dd97d": {
      "model_module": "@jupyter-widgets/base",
      "model_module_version": "1.2.0",
      "model_name": "LayoutModel",
      "state": {}
     },
     "d414635be18b4021869eb42253ade1b5": {
      "model_module": "@jupyter-widgets/base",
      "model_module_version": "1.2.0",
      "model_name": "LayoutModel",
      "state": {}
     },
     "d450b50c23f94914aa4ff13f85d96a96": {
      "model_module": "@jupyter-widgets/base",
      "model_module_version": "1.2.0",
      "model_name": "LayoutModel",
      "state": {}
     },
     "d993206a58a241e395109f8f8a4a6284": {
      "model_module": "@jupyter-widgets/controls",
      "model_module_version": "1.5.0",
      "model_name": "DescriptionStyleModel",
      "state": {
       "description_width": ""
      }
     },
     "d9c964a0d510466c9ca90875f5142cb6": {
      "model_module": "@jupyter-widgets/controls",
      "model_module_version": "1.5.0",
      "model_name": "HTMLModel",
      "state": {
       "layout": "IPY_MODEL_63fd7aee8079474aa9b4e5ed122b3310",
       "style": "IPY_MODEL_d993206a58a241e395109f8f8a4a6284",
       "value": "Bootstrapped average across folds (test):"
      }
     },
     "dbc725bda84b4d40b2b55098d1ec15ee": {
      "model_module": "@jupyter-widgets/controls",
      "model_module_version": "1.5.0",
      "model_name": "DescriptionStyleModel",
      "state": {
       "description_width": ""
      }
     },
     "df425c45d42a471ca2eecdc592c2cdca": {
      "model_module": "@jupyter-widgets/base",
      "model_module_version": "1.2.0",
      "model_name": "LayoutModel",
      "state": {}
     },
     "df881c2ea6ea4457b80de569e3ec309e": {
      "model_module": "@jupyter-widgets/base",
      "model_module_version": "1.2.0",
      "model_name": "LayoutModel",
      "state": {}
     },
     "e0154eb4b066426ea85d70cd3ee03f57": {
      "model_module": "@jupyter-widgets/controls",
      "model_module_version": "1.5.0",
      "model_name": "ProgressStyleModel",
      "state": {
       "description_width": ""
      }
     },
     "e17ce3822e454b6e9cfcb5da14003234": {
      "model_module": "@jupyter-widgets/controls",
      "model_module_version": "1.5.0",
      "model_name": "HBoxModel",
      "state": {
       "children": [
        "IPY_MODEL_6a53def72bf9455e822e314c88dd4d7d",
        "IPY_MODEL_58617293489e4f5e9ded71531890d67c"
       ],
       "layout": "IPY_MODEL_aa784799d22d4d34be8a81efaf1497ee"
      }
     },
     "e5a45041450f480099bb16e22894bfc1": {
      "model_module": "@jupyter-widgets/controls",
      "model_module_version": "1.5.0",
      "model_name": "HBoxModel",
      "state": {
       "children": [
        "IPY_MODEL_ffb52069715146a38495f8856c111123",
        "IPY_MODEL_8e6a8f49d43448d2b521daab5a501452",
        "IPY_MODEL_10f95ba22b4846c6b138c94bd8a2a9d5"
       ],
       "layout": "IPY_MODEL_f089ff95a4b24c0c974708abeecd5dd8"
      }
     },
     "e7a9eff682804b28aec6dd3ebd68a586": {
      "model_module": "@jupyter-widgets/base",
      "model_module_version": "1.2.0",
      "model_name": "LayoutModel",
      "state": {}
     },
     "e9221f232f5441d0899ddd4a5e0b6b6d": {
      "model_module": "@jupyter-widgets/base",
      "model_module_version": "1.2.0",
      "model_name": "LayoutModel",
      "state": {}
     },
     "eb1b458fdab24aae84904a15caa41f7a": {
      "model_module": "@jupyter-widgets/output",
      "model_module_version": "1.0.0",
      "model_name": "OutputModel",
      "state": {
       "layout": "IPY_MODEL_25e2df45e98f402dab42f373051d2f21",
       "outputs": [
        {
         "name": "stdout",
         "output_type": "stream",
         "text": "fold=1, train=516\n-----------------\nBefore: torch.Size([516, 1]) torch.float64 torch.Size([516]) torch.float64\nAfter (516,) float64 (516,) float64\n MAE: 12.7368±0.0000 95CI=(12.7368, 12.7368)\n MSE: 334.8726±0.0000 95CI=(334.8726, 334.8726)\n  R2: 0.4736±0.0000 95CI=(0.4736, 0.4736)\nRMSE: 18.2995±0.0000 95CI=(18.2995, 18.2995)\n"
        },
        {
         "data": {
          "image/png": "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\n",
          "text/plain": "<Figure size 432x288 with 1 Axes>"
         },
         "metadata": {},
         "output_type": "display_data"
        }
       ]
      }
     },
     "eb35131cc77d49139e4b79d9dda07456": {
      "model_module": "@jupyter-widgets/base",
      "model_module_version": "1.2.0",
      "model_name": "LayoutModel",
      "state": {}
     },
     "f089ff95a4b24c0c974708abeecd5dd8": {
      "model_module": "@jupyter-widgets/base",
      "model_module_version": "1.2.0",
      "model_name": "LayoutModel",
      "state": {}
     },
     "fb930fa88471460980afb542e4e3b1de": {
      "model_module": "@jupyter-widgets/controls",
      "model_module_version": "1.5.0",
      "model_name": "HBoxModel",
      "state": {
       "children": [
        "IPY_MODEL_1b9446a4470e48a8bb66a6f2a5f33d71",
        "IPY_MODEL_01835b3f150c40f58ccebc4662934507",
        "IPY_MODEL_8e90df6350b84932bfb64381585baf11"
       ],
       "layout": "IPY_MODEL_cb19f019d63f40ecafa0ee07cfee5545"
      }
     },
     "fbe3ecdd843b49a6b339708bcf27e895": {
      "model_module": "@jupyter-widgets/controls",
      "model_module_version": "1.5.0",
      "model_name": "HBoxModel",
      "state": {
       "children": [
        "IPY_MODEL_5e890d7d9ec140489333ba02afdb8b41",
        "IPY_MODEL_0e9a4f1794fc4c3ca3e1d084516313f4",
        "IPY_MODEL_1e3d802f31f942debcd640f52782a6df"
       ],
       "layout": "IPY_MODEL_7e3d5e0874454c5984ddf4f3f355b5b1"
      }
     },
     "ffb52069715146a38495f8856c111123": {
      "model_module": "@jupyter-widgets/controls",
      "model_module_version": "1.5.0",
      "model_name": "HTMLModel",
      "state": {
       "layout": "IPY_MODEL_59ee9b9c5f684c51a7107f11e05f6476",
       "style": "IPY_MODEL_741a5c8bcaa94d4092a310167e3a9dd4",
       "value": "Epochs (loss=3.73e+02): 100%"
      }
     }
    },
    "version_major": 2,
    "version_minor": 0
   }
  }
 },
 "nbformat": 4,
 "nbformat_minor": 4
}
