{
 "cells": [
  {
   "cell_type": "markdown",
   "metadata": {},
   "source": [
    "# Ligand-based experiments to predict binding affinities in ChEMBL\n",
    "\n",
    "This notebook featurizes the ChEMBL dataset with `MorganFingerprintFeaturizer` and provides in-disk `npz` files for each kinase and measurement type.\n",
    "\n",
    "Output files are written to `_output/`, as in:\n",
    "\n",
    "* `_output/ChEMBL__O00141__pIC50Measurement.npz`\n",
    "* `_output/ChEMBL__O00141__pKdMeasurement.npz`\n",
    "* `_output/ChEMBL__O00141__pKiMeasurement.npz`\n",
    "* `_output/ChEMBL__O00238__pIC50Measurement.npz`\n",
    "* `_output/ChEMBL__O00238__pKdMeasurement.npz`\n",
    "\n",
    "Each `npz` will contain two `np.ndarray` objects: `X` (featurized systems) and `y` (associated measurements)."
   ]
  },
  {
   "cell_type": "code",
   "execution_count": null,
   "metadata": {},
   "outputs": [],
   "source": [
    "# Filter out some warnings thrown by openforcefield and rdkit\n",
    "import warnings\n",
    "warnings.simplefilter(\"ignore\")\n",
    "import logging\n",
    "logging.basicConfig(level=logging.ERROR)\n",
    "\n",
    "import numpy as np\n",
    "import os\n",
    "from pathlib import Path\n",
    "\n",
    "from kinoml.utils import seed_everything\n",
    "seed_everything()"
   ]
  },
  {
   "cell_type": "code",
   "execution_count": null,
   "metadata": {},
   "outputs": [],
   "source": [
    "HERE = Path(_dh[-1])"
   ]
  },
  {
   "cell_type": "code",
   "execution_count": null,
   "metadata": {},
   "outputs": [],
   "source": [
    "from kinoml.datasets.chembl import ChEMBLDatasetProvider\n",
    "chembl = ChEMBLDatasetProvider.from_source()"
   ]
  },
  {
   "cell_type": "code",
   "execution_count": null,
   "metadata": {},
   "outputs": [],
   "source": [
    "chembl"
   ]
  },
  {
   "cell_type": "code",
   "execution_count": null,
   "metadata": {},
   "outputs": [],
   "source": [
    "df = chembl.to_dataframe()\n",
    "df"
   ]
  },
  {
   "cell_type": "markdown",
   "metadata": {},
   "source": [
    "This featurization pipeline consists of:\n",
    "\n",
    "- Promoting the Smiles wrapper objects returned by ChEMBL to a full OpenForceField molecule\n",
    "- Converting to RDKit molecule\n",
    "- Generating the Morgan fingerprint with nbits=1024, radius=2"
   ]
  },
  {
   "cell_type": "code",
   "execution_count": null,
   "metadata": {},
   "outputs": [],
   "source": [
    "from kinoml.features.ligand import SmilesToLigandFeaturizer, MorganFingerprintFeaturizer\n",
    "from kinoml.features.protein import AminoAcidCompositionFeaturizer\n",
    "from kinoml.features.core import ScaleFeaturizer, Concatenated, Pipeline\n",
    "\n",
    "morgan_featurizer = Pipeline([SmilesToLigandFeaturizer(), MorganFingerprintFeaturizer(nbits=1024, radius=2)])"
   ]
  },
  {
   "cell_type": "code",
   "execution_count": null,
   "metadata": {},
   "outputs": [],
   "source": [
    "# prefeaturize everything\n",
    "chembl.featurize(morgan_featurizer, processes=6);"
   ]
  },
  {
   "cell_type": "markdown",
   "metadata": {},
   "source": [
    "Remove systems that couldn't be featurized"
   ]
  },
  {
   "cell_type": "code",
   "execution_count": null,
   "metadata": {},
   "outputs": [],
   "source": [
    "from kinoml.datasets.groups import CallableGrouper\n",
    "grouper = CallableGrouper(lambda measurement: 'invalid' if 'last' not in measurement.system.featurizations else 'valid')\n",
    "grouper.assign(chembl, overwrite=True)\n",
    "groups = chembl.split_by_groups()\n",
    "len(groups.get('valid', [])), len(groups.get('invalid', []))"
   ]
  },
  {
   "cell_type": "markdown",
   "metadata": {},
   "source": [
    "Split by kinase name, since these models are ligand-based (so one model per kinase)."
   ]
  },
  {
   "cell_type": "code",
   "execution_count": null,
   "metadata": {},
   "outputs": [],
   "source": [
    "grouper = CallableGrouper(lambda measurement: measurement.system.protein.name)\n",
    "grouper.assign(groups['valid'], overwrite=True)\n",
    "groups_by_kinase = groups['valid'].split_by_groups()"
   ]
  },
  {
   "cell_type": "markdown",
   "metadata": {},
   "source": [
    "Split each kinase group by measurement type too. We need to for-loops for that:"
   ]
  },
  {
   "cell_type": "code",
   "execution_count": null,
   "metadata": {},
   "outputs": [],
   "source": [
    "type_grouper = CallableGrouper(lambda measurement: type(measurement).__name__)\n",
    "\n",
    "output = HERE / \"_output/\"\n",
    "output.mkdir(parents=True, exist_ok=True)\n",
    "\n",
    "for kinase, ds in sorted(groups_by_kinase.items(), key=lambda kv: len(kv[1]), reverse=True):\n",
    "    type_grouper.assign(ds, overwrite=True)\n",
    "    types = ds.split_by_groups()\n",
    "    for mtype, ds_ in types.items():\n",
    "        X = np.asarray(ds_.featurized_systems())\n",
    "        y = ds_.measurements_as_array()\n",
    "        np.savez(output / f\"ChEMBL__{kinase}__{mtype}.npz\", X=X, y=y.astype('float32'))"
   ]
  },
  {
   "cell_type": "markdown",
   "metadata": {},
   "source": [
    "Annotate observation models for `pytorch` and `xgboost` (we will need this in next notebooks)"
   ]
  },
  {
   "cell_type": "code",
   "execution_count": null,
   "metadata": {},
   "outputs": [],
   "source": [
    "observation_models_pytorch = chembl.observation_models(backend=\"pytorch\")\n",
    "loss_adapters_xgboost = chembl.loss_adapters(backend=\"xgboost\")\n",
    "display(*observation_models_pytorch)\n",
    "print()\n",
    "display(*loss_adapters_xgboost)"
   ]
  },
  {
   "cell_type": "markdown",
   "metadata": {},
   "source": [
    "# Reproducibility logs"
   ]
  },
  {
   "cell_type": "code",
   "execution_count": null,
   "metadata": {},
   "outputs": [],
   "source": [
    "from kinoml.utils import watermark\n",
    "watermark()"
   ]
  }
 ],
 "metadata": {
  "kernelspec": {
   "display_name": "Python 3",
   "language": "python",
   "name": "python3"
  },
  "language_info": {
   "codemirror_mode": {
    "name": "ipython",
    "version": 3
   },
   "file_extension": ".py",
   "mimetype": "text/x-python",
   "name": "python",
   "nbconvert_exporter": "python",
   "pygments_lexer": "ipython3",
   "version": "3.7.8"
  }
 },
 "nbformat": 4,
 "nbformat_minor": 4
}
